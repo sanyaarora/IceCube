{
 "cells": [
  {
   "cell_type": "code",
   "execution_count": 1,
   "id": "dfe217be",
   "metadata": {},
   "outputs": [
    {
     "name": "stdout",
     "output_type": "stream",
     "text": [
      "ha\n"
     ]
    }
   ],
   "source": [
    "import os\n",
    "import pickle\n",
    "import matplotlib as mpl\n",
    "import matplotlib.pyplot as plt\n",
    "import numpy as np\n",
    "from scipy.optimize import curve_fit\n",
    "from scipy.stats import norm\n",
    "import scipy.integrate as integrate\n",
    "from scipy.optimize import minimize\n",
    "from scipy.special import logsumexp\n",
    "from tqdm import tqdm\n",
    "import emcee\n",
    "import corner\n",
    "\n",
    "from astropy import units as u \n",
    "from astropy.table import Table\n",
    "from math import *\n",
    "\n",
    "from snewpy.neutrino import ThreeFlavor, MassHierarchy, MixingParameters, ThreeFlavorMixingParameters,FourFlavorMixingParameters\n",
    "from snewpy.models.ccsn import Nakazato_2013\n",
    "from snewpy.models.ccsn import Fornax_2022\n",
    "from snewpy.models.ccsn import Bollig_2016\n",
    "from snewpy.models.ccsn import Sukhbold_2015\n",
    "from snewpy.models.ccsn import Zha_2021\n",
    "from snewpy.models.ccsn import Tamborra_2014\n",
    "from snewpy.flavor_transformation import AdiabaticMSW, NonAdiabaticMSWH, \\\n",
    "                                         TwoFlavorDecoherence, ThreeFlavorDecoherence, \\\n",
    "                                         NeutrinoDecay, AdiabaticMSWes, NonAdiabaticMSWes\n",
    "#from asteria import set_rcparams\n",
    "from asteria.simulation import Simulation\n",
    "\n",
    "%matplotlib inline"
   ]
  },
  {
   "cell_type": "code",
   "execution_count": 2,
   "id": "1b8b6422",
   "metadata": {},
   "outputs": [],
   "source": [
    "sukh_param_sfho=list(params for params in Sukhbold_2015.get_param_combinations() if params['progenitor_mass'].value == 27 \n",
    "                      and params['eos']=='SFHo')\n",
    "sukh_param_ls220=list(params for params in Sukhbold_2015.get_param_combinations() if params['progenitor_mass'].value == 27 \n",
    "                      and params['eos']=='LS220')\n",
    "\n",
    "\n",
    "forn_param=list(params for params in Fornax_2022.get_param_combinations() if params['progenitor_mass'].value == 26.99)\n",
    "\n",
    "zha_param=list(params for params in Zha_2021.get_param_combinations() if params['progenitor_mass'].value == 26)\n",
    "\n",
    "tamb_param=list(params for params in Tamborra_2014.get_param_combinations() if params['progenitor_mass'].value == 27\n",
    "               and params['direction']==1)"
   ]
  },
  {
   "cell_type": "code",
   "execution_count": 3,
   "id": "f07579ca",
   "metadata": {},
   "outputs": [
    {
     "data": {
      "text/markdown": [
       "**Sukhbold_2015 Model**: sukhbold-SFHo-s27.0.fits\n",
       "\n",
       "|Parameter|Value|\n",
       "|:--------|:----:|\n",
       "|Progenitor mass | $27$ $\\mathrm{M_{\\odot}}$|\n",
       "|EOS | SFHo |"
      ],
      "text/plain": [
       "Sukhbold_2015 Model: sukhbold-SFHo-s27.0.fits\n",
       "Progenitor mass  : 27.0 solMass\n",
       "EOS              : SFHo"
      ]
     },
     "execution_count": 3,
     "metadata": {},
     "output_type": "execute_result"
    }
   ],
   "source": [
    "Sukhbold_2015(**sukh_param_sfho[0])"
   ]
  },
  {
   "cell_type": "code",
   "execution_count": 3,
   "id": "216f82ba",
   "metadata": {},
   "outputs": [],
   "source": [
    "sukh_model_sfho = {'name': 'Sukhbold_2015',\n",
    "            'param': sukh_param_sfho[0]\n",
    "              }\n",
    "\n",
    "sukh_model_ls220 = {'name': 'Sukhbold_2015',\n",
    "            'param': sukh_param_ls220[0]\n",
    "              }\n",
    "\n",
    "forn_model = {'name': 'Fornax_2022',\n",
    "            'param': forn_param[0]\n",
    "              }\n",
    "\n",
    "zha_model = {'name': 'Zha_2021',\n",
    "            'param': zha_param[0]\n",
    "              }\n",
    "\n",
    "tamb_model = {'name': 'Tamborra_2014',\n",
    "            'param': tamb_param[0]\n",
    "              }"
   ]
  },
  {
   "cell_type": "code",
   "execution_count": 4,
   "id": "5ba685a1",
   "metadata": {},
   "outputs": [
    {
     "name": "stdout",
     "output_type": "stream",
     "text": [
      "NMO\n"
     ]
    },
    {
     "name": "stderr",
     "output_type": "stream",
     "text": [
      "C:\\Users\\sanya\\miniconda3\\envs\\three_flavor6\\lib\\site-packages\\snewpy\\models\\base.py:343: RuntimeWarning: divide by zero encountered in log\n",
      "  np.exp(np.log(L) - (2+a)*np.log(Ea) + (1+a)*np.log(1+a)\n",
      "C:\\Users\\sanya\\miniconda3\\envs\\three_flavor6\\lib\\site-packages\\snewpy\\models\\base.py:343: RuntimeWarning: invalid value encountered in subtract\n",
      "  np.exp(np.log(L) - (2+a)*np.log(Ea) + (1+a)*np.log(1+a)\n",
      "C:\\Users\\sanya\\miniconda3\\envs\\three_flavor6\\lib\\site-packages\\snewpy\\models\\base.py:344: RuntimeWarning: divide by zero encountered in divide\n",
      "  - loggamma(1+a) + a*np.log(E) - (1+a)*(E/Ea)) / (u.erg * u.s)\n"
     ]
    },
    {
     "name": "stdout",
     "output_type": "stream",
     "text": [
      "IMO\n",
      "he\n",
      "NMO\n",
      "IMO\n",
      "he\n"
     ]
    },
    {
     "name": "stderr",
     "output_type": "stream",
     "text": [
      "WARNING:root:Model 'Fornax_2022' lacks one or more of the following attributes: 'luminosity', 'meanE', 'pinch'. Some ASTERIA methods may not function fully\n",
      "WARNING:root:Model 'Fornax_2022' detected. Special compatibility mode enabled.\n",
      "Expect a reduction in performance and increase in simulation run times.\n"
     ]
    },
    {
     "name": "stdout",
     "output_type": "stream",
     "text": [
      "NMO\n"
     ]
    },
    {
     "name": "stderr",
     "output_type": "stream",
     "text": [
      "WARNING:root:Model 'Fornax_2022' lacks one or more of the following attributes: 'luminosity', 'meanE', 'pinch'. Some ASTERIA methods may not function fully\n",
      "WARNING:root:Model 'Fornax_2022' detected. Special compatibility mode enabled.\n",
      "Expect a reduction in performance and increase in simulation run times.\n"
     ]
    },
    {
     "name": "stdout",
     "output_type": "stream",
     "text": [
      "IMO\n",
      "he\n"
     ]
    },
    {
     "name": "stderr",
     "output_type": "stream",
     "text": [
      "C:\\Users\\sanya\\miniconda3\\envs\\three_flavor6\\lib\\site-packages\\snewpy\\models\\__init__.py:61: UserWarning: Argument `eos` is deprecated.\n",
      "  return getattr(module, model_name)(**user_param)\n"
     ]
    },
    {
     "name": "stdout",
     "output_type": "stream",
     "text": [
      "NMO\n",
      "IMO\n",
      "he\n",
      "NMO\n",
      "IMO\n",
      "he\n"
     ]
    }
   ],
   "source": [
    "models=[sukh_model_sfho,sukh_model_ls220,forn_model,zha_model,tamb_model]\n",
    "labels=['nmo','imo']\n",
    "hie=['normal','inverted']\n",
    "mod_names=['sukh_sfho','sukh_ls220','forn','zha','tamb']\n",
    "\n",
    "sims = {\n",
    "    'sukh_sfho': [],\n",
    "    'sukh_ls220': [],\n",
    "    'forn': [],\n",
    "    'zha': [],\n",
    "    'tamb': []\n",
    "}\n",
    "\n",
    "for i,mod in enumerate(models):\n",
    "    for j,lab in enumerate(labels):\n",
    "        pred = Simulation(model=mod,\n",
    "                                         distance=10 * u.kpc, \n",
    "                                         Emin=0*u.MeV, Emax=100*u.MeV, dE=1*u.MeV,\n",
    "                                         tmin=-10*u.s,  tmax=10*u.s,    dt=1*u.ms,\n",
    "                                         mixing_scheme='AdiabaticMSW',\n",
    "                                         hierarchy=hie[j])\n",
    "        pred.run()\n",
    "        if mod['name']=='Fornax_2022':\n",
    "            with open(\"ThreeFlavor_{}_M={}_mix={}.pkl\".format(mod['name'], mod['param']['progenitor_mass'].value,\n",
    "                                                    lab), 'wb') as f:\n",
    "                pickle.dump(pred, f)\n",
    "        else:\n",
    "            with open(\"Three_Flavor_{}_M={}_eos={}_mix={}.pkl\".format(mod['name'], mod['param']['progenitor_mass'].value,\n",
    "                                                        mod['param']['eos'],\n",
    "                                                        lab), 'wb') as f:\n",
    "                pickle.dump(pred, f)\n",
    "        sims[mod_names[i]].append(pred)"
   ]
  },
  {
   "cell_type": "code",
   "execution_count": 4,
   "id": "de271869",
   "metadata": {},
   "outputs": [],
   "source": []
  },
  {
   "cell_type": "code",
   "execution_count": 5,
   "id": "d013e932",
   "metadata": {},
   "outputs": [],
   "source": [
    "def compute_hits(dist,dt,start,end,sim):\n",
    "    sim.rebin_result(dt)\n",
    "    sim.scale_result(dist)\n",
    "    t, hits = sim.detector_signal(dt)\n",
    "    id5=np.where(t==start)[0][0]\n",
    "    id6=np.where(t==end)[0][0]\n",
    "    data=hits[id5:id6]\n",
    "    return data"
   ]
  },
  {
   "cell_type": "code",
   "execution_count": 6,
   "id": "bcde6508",
   "metadata": {},
   "outputs": [],
   "source": [
    "def compute_hits_scaled(scale,dist,dt,start,end,sim):\n",
    "    sim.rebin_result(dt)\n",
    "    sim.scale_result(dist)\n",
    "    t, hits = sim.detector_signal(dt)\n",
    "    id5=np.where(t==start)[0][0]\n",
    "    id6=np.where(t==end)[0][0]\n",
    "        \n",
    "    data=hits[id5:id6]\n",
    "    \n",
    "    data_scaled=data*scale\n",
    "    return data_scaled"
   ]
  },
  {
   "cell_type": "code",
   "execution_count": 7,
   "id": "0f473119",
   "metadata": {},
   "outputs": [],
   "source": [
    "def compute_hits_without_sub_bg(dist,dt,start,end,sim):\n",
    "    sim.rebin_result(dt)\n",
    "    sim.scale_result(dist)\n",
    "    t, hits = sim.detector_signal(dt)\n",
    "    bg1 = sim.detector.i3_bg(dt,size=hits.size) + sim.detector.dc_bg(dt,size=hits.size)\n",
    "    sig=bg1+hits\n",
    "    id5=np.where(t==start)[0][0]\n",
    "    id6=np.where(t==end)[0][0]\n",
    "    \n",
    "    return sig[id5:id6]"
   ]
  },
  {
   "cell_type": "code",
   "execution_count": 8,
   "id": "476afd3d",
   "metadata": {},
   "outputs": [],
   "source": [
    "def compute_model_energy_with_plot(model,hierarchy,t_vals,e_vals):\n",
    "    spectra=[]\n",
    "    for i,t in enumerate(t_vals*u.ms):\n",
    "        ispec=model.get_transformed_spectra(t,e_vals*u.MeV,\n",
    "                                            AdiabaticMSW(ThreeFlavorMixingParameters(**MixingParameters(mass_order=hierarchy))))\n",
    "        spectra.append(ispec[ThreeFlavor(1)])\n",
    "        \n",
    "    T, E = np.meshgrid(t_vals,e_vals)\n",
    "    T_flat = T.flatten()\n",
    "    E_flat = E.flatten()\n",
    "    spectra=np.array(spectra)\n",
    "    \n",
    "    max_fluxes = np.max(spectra, axis=1) \n",
    "    normalized_fluxes = spectra / max_fluxes[:, np.newaxis]\n",
    "    normalized_fluxes_flat=normalized_fluxes.T.flatten()\n",
    "    \n",
    "    delta_E = np.diff(e_vals)\n",
    "    delta_E = np.append(delta_E, delta_E[-1])  \n",
    "    \n",
    "    mean_energies=[]\n",
    "    for i in range(spectra.shape[0]):\n",
    "        numerator = np.sum(e_vals * spectra[i] * delta_E)\n",
    "        denominator = np.sum(spectra[i] * delta_E)\n",
    "        mean_energies.append(numerator / denominator)\n",
    "        \n",
    "    return T_flat, E_flat, normalized_fluxes_flat, mean_energies"
   ]
  },
  {
   "cell_type": "code",
   "execution_count": 9,
   "id": "45d1bb66",
   "metadata": {},
   "outputs": [],
   "source": [
    "def compute_model_energy(model,hierarchy,t_vals,e_vals):\n",
    "    spectra=[]\n",
    "    for i,t in enumerate(t_vals*u.ms):\n",
    "        ispec=model.get_transformed_spectra(t,e_vals*u.MeV,\n",
    "                                            AdiabaticMSW(ThreeFlavorMixingParameters(**MixingParameters(mass_order=hierarchy))))\n",
    "        spectra.append(ispec[ThreeFlavor(1)])\n",
    "    \n",
    "    spectra=np.array(spectra)\n",
    "    \n",
    "    delta_E = np.diff(e_vals)\n",
    "    delta_E = np.append(delta_E, delta_E[-1])  \n",
    "    \n",
    "    mean_energies=[]\n",
    "    for i in range(spectra.shape[0]):\n",
    "        numerator = np.sum(e_vals * spectra[i] * delta_E)\n",
    "        denominator = np.sum(spectra[i] * delta_E)\n",
    "        mean_energies.append(numerator / denominator)\n",
    "        \n",
    "    return mean_energies"
   ]
  },
  {
   "cell_type": "code",
   "execution_count": 10,
   "id": "8e7f3bad",
   "metadata": {},
   "outputs": [],
   "source": [
    "def compute_data_energy(model,hierarchy,t_vals,e_vals,sigma):\n",
    "    mean_E=compute_model_energy(model,hierarchy,t_vals,e_vals)\n",
    "    reco_E=[]\n",
    "    for i,t in enumerate(t_vals):\n",
    "        reco_E.append(np.random.normal(loc=mean_E[i],scale=sigma,size=None))\n",
    "    return reco_E"
   ]
  },
  {
   "cell_type": "code",
   "execution_count": 11,
   "id": "b68bf32c",
   "metadata": {},
   "outputs": [],
   "source": [
    "dt=10*u.ms\n",
    "dist=10*u.kpc\n",
    "t, hits = sims['sukh_sfho'][0].detector_signal(dt)\n",
    "bg1 = sims['sukh_sfho'][0].detector.i3_bg(dt,size=hits.size) + sims['sukh_sfho'][0].detector.dc_bg(dt,size=hits.size)\n",
    "sig=bg1+hits\n",
    "id1=np.where(t==-5*u.s)[0][0]\n",
    "id2=np.where(t==-.5*u.s)[0][0]\n",
    "id5=np.where(t==-1*u.s)[0][0]\n",
    "id6=np.where(t==.46*u.s)[0][0]"
   ]
  },
  {
   "cell_type": "code",
   "execution_count": 40,
   "id": "d147a384",
   "metadata": {},
   "outputs": [
    {
     "data": {
      "text/plain": [
       "<matplotlib.legend.Legend at 0x15bc62f4460>"
      ]
     },
     "execution_count": 40,
     "metadata": {},
     "output_type": "execute_result"
    },
    {
     "data": {
      "image/png": "[encoded data removed]",
      "text/plain": [
       "<Figure size 640x480 with 1 Axes>"
      ]
     },
     "metadata": {},
     "output_type": "display_data"
    }
   ],
   "source": [
    "dt=10*u.ms\n",
    "data_hits=compute_hits_without_sub_bg(dist,dt,-1*u.s,.46*u.s,sims['sukh_sfho'][0])\n",
    "sim_hits = {\n",
    "    'sukh_sfho': [],\n",
    "    'sukh_ls220': [],\n",
    "    'forn': [],\n",
    "    'zha': [],\n",
    "    'tamb': []\n",
    "    }\n",
    "for i,name in enumerate(mod_names):\n",
    "    model0=compute_hits(dist,dt,-1*u.s,.46*u.s,sims[name][0])\n",
    "    model1=compute_hits(dist,dt,-1*u.s,.46*u.s,sims[name][1])\n",
    "    #sim_hits[name].append(compute_hits_scaled(5000/np.max(model0),dist,dt,.02*u.s,.46*u.s,sims[name][0]))\n",
    "    #sim_hits[name].append(compute_hits_scaled(5000/np.max(model1),dist,dt,.02*u.s,.46*u.s,sims[name][1]))\n",
    "    sim_hits[name].append(1*compute_hits(dist,dt,-1*u.s,.46*u.s,sims[name][0]))\n",
    "    sim_hits[name].append(1*compute_hits(dist,dt,-1*u.s,.46*u.s,sims[name][1]))\n",
    "\n",
    "plt.step(t[id5:id6], 14945+sim_hits['sukh_sfho'][0], where='post',color='red',label='Model - Sukh NH')\n",
    "#plt.step(t[id5:id6], 14925+sim_hits['forn'][1], where='post',color='blue',label='Forn IH')\n",
    "plt.step(t[id5:id6], data_hits, where='post',color='black',label='Data - Sukh NH')\n",
    "plt.fill_between(t[id5:id6], data_hits-np.sqrt(data_hits), data_hits+np.sqrt(data_hits),step='post',color='black', alpha=0.2)\n",
    "plt.xlabel('Time (s)')\n",
    "plt.xlim(-.2,.46)\n",
    "plt.ylabel('Hits')\n",
    "plt.title('Models Scaled with MCMC Sampling Results')\n",
    "plt.legend(loc='lower right')"
   ]
  },
  {
   "cell_type": "code",
   "execution_count": 26,
   "id": "4a7eba44",
   "metadata": {},
   "outputs": [
    {
     "name": "stdout",
     "output_type": "stream",
     "text": [
      "-88.35427547603265 -53.82405361995539\n"
     ]
    }
   ],
   "source": [
    "energies_nh=[]\n",
    "energies_ih=[]\n",
    "for i in range(10):\n",
    "    data_energy=compute_data_energy(Fornax_2022(**forn_param[0]),MassHierarchy.INVERTED,times,energies,.5)\n",
    "    energies_nh.append(log_likelihood_energy(sim_energies['sukh_sfho'][0],data_energy,.5))\n",
    "    energies_ih.append(log_likelihood_energy(sim_energies['sukh_sfho'][1],data_energy,.5))\n",
    "    \n",
    "print(np.mean(energies_nh), np.mean(energies_ih))\n",
    "#print(log_likelihood_energy(sim_energies['sukh_sfho'][0],data_energy,2))\n",
    "#print(log_likelihood_energy(sim_energies['sukh_sfho'][1],data_energy,2))"
   ]
  },
  {
   "cell_type": "code",
   "execution_count": 370,
   "id": "865b144f",
   "metadata": {},
   "outputs": [
    {
     "name": "stdout",
     "output_type": "stream",
     "text": [
      "-116.12780068483704 -115.30961546095548\n"
     ]
    }
   ],
   "source": [
    "energies_nh=[]\n",
    "energies_ih=[]\n",
    "for i in range(50):\n",
    "    data_energy=compute_data_energy(Fornax_2022(**forn_param[0]),MassHierarchy.INVERTED,times,energies,3)\n",
    "    energies_nh.append(log_likelihood_energy(sim_energies['sukh_sfho'][0],data_energy,3))\n",
    "    energies_ih.append(log_likelihood_energy(sim_energies['sukh_sfho'][1],data_energy,3))\n",
    "    \n",
    "print(np.mean(energies_nh), np.mean(energies_ih))\n",
    "#print(log_likelihood_energy(sim_energies['sukh_sfho'][0],data_energy,2))\n",
    "#print(log_likelihood_energy(sim_energies['sukh_sfho'][1],data_energy,2))"
   ]
  },
  {
   "cell_type": "code",
   "execution_count": 34,
   "id": "d2df3f3c",
   "metadata": {},
   "outputs": [
    {
     "name": "stderr",
     "output_type": "stream",
     "text": [
      "100%|████████████████████████████████████████████████████████████████████████████████████| 2/2 [01:54<00:00, 57.04s/it]"
     ]
    },
    {
     "name": "stdout",
     "output_type": "stream",
     "text": [
      "-3230.132037562538 -2472.0409128894635\n"
     ]
    },
    {
     "name": "stderr",
     "output_type": "stream",
     "text": [
      "\n"
     ]
    }
   ],
   "source": [
    "sfho_for_forn_log_pd_nh=[]\n",
    "sfho_for_forn_log_pd_ih=[]\n",
    "for i in tqdm(range(2)):\n",
    "    data_hits=compute_hits_without_sub_bg(10*u.kpc,10*u.ms,-.5*u.s,.46*u.s,sims['forn'][1])\n",
    "    data_energy=compute_data_energy(Fornax_2022(**forn_param[0]),MassHierarchy.INVERTED,times,energies,.1)\n",
    "    sfho_for_forn_log_pd_nh.append(compute_log_integral(data_hits,sims['sukh_sfho'][0], \n",
    "                                                data_energy, sim_energies['sukh_sfho'][0], .1, 10*u.kpc,10*u.ms))\n",
    "    sfho_for_forn_log_pd_ih.append(compute_log_integral(data_hits,sims['sukh_sfho'][1], \n",
    "                                                data_energy, sim_energies['sukh_sfho'][1], .1, 10*u.kpc,10*u.ms))\n",
    "    \n",
    "print(np.mean(sfho_for_forn_log_pd_nh), np.mean(sfho_for_forn_log_pd_ih))"
   ]
  },
  {
   "cell_type": "code",
   "execution_count": 32,
   "id": "ee9cd8ab",
   "metadata": {},
   "outputs": [
    {
     "name": "stderr",
     "output_type": "stream",
     "text": [
      "100%|████████████████████████████████████████████████████████████████████████████████████| 2/2 [01:52<00:00, 56.32s/it]"
     ]
    },
    {
     "name": "stdout",
     "output_type": "stream",
     "text": [
      "-3121.6406277404512 -2407.5806507852694\n"
     ]
    },
    {
     "name": "stderr",
     "output_type": "stream",
     "text": [
      "\n"
     ]
    }
   ],
   "source": [
    "sfho_for_forn_log_pd_nh=[]\n",
    "sfho_for_forn_log_pd_ih=[]\n",
    "data_hits=compute_hits_without_sub_bg(10*u.kpc,10*u.ms,-.5*u.s,.46*u.s,sims['forn'][1])\n",
    "for i in tqdm(range(2)):\n",
    "    data_energy=compute_data_energy(Fornax_2022(**forn_param[0]),MassHierarchy.INVERTED,times,energies,.1)\n",
    "    sfho_for_forn_log_pd_nh.append(compute_log_integral(data_hits,sims['sukh_sfho'][0], \n",
    "                                                data_energy, sim_energies['sukh_sfho'][0], .1, 10*u.kpc,10*u.ms))\n",
    "    sfho_for_forn_log_pd_ih.append(compute_log_integral(data_hits,sims['sukh_sfho'][1], \n",
    "                                                data_energy, sim_energies['sukh_sfho'][1], .1, 10*u.kpc,10*u.ms))\n",
    "    \n",
    "print(np.mean(sfho_for_forn_log_pd_nh), np.mean(sfho_for_forn_log_pd_ih))"
   ]
  },
  {
   "cell_type": "code",
   "execution_count": 33,
   "id": "4f2a9f3a",
   "metadata": {},
   "outputs": [
    {
     "name": "stdout",
     "output_type": "stream",
     "text": [
      "[-3147.2369577388263, -3096.0442977420767] [-2423.857932431366, -2391.3033691391724]\n"
     ]
    }
   ],
   "source": [
    "print(sfho_for_forn_log_pd_nh,sfho_for_forn_log_pd_ih)"
   ]
  },
  {
   "cell_type": "code",
   "execution_count": 28,
   "id": "3f8aca2b",
   "metadata": {},
   "outputs": [
    {
     "name": "stderr",
     "output_type": "stream",
     "text": [
      "100%|█████████████████████████████████████████████████████████████████████████████████| 10/10 [32:03<00:00, 192.39s/it]\n"
     ]
    }
   ],
   "source": [
    "logs_nh_3=[]\n",
    "logs_ih_3=[]\n",
    "logs_nh_2=[]\n",
    "logs_ih_2=[]\n",
    "times=np.arange(0,460,10)\n",
    "energies=np.arange(0, 50, 1)\n",
    "\n",
    "for i in tqdm(range(10)):\n",
    "    data_hits=compute_hits_without_sub_bg(10*u.kpc,10*u.ms,-.5*u.s,.46*u.s,sims['forn'][1])\n",
    "    data_energy_3=compute_data_energy(Fornax_2022(**forn_param[0]),MassHierarchy.INVERTED,times,energies,3)\n",
    "    data_energy_2=compute_data_energy(Fornax_2022(**forn_param[0]),MassHierarchy.INVERTED,times,energies,2)    \n",
    "    \n",
    "    logs_nh_3.append(compute_log_integral(data_hits,sims['sukh_sfho'][0], \n",
    "                                                data_energy_3, sim_energies['sukh_sfho'][0], 3, 10*u.kpc,10*u.ms))\n",
    "    logs_ih_3.append(compute_log_integral(data_hits,sims['sukh_sfho'][1], \n",
    "                                            data_energy_3, sim_energies['sukh_sfho'][1], 3, 10*u.kpc,10*u.ms))\n",
    "    \n",
    "    logs_nh_2.append(compute_log_integral(data_hits,sims['sukh_sfho'][0], \n",
    "                                                data_energy_2, sim_energies['sukh_sfho'][0], 2, 10*u.kpc,10*u.ms))\n",
    "    logs_ih_2.append(compute_log_integral(data_hits,sims['sukh_sfho'][1], \n",
    "                                            data_energy_2, sim_energies['sukh_sfho'][1], 2, 10*u.kpc,10*u.ms))"
   ]
  },
  {
   "cell_type": "code",
   "execution_count": 33,
   "id": "11747600",
   "metadata": {},
   "outputs": [
    {
     "data": {
      "text/plain": [
       "-36.535687327760925"
      ]
     },
     "execution_count": 33,
     "metadata": {},
     "output_type": "execute_result"
    }
   ],
   "source": [
    "np.mean(np.array(logs_nh_2)/(np.array(logs_nh_2)-np.array(logs_ih_2)))"
   ]
  },
  {
   "cell_type": "code",
   "execution_count": 34,
   "id": "4b14ad69",
   "metadata": {
    "scrolled": true
   },
   "outputs": [
    {
     "data": {
      "text/plain": [
       "-37.71964870616879"
      ]
     },
     "execution_count": 34,
     "metadata": {},
     "output_type": "execute_result"
    }
   ],
   "source": [
    "np.mean(np.array(logs_nh_3)/(np.array(logs_nh_3)-np.array(logs_ih_3)))"
   ]
  },
  {
   "cell_type": "code",
   "execution_count": 354,
   "id": "ebf08b0a",
   "metadata": {},
   "outputs": [
    {
     "name": "stdout",
     "output_type": "stream",
     "text": [
      "-1855.6185748109513\n",
      "-1854.4882184614282\n",
      "-2004.7701552242422\n",
      "-2003.5662311566223\n"
     ]
    }
   ],
   "source": [
    "\n",
    "        \n",
    "for i in tqdm(range(len(sigmas))):\n",
    "    sigma=sigmas[i]\n",
    "    \n",
    "    #SCENARIO 1: Fornax IH Data where Sukhbold SFHo is Uncertain\n",
    "    sfho_for_forn_log_pd_nh=[]\n",
    "    sfho_for_forn_log_pd_ih=[]\n",
    "    for j in tqdm(range(25)):\n",
    "        data_hits=compute_hits_without_sub_bg(10*u.kpc,10*u.ms,-.5*u.s,.46*u.s,sims['forn'][1])\n",
    "        data_e=compute_data_energy(Fornax_2022(**forn_param[0]),MassHierarchy.INVERTED,times,energies,sigma)\n",
    "        \n",
    "        sfho_for_forn_log_pd_nh.append(compute_log_integral(data_hits,sims['sukh_sfho'][0], \n",
    "                                                data_e, sim_energies['sukh_sfho'][0], sigma, 10*u.kpc,10*u.ms))\n",
    "        sfho_for_forn_log_pd_ih.append(compute_log_integral(data_hits,sims['sukh_sfho'][1], \n",
    "                                                data_e, sim_energies['sukh_sfho'][1], sigma, 10*u.kpc,10*u.ms))"
   ]
  },
  {
   "cell_type": "code",
   "execution_count": 12,
   "id": "62c2c10b",
   "metadata": {},
   "outputs": [
    {
     "name": "stderr",
     "output_type": "stream",
     "text": [
      "C:\\Users\\sanya\\AppData\\Local\\Temp\\ipykernel_27060\\1167672499.py:20: UserWarning: Argument `eos` is deprecated.\n",
      "  sim_energies[name].append(compute_model_energy(model_originals[i](**params[i][0]),MassHierarchy.NORMAL,times,energies))\n",
      "C:\\Users\\sanya\\AppData\\Local\\Temp\\ipykernel_27060\\1167672499.py:21: UserWarning: Argument `eos` is deprecated.\n",
      "  sim_energies[name].append(compute_model_energy(model_originals[i](**params[i][0]),MassHierarchy.INVERTED,times,energies))\n"
     ]
    },
    {
     "data": {
      "text/plain": [
       "<matplotlib.legend.Legend at 0x15bc6230d30>"
      ]
     },
     "execution_count": 12,
     "metadata": {},
     "output_type": "execute_result"
    },
    {
     "data": {
      "image/png": "[encoded data removed]",
      "text/plain": [
       "<Figure size 640x480 with 1 Axes>"
      ]
     },
     "metadata": {},
     "output_type": "display_data"
    }
   ],
   "source": [
    "dt=10*u.ms\n",
    "dist=10*u.kpc\n",
    "times=np.arange(0,460,10)\n",
    "energies=np.arange(0, 50, 1)\n",
    "\n",
    "params=[sukh_param_sfho,sukh_param_ls220,forn_param,zha_param,tamb_param]\n",
    "model_originals=[Sukhbold_2015,Sukhbold_2015,Fornax_2022,Zha_2021,Tamborra_2014]\n",
    "\n",
    "data_energy=compute_data_energy(Fornax_2022(**forn_param[0]),MassHierarchy.INVERTED,times,energies,2)\n",
    "data_hits=compute_hits_without_sub_bg(dist,dt,-.5*u.s,.46*u.s,sims['forn'][1])\n",
    "\n",
    "sim_energies = {\n",
    "    'sukh_sfho': [],\n",
    "    'sukh_ls220': [],\n",
    "    'forn': [],\n",
    "    'zha': [],\n",
    "    'tamb': []\n",
    "    }\n",
    "for i,name in enumerate(mod_names):\n",
    "    sim_energies[name].append(compute_model_energy(model_originals[i](**params[i][0]),MassHierarchy.NORMAL,times,energies))\n",
    "    sim_energies[name].append(compute_model_energy(model_originals[i](**params[i][0]),MassHierarchy.INVERTED,times,energies))\n",
    "\n",
    "\n",
    "plt.step(times, sim_energies['sukh_sfho'][0], where='post',color='red',label='Sukh NH')\n",
    "plt.step(times, sim_energies['sukh_sfho'][1], where='post',color='blue',label='Sukh IH')\n",
    "plt.step(times, data_energy, where='post',color='black',label='Data - Sukh NH')\n",
    "plt.xlabel('Time (ms)')\n",
    "plt.ylabel('Energy')\n",
    "plt.title('Energy Reconstruction')\n",
    "plt.legend(loc='lower right')"
   ]
  },
  {
   "cell_type": "code",
   "execution_count": 16,
   "id": "99863377",
   "metadata": {},
   "outputs": [
    {
     "data": {
      "image/png": "[encoded data removed]",
      "text/plain": [
       "<Figure size 640x480 with 2 Axes>"
      ]
     },
     "metadata": {},
     "output_type": "display_data"
    }
   ],
   "source": [
    "E_vals=np.linspace(0,50,100)\n",
    "t_vals=np.linspace(0,500,500)\n",
    "\n",
    "T_flat, E_flat, fluxes_flat, mean_energies = compute_model_energy_with_plot(Sukhbold_2015(**sukh_param_sfho[0]),\n",
    "                                                                  MassHierarchy.INVERTED,t_vals,E_vals)\n",
    "\n",
    "hist = plt.hist2d(T_flat, E_flat, weights=fluxes_flat, bins=[500, 100], cmap='viridis')\n",
    "\n",
    "colorbar = plt.colorbar(hist[3])\n",
    "colorbar.set_label('Normalized Flux')\n",
    "\n",
    "plt.plot(t_vals,mean_energies,color='black',lw=1,ls='--',label='Mean E')\n",
    "plt.legend()\n",
    "plt.xlabel('Time')\n",
    "plt.ylabel('Energy')\n",
    "plt.title('IMO Flux Sukhbold SFHo M=27')\n",
    "plt.savefig('sukhbold_energies_imo',dpi=300)"
   ]
  },
  {
   "cell_type": "code",
   "execution_count": 55,
   "id": "723d75e4",
   "metadata": {},
   "outputs": [
    {
     "data": {
      "image/png": "[encoded data removed]",
      "text/plain": [
       "<Figure size 1500x1200 with 20 Axes>"
      ]
     },
     "metadata": {},
     "output_type": "display_data"
    }
   ],
   "source": [
    "#model = models[23.43*u.solMass]\n",
    "fig, axes = plt.subplots(5,4, figsize=(15,12), sharex=True, sharey=True, tight_layout=True)\n",
    "\n",
    "times1 = np.arange(0, 40, 2) * u.ms\n",
    "E_vals=np.arange(0, 50, 1)\n",
    "E = np.arange(0, 50, 1) * u.MeV\n",
    "\n",
    "model=Sukhbold_2015(**sukh_param_sfho[0])\n",
    "hierarchy=MassHierarchy.NORMAL\n",
    "\n",
    "spectra=[]\n",
    "for i,t in enumerate(times1):\n",
    "    ispec=model.get_transformed_spectra(t,E,\n",
    "                                        AdiabaticMSW(ThreeFlavorMixingParameters(**MixingParameters(mass_order=hierarchy))))\n",
    "    spectra.append(ispec[ThreeFlavor(1)])\n",
    "    \n",
    "spectra=np.array(spectra)\n",
    "    \n",
    "max_fluxes = np.max(spectra, axis=1) \n",
    "normalized_fluxes = spectra / max_fluxes[:, np.newaxis]\n",
    "normalized_fluxes_flat=normalized_fluxes.T.flatten()\n",
    "    \n",
    "delta_E = np.diff(E_vals)\n",
    "delta_E = np.append(delta_E, delta_E[-1])  \n",
    "    \n",
    "mean_energies=[]\n",
    "for i in range(spectra.shape[0]):\n",
    "    numerator = np.sum(E_vals * spectra[i] * delta_E)\n",
    "    denominator = np.sum(spectra[i] * delta_E)\n",
    "    mean_energies.append(numerator / denominator)\n",
    "        \n",
    "\n",
    "for i, ax in enumerate(axes.flatten()):\n",
    "    ax.plot(E, spectra[i], lw=3)\n",
    "    ax.axvline(x=mean_energies[i])\n",
    "    ax.set(xlim=(0,50))\n",
    "    ax.set_title('$t$ = {:g}'.format(times1[i]), fontsize=16)\n",
    "    \n",
    "fig.text(0.5, 0., 'energy [MeV]', ha='center')\n",
    "fig.text(0., 0.5, 'flux 1/(erg-s)', va='center', rotation='vertical');"
   ]
  },
  {
   "cell_type": "code",
   "execution_count": 14,
   "id": "1bae4d7c",
   "metadata": {},
   "outputs": [],
   "source": [
    "def log_prob_poisson(theta, model_hits, data_hits,betamin, betamax, bmin, bmax):\n",
    "    beta,bg=theta\n",
    "    \n",
    "    if bmin <= bg <= bmax and betamin <= beta <= betamax:\n",
    "        log_prior = np.log(1/(betamax-betamin)*1/(bmax-bmin))\n",
    "        return log_likelihood_poisson(bg, beta, model_hits, data_hits) + log_prior\n",
    "    \n",
    "    return -np.inf "
   ]
  },
  {
   "cell_type": "code",
   "execution_count": 15,
   "id": "1b8a4258",
   "metadata": {},
   "outputs": [],
   "source": [
    "def log_prob_with_energy(theta, model_hits, data_hits, model_e, data_e, sigma, betamin, betamax, bmin, bmax):\n",
    "    beta,bg=theta\n",
    "    \n",
    "    if bmin <= bg <= bmax and betamin <= beta <= betamax:\n",
    "        log_prior = np.log(1/(betamax-betamin)*1/(bmax-bmin))\n",
    "        return log_likelihood_poisson(bg,beta,model_hits,data_hits) + log_likelihood_energy(model_e,data_e,sigma)+ log_prior\n",
    "    \n",
    "    return -np.inf "
   ]
  },
  {
   "cell_type": "code",
   "execution_count": 16,
   "id": "afe0bbf0",
   "metadata": {},
   "outputs": [],
   "source": [
    "def log_likelihood_poisson(bg,scale,model_hits,data_hits):\n",
    "    result=0\n",
    "    for i in range(len(model_hits)):\n",
    "        result+=data_hits[i]*np.log(bg+scale*model_hits[i])-bg-scale*model_hits[i]-lgamma(data_hits[i]+1)\n",
    "    return result"
   ]
  },
  {
   "cell_type": "code",
   "execution_count": 17,
   "id": "2d23cebd",
   "metadata": {},
   "outputs": [],
   "source": [
    "def log_likelihood_energy(pred_e, dat_e, sigma):\n",
    "    result=0\n",
    "    for i in range(len(pred_e)):\n",
    "        result+= np.log(1/(sigma*np.sqrt(2*np.pi)))-.5*((dat_e[i]-pred_e[i])/sigma)**2\n",
    "    return result"
   ]
  },
  {
   "cell_type": "code",
   "execution_count": 199,
   "id": "cfa316c9",
   "metadata": {},
   "outputs": [
    {
     "data": {
      "text/plain": [
       "[<matplotlib.lines.Line2D at 0x2263fd65600>]"
      ]
     },
     "execution_count": 199,
     "metadata": {},
     "output_type": "execute_result"
    },
    {
     "data": {
      "image/png": "[encoded data removed]",
      "text/plain": [
       "<Figure size 640x480 with 1 Axes>"
      ]
     },
     "metadata": {},
     "output_type": "display_data"
    }
   ],
   "source": [
    "plt.plot(model)\n",
    "plt.plot(data)"
   ]
  },
  {
   "cell_type": "code",
   "execution_count": 41,
   "id": "78d4c074",
   "metadata": {},
   "outputs": [],
   "source": [
    "def compute_log_integral(data_hits,model_sim,data_e,model_e,sigma,dist,dt):\n",
    "\n",
    "    model_hits=compute_hits(dist,dt,-.5*u.s,.46*u.s,model_sim)\n",
    "    \n",
    "    betamin=0\n",
    "    betamax=30000/np.max(model_hits)\n",
    "    \n",
    "    self=model_sim.detector\n",
    "    bg_mean= self.i3_dom_bg_mu * dt.to(u.s).value * self.n_i3_doms + self.dc_dom_bg_mu * dt.to(u.s).value * self.n_dc_doms\n",
    "    bg_var= (self.i3_dom_bg_sig * np.sqrt(dt.to(u.s).value * self.n_i3_doms))**2 + (self.dc_dom_bg_sig * np.sqrt(dt.to(u.s).value * self.n_dc_doms))**2\n",
    "    bg_sig=np.sqrt(bg_var)\n",
    "    \n",
    "    bmin= bg_mean-3*bg_sig\n",
    "    bmax= bg_mean+3*bg_sig\n",
    "    \n",
    "    ndim = 2\n",
    "    nwalkers = 32\n",
    "    \n",
    "    bminguess= bg_mean-1*bg_sig\n",
    "    bmaxguess= bg_mean+1*bg_sig\n",
    "\n",
    "    initial_positions = np.random.uniform([betamin, bminguess], [betamax, bmaxguess], (nwalkers, ndim))\n",
    "    sampler = emcee.EnsembleSampler(nwalkers, ndim, log_prob_with_energy, args=(model_hits, data_hits, \n",
    "                                                                            model_e,data_e,sigma,\n",
    "                                                                            betamin, betamax, bmin, bmax))\n",
    "\n",
    "    nsteps = 1000\n",
    "    sampler.run_mcmc(initial_positions, nsteps)\n",
    "\n",
    "    burn_in = 100\n",
    "    samples = sampler.get_chain(discard=burn_in, flat=True)\n",
    "    \n",
    "    logprob=[log_prob_with_energy((beta,b), model_hits, data_hits, \n",
    "                                                model_e,data_e,sigma,\n",
    "                                                betamin, betamax, bmin, bmax) for beta,b in samples]\n",
    "    \n",
    "    bs=samples[:,0]\n",
    "    betas=samples[:,1]\n",
    "    integration_area=(np.max(bs)-np.min(bs))*(np.max(betas)-np.min(betas))\n",
    "    logint=np.log(integration_area/len(samples[:,0]))+logsumexp(logprob)\n",
    "\n",
    "    return logint"
   ]
  },
  {
   "cell_type": "code",
   "execution_count": 19,
   "id": "f9d70680",
   "metadata": {},
   "outputs": [],
   "source": [
    "def log_probs_with_energies(data_sim,model_sims, data_mod, model_energies, sigma,priors,dist,dt,hierarchy,errs):\n",
    "    log_probs_nh=[]\n",
    "    log_probs_ih=[]\n",
    "    times=np.arange(0,460,10)\n",
    "    energies=np.arange(0, 50, 1)\n",
    "    \n",
    "    for j in tqdm(range(errs)):\n",
    "        data_hits=compute_hits_without_sub_bg(dist,dt,-.5*u.s,.46*u.s,data_sim)\n",
    "        data_e=compute_data_energy(data_mod,hierarchy,times,energies,sigma)\n",
    "        \n",
    "        log_prob_nh=[]\n",
    "        log_prob_ih=[]\n",
    "        for k,name in enumerate(model_sims.keys()):\n",
    "            if(priors[k]!=0):\n",
    "                log_p_d_nh=compute_log_integral(data_hits,model_sims[name][0], \n",
    "                                                data_e, model_energies[name][0], sigma, dist,dt)\n",
    "                log_p_d_ih=compute_log_integral(data_hits,model_sims[name][1], \n",
    "                                                data_e, model_energies[name][1], sigma, dist,dt)\n",
    "                print(name, log_p_d_nh,log_p_d_ih)\n",
    "                \n",
    "                log_prob_nh.append(log_p_d_nh-logsumexp([log_p_d_nh,log_p_d_ih])+np.log(priors[k]))\n",
    "                log_prob_ih.append(log_p_d_ih-logsumexp([log_p_d_nh,log_p_d_ih])+np.log(priors[k]))\n",
    "                \n",
    "        prob_nh=logsumexp(log_prob_nh)\n",
    "        prob_ih=logsumexp(log_prob_ih)\n",
    "        \n",
    "        log_probs_nh.append(prob_nh)\n",
    "        log_probs_ih.append(prob_ih)\n",
    "            \n",
    "    return log_probs_nh, log_probs_ih"
   ]
  },
  {
   "cell_type": "code",
   "execution_count": null,
   "id": "d5c89284",
   "metadata": {},
   "outputs": [],
   "source": []
  },
  {
   "cell_type": "code",
   "execution_count": 20,
   "id": "9c7e6221",
   "metadata": {},
   "outputs": [],
   "source": [
    "def log_probs_with_energies_mult_priors(data_sim,model_sims, data_mod, model_energies, sigma,priors,dist,dt,hierarchy,errs):\n",
    "    log_ratios=[]\n",
    "    times=np.arange(0,460,10)\n",
    "    energies=np.arange(0, 50, 1)\n",
    "    \n",
    "    for j in tqdm(range(errs)):\n",
    "        data_hits=compute_hits_without_sub_bg(dist,dt,-.5*u.s,.46*u.s,data_sim)\n",
    "        data_e=compute_data_energy(data_mod,hierarchy,times,energies,sigma)\n",
    "        \n",
    "        log_prob_nh=[]\n",
    "        log_prob_ih=[]\n",
    "        log_ratio=[]\n",
    "        for k,name in enumerate(model_sims.keys()):\n",
    "            log_p_d_nh=compute_log_integral(data_hits,model_sims[name][0], \n",
    "                                                data_e, model_energies[name][0], sigma, dist,dt)\n",
    "            log_p_d_ih=compute_log_integral(data_hits,model_sims[name][1], \n",
    "                                                data_e, model_energies[name][1], sigma, dist,dt)\n",
    "            log_prob_nh.append(log_p_d_nh)\n",
    "            log_prob_ih.append(log_p_d_ih)\n",
    " \n",
    "        for i,prior in enumerate(priors):   \n",
    "            p_nh=[]\n",
    "            p_ih=[]\n",
    "            for k,pro in enumerate(log_prob_nh):\n",
    "                log_p_d_nh=pro\n",
    "                log_p_d_ih=log_prob_ih[k]\n",
    "                \n",
    "                p_nh.append(log_p_d_nh-logsumexp([log_p_d_nh,log_p_d_ih])+np.log(prior[k]))\n",
    "                p_ih.append(log_p_d_ih-logsumexp([log_p_d_nh,log_p_d_ih])+np.log(prior[k]))\n",
    "\n",
    "            print(p_nh,p_ih)\n",
    "            prob_nh=logsumexp(p_nh)\n",
    "            prob_ih=logsumexp(p_ih)\n",
    "            \n",
    "            if(hierarchy==MassHierarchy.NORMAL):\n",
    "                log_ratio.append(prob_nh-prob_ih)\n",
    "            else:\n",
    "                log_ratio.append(prob_ih-prob_nh)\n",
    "        log_ratios.append(log_ratio)\n",
    "            \n",
    "    return log_ratios"
   ]
  },
  {
   "cell_type": "code",
   "execution_count": 22,
   "id": "67ecaf94",
   "metadata": {},
   "outputs": [
    {
     "name": "stdout",
     "output_type": "stream",
     "text": [
      "-91.15907285030015\n"
     ]
    },
    {
     "data": {
      "image/png": "[encoded data removed]",
      "text/plain": [
       "<Figure size 700x600 with 2 Axes>"
      ]
     },
     "metadata": {},
     "output_type": "display_data"
    },
    {
     "name": "stdout",
     "output_type": "stream",
     "text": [
      "-661.2203844282922\n"
     ]
    }
   ],
   "source": [
    "dt=10*u.ms\n",
    "dist=10*u.kpc\n",
    "data=compute_hits_without_sub_bg(dist,dt,-.5*u.s,.46*u.s, sims['sukh_sfho'][0])\n",
    "model=compute_hits(dist,dt,-.5*u.s,.46*u.s, sims['sukh_sfho'][0])\n",
    "model_sim=sims['sukh_sfho'][0]\n",
    "\n",
    "times=np.arange(0,460,10)\n",
    "energies=np.arange(0, 50, 1)\n",
    "data_e=compute_data_energy(Sukhbold_2015(**sukh_param_sfho[0]),MassHierarchy.NORMAL,times,energies,1.75)\n",
    "model_e=sim_energies['sukh_sfho'][0]\n",
    "\n",
    "    \n",
    "betamin=0\n",
    "betamax=30000/np.max(model)\n",
    "    \n",
    "self=model_sim.detector\n",
    "bg_mean= self.i3_dom_bg_mu * dt.to(u.s).value * self.n_i3_doms + self.dc_dom_bg_mu * dt.to(u.s).value * self.n_dc_doms\n",
    "bg_var= (self.i3_dom_bg_sig * np.sqrt(dt.to(u.s).value * self.n_i3_doms))**2 + (self.dc_dom_bg_sig * np.sqrt(dt.to(u.s).value * self.n_dc_doms))**2\n",
    "bg_sig=np.sqrt(bg_var)\n",
    "    \n",
    "bmin= bg_mean-20*bg_sig\n",
    "bmax= bg_mean+20*bg_sig\n",
    "\n",
    "\n",
    "scale_values=np.linspace(betamin,betamax,100)\n",
    "bg_values=np.linspace(bmin,bmax,100)\n",
    "\n",
    "bg_grid, scale_grid = np.meshgrid(bg_values, scale_values)\n",
    "\n",
    "# Evaluate the log-likelihood function on the grid\n",
    "log_likelihood_grid = np.zeros_like(bg_grid)\n",
    "for i in range(bg_grid.shape[0]):\n",
    "    for j in range(bg_grid.shape[1]):\n",
    "        #log_likelihood_grid[i, j] = log_likelihood_poisson(bg_grid[i, j], scale_grid[i, j], model, data)\n",
    "        #log_likelihood_grid[i, j] = log_likelihood_energy(model_e,data_e,.5)\n",
    "        log_likelihood_grid[i, j] = log_prob_with_energy((scale_grid[i, j],bg_grid[i, j]), model, data,\n",
    "                                                         model_e, data_e, 1.75,\n",
    "                                                         betamin, betamax, bmin, bmax)\n",
    "\n",
    "print(log_likelihood_energy(model_e, data_e, 1.75))\n",
    "# Create the 2D plot\n",
    "plt.figure(figsize=(7, 6))\n",
    "contour = plt.contourf(scale_grid, bg_grid, log_likelihood_grid, cmap='viridis', levels=50)\n",
    "cbar=plt.colorbar(contour)\n",
    "cbar.set_label('Log Likelihood', fontsize=12)\n",
    "\n",
    "# Add labels\n",
    "plt.xlabel(r'Scale Factor ($\\beta$)',fontsize=12)\n",
    "plt.ylabel(r'Background (b)',fontsize=12)\n",
    "plt.title(r'Example Log Likelihood for Sukh NH Data with Sukh NH Model',fontsize=13)\n",
    "plt.tick_params(axis='both', which='major', labelsize=10)\n",
    "plt.axvline(x=1,color='blue')\n",
    "plt.axhline(y=bg_mean,color='blue')\n",
    "\n",
    "plt.show()\n",
    "\n",
    "\n",
    "\n",
    "\n",
    "results=[]\n",
    "for i,scale in enumerate(scale_values):\n",
    "    #result = integrand_poisson(scale, 15500, model, data, bmin,bmax,betamin,betamax)\n",
    "    result=log_likelihood_poisson(bg_mean,scale,model,data)\n",
    "    results.append(result)\n",
    "    \n",
    "results_bg=[]\n",
    "for i,bg in enumerate(bg_values):\n",
    "    #result = integrand_poisson(scale, 15500, model, data, bmin,bmax,betamin,betamax)\n",
    "    result=log_likelihood_poisson(bg,1.02,model,data)\n",
    "    results_bg.append(result)\n",
    "\n",
    "\n",
    "    \n",
    "#plt.plot(bg_values,np.array(results_bg))\n",
    "#print(scales[np.argmax(results)])\n",
    "#print(bgs[np.argmax(results_bg)])\n",
    "print(np.max(results))\n",
    "#plt.yscale('log')\n",
    "#plt.xlabel('scale factor')\n",
    "#plt.ylabel('likelihood')\n",
    "\n"
   ]
  },
  {
   "cell_type": "code",
   "execution_count": 23,
   "id": "e1125825",
   "metadata": {},
   "outputs": [
    {
     "data": {
      "text/plain": [
       "Text(0.5, 0.98, 'MCMC Results for Fornax NH Model')"
      ]
     },
     "execution_count": 23,
     "metadata": {},
     "output_type": "execute_result"
    },
    {
     "data": {
      "image/png": "[encoded data removed]",
      "text/plain": [
       "<Figure size 550x550 with 4 Axes>"
      ]
     },
     "metadata": {},
     "output_type": "display_data"
    }
   ],
   "source": [
    "ndim = 2\n",
    "nwalkers = 32\n",
    "\n",
    "dist=10*u.kpc\n",
    "dt=10*u.ms\n",
    "\n",
    "#data=compute_hits_without_sub_bg(dist,dt,-.5*u.s,.46*u.s, sims['sukh_sfho'][1])\n",
    "model=compute_hits(dist,dt,-.5*u.s,.46*u.s, sims['forn'][0])\n",
    "model_sim=sims['sukh_ls220'][1]\n",
    "\n",
    "times=np.arange(0,460,10)\n",
    "energies=np.arange(0, 50, 1)\n",
    "data_e=compute_data_energy(Sukhbold_2015(**sukh_param_sfho[0]),MassHierarchy.NORMAL,times,energies,.5)\n",
    "model_e=sim_energies['forn'][0]\n",
    "\n",
    "    \n",
    "betamin=0\n",
    "betamax=30000/np.max(model)\n",
    "    \n",
    "self=model_sim.detector\n",
    "bg_mean= self.i3_dom_bg_mu * dt.to(u.s).value * self.n_i3_doms + self.dc_dom_bg_mu * dt.to(u.s).value * self.n_dc_doms\n",
    "bg_var= (self.i3_dom_bg_sig * np.sqrt(dt.to(u.s).value * self.n_i3_doms))**2 + (self.dc_dom_bg_sig * np.sqrt(dt.to(u.s).value * self.n_dc_doms))**2\n",
    "bg_sig=np.sqrt(bg_var)\n",
    "    \n",
    "bmin= bg_mean-3*bg_sig\n",
    "bmax= bg_mean+3*bg_sig\n",
    "\n",
    "bminguess= bg_mean-1*bg_sig\n",
    "bmaxguess= bg_mean+1*bg_sig\n",
    "\n",
    "initial_positions = np.random.uniform([betamin, bmin], [betamax, bmax], (nwalkers, ndim))\n",
    "sampler = emcee.EnsembleSampler(nwalkers, ndim, log_prob_with_energy, args=(model, data, \n",
    "                                                                            model_e,data_e,.5,\n",
    "                                                                            betamin, betamax, bmin, bmax))\n",
    "\n",
    "nsteps = 1000\n",
    "sampler.run_mcmc(initial_positions, nsteps)\n",
    "\n",
    "burn_in = 100\n",
    "samples = sampler.get_chain(discard=burn_in, flat=True)\n",
    "\n",
    "fig = corner.corner(samples, labels=[r'$\\beta$','b'], truths=[.486, 14980])\n",
    "fig.suptitle('MCMC Results for Fornax NH Model')"
   ]
  },
  {
   "cell_type": "code",
   "execution_count": null,
   "id": "0804f9e3",
   "metadata": {},
   "outputs": [],
   "source": [
    "fig, axes = plt.subplots(2, figsize=(10, 7), sharex=True)\n",
    "samples = sampler.get_chain()\n",
    "labels = [\"beta\", \"b\"]\n",
    "for i in range(ndim):\n",
    "    ax = axes[i]\n",
    "    ax.plot(samples[:, :, i], \"k\", alpha=0.3)\n",
    "    ax.set_xlim(0, len(samples))\n",
    "    ax.set_ylabel(labels[i])\n",
    "    ax.yaxis.set_label_coords(-0.1, 0.5)\n",
    "\n",
    "axes[-1].set_xlabel(\"step number\");"
   ]
  },
  {
   "cell_type": "code",
   "execution_count": 226,
   "id": "f30cada1",
   "metadata": {},
   "outputs": [
    {
     "name": "stderr",
     "output_type": "stream",
     "text": [
      "\r",
      "  0%|                                                                                            | 0/1 [00:00<?, ?it/s]"
     ]
    },
    {
     "name": "stdout",
     "output_type": "stream",
     "text": [
      "-1266.540697027123\n",
      "-1402.3508231742787\n",
      "sukh_sfho -1265.4015844548633 -1401.1306538875137\n",
      "-1597.0565443185758\n",
      "-1548.107630193074\n",
      "sukh_ls220 -1596.0594636019862 -1546.8185315436874\n",
      "-1742.2524956694103\n",
      "-1481.464532552639\n",
      "forn -1741.603585116829 -1480.769409175828\n",
      "-3093.6201512685257\n",
      "-2065.639209189269\n",
      "zha -3093.157904047175 -2064.643417774106\n",
      "-1030.0465932725633\n"
     ]
    },
    {
     "name": "stderr",
     "output_type": "stream",
     "text": [
      "100%|███████████████████████████████████████████████████████████████████████████████████| 1/1 [07:36<00:00, 456.08s/it]"
     ]
    },
    {
     "name": "stdout",
     "output_type": "stream",
     "text": [
      "-677.4937232848552\n",
      "tamb -1029.250841202626 -676.6525163799673\n"
     ]
    },
    {
     "name": "stderr",
     "output_type": "stream",
     "text": [
      "\n",
      "  0%|                                                                                            | 0/1 [00:00<?, ?it/s]"
     ]
    },
    {
     "name": "stdout",
     "output_type": "stream",
     "text": [
      "-1559.7913280641862\n",
      "-2812.5993231651773\n",
      "sukh_sfho -1558.7259669030616 -2811.339027701377\n",
      "-1691.0285885023327\n",
      "-2871.444762675805\n",
      "sukh_ls220 -1690.1475698456552 -2870.344483371937\n",
      "-1463.535452582407\n",
      "-2138.2735298958714\n",
      "forn -1463.0851436997846 -2137.447670899812\n",
      "-2887.695072268634\n",
      "-3905.7855881846917\n",
      "zha -2887.286648058739 -3904.632413378727\n",
      "-686.2378609158736\n"
     ]
    },
    {
     "name": "stderr",
     "output_type": "stream",
     "text": [
      "100%|███████████████████████████████████████████████████████████████████████████████████| 1/1 [10:03<00:00, 603.69s/it]"
     ]
    },
    {
     "name": "stdout",
     "output_type": "stream",
     "text": [
      "-1201.5826419631583\n",
      "tamb -685.5424611900585 -1200.739973465176\n"
     ]
    },
    {
     "name": "stderr",
     "output_type": "stream",
     "text": [
      "\n"
     ]
    }
   ],
   "source": [
    "priors=[.2,.2,.2,.2,.2]\n",
    "prob_ih=log_probs_with_energies(sims['tamb'][1],sims, model_originals[i](**params[i][0]),\n",
    "                                                       sim_energies, .5,priors,10*u.kpc,10*u.ms,\n",
    "                                                       MassHierarchy.INVERTED,1)\n",
    "        \n",
    "prob_nh=log_probs_with_energies(sims['tamb'][0],sims, model_originals[i](**params[i][0]),\n",
    "                                                       sim_energies, .5,priors,10*u.kpc,10*u.ms,\n",
    "                                                       MassHierarchy.NORMAL,1)"
   ]
  },
  {
   "cell_type": "code",
   "execution_count": 87,
   "id": "0277a83e",
   "metadata": {},
   "outputs": [
    {
     "data": {
      "text/plain": [
       "[-0.22314356869328877, -0.2231435513142097]"
      ]
     },
     "execution_count": 87,
     "metadata": {},
     "output_type": "execute_result"
    }
   ],
   "source": [
    "np.arange(.1)"
   ]
  },
  {
   "cell_type": "code",
   "execution_count": 335,
   "id": "4ed50f1d",
   "metadata": {},
   "outputs": [
    {
     "name": "stderr",
     "output_type": "stream",
     "text": [
      "  0%|                                                                                            | 0/1 [00:00<?, ?it/s]\n",
      "  0%|                                                                                           | 0/25 [00:00<?, ?it/s]\u001b[A"
     ]
    },
    {
     "name": "stdout",
     "output_type": "stream",
     "text": [
      "-2092.389688951814\n"
     ]
    },
    {
     "name": "stderr",
     "output_type": "stream",
     "text": [
      "\n",
      "  4%|███▎                                                                               | 1/25 [00:34<13:41, 34.24s/it]\u001b[A"
     ]
    },
    {
     "name": "stdout",
     "output_type": "stream",
     "text": [
      "-2183.781439209725\n",
      "-2056.607493394781\n"
     ]
    },
    {
     "name": "stderr",
     "output_type": "stream",
     "text": [
      "\n",
      "  8%|██████▋                                                                            | 2/25 [01:08<13:02, 34.00s/it]\u001b[A"
     ]
    },
    {
     "name": "stdout",
     "output_type": "stream",
     "text": [
      "-2085.8179307736214\n",
      "-2052.044254989419\n"
     ]
    },
    {
     "name": "stderr",
     "output_type": "stream",
     "text": [
      "\n",
      " 12%|█████████▉                                                                         | 3/25 [01:43<12:39, 34.50s/it]\u001b[A"
     ]
    },
    {
     "name": "stdout",
     "output_type": "stream",
     "text": [
      "-2217.929220680506\n",
      "-2042.1262790300166\n"
     ]
    },
    {
     "name": "stderr",
     "output_type": "stream",
     "text": [
      "\n",
      " 16%|█████████████▎                                                                     | 4/25 [02:24<12:59, 37.12s/it]\u001b[A"
     ]
    },
    {
     "name": "stdout",
     "output_type": "stream",
     "text": [
      "-2169.5421014884528\n",
      "-2072.684587068931\n"
     ]
    },
    {
     "name": "stderr",
     "output_type": "stream",
     "text": [
      "\n",
      " 20%|████████████████▌                                                                  | 5/25 [03:03<12:35, 37.75s/it]\u001b[A"
     ]
    },
    {
     "name": "stdout",
     "output_type": "stream",
     "text": [
      "-2210.439435176738\n",
      "-2134.995896369291\n"
     ]
    },
    {
     "name": "stderr",
     "output_type": "stream",
     "text": [
      "\n",
      " 24%|███████████████████▉                                                               | 6/25 [03:41<12:02, 38.00s/it]\u001b[A"
     ]
    },
    {
     "name": "stdout",
     "output_type": "stream",
     "text": [
      "-2193.9887068009803\n",
      "-2130.4374199892777\n"
     ]
    },
    {
     "name": "stderr",
     "output_type": "stream",
     "text": [
      "\n",
      " 28%|███████████████████████▏                                                           | 7/25 [04:23<11:44, 39.13s/it]\u001b[A"
     ]
    },
    {
     "name": "stdout",
     "output_type": "stream",
     "text": [
      "-2208.491127941577\n",
      "-2121.343881154414\n"
     ]
    },
    {
     "name": "stderr",
     "output_type": "stream",
     "text": [
      "\n",
      " 32%|██████████████████████████▌                                                        | 8/25 [05:05<11:21, 40.10s/it]\u001b[A"
     ]
    },
    {
     "name": "stdout",
     "output_type": "stream",
     "text": [
      "-2268.8568218023684\n",
      "-2163.905183618171\n"
     ]
    },
    {
     "name": "stderr",
     "output_type": "stream",
     "text": [
      "\n",
      " 36%|█████████████████████████████▉                                                     | 9/25 [05:51<11:10, 41.88s/it]\u001b[A"
     ]
    },
    {
     "name": "stdout",
     "output_type": "stream",
     "text": [
      "-2225.861501946647\n",
      "-2141.7260459336703\n"
     ]
    },
    {
     "name": "stderr",
     "output_type": "stream",
     "text": [
      "\n",
      " 40%|████████████████████████████████▊                                                 | 10/25 [06:34<10:35, 42.39s/it]\u001b[A"
     ]
    },
    {
     "name": "stdout",
     "output_type": "stream",
     "text": [
      "-2199.7187888934163\n",
      "-2063.612037781932\n"
     ]
    },
    {
     "name": "stderr",
     "output_type": "stream",
     "text": [
      "\n",
      " 44%|████████████████████████████████████                                              | 11/25 [07:14<09:43, 41.69s/it]\u001b[A"
     ]
    },
    {
     "name": "stdout",
     "output_type": "stream",
     "text": [
      "-2120.5459868710504\n",
      "-2031.7980535749514\n"
     ]
    },
    {
     "name": "stderr",
     "output_type": "stream",
     "text": [
      "\n",
      " 48%|███████████████████████████████████████▎                                          | 12/25 [07:54<08:55, 41.18s/it]\u001b[A"
     ]
    },
    {
     "name": "stdout",
     "output_type": "stream",
     "text": [
      "-2113.7262129305464\n",
      "-2081.7225108062776\n"
     ]
    },
    {
     "name": "stderr",
     "output_type": "stream",
     "text": [
      "\n",
      " 52%|██████████████████████████████████████████▋                                       | 13/25 [08:37<08:20, 41.70s/it]\u001b[A"
     ]
    },
    {
     "name": "stdout",
     "output_type": "stream",
     "text": [
      "-2177.9475888228694\n",
      "-2068.6897083342537\n"
     ]
    },
    {
     "name": "stderr",
     "output_type": "stream",
     "text": [
      "\n",
      " 56%|█████████████████████████████████████████████▉                                    | 14/25 [09:21<07:46, 42.38s/it]\u001b[A"
     ]
    },
    {
     "name": "stdout",
     "output_type": "stream",
     "text": [
      "-2155.165188375546\n",
      "-2139.692994003008\n"
     ]
    },
    {
     "name": "stderr",
     "output_type": "stream",
     "text": [
      "\n",
      " 60%|█████████████████████████████████████████████████▏                                | 15/25 [10:03<07:03, 42.31s/it]\u001b[A"
     ]
    },
    {
     "name": "stdout",
     "output_type": "stream",
     "text": [
      "-2240.130967021264\n",
      "-2268.088393367483\n"
     ]
    },
    {
     "name": "stderr",
     "output_type": "stream",
     "text": [
      "\n",
      " 64%|████████████████████████████████████████████████████▍                             | 16/25 [10:45<06:18, 42.10s/it]\u001b[A"
     ]
    },
    {
     "name": "stdout",
     "output_type": "stream",
     "text": [
      "-2338.850395851019\n",
      "-2034.3675472801558\n"
     ]
    },
    {
     "name": "stderr",
     "output_type": "stream",
     "text": [
      "\n",
      " 68%|███████████████████████████████████████████████████████▊                          | 17/25 [11:26<05:33, 41.68s/it]\u001b[A"
     ]
    },
    {
     "name": "stdout",
     "output_type": "stream",
     "text": [
      "-2267.3153499735517\n",
      "-2097.267677845492\n"
     ]
    },
    {
     "name": "stderr",
     "output_type": "stream",
     "text": [
      "\n",
      " 72%|███████████████████████████████████████████████████████████                       | 18/25 [12:08<04:52, 41.84s/it]\u001b[A"
     ]
    },
    {
     "name": "stdout",
     "output_type": "stream",
     "text": [
      "-2122.854974817377\n",
      "-2134.828475245594\n"
     ]
    },
    {
     "name": "stderr",
     "output_type": "stream",
     "text": [
      "\n",
      " 76%|██████████████████████████████████████████████████████████████▎                   | 19/25 [12:49<04:10, 41.80s/it]\u001b[A"
     ]
    },
    {
     "name": "stdout",
     "output_type": "stream",
     "text": [
      "-2168.222403939872\n",
      "-2144.5708752178975\n"
     ]
    },
    {
     "name": "stderr",
     "output_type": "stream",
     "text": [
      "\n",
      " 80%|█████████████████████████████████████████████████████████████████▌                | 20/25 [13:33<03:31, 42.36s/it]\u001b[A"
     ]
    },
    {
     "name": "stdout",
     "output_type": "stream",
     "text": [
      "-2154.305264400179\n",
      "-2173.381356904061\n"
     ]
    },
    {
     "name": "stderr",
     "output_type": "stream",
     "text": [
      "\n",
      " 84%|████████████████████████████████████████████████████████████████████▉             | 21/25 [14:25<03:00, 45.11s/it]\u001b[A"
     ]
    },
    {
     "name": "stdout",
     "output_type": "stream",
     "text": [
      "-2207.9182641094458\n",
      "-2174.4208844073223\n"
     ]
    },
    {
     "name": "stderr",
     "output_type": "stream",
     "text": [
      "\n",
      " 88%|████████████████████████████████████████████████████████████████████████▏         | 22/25 [15:08<02:13, 44.52s/it]\u001b[A"
     ]
    },
    {
     "name": "stdout",
     "output_type": "stream",
     "text": [
      "-2278.789606870094\n",
      "-2159.400343187559\n"
     ]
    },
    {
     "name": "stderr",
     "output_type": "stream",
     "text": [
      "\n",
      " 92%|███████████████████████████████████████████████████████████████████████████▍      | 23/25 [15:51<01:28, 44.14s/it]\u001b[A"
     ]
    },
    {
     "name": "stdout",
     "output_type": "stream",
     "text": [
      "-2223.7868216528836\n",
      "-2051.299967124599\n"
     ]
    },
    {
     "name": "stderr",
     "output_type": "stream",
     "text": [
      "\n",
      " 96%|██████████████████████████████████████████████████████████████████████████████▋   | 24/25 [16:33<00:43, 43.33s/it]\u001b[A"
     ]
    },
    {
     "name": "stdout",
     "output_type": "stream",
     "text": [
      "-2185.000922569346\n",
      "-1963.697331028302\n"
     ]
    },
    {
     "name": "stderr",
     "output_type": "stream",
     "text": [
      "\n",
      "100%|██████████████████████████████████████████████████████████████████████████████████| 25/25 [17:14<00:00, 41.37s/it]\u001b[A"
     ]
    },
    {
     "name": "stdout",
     "output_type": "stream",
     "text": [
      "-2047.0616615503002\n"
     ]
    },
    {
     "name": "stderr",
     "output_type": "stream",
     "text": [
      "\n"
     ]
    },
    {
     "name": "stdout",
     "output_type": "stream",
     "text": [
      "-1429.4005544060497\n",
      "-1401.922018620437\n",
      "-1407.5934704348088\n",
      "-1421.9776648502946\n",
      "-1343.29533646956\n",
      "-1426.8363911918013\n",
      "-1391.4257668878697\n",
      "-1428.939967726922\n",
      "-1311.5348097344804\n",
      "-1392.9513142659912\n",
      "-1351.7192345499507\n",
      "-1427.6509736331614\n",
      "-1434.3516828220074\n",
      "-1371.8541182458862\n",
      "-1491.2046678609902\n",
      "-1463.2586149570905\n",
      "-1403.1367609260844\n",
      "-1403.1807151085916\n",
      "-1410.4900625258051\n",
      "-1380.9140299557398\n",
      "-1408.890788397546\n",
      "-1446.9581022921384\n",
      "-1335.3167483511938\n",
      "-1411.6577343604026\n",
      "-1359.2734539380206\n",
      "-1433.7195923835395\n",
      "-1387.8977693159786\n",
      "-1416.1009393041732\n",
      "-1390.5477371384525\n",
      "-1493.4241177561687\n",
      "-1379.438560392975\n",
      "-1458.2984662683086\n",
      "-1356.504596814022\n",
      "-1408.8941542985754\n",
      "-1412.5046325014484\n",
      "-1437.2789450260761\n",
      "-1356.834909651985\n",
      "-1488.2803321307101\n",
      "-1369.9390525240408\n",
      "-1458.1112466270151\n",
      "-1411.9969788717915\n",
      "-1483.1384884701451\n",
      "-1407.738430871585\n",
      "-1383.6939974209147\n",
      "-1364.7797082572015\n",
      "-1419.9843344953003\n",
      "-1473.1084571912236\n",
      "-1442.696780881676\n",
      "-1429.2447101013477\n",
      "-1444.1995586554067\n"
     ]
    },
    {
     "name": "stderr",
     "output_type": "stream",
     "text": [
      "\n",
      "  0%|                                                                                           | 0/25 [00:00<?, ?it/s]\u001b[A"
     ]
    },
    {
     "name": "stdout",
     "output_type": "stream",
     "text": [
      "-1936.2144466484237\n",
      "-2058.9179326487438\n",
      "-1425.043556870925\n",
      "-1377.7038898769988\n",
      "-2967.7530438307426\n"
     ]
    },
    {
     "name": "stderr",
     "output_type": "stream",
     "text": [
      "\n",
      "  4%|███▎                                                                              | 1/25 [02:02<49:01, 122.55s/it]\u001b[A"
     ]
    },
    {
     "name": "stdout",
     "output_type": "stream",
     "text": [
      "-2820.978469749153\n",
      "-1873.2867910170673\n",
      "-1889.3331528444592\n",
      "-1494.8710128789007\n",
      "-1374.731454145886\n",
      "-2900.141381686923\n"
     ]
    },
    {
     "name": "stderr",
     "output_type": "stream",
     "text": [
      "\n",
      "  8%|██████▌                                                                           | 2/25 [04:05<46:59, 122.60s/it]\u001b[A"
     ]
    },
    {
     "name": "stdout",
     "output_type": "stream",
     "text": [
      "-2608.315731155073\n",
      "-1842.4171362529369\n",
      "-1907.226337645252\n",
      "-1411.3910841215315\n",
      "-1303.9227220187759\n",
      "-2820.4560975752634\n"
     ]
    },
    {
     "name": "stderr",
     "output_type": "stream",
     "text": [
      "\n",
      " 12%|█████████▊                                                                        | 3/25 [06:07<44:53, 122.45s/it]\u001b[A"
     ]
    },
    {
     "name": "stdout",
     "output_type": "stream",
     "text": [
      "-2688.551764238123\n",
      "-1889.8347300176315\n",
      "-1985.7708671369435\n",
      "-1443.8289414779033\n",
      "-1386.7969979426343\n",
      "-2939.7391539561218\n"
     ]
    },
    {
     "name": "stderr",
     "output_type": "stream",
     "text": [
      "\n",
      " 16%|█████████████                                                                     | 4/25 [08:07<42:32, 121.57s/it]\u001b[A"
     ]
    },
    {
     "name": "stdout",
     "output_type": "stream",
     "text": [
      "-2822.8639772648585\n",
      "-1805.6976534925275\n",
      "-1912.7024530693045\n",
      "-1369.0441303979362\n",
      "-1291.775079457048\n",
      "-2872.994877461869\n"
     ]
    },
    {
     "name": "stderr",
     "output_type": "stream",
     "text": [
      "\n",
      " 20%|████████████████▍                                                                 | 5/25 [10:09<40:34, 121.72s/it]\u001b[A"
     ]
    },
    {
     "name": "stdout",
     "output_type": "stream",
     "text": [
      "-2807.4602707034915\n",
      "-1710.9876240872538\n",
      "-1832.6156700055399\n",
      "-1358.4342255108488\n",
      "-1332.1503492341446\n",
      "-2625.1805326582453\n"
     ]
    },
    {
     "name": "stderr",
     "output_type": "stream",
     "text": [
      "\n",
      " 24%|███████████████████▋                                                              | 6/25 [12:13<38:47, 122.50s/it]\u001b[A"
     ]
    },
    {
     "name": "stdout",
     "output_type": "stream",
     "text": [
      "-2715.7956212218105\n",
      "-1801.6577541583752\n",
      "-1855.7159246239223\n",
      "-1425.698788923874\n",
      "-1334.0136297051783\n",
      "-2830.7517644922655\n"
     ]
    },
    {
     "name": "stderr",
     "output_type": "stream",
     "text": [
      "\n",
      " 28%|██████████████████████▉                                                           | 7/25 [14:17<36:52, 122.92s/it]\u001b[A"
     ]
    },
    {
     "name": "stdout",
     "output_type": "stream",
     "text": [
      "-2652.1118186482463\n",
      "-1719.8102101079555\n",
      "-1856.2281535690352\n",
      "-1296.7585858809437\n",
      "-1270.8050989679018\n",
      "-2805.680288841917\n"
     ]
    },
    {
     "name": "stderr",
     "output_type": "stream",
     "text": [
      "\n",
      " 32%|██████████████████████████▏                                                       | 8/25 [16:18<34:42, 122.47s/it]\u001b[A"
     ]
    },
    {
     "name": "stdout",
     "output_type": "stream",
     "text": [
      "-2737.296867720307\n",
      "-1780.7070568671506\n",
      "-1920.3215672645924\n",
      "-1303.7608816613993\n",
      "-1276.9723960810045\n",
      "-2834.7354576515313\n"
     ]
    },
    {
     "name": "stderr",
     "output_type": "stream",
     "text": [
      "\n",
      " 36%|█████████████████████████████▌                                                    | 9/25 [18:21<32:40, 122.50s/it]\u001b[A"
     ]
    },
    {
     "name": "stdout",
     "output_type": "stream",
     "text": [
      "-2747.7021031457516\n",
      "-1797.749625627656\n",
      "-1903.029842078673\n",
      "-1387.0492511660918\n",
      "-1319.2731248086436\n",
      "-2812.986722818042\n"
     ]
    },
    {
     "name": "stderr",
     "output_type": "stream",
     "text": [
      "\n",
      " 40%|████████████████████████████████▍                                                | 10/25 [20:24<30:37, 122.49s/it]\u001b[A"
     ]
    },
    {
     "name": "stdout",
     "output_type": "stream",
     "text": [
      "-2735.2992551013044\n",
      "-1806.857818570235\n",
      "-1898.9225769667219\n",
      "-1420.4924784216735\n",
      "-1352.3284662862393\n",
      "-2793.6569056591925\n"
     ]
    },
    {
     "name": "stderr",
     "output_type": "stream",
     "text": [
      "\n",
      " 44%|███████████████████████████████████▋                                             | 11/25 [22:26<28:35, 122.54s/it]\u001b[A"
     ]
    },
    {
     "name": "stdout",
     "output_type": "stream",
     "text": [
      "-2742.496376443707\n",
      "-1852.5075448575924\n",
      "-1979.4752262458903\n",
      "-1401.6213804984416\n",
      "-1363.0082899085899\n",
      "-2865.6446732864447\n"
     ]
    },
    {
     "name": "stderr",
     "output_type": "stream",
     "text": [
      "\n",
      " 48%|██████████████████████████████████████▉                                          | 12/25 [24:30<26:36, 122.80s/it]\u001b[A"
     ]
    },
    {
     "name": "stdout",
     "output_type": "stream",
     "text": [
      "-2758.5413256994534\n",
      "-1808.3384535593516\n",
      "-1852.8535416568063\n",
      "-1399.7118473294386\n",
      "-1287.0635575864908\n",
      "-2827.45909794421\n"
     ]
    },
    {
     "name": "stderr",
     "output_type": "stream",
     "text": [
      "\n",
      " 52%|██████████████████████████████████████████                                       | 13/25 [26:31<24:27, 122.29s/it]\u001b[A"
     ]
    },
    {
     "name": "stdout",
     "output_type": "stream",
     "text": [
      "-2684.810914328204\n",
      "-1855.492016663274\n",
      "-1921.4756847671829\n",
      "-1463.4911654652644\n",
      "-1377.676314637957\n",
      "-2864.856654423656\n"
     ]
    },
    {
     "name": "stderr",
     "output_type": "stream",
     "text": [
      "\n",
      " 56%|█████████████████████████████████████████████▎                                   | 14/25 [28:33<22:25, 122.33s/it]\u001b[A"
     ]
    },
    {
     "name": "stdout",
     "output_type": "stream",
     "text": [
      "-2825.3887519491072\n",
      "-1755.254300538183\n",
      "-1909.5418279360686\n",
      "-1332.6597756518725\n",
      "-1326.5725369339318\n",
      "-2743.9027404226376\n"
     ]
    },
    {
     "name": "stderr",
     "output_type": "stream",
     "text": [
      "\n",
      " 60%|████████████████████████████████████████████████▌                                | 15/25 [30:38<20:31, 123.11s/it]\u001b[A"
     ]
    },
    {
     "name": "stdout",
     "output_type": "stream",
     "text": [
      "-2812.4449659988313\n",
      "-1670.3417486186588\n",
      "-1746.2333511007835\n",
      "-1311.8027341246154\n",
      "-1243.7815739048774\n",
      "-2678.9764122144115\n"
     ]
    },
    {
     "name": "stderr",
     "output_type": "stream",
     "text": [
      "\n",
      " 64%|███████████████████████████████████████████████████▊                             | 16/25 [32:40<18:24, 122.77s/it]\u001b[A"
     ]
    },
    {
     "name": "stdout",
     "output_type": "stream",
     "text": [
      "-2619.333598771676\n",
      "-1781.8469637928217\n",
      "-1907.4053805632682\n",
      "-1397.1729765088019\n",
      "-1383.6954239654842\n",
      "-2717.74648396045\n"
     ]
    },
    {
     "name": "stderr",
     "output_type": "stream",
     "text": [
      "\n",
      " 68%|███████████████████████████████████████████████████████                          | 17/25 [34:43<16:22, 122.84s/it]\u001b[A"
     ]
    },
    {
     "name": "stdout",
     "output_type": "stream",
     "text": [
      "-2763.373678698375\n",
      "-1913.8069990502272\n",
      "-1973.7206593837743\n",
      "-1487.8136315557608\n",
      "-1406.6835256427123\n",
      "-2901.5458014733854\n"
     ]
    },
    {
     "name": "stderr",
     "output_type": "stream",
     "text": [
      "\n",
      " 72%|██████████████████████████████████████████████████████████▎                      | 18/25 [36:44<14:15, 122.23s/it]\u001b[A"
     ]
    },
    {
     "name": "stdout",
     "output_type": "stream",
     "text": [
      "-2789.7964577183075\n",
      "-1799.9596818972425\n",
      "-1951.7501522387934\n",
      "-1366.6621234218308\n",
      "-1347.5291903572795\n",
      "-2761.4943512141112\n"
     ]
    },
    {
     "name": "stderr",
     "output_type": "stream",
     "text": [
      "\n",
      " 76%|█████████████████████████████████████████████████████████████▌                   | 19/25 [38:48<12:16, 122.71s/it]\u001b[A"
     ]
    },
    {
     "name": "stdout",
     "output_type": "stream",
     "text": [
      "-2769.9640981108823\n",
      "-1937.6215558701902\n",
      "-1994.1376356612695\n",
      "-1443.9800657046305\n",
      "-1330.9838113500123\n",
      "-2996.8214928415086\n"
     ]
    },
    {
     "name": "stderr",
     "output_type": "stream",
     "text": [
      "\n",
      " 80%|████████████████████████████████████████████████████████████████▊                | 20/25 [40:49<10:11, 122.29s/it]\u001b[A"
     ]
    },
    {
     "name": "stdout",
     "output_type": "stream",
     "text": [
      "-2710.4317968742694\n",
      "-1822.9706690901635\n",
      "-1949.6435571412276\n",
      "-1406.6828004625568\n",
      "-1353.5993267065041\n",
      "-2859.3459011765394\n"
     ]
    },
    {
     "name": "stderr",
     "output_type": "stream",
     "text": [
      "\n",
      " 84%|████████████████████████████████████████████████████████████████████             | 21/25 [42:50<08:07, 121.87s/it]\u001b[A"
     ]
    },
    {
     "name": "stdout",
     "output_type": "stream",
     "text": [
      "-2847.6539695995302\n",
      "-1745.8597960948712\n",
      "-1750.1101953875445\n",
      "-1367.378142550362\n",
      "-1237.6575833835213\n",
      "-2790.018356493657\n"
     ]
    },
    {
     "name": "stderr",
     "output_type": "stream",
     "text": [
      "\n",
      " 88%|███████████████████████████████████████████████████████████████████████▎         | 22/25 [44:55<06:08, 122.94s/it]\u001b[A"
     ]
    },
    {
     "name": "stdout",
     "output_type": "stream",
     "text": [
      "-2502.493038825409\n",
      "-1844.8101855259\n",
      "-1970.0307283181191\n",
      "-1428.9278583330947\n",
      "-1386.0397080187731\n",
      "-2817.9507890486157\n"
     ]
    },
    {
     "name": "stderr",
     "output_type": "stream",
     "text": [
      "\n",
      " 92%|██████████████████████████████████████████████████████████████████████████▌      | 23/25 [46:58<04:05, 122.87s/it]\u001b[A"
     ]
    },
    {
     "name": "stdout",
     "output_type": "stream",
     "text": [
      "-2787.4774669999733\n",
      "-1856.6619540281492\n",
      "-1944.1973633015866\n",
      "-1445.4950595729774\n",
      "-1373.913383853595\n",
      "-2851.1941244826507\n"
     ]
    },
    {
     "name": "stderr",
     "output_type": "stream",
     "text": [
      "\n",
      " 96%|█████████████████████████████████████████████████████████████████████████████▊   | 24/25 [49:00<02:02, 122.72s/it]\u001b[A"
     ]
    },
    {
     "name": "stdout",
     "output_type": "stream",
     "text": [
      "-2821.61086184222\n",
      "-1733.4640612045303\n",
      "-1913.9085149597308\n",
      "-1318.666612341864\n",
      "-1353.5532463702755\n",
      "-2694.5591259196035\n"
     ]
    },
    {
     "name": "stderr",
     "output_type": "stream",
     "text": [
      "\n",
      "100%|█████████████████████████████████████████████████████████████████████████████████| 25/25 [51:04<00:00, 122.59s/it]\u001b[A"
     ]
    },
    {
     "name": "stdout",
     "output_type": "stream",
     "text": [
      "-2907.5172947291007\n"
     ]
    },
    {
     "name": "stderr",
     "output_type": "stream",
     "text": [
      "\n"
     ]
    },
    {
     "name": "stdout",
     "output_type": "stream",
     "text": [
      "-1517.8265194178887\n",
      "-1454.951814833181\n",
      "-1174.3540165960944\n",
      "-999.560840320897\n",
      "-1509.6611446000945\n",
      "-1469.0019363227486\n",
      "-1194.6757928651632\n",
      "-1024.5524964426959\n",
      "-1430.949950757574\n",
      "-1363.1099121776779\n",
      "-1168.9651846626818\n",
      "-983.532279669198\n",
      "-1472.709664091537\n",
      "-1376.6436408996487\n",
      "-1194.2754704211643\n",
      "-985.0536266410887\n",
      "-1348.068189553535\n",
      "-1283.9619959912263\n",
      "-1097.4615741033597\n",
      "-934.5862354195518\n",
      "-1462.098107759134\n",
      "-1339.758231631056\n",
      "-1149.4341423529647\n",
      "-947.7870132819879\n",
      "-1367.9521609501494\n",
      "-1340.0132162808006\n",
      "-1086.5571813082101\n",
      "-938.8439584148408\n",
      "-1464.5474977632996\n",
      "-1330.294795817809\n",
      "-1159.2788277570103\n",
      "-933.1729711013279\n",
      "-1418.7246671345893\n",
      "-1292.952852889264\n",
      "-1151.5017016529032\n",
      "-939.9349412409023\n",
      "-1374.945648737854\n",
      "-1377.073482514449\n",
      "-1098.0885164069527\n",
      "-956.5077447843636\n",
      "-1453.844520235244\n",
      "-1390.538920101834\n",
      "-1150.204597618075\n",
      "-976.4413011846019\n",
      "-1400.404156496023\n",
      "-1332.8458929372625\n",
      "-1124.6414575282952\n",
      "-967.1435078553972\n",
      "-1381.8826418474432\n",
      "-1302.5711344860258\n",
      "-1076.509907330794\n",
      "-905.4140880074727\n",
      "-1419.9756926359703\n",
      "-1352.3945520706407\n",
      "-1130.9483446316801\n",
      "-965.812061295864\n",
      "-1525.812494219915\n",
      "-1487.4960277126945\n",
      "-1188.025050175359\n",
      "-1018.9959417515602\n",
      "-1411.927683909502\n",
      "-1349.6888554221043\n",
      "-1157.1668998417415\n",
      "-1008.7848139366937\n",
      "-1424.5829220338683\n",
      "-1373.800881429177\n",
      "-1094.1545566364466\n",
      "-931.4838682528219\n",
      "-1409.3481989850095\n",
      "-1337.13100913528\n",
      "-1134.6172774356955\n",
      "-946.9274734049169\n",
      "-1336.846590533933\n",
      "-1294.8157974919845\n",
      "-1084.37308054525\n",
      "-933.7295974806733\n",
      "-1424.4620590493362\n",
      "-1386.0592487572262\n",
      "-1076.1385485688677\n",
      "-931.0538018594592\n",
      "-1499.6632263394151\n",
      "-1389.8779844989842\n",
      "-1188.372639619246\n",
      "-978.2644235740248\n",
      "-1470.4773877903851\n",
      "-1404.417240217511\n",
      "-1110.2591646089772\n",
      "-930.7624639392974\n",
      "-1425.498508310927\n",
      "-1374.550270455633\n",
      "-1118.5283989834613\n",
      "-967.0489384686014\n",
      "-1408.3601132870574\n",
      "-1331.767169638839\n",
      "-1099.7606889838871\n",
      "-916.8518486312279\n",
      "-1415.1155539241777\n",
      "-1307.0445736298082\n",
      "-1132.1585118291573\n"
     ]
    },
    {
     "name": "stderr",
     "output_type": "stream",
     "text": [
      "100%|████████████████████████████████████████████████████████████████████████████████| 1/1 [2:00:14<00:00, 7214.26s/it]"
     ]
    },
    {
     "name": "stdout",
     "output_type": "stream",
     "text": [
      "-932.209694260635\n"
     ]
    },
    {
     "name": "stderr",
     "output_type": "stream",
     "text": [
      "\n"
     ]
    }
   ],
   "source": [
    "sigmas=[5]\n",
    "times=np.arange(0,460,10)\n",
    "energies=np.arange(0, 50, 1)\n",
    "dist=3*u.kpc\n",
    "        \n",
    "for i in tqdm(range(len(sigmas))):\n",
    "    sigma=sigmas[i]\n",
    "    \n",
    "    #SCENARIO 1: Fornax IH Data where Sukhbold SFHo is Uncertain\n",
    "    sfho_for_forn_log_pd_nh=[]\n",
    "    sfho_for_forn_log_pd_ih=[]\n",
    "    for j in tqdm(range(25)):\n",
    "        data_hits=compute_hits_without_sub_bg(dist,10*u.ms,-.5*u.s,.46*u.s,sims['forn'][1])\n",
    "        data_e=compute_data_energy(Fornax_2022(**forn_param[0]),MassHierarchy.INVERTED,times,energies,sigma)\n",
    "        \n",
    "        sfho_for_forn_log_pd_nh.append(compute_log_integral(data_hits,sims['sukh_sfho'][0], \n",
    "                                                data_e, sim_energies['sukh_sfho'][0], sigma, dist,10*u.ms))\n",
    "        sfho_for_forn_log_pd_ih.append(compute_log_integral(data_hits,sims['sukh_sfho'][1], \n",
    "                                                data_e, sim_energies['sukh_sfho'][1], sigma, dist,10*u.ms))\n",
    "    np.savez('sfho_for_forn_log_pd_nh_sig_{}'.format(sigma),sfho_for_forn_log_pd_nh)\n",
    "    np.savez('sfho_for_forn_log_pd_ih_sig_{}'.format(sigma),sfho_for_forn_log_pd_ih)\n",
    "        \n",
    "    #SCENARIO 2: Tamb IH Data where Sukhbold LS220 is Uncertain\n",
    "    ls220_for_tamb_log_pd_nh=[]\n",
    "    ls220_for_tamb_log_pd_ih=[]\n",
    "    for j in range(25):\n",
    "        data_hits=compute_hits_without_sub_bg(3*u.kpc,10*u.ms,-.5*u.s,.46*u.s,sims['tamb'][1])\n",
    "        data_e=compute_data_energy(Tamborra_2014(**tamb_param[0]),MassHierarchy.INVERTED,times,energies,sigma)\n",
    "        \n",
    "        ls220_for_tamb_log_pd_nh.append(compute_log_integral(data_hits,sims['sukh_ls220'][0], \n",
    "                                                data_e, sim_energies['sukh_ls220'][0], sigma, dist,10*u.ms))\n",
    "        ls220_for_tamb_log_pd_ih.append(compute_log_integral(data_hits,sims['sukh_ls220'][1], \n",
    "                                                data_e, sim_energies['sukh_ls220'][1], sigma, dist,10*u.ms))\n",
    "    np.savez('ls220_for_tamb_log_pd_nh_sig_{}'.format(sigma),ls220_for_tamb_log_pd_nh)\n",
    "    np.savez('ls220_for_tamb_log_pd_ih_sig_{}'.format(sigma),ls220_for_tamb_log_pd_ih)\n",
    "    \n",
    "    \n",
    "    \n",
    "    #SCENARIO 3: Sukh LS220 NH Data where Forn, Tamb, Zha are Uncertain\n",
    "    forn_for_ls220_log_pd_nh=[]\n",
    "    forn_for_ls220_log_pd_ih=[]\n",
    "    \n",
    "    tamb_for_ls220_log_pd_nh=[]\n",
    "    tamb_for_ls220_log_pd_ih=[]\n",
    "    \n",
    "    zha_for_ls220_log_pd_nh=[]\n",
    "    zha_for_ls220_log_pd_ih=[]\n",
    "    \n",
    "    for j in tqdm(range(25)):\n",
    "        data_hits=compute_hits_without_sub_bg(dist,10*u.ms,-.5*u.s,.46*u.s,sims['sukh_ls220'][0])\n",
    "        data_e=compute_data_energy(Sukhbold_2015(**sukh_param_ls220[0]),MassHierarchy.NORMAL,times,energies,sigma)\n",
    "        \n",
    "        forn_for_ls220_log_pd_nh.append(compute_log_integral(data_hits,sims['forn'][0], \n",
    "                                                data_e, sim_energies['forn'][0], sigma, dist,10*u.ms))\n",
    "        forn_for_ls220_log_pd_ih.append(compute_log_integral(data_hits,sims['forn'][1], \n",
    "                                                data_e, sim_energies['forn'][1], sigma, dist,10*u.ms))\n",
    "        \n",
    "        tamb_for_ls220_log_pd_nh.append(compute_log_integral(data_hits,sims['tamb'][0], \n",
    "                                                data_e, sim_energies['tamb'][0], sigma, dist,10*u.ms))\n",
    "        tamb_for_ls220_log_pd_ih.append(compute_log_integral(data_hits,sims['tamb'][1], \n",
    "                                                data_e, sim_energies['tamb'][1], sigma, dist,10*u.ms))\n",
    "        \n",
    "        zha_for_ls220_log_pd_nh.append(compute_log_integral(data_hits,sims['zha'][0], \n",
    "                                                data_e, sim_energies['zha'][0], sigma, dist,10*u.ms))\n",
    "        zha_for_ls220_log_pd_ih.append(compute_log_integral(data_hits,sims['zha'][1], \n",
    "                                                data_e, sim_energies['zha'][1], sigma, dist,10*u.ms))\n",
    "        \n",
    "    np.savez('forn_for_ls220_log_pd_nh_sig_{}'.format(sigma),forn_for_ls220_log_pd_nh)\n",
    "    np.savez('forn_for_ls220_log_pd_ih_sig_{}'.format(sigma),forn_for_ls220_log_pd_ih)\n",
    "    \n",
    "    np.savez('tamb_for_ls220_log_pd_nh_sig_{}'.format(sigma),tamb_for_ls220_log_pd_nh)\n",
    "    np.savez('tamb_for_ls220_log_pd_ih_sig_{}'.format(sigma),tamb_for_ls220_log_pd_ih)\n",
    "    \n",
    "    np.savez('zha_for_ls220_log_pd_nh_sig_{}'.format(sigma),zha_for_ls220_log_pd_nh)\n",
    "    np.savez('zha_for_ls220_log_pd_ih_sig_{}'.format(sigma),zha_for_ls220_log_pd_ih)\n",
    "    \n",
    "    #SCENARIO 4: Sukh SFHo NH Data where Forn, Tamb are Uncertain\n",
    "    forn_for_sfho_log_pd_nh=[]\n",
    "    forn_for_sfho_log_pd_ih=[]\n",
    "    \n",
    "    tamb_for_sfho_log_pd_nh=[]\n",
    "    tamb_for_sfho_log_pd_ih=[]\n",
    "    \n",
    "    for j in range(25):\n",
    "        data_hits=compute_hits_without_sub_bg(dist,10*u.ms,-.5*u.s,.46*u.s,sims['sukh_sfho'][0])\n",
    "        data_e=compute_data_energy(Sukhbold_2015(**sukh_param_sfho[0]),MassHierarchy.NORMAL,times,energies,sigma)\n",
    "        \n",
    "        forn_for_sfho_log_pd_nh.append(compute_log_integral(data_hits,sims['forn'][0], \n",
    "                                                data_e, sim_energies['forn'][0], sigma, dist,10*u.ms))\n",
    "        forn_for_sfho_log_pd_ih.append(compute_log_integral(data_hits,sims['forn'][1], \n",
    "                                                data_e, sim_energies['forn'][1], sigma, dist,10*u.ms))\n",
    "        \n",
    "        tamb_for_sfho_log_pd_nh.append(compute_log_integral(data_hits,sims['tamb'][0], \n",
    "                                                data_e, sim_energies['tamb'][0], sigma, dist,10*u.ms))\n",
    "        tamb_for_sfho_log_pd_ih.append(compute_log_integral(data_hits,sims['tamb'][1], \n",
    "                                                data_e, sim_energies['tamb'][1], sigma, dist,10*u.ms))\n",
    "        \n",
    "    np.savez('forn_for_sfho_log_pd_nh_sig_{}'.format(sigma),forn_for_sfho_log_pd_nh)\n",
    "    np.savez('forn_for_sfho_log_pd_ih_sig_{}'.format(sigma),forn_for_sfho_log_pd_ih)\n",
    "    \n",
    "    np.savez('tamb_for_sfho_log_pd_nh_sig_{}'.format(sigma),tamb_for_sfho_log_pd_nh)\n",
    "    np.savez('tamb_for_sfho_log_pd_ih_sig_{}'.format(sigma),tamb_for_sfho_log_pd_ih)"
   ]
  },
  {
   "cell_type": "code",
   "execution_count": 336,
   "id": "e2e174b6",
   "metadata": {},
   "outputs": [
    {
     "name": "stderr",
     "output_type": "stream",
     "text": [
      "  0%|                                                                                            | 0/1 [00:00<?, ?it/s]C:\\Users\\sanya\\AppData\\Local\\Temp\\ipykernel_60364\\167254339.py:40: UserWarning: Argument `eos` is deprecated.\n",
      "  data_e_nh=compute_data_energy(model_originals[i](**params[i][0]),MassHierarchy.NORMAL,times,energies,sigma)\n",
      "C:\\Users\\sanya\\AppData\\Local\\Temp\\ipykernel_60364\\167254339.py:43: UserWarning: Argument `eos` is deprecated.\n",
      "  data_e_ih=compute_data_energy(model_originals[i](**params[i][0]),MassHierarchy.INVERTED,times,energies,sigma)\n"
     ]
    },
    {
     "name": "stdout",
     "output_type": "stream",
     "text": [
      "-806.7307042245345\n",
      "-1129.5226312973816\n",
      "-1069.8014652370882\n",
      "-813.0926694231446\n",
      "-938.176860513898\n",
      "-1106.5972802915621\n",
      "-1365.8556769354084\n",
      "-893.1061056119489\n",
      "-1375.0805166935647\n",
      "-1293.2435589930485\n",
      "-1820.1238393969147\n",
      "-1348.4482659134321\n",
      "-2276.01199051839\n",
      "-1793.5521064934185\n",
      "-2767.276405778649\n",
      "-1300.108059830007\n",
      "-1100.4802907945\n",
      "-932.017841234736\n",
      "-1575.1426588222116\n",
      "-1053.1862939931798\n",
      "-1051.7551265233167\n",
      "-1820.1687627769704\n",
      "-1073.0400321057357\n",
      "-969.1420855952153\n",
      "-861.2935426085799\n",
      "-1458.0726622646744\n",
      "-1223.3953332602734\n",
      "-832.7146526594425\n",
      "-1899.713789925056\n",
      "-2038.6945916679636\n",
      "-2214.5765995670267\n",
      "-1755.130690178654\n",
      "-2917.156516073338\n",
      "-2897.5793197575003\n",
      "-3397.7766196967214\n",
      "-1705.694475956687\n",
      "-1443.8401618302619\n",
      "-1432.3188886206244\n",
      "-1786.497021361693\n",
      "-1246.7221958636856\n",
      "-2876.025217854735\n",
      "-4694.281817019145\n",
      "-2010.6949891656811\n",
      "-2129.037296556779\n",
      "-3341.081112990262\n",
      "-5430.326025437271\n",
      "-2622.485477353407\n",
      "-2853.4167694937187\n",
      "-810.4525239072722\n",
      "-1700.843198375422\n",
      "-1432.982218701833\n",
      "-830.0886605940417\n",
      "-2230.66932349145\n",
      "-5799.911774286786\n",
      "-2887.801806719458\n",
      "-2412.496513220005\n",
      "-1690.0547672918206\n",
      "-2255.332284629234\n",
      "-2066.81457563324\n",
      "-1504.276755196659\n",
      "-5282.958442669096\n",
      "-7613.056644306153\n",
      "-1976.7618205852602\n",
      "-1394.3498118378618\n",
      "-5333.581806649531\n",
      "-8404.588982227287\n",
      "-2484.913500971951\n",
      "-1769.6312960865016\n",
      "-2052.2950226396247\n",
      "-3450.0724922030445\n",
      "-2443.885771529491\n",
      "-1519.8530260557548\n",
      "-788.8165592611122\n",
      "-8094.709068379325\n",
      "-3563.1031994033774\n",
      "-813.3463625867627\n",
      "-3893.353984168864\n",
      "-4939.704707961899\n",
      "-2408.4326451804686\n",
      "-1664.0531610962407\n",
      "-1498.3554566062783\n",
      "-2766.8292475558396\n",
      "-1017.1715541649144\n",
      "-1215.8089748152695\n",
      "-1679.8781609984628\n",
      "-2819.695517303435\n",
      "-1435.8654682761019\n",
      "-1394.325790819972\n",
      "-1309.328617739539\n",
      "-1933.5248141884751\n",
      "-1595.1431352102268\n",
      "-1359.6337085877988\n",
      "-2916.061746584158\n",
      "-3748.4378240948317\n",
      "-3110.596891051385\n",
      "-1998.4163151300056\n",
      "-788.5913273082282\n",
      "-1269.5068631843224\n",
      "-1177.29032832671\n"
     ]
    },
    {
     "name": "stderr",
     "output_type": "stream",
     "text": [
      "100%|███████████████████████████████████████████████████████████████████████████████| 1/1 [6:03:39<00:00, 21819.46s/it]"
     ]
    },
    {
     "name": "stdout",
     "output_type": "stream",
     "text": [
      "-820.8074367172577\n",
      "{'sukh_sfho': {'sukh_sfho': [-805.6517028342837, -1128.3460732827295], 'sukh_ls220': [-937.1170330652558, -1105.418753473433], 'forn': [-1374.739465393841, -1292.580087705886], 'zha': [-2275.4336037494477, -1792.5946229823523], 'tamb': [-1099.7057797240154, -931.1886208018296]}, 'sukh_ls220': {'sukh_sfho': [-1050.599454181449, -1818.8359926894254], 'sukh_ls220': [-860.268993809987, -1456.9285663082542], 'forn': [-1899.2244396356455, -2038.0135400088818], 'zha': [-2916.5606303882137, -2896.2626976935308], 'tamb': [-1443.0498175082707, -1431.462629618862]}, 'forn': {'sukh_sfho': [-2874.80982209828, -4693.02809459714], 'sukh_ls220': [-3339.8803832836225, -5428.95875119316], 'forn': [-809.9283339803522, -1700.043897317219], 'zha': [-2230.105671363555, -5798.656051152582], 'tamb': [-1689.1648178756873, -2254.384650422895]}, 'zha': {'sukh_sfho': [-5281.62891892542, -7611.73110422068], 'sukh_ls220': [-5332.641858049067, -8403.280655135291], 'forn': [-2051.847560195483, -3449.52818699153], 'zha': [-788.1394954348999, -8093.5610298994325], 'tamb': [-3892.517205712303, -4938.728072179258]}, 'tamb': {'sukh_sfho': [-1497.1466707132681, -2765.6330054890873], 'sukh_ls220': [-1678.7963403831143, -2818.4899421409054], 'forn': [-1308.9900766188834, -1932.7681612650144], 'zha': [-2915.576307093993, -3747.1619704262557], 'tamb': [-787.8867881177474, -1268.6048300867715]}} {'sukh_sfho': {'sukh_sfho': [-1068.7843897170242, -811.7041632250122], 'sukh_ls220': [-1364.7831369007367, -891.9721114095737], 'forn': [-1819.6444286366022, -1347.7905153973045], 'zha': [-2766.8142511667475, -1298.887899093502], 'tamb': [-1574.3704446095715, -1052.296957740234]}, 'sukh_ls220': {'sukh_sfho': [-1071.8922800196522, -967.9159250429677], 'sukh_ls220': [-1222.2966607888063, -831.4760898164537], 'forn': [-2213.8867322239794, -1754.4463952446467], 'zha': [-3397.2976791978363, -1704.5967300155858], 'tamb': [-1785.7676876037453, -1245.7101742336272]}, 'forn': {'sukh_sfho': [-2009.372592290247, -2127.762567090365], 'sukh_ls220': [-2621.3931143762816, -2852.099548427071], 'forn': [-1432.336710408467, -829.3233194519081], 'zha': [-2887.2714011230223, -2411.1958903734017], 'tamb': [-2066.003890641153, -1503.4647702452821]}, 'zha': {'sukh_sfho': [-1975.5545523705605, -1393.1900827154343], 'sukh_ls220': [-2484.073817340014, -1768.5177464143474], 'forn': [-2443.4259430741836, -1519.0599108674867], 'zha': [-3562.505819741544, -812.266088591819], 'tamb': [-2407.641053579852, -1663.189244068995]}, 'tamb': {'sukh_sfho': [-1015.902321459824, -1214.4763804786871], 'sukh_ls220': [-1434.8927934033406, -1393.1635941783732], 'forn': [-1594.698178490236, -1358.9563640698466], 'zha': [-3110.1590809210434, -1997.27379796739], 'tamb': [-1176.4151069194952, -819.9568181118926]}}\n"
     ]
    },
    {
     "name": "stderr",
     "output_type": "stream",
     "text": [
      "\n"
     ]
    }
   ],
   "source": [
    "sigmas=[5]\n",
    "times=np.arange(0,460,10)\n",
    "energies=np.arange(0, 50, 1)\n",
    "for s in tqdm(range(len(sigmas))):\n",
    "    sigma=sigmas[s]\n",
    "    data_hits={\n",
    "            'sukh_sfho': [],\n",
    "            'sukh_ls220': [],\n",
    "            'forn': [],\n",
    "            'zha': [],\n",
    "            'tamb': []\n",
    "    }\n",
    "\n",
    "    data_energies={\n",
    "            'sukh_sfho': [],\n",
    "            'sukh_ls220': [],\n",
    "            'forn': [],\n",
    "            'zha': [],\n",
    "            'tamb': []\n",
    "    }\n",
    "\n",
    "    models_nh={\n",
    "            'sukh_sfho': [],\n",
    "            'sukh_ls220': [],\n",
    "            'forn': [],\n",
    "            'zha': [],\n",
    "            'tamb': []\n",
    "    }\n",
    "\n",
    "    models_ih={\n",
    "            'sukh_sfho': [],\n",
    "            'sukh_ls220': [],\n",
    "            'forn': [],\n",
    "            'zha': [],\n",
    "            'tamb': []\n",
    "    }\n",
    "\n",
    "    for i,mod_name in enumerate(models_nh.keys()):\n",
    "        data_hits_nh=compute_hits_without_sub_bg(10*u.kpc,10*u.ms,-.5*u.s,.46*u.s,sims[mod_name][0])\n",
    "        data_e_nh=compute_data_energy(model_originals[i](**params[i][0]),MassHierarchy.NORMAL,times,energies,sigma)\n",
    "\n",
    "        data_hits_ih=compute_hits_without_sub_bg(10*u.kpc,10*u.ms,-.5*u.s,.46*u.s,sims[mod_name][1])\n",
    "        data_e_ih=compute_data_energy(model_originals[i](**params[i][0]),MassHierarchy.INVERTED,times,energies,sigma)\n",
    "\n",
    "        data_hits[mod_name].append(data_hits_nh)\n",
    "        data_hits[mod_name].append(data_hits_ih)\n",
    "\n",
    "        data_energies[mod_name].append(data_e_nh)\n",
    "        data_energies[mod_name].append(data_e_ih)\n",
    "\n",
    "    for i,mod_name in enumerate(models_nh.keys()):\n",
    "        probs_nh={\n",
    "            'sukh_sfho': [], #[log_p_d_nh, log_p_d_ih]\n",
    "            'sukh_ls220': [],\n",
    "            'forn': [],\n",
    "            'zha': [],\n",
    "            'tamb': []\n",
    "        }\n",
    "\n",
    "        probs_ih={\n",
    "                'sukh_sfho': [], #[log_p_d_nh, log_p_d_ih]\n",
    "                'sukh_ls220': [],\n",
    "                'forn': [],\n",
    "                'zha': [],\n",
    "                'tamb': []\n",
    "        }\n",
    "        for j,name in enumerate(probs_nh.keys()):\n",
    "            probs_nh[name].append(compute_log_integral(data_hits[mod_name][0],sims[name][0], \n",
    "                                                        data_e, sim_energies[name][0], sigma, 10*u.kpc,10*u.ms))\n",
    "            probs_nh[name].append(compute_log_integral(data_hits[mod_name][0],sims[name][1], \n",
    "                                                        data_e, sim_energies[name][1], sigma, 10*u.kpc,10*u.ms))\n",
    "\n",
    "            probs_ih[name].append(compute_log_integral(data_hits[mod_name][1],sims[name][0], \n",
    "                                                        data_e, sim_energies[name][0], sigma, 10*u.kpc,10*u.ms))\n",
    "            probs_ih[name].append(compute_log_integral(data_hits[mod_name][1],sims[name][1], \n",
    "                                                        data_e, sim_energies[name][1], sigma, 10*u.kpc,10*u.ms))\n",
    "        models_nh[mod_name]=probs_nh\n",
    "        models_ih[mod_name]=probs_ih\n",
    "        \n",
    "    print(models_nh,models_ih)\n",
    "    np.savez('all_log_p_d_nh_sig={}'.format(sigma),models_nh)\n",
    "    np.savez('all_log_p_d_ih_sig={}'.format(sigma),models_ih)\n"
   ]
  },
  {
   "cell_type": "code",
   "execution_count": 295,
   "id": "deb28479",
   "metadata": {},
   "outputs": [],
   "source": [
    "def logs_to_ratios(log_prob_nh, log_prob_ih, priors, hierarchy):\n",
    "    #log_prob_nh: length 5 array of log_p_d_nh for each model for a given dataset\n",
    "    log_ratio=[]\n",
    "    for i,prior in enumerate(priors):   \n",
    "        p_nh=[]\n",
    "        p_ih=[]\n",
    "        for k,pro in enumerate(log_prob_nh):\n",
    "            log_p_d_nh=log_prob_nh[k]\n",
    "            log_p_d_ih=log_prob_ih[k]\n",
    "                \n",
    "            p_nh.append(log_p_d_nh-logsumexp([log_p_d_nh,log_p_d_ih])+np.log(prior[k]))\n",
    "            p_ih.append(log_p_d_ih-logsumexp([log_p_d_nh,log_p_d_ih])+np.log(prior[k]))\n",
    "\n",
    "        prob_nh=logsumexp(p_nh)\n",
    "        prob_ih=logsumexp(p_ih)\n",
    "            \n",
    "        if(hierarchy==MassHierarchy.NORMAL):\n",
    "            log_ratio.append(prob_nh-prob_ih)\n",
    "        else:\n",
    "            log_ratio.append(prob_ih-prob_nh)\n",
    "            \n",
    "    return log_ratio"
   ]
  },
  {
   "cell_type": "code",
   "execution_count": 322,
   "id": "6741a96d",
   "metadata": {},
   "outputs": [
    {
     "data": {
      "text/plain": [
       "{'sukh_sfho': {'sukh_sfho': [-1461.0321581237, -1777.7179045115192],\n",
       "  'sukh_ls220': [-1578.8481201338739, -1742.2429475061842],\n",
       "  'forn': [-2051.211179917403, -2018.468903661873],\n",
       "  'zha': [-3009.7949258209005, -2554.1626133170516],\n",
       "  'tamb': [-1915.3829940163293, -1851.0263970379258]},\n",
       " 'sukh_ls220': {'sukh_sfho': [-1609.01500486894, -2321.52048595306],\n",
       "  'sukh_ls220': [-1422.6664998731799, -1996.6146403805506],\n",
       "  'forn': [-2490.0052598837055, -2591.1178036089514],\n",
       "  'zha': [-3546.479864727363, -3432.3873624209796],\n",
       "  'tamb': [-2233.338098326789, -2243.9087021313912]},\n",
       " 'forn': {'sukh_sfho': [-3734.8463284600907, -5638.799889712193],\n",
       "  'sukh_ls220': [-4147.817146764879, -6395.180165042323],\n",
       "  'forn': [-1501.5000794830055, -2433.948705858373],\n",
       "  'zha': [-2871.767204487481, -6644.225569928232],\n",
       "  'tamb': [-2667.9097089388642, -3355.8057758823525]},\n",
       " 'zha': {'sukh_sfho': [-5897.466627015275, -8262.779530473694],\n",
       "  'sukh_ls220': [-5874.955406134873, -8991.630895099333],\n",
       "  'forn': [-2758.5011618174053, -4174.236069956832],\n",
       "  'zha': [-1506.6480844165094, -8750.563904015635],\n",
       "  'tamb': [-4817.037409127219, -5928.730134295465]},\n",
       " 'tamb': {'sukh_sfho': [-2143.8650374107856, -3440.4664851205566],\n",
       "  'sukh_ls220': [-2275.51217900036, -3472.474274206544],\n",
       "  'forn': [-2022.3496895638743, -2644.9827894237537],\n",
       "  'zha': [-3636.223642401232, -4398.373639362074],\n",
       "  'tamb': [-1666.9231388832757, -2215.1656887011445]}}"
      ]
     },
     "execution_count": 322,
     "metadata": {},
     "output_type": "execute_result"
    }
   ],
   "source": [
    "models_nh"
   ]
  },
  {
   "cell_type": "code",
   "execution_count": 320,
   "id": "0a3050c1",
   "metadata": {},
   "outputs": [
    {
     "data": {
      "text/plain": [
       "array([-1667.54662199, -1780.14342102, -1596.35610551, -1685.96899022,\n",
       "       -1812.36666691, -1725.48937152, -1840.16917564, -1742.61410095,\n",
       "       -1804.59250591, -1770.91733073, -1718.80981256, -1803.58361426,\n",
       "       -1826.11318885, -1687.81698373, -1739.73002024, -1729.42097517,\n",
       "       -1679.75438903, -1678.45025332, -1772.22800236, -1745.22262982,\n",
       "       -1814.6534689 , -1665.52556283, -1801.28419332, -1781.32360054,\n",
       "       -1749.01088418])"
      ]
     },
     "execution_count": 320,
     "metadata": {},
     "output_type": "execute_result"
    }
   ],
   "source": [
    "forn_for_sfho_log_pd_nh"
   ]
  },
  {
   "cell_type": "code",
   "execution_count": 321,
   "id": "725fb25d",
   "metadata": {},
   "outputs": [
    {
     "data": {
      "text/plain": [
       "array([-1254.57331647, -1298.59274409, -1162.78131847, -1278.16945591,\n",
       "       -1319.47571045, -1275.19151451, -1320.38396821, -1260.91403987,\n",
       "       -1344.98736041, -1255.66422225, -1269.50161588, -1326.64512401,\n",
       "       -1312.85152201, -1269.35162196, -1301.34852909, -1237.65404   ,\n",
       "       -1266.70671893, -1238.52595806, -1254.30680717, -1227.84042442,\n",
       "       -1352.3942182 , -1239.53168065, -1307.53060691, -1307.50247777,\n",
       "       -1263.87144181])"
      ]
     },
     "execution_count": 321,
     "metadata": {},
     "output_type": "execute_result"
    }
   ],
   "source": [
    "forn_for_sfho_log_pd_ih"
   ]
  },
  {
   "cell_type": "code",
   "execution_count": 317,
   "id": "c9f32f43",
   "metadata": {},
   "outputs": [],
   "source": [
    "prior_list=np.linspace(.2,.9,8)\n",
    "sigma=.5\n",
    "\n",
    "models_nh=np.load('all_log_p_d_nh_sig={}.npz'.format(sigma),allow_pickle=True)['arr_0'].item()\n",
    "models_ih=np.load('all_log_p_d_ih_sig={}.npz'.format(sigma),allow_pickle=True)['arr_0'].item()\n",
    "\n",
    "forn_for_sfho_log_pd_nh=np.load('forn_for_sfho_log_pd_nh_sig_{}.npz'.format(sigma),allow_pickle=True)['arr_0']\n",
    "forn_for_sfho_log_pd_ih=np.load('forn_for_sfho_log_pd_ih_sig_{}.npz'.format(sigma),allow_pickle=True)['arr_0']\n",
    "\n",
    "tamb_for_sfho_log_pd_nh=np.load('tamb_for_sfho_log_pd_nh_sig_{}.npz'.format(sigma),allow_pickle=True)['arr_0']\n",
    "tamb_for_sfho_log_pd_ih=np.load('tamb_for_sfho_log_pd_ih_sig_{}.npz'.format(sigma),allow_pickle=True)['arr_0']\n",
    "\n",
    "forn_for_ls220_log_pd_nh=np.load('forn_for_ls220_log_pd_nh_sig_{}.npz'.format(sigma),allow_pickle=True)['arr_0']\n",
    "forn_for_ls220_log_pd_ih=np.load('forn_for_ls220_log_pd_ih_sig_{}.npz'.format(sigma),allow_pickle=True)['arr_0']\n",
    "\n",
    "tamb_for_ls220_log_pd_nh=np.load('tamb_for_ls220_log_pd_nh_sig_{}.npz'.format(sigma),allow_pickle=True)['arr_0']\n",
    "tamb_for_ls220_log_pd_ih=np.load('tamb_for_ls220_log_pd_ih_sig_{}.npz'.format(sigma),allow_pickle=True)['arr_0']\n",
    "\n",
    "zha_for_ls220_log_pd_nh=np.load('zha_for_ls220_log_pd_nh_sig_{}.npz'.format(sigma),allow_pickle=True)['arr_0']\n",
    "zha_for_ls220_log_pd_ih=np.load('zha_for_ls220_log_pd_ih_sig_{}.npz'.format(sigma),allow_pickle=True)['arr_0']\n",
    "\n",
    "#normal hierarchy\n",
    "all_ratios_nh={\n",
    "            'sukh_sfho': [],\n",
    "            'sukh_ls220': [],\n",
    "            'forn': [],\n",
    "            'zha': [],\n",
    "            'tamb': []\n",
    "    }\n",
    "for k in range(25):\n",
    "    for i,mod_name in enumerate(ratios.keys()):\n",
    "        all_priors=[]\n",
    "        for j,prior in enumerate(prior_list):\n",
    "            priors=[(1-prior)/4,(1-prior)/4,(1-prior)/4,(1-prior)/4,(1-prior)/4]\n",
    "            priors[i]=prior\n",
    "            all_priors.append(priors)\n",
    "            log_prob_nh=[]\n",
    "            log_prob_ih=[]\n",
    "        for l,name in enumerate(models_nh[mod_name].keys()):\n",
    "            log_p_d_nh=models_nh[mod_name][name][0]\n",
    "            log_p_d_ih=models_nh[mod_name][name][1]\n",
    "            if(mod_name=='sukh_sfho' and name=='forn'):\n",
    "                log_p_d_nh=forn_for_sfho_log_pd_nh[k]\n",
    "                log_p_d_ih=forn_for_sfho_log_pd_ih[k]\n",
    "            if(mod_name=='sukh_sfho' and name=='tamb'):\n",
    "                log_p_d_nh=tamb_for_sfho_log_pd_nh[k]\n",
    "                log_p_d_ih=tamb_for_sfho_log_pd_ih[k]\n",
    "                    \n",
    "            if(mod_name=='sukh_ls220' and name=='forn'):\n",
    "                log_p_d_nh=forn_for_ls220_log_pd_nh[k]\n",
    "                log_p_d_ih=forn_for_ls220_log_pd_ih[k]\n",
    "                    \n",
    "            if(mod_name=='sukh_ls220' and name=='tamb'):\n",
    "                log_p_d_nh=tamb_for_ls220_log_pd_nh[k]\n",
    "                log_p_d_ih=tamb_for_ls220_log_pd_ih[k]\n",
    "                    \n",
    "            if(mod_name=='sukh_ls220' and name=='zha'):\n",
    "                log_p_d_nh=zha_for_ls220_log_pd_nh[k]\n",
    "                log_p_d_ih=zha_for_ls220_log_pd_ih[k]\n",
    "                    \n",
    "            log_prob_nh.append(log_p_d_nh)\n",
    "            log_prob_ih.append(log_p_d_ih)    \n",
    "        ratios_nh=logs_to_ratios(log_prob_nh,log_prob_ih,all_priors,hierarchy=MassHierarchy.NORMAL)\n",
    "        all_ratios_nh[mod_name].append(ratios_nh)\n",
    "        \n",
    "#inverted hierarchy\n",
    "sfho_for_forn_log_pd_nh=np.load('sfho_for_forn_log_pd_nh_sig_{}.npz'.format(sigma),allow_pickle=True)['arr_0']\n",
    "sfho_for_forn_log_pd_ih=np.load('sfho_for_forn_log_pd_ih_sig_{}.npz'.format(sigma),allow_pickle=True)['arr_0']\n",
    "\n",
    "ls220_for_tamb_log_pd_nh=np.load('ls220_for_tamb_log_pd_nh_sig_{}.npz'.format(sigma),allow_pickle=True)['arr_0']\n",
    "ls220_for_tamb_log_pd_ih=np.load('ls220_for_tamb_log_pd_ih_sig_{}.npz'.format(sigma),allow_pickle=True)['arr_0']\n",
    "\n",
    "all_ratios_ih={\n",
    "            'sukh_sfho': [],\n",
    "            'sukh_ls220': [],\n",
    "            'forn': [],\n",
    "            'zha': [],\n",
    "            'tamb': []\n",
    "}\n",
    "\n",
    "for k in range(25):\n",
    "    for i,mod_name in enumerate(ratios.keys()):\n",
    "        all_priors=[]\n",
    "        for j,prior in enumerate(prior_list):\n",
    "            priors=[(1-prior)/4,(1-prior)/4,(1-prior)/4,(1-prior)/4,(1-prior)/4]\n",
    "            priors[i]=prior\n",
    "            all_priors.append(priors)\n",
    "            log_prob_nh=[]\n",
    "            log_prob_ih=[]\n",
    "        for l,name in enumerate(models_ih[mod_name].keys()):\n",
    "            log_p_d_nh=models_ih[mod_name][name][0]\n",
    "            log_p_d_ih=models_ih[mod_name][name][1]\n",
    "            if(mod_name=='forn' and name=='sukh_sfho'):\n",
    "                log_p_d_nh=sfho_for_forn_log_pd_nh[k]\n",
    "                log_p_d_ih=sfho_for_forn_log_pd_ih[k]\n",
    "                \n",
    "            if(mod_name=='tamb' and name=='sukh_ls220'):\n",
    "                log_p_d_nh=ls220_for_tamb_log_pd_nh[k]\n",
    "                log_p_d_ih=ls220_for_tamb_log_pd_ih[k]\n",
    "\n",
    "                    \n",
    "            log_prob_nh.append(log_p_d_nh)\n",
    "            log_prob_ih.append(log_p_d_ih)\n",
    "                    \n",
    "        ratios_ih=logs_to_ratios(log_prob_nh,log_prob_ih,all_priors,hierarchy=MassHierarchy.INVERTED)\n",
    "        all_ratios_ih[mod_name].append(ratios_ih)\n",
    "        \n",
    "        "
   ]
  },
  {
   "cell_type": "code",
   "execution_count": 325,
   "id": "e216665b",
   "metadata": {},
   "outputs": [
    {
     "data": {
      "text/plain": [
       "{'sukh_sfho': [[-0.4054651081081645,\n",
       "   -0.10008345855698264,\n",
       "   0.2006706954621511,\n",
       "   0.5108256237659905,\n",
       "   0.8472978603872033,\n",
       "   1.2367626271489263,\n",
       "   1.7346010553881066,\n",
       "   2.512305623976115],\n",
       "  [-0.4054651081081645,\n",
       "   -0.10008345855698264,\n",
       "   0.2006706954621511,\n",
       "   0.5108256237659905,\n",
       "   0.8472978603872033,\n",
       "   1.2367626271489263,\n",
       "   1.7346010553881066,\n",
       "   2.512305623976115],\n",
       "  [-0.4054651081081645,\n",
       "   -0.10008345855698264,\n",
       "   0.2006706954621511,\n",
       "   0.5108256237659905,\n",
       "   0.8472978603872033,\n",
       "   1.2367626271489263,\n",
       "   1.7346010553881066,\n",
       "   2.512305623976115],\n",
       "  [-0.4054651081081645,\n",
       "   -0.10008345855698264,\n",
       "   0.2006706954621511,\n",
       "   0.5108256237659905,\n",
       "   0.8472978603872033,\n",
       "   1.2367626271489263,\n",
       "   1.7346010553881066,\n",
       "   2.512305623976115],\n",
       "  [-0.4054651081081645,\n",
       "   -0.10008345855698264,\n",
       "   0.2006706954621511,\n",
       "   0.5108256237659905,\n",
       "   0.8472978603872033,\n",
       "   1.2367626271489263,\n",
       "   1.7346010553881066,\n",
       "   2.512305623976115],\n",
       "  [-0.4054651081081645,\n",
       "   -0.10008345855698264,\n",
       "   0.2006706954621511,\n",
       "   0.5108256237659905,\n",
       "   0.8472978603872033,\n",
       "   1.2367626271489263,\n",
       "   1.7346010553881066,\n",
       "   2.512305623976115],\n",
       "  [-0.4054651081081645,\n",
       "   -0.10008345855698264,\n",
       "   0.2006706954621511,\n",
       "   0.5108256237659905,\n",
       "   0.8472978603872033,\n",
       "   1.2367626271489263,\n",
       "   1.7346010553881066,\n",
       "   2.512305623976115],\n",
       "  [-0.4054651081081645,\n",
       "   -0.10008345855698264,\n",
       "   0.2006706954621511,\n",
       "   0.5108256237659905,\n",
       "   0.8472978603872033,\n",
       "   1.2367626271489263,\n",
       "   1.7346010553881066,\n",
       "   2.512305623976115],\n",
       "  [-0.4054651081081645,\n",
       "   -0.10008345855698264,\n",
       "   0.2006706954621511,\n",
       "   0.5108256237659905,\n",
       "   0.8472978603872033,\n",
       "   1.2367626271489263,\n",
       "   1.7346010553881066,\n",
       "   2.512305623976115],\n",
       "  [-0.4054651081081645,\n",
       "   -0.10008345855698264,\n",
       "   0.2006706954621511,\n",
       "   0.5108256237659905,\n",
       "   0.8472978603872033,\n",
       "   1.2367626271489263,\n",
       "   1.7346010553881066,\n",
       "   2.512305623976115],\n",
       "  [-0.4054651081081645,\n",
       "   -0.10008345855698264,\n",
       "   0.2006706954621511,\n",
       "   0.5108256237659905,\n",
       "   0.8472978603872033,\n",
       "   1.2367626271489263,\n",
       "   1.7346010553881066,\n",
       "   2.512305623976115],\n",
       "  [-0.4054651081081645,\n",
       "   -0.10008345855698264,\n",
       "   0.2006706954621511,\n",
       "   0.5108256237659905,\n",
       "   0.8472978603872033,\n",
       "   1.2367626271489263,\n",
       "   1.7346010553881066,\n",
       "   2.512305623976115],\n",
       "  [-0.4054651081081645,\n",
       "   -0.10008345855698264,\n",
       "   0.2006706954621511,\n",
       "   0.5108256237659905,\n",
       "   0.8472978603872033,\n",
       "   1.2367626271489263,\n",
       "   1.7346010553881066,\n",
       "   2.512305623976115],\n",
       "  [-0.4054651081081645,\n",
       "   -0.10008345855698264,\n",
       "   0.2006706954621511,\n",
       "   0.5108256237659905,\n",
       "   0.8472978603872033,\n",
       "   1.2367626271489263,\n",
       "   1.7346010553881066,\n",
       "   2.512305623976115],\n",
       "  [-0.4054651081081645,\n",
       "   -0.10008345855698264,\n",
       "   0.2006706954621511,\n",
       "   0.5108256237659905,\n",
       "   0.8472978603872033,\n",
       "   1.2367626271489263,\n",
       "   1.7346010553881066,\n",
       "   2.512305623976115],\n",
       "  [-0.4054651081081645,\n",
       "   -0.10008345855698264,\n",
       "   0.2006706954621511,\n",
       "   0.5108256237659905,\n",
       "   0.8472978603872033,\n",
       "   1.2367626271489263,\n",
       "   1.7346010553881066,\n",
       "   2.512305623976115],\n",
       "  [-0.4054651081081645,\n",
       "   -0.10008345855698264,\n",
       "   0.2006706954621511,\n",
       "   0.5108256237659905,\n",
       "   0.8472978603872033,\n",
       "   1.2367626271489263,\n",
       "   1.7346010553881066,\n",
       "   2.512305623976115],\n",
       "  [-0.4054651081081645,\n",
       "   -0.10008345855698264,\n",
       "   0.2006706954621511,\n",
       "   0.5108256237659905,\n",
       "   0.8472978603872033,\n",
       "   1.2367626271489263,\n",
       "   1.7346010553881066,\n",
       "   2.512305623976115],\n",
       "  [-0.4054651081081645,\n",
       "   -0.10008345855698264,\n",
       "   0.2006706954621511,\n",
       "   0.5108256237659905,\n",
       "   0.8472978603872033,\n",
       "   1.2367626271489263,\n",
       "   1.7346010553881066,\n",
       "   2.512305623976115],\n",
       "  [-0.4054651081081645,\n",
       "   -0.10008345855698264,\n",
       "   0.2006706954621511,\n",
       "   0.5108256237659905,\n",
       "   0.8472978603872033,\n",
       "   1.2367626271489263,\n",
       "   1.7346010553881066,\n",
       "   2.512305623976115],\n",
       "  [-0.4054651081081645,\n",
       "   -0.10008345855698264,\n",
       "   0.2006706954621511,\n",
       "   0.5108256237659905,\n",
       "   0.8472978603872033,\n",
       "   1.2367626271489263,\n",
       "   1.7346010553881066,\n",
       "   2.512305623976115],\n",
       "  [-0.4054651081081645,\n",
       "   -0.10008345855698264,\n",
       "   0.2006706954621511,\n",
       "   0.5108256237659905,\n",
       "   0.8472978603872033,\n",
       "   1.2367626271489263,\n",
       "   1.7346010553881066,\n",
       "   2.512305623976115],\n",
       "  [-0.4054651081081645,\n",
       "   -0.10008345855698264,\n",
       "   0.2006706954621511,\n",
       "   0.5108256237659905,\n",
       "   0.8472978603872033,\n",
       "   1.2367626271489263,\n",
       "   1.7346010553881066,\n",
       "   2.512305623976115],\n",
       "  [-0.4054651081081645,\n",
       "   -0.10008345855698264,\n",
       "   0.2006706954621511,\n",
       "   0.5108256237659905,\n",
       "   0.8472978603872033,\n",
       "   1.2367626271489263,\n",
       "   1.7346010553881066,\n",
       "   2.512305623976115],\n",
       "  [-0.4054651081081645,\n",
       "   -0.10008345855698264,\n",
       "   0.2006706954621511,\n",
       "   0.5108256237659905,\n",
       "   0.8472978603872033,\n",
       "   1.2367626271489263,\n",
       "   1.7346010553881066,\n",
       "   2.512305623976115]],\n",
       " 'sukh_ls220': [[-0.4054651081081645,\n",
       "   -0.10008345855698264,\n",
       "   0.2006706954621511,\n",
       "   0.5108256237659905,\n",
       "   0.8472978603872033,\n",
       "   1.2367626271489263,\n",
       "   1.7346010553881066,\n",
       "   2.512305623976115],\n",
       "  [-0.4054651081081645,\n",
       "   -0.10008345855698264,\n",
       "   0.2006706954621511,\n",
       "   0.5108256237659905,\n",
       "   0.8472978603872033,\n",
       "   1.2367626271489263,\n",
       "   1.7346010553881066,\n",
       "   2.512305623976115],\n",
       "  [-0.4054651081081645,\n",
       "   -0.10008345855698264,\n",
       "   0.2006706954621511,\n",
       "   0.5108256237659905,\n",
       "   0.8472978603872033,\n",
       "   1.2367626271489263,\n",
       "   1.7346010553881066,\n",
       "   2.512305623976115],\n",
       "  [-0.4054651081081645,\n",
       "   -0.10008345855698264,\n",
       "   0.2006706954621511,\n",
       "   0.5108256237659905,\n",
       "   0.8472978603872033,\n",
       "   1.2367626271489263,\n",
       "   1.7346010553881066,\n",
       "   2.512305623976115],\n",
       "  [-0.4054651081081645,\n",
       "   -0.10008345855698264,\n",
       "   0.2006706954621511,\n",
       "   0.5108256237659905,\n",
       "   0.8472978603872033,\n",
       "   1.2367626271489263,\n",
       "   1.7346010553881066,\n",
       "   2.512305623976115],\n",
       "  [-0.4054651081081645,\n",
       "   -0.10008345855698264,\n",
       "   0.2006706954621511,\n",
       "   0.5108256237659905,\n",
       "   0.8472978603872033,\n",
       "   1.2367626271489263,\n",
       "   1.7346010553881066,\n",
       "   2.512305623976115],\n",
       "  [-0.4054651081081645,\n",
       "   -0.10008345855698264,\n",
       "   0.2006706954621511,\n",
       "   0.5108256237659905,\n",
       "   0.8472978603872033,\n",
       "   1.2367626271489263,\n",
       "   1.7346010553881066,\n",
       "   2.512305623976115],\n",
       "  [-0.4054651081081645,\n",
       "   -0.10008345855698264,\n",
       "   0.2006706954621511,\n",
       "   0.5108256237659905,\n",
       "   0.8472978603872033,\n",
       "   1.2367626271489263,\n",
       "   1.7346010553881066,\n",
       "   2.512305623976115],\n",
       "  [-0.4054651081081645,\n",
       "   -0.10008345855698264,\n",
       "   0.2006706954621511,\n",
       "   0.5108256237659905,\n",
       "   0.8472978603872033,\n",
       "   1.2367626271489263,\n",
       "   1.7346010553881066,\n",
       "   2.512305623976115],\n",
       "  [-0.4054651081081645,\n",
       "   -0.10008345855698264,\n",
       "   0.2006706954621511,\n",
       "   0.5108256237659905,\n",
       "   0.8472978603872033,\n",
       "   1.2367626271489263,\n",
       "   1.7346010553881066,\n",
       "   2.512305623976115],\n",
       "  [-0.4054651081081645,\n",
       "   -0.10008345855698264,\n",
       "   0.2006706954621511,\n",
       "   0.5108256237659905,\n",
       "   0.8472978603872033,\n",
       "   1.2367626271489263,\n",
       "   1.7346010553881066,\n",
       "   2.512305623976115],\n",
       "  [-0.4054651081081645,\n",
       "   -0.10008345855698264,\n",
       "   0.2006706954621511,\n",
       "   0.5108256237659905,\n",
       "   0.8472978603872033,\n",
       "   1.2367626271489263,\n",
       "   1.7346010553881066,\n",
       "   2.512305623976115],\n",
       "  [-0.4054651081081645,\n",
       "   -0.10008345855698264,\n",
       "   0.2006706954621511,\n",
       "   0.5108256237659905,\n",
       "   0.8472978603872033,\n",
       "   1.2367626271489263,\n",
       "   1.7346010553881066,\n",
       "   2.512305623976115],\n",
       "  [-0.4054651081081645,\n",
       "   -0.10008345855698264,\n",
       "   0.2006706954621511,\n",
       "   0.5108256237659905,\n",
       "   0.8472978603872033,\n",
       "   1.2367626271489263,\n",
       "   1.7346010553881066,\n",
       "   2.512305623976115],\n",
       "  [-0.4054651081081645,\n",
       "   -0.10008345855698264,\n",
       "   0.2006706954621511,\n",
       "   0.5108256237659905,\n",
       "   0.8472978603872033,\n",
       "   1.2367626271489263,\n",
       "   1.7346010553881066,\n",
       "   2.512305623976115],\n",
       "  [-0.4054651081081645,\n",
       "   -0.10008345855698264,\n",
       "   0.2006706954621511,\n",
       "   0.5108256237659905,\n",
       "   0.8472978603872033,\n",
       "   1.2367626271489263,\n",
       "   1.7346010553881066,\n",
       "   2.512305623976115],\n",
       "  [-0.4054651081081645,\n",
       "   -0.10008345855698264,\n",
       "   0.2006706954621511,\n",
       "   0.5108256237659905,\n",
       "   0.8472978603872033,\n",
       "   1.2367626271489263,\n",
       "   1.7346010553881066,\n",
       "   2.512305623976115],\n",
       "  [-0.4054651081081645,\n",
       "   -0.10008345855698264,\n",
       "   0.2006706954621511,\n",
       "   0.5108256237659905,\n",
       "   0.8472978603872033,\n",
       "   1.2367626271489263,\n",
       "   1.7346010553881066,\n",
       "   2.512305623976115],\n",
       "  [-0.4054651081081645,\n",
       "   -0.10008345855698264,\n",
       "   0.2006706954621511,\n",
       "   0.5108256237659905,\n",
       "   0.8472978603872033,\n",
       "   1.2367626271489263,\n",
       "   1.7346010553881066,\n",
       "   2.512305623976115],\n",
       "  [-0.4054651081081645,\n",
       "   -0.10008345855698264,\n",
       "   0.2006706954621511,\n",
       "   0.5108256237659905,\n",
       "   0.8472978603872033,\n",
       "   1.2367626271489263,\n",
       "   1.7346010553881066,\n",
       "   2.512305623976115],\n",
       "  [-0.4054651081081645,\n",
       "   -0.10008345855698264,\n",
       "   0.2006706954621511,\n",
       "   0.5108256237659905,\n",
       "   0.8472978603872033,\n",
       "   1.2367626271489263,\n",
       "   1.7346010553881066,\n",
       "   2.512305623976115],\n",
       "  [-0.4054651081081645,\n",
       "   -0.10008345855698264,\n",
       "   0.2006706954621511,\n",
       "   0.5108256237659905,\n",
       "   0.8472978603872033,\n",
       "   1.2367626271489263,\n",
       "   1.7346010553881066,\n",
       "   2.512305623976115],\n",
       "  [-0.4054651081081645,\n",
       "   -0.10008345855698264,\n",
       "   0.2006706954621511,\n",
       "   0.5108256237659905,\n",
       "   0.8472978603872033,\n",
       "   1.2367626271489263,\n",
       "   1.7346010553881066,\n",
       "   2.512305623976115],\n",
       "  [-0.4054651081081645,\n",
       "   -0.10008345855698264,\n",
       "   0.2006706954621511,\n",
       "   0.5108256237659905,\n",
       "   0.8472978603872033,\n",
       "   1.2367626271489263,\n",
       "   1.7346010553881066,\n",
       "   2.512305623976115],\n",
       "  [-0.4054651081081645,\n",
       "   -0.10008345855698264,\n",
       "   0.2006706954621511,\n",
       "   0.5108256237659905,\n",
       "   0.8472978603872033,\n",
       "   1.2367626271489263,\n",
       "   1.7346010553881066,\n",
       "   2.512305623976115]],\n",
       " 'forn': [[689.5055048559224,\n",
       "   689.6390362485469,\n",
       "   689.7931869283741,\n",
       "   689.975508485168,\n",
       "   690.1986520364823,\n",
       "   690.4863341089341,\n",
       "   690.8917992170423,\n",
       "   691.5849463976022],\n",
       "  [689.5055048559224,\n",
       "   689.6390362485469,\n",
       "   689.7931869283741,\n",
       "   689.975508485168,\n",
       "   690.1986520364823,\n",
       "   690.4863341089341,\n",
       "   690.8917992170423,\n",
       "   691.5849463976022],\n",
       "  [689.5055048559224,\n",
       "   689.6390362485469,\n",
       "   689.7931869283741,\n",
       "   689.975508485168,\n",
       "   690.1986520364823,\n",
       "   690.4863341089341,\n",
       "   690.8917992170423,\n",
       "   691.5849463976022],\n",
       "  [689.5055048559224,\n",
       "   689.6390362485469,\n",
       "   689.7931869283741,\n",
       "   689.975508485168,\n",
       "   690.1986520364823,\n",
       "   690.4863341089341,\n",
       "   690.8917992170423,\n",
       "   691.5849463976022],\n",
       "  [689.5055048559224,\n",
       "   689.6390362485469,\n",
       "   689.7931869283741,\n",
       "   689.975508485168,\n",
       "   690.1986520364823,\n",
       "   690.4863341089341,\n",
       "   690.8917992170423,\n",
       "   691.5849463976022],\n",
       "  [689.5055048559224,\n",
       "   689.6390362485469,\n",
       "   689.7931869283741,\n",
       "   689.975508485168,\n",
       "   690.1986520364823,\n",
       "   690.4863341089341,\n",
       "   690.8917992170423,\n",
       "   691.5849463976022],\n",
       "  [689.5055048559224,\n",
       "   689.6390362485469,\n",
       "   689.7931869283741,\n",
       "   689.975508485168,\n",
       "   690.1986520364823,\n",
       "   690.4863341089341,\n",
       "   690.8917992170423,\n",
       "   691.5849463976022],\n",
       "  [689.5055048559224,\n",
       "   689.6390362485469,\n",
       "   689.7931869283741,\n",
       "   689.975508485168,\n",
       "   690.1986520364823,\n",
       "   690.4863341089341,\n",
       "   690.8917992170423,\n",
       "   691.5849463976022],\n",
       "  [689.5055048559224,\n",
       "   689.6390362485469,\n",
       "   689.7931869283741,\n",
       "   689.975508485168,\n",
       "   690.1986520364823,\n",
       "   690.4863341089341,\n",
       "   690.8917992170423,\n",
       "   691.5849463976022],\n",
       "  [689.5055048559224,\n",
       "   689.6390362485469,\n",
       "   689.7931869283741,\n",
       "   689.975508485168,\n",
       "   690.1986520364823,\n",
       "   690.4863341089341,\n",
       "   690.8917992170423,\n",
       "   691.5849463976022],\n",
       "  [689.5055048559224,\n",
       "   689.6390362485469,\n",
       "   689.7931869283741,\n",
       "   689.975508485168,\n",
       "   690.1986520364823,\n",
       "   690.4863341089341,\n",
       "   690.8917992170423,\n",
       "   691.5849463976022],\n",
       "  [689.5055048559224,\n",
       "   689.6390362485469,\n",
       "   689.7931869283741,\n",
       "   689.975508485168,\n",
       "   690.1986520364823,\n",
       "   690.4863341089341,\n",
       "   690.8917992170423,\n",
       "   691.5849463976022],\n",
       "  [689.5055048559224,\n",
       "   689.6390362485469,\n",
       "   689.7931869283741,\n",
       "   689.975508485168,\n",
       "   690.1986520364823,\n",
       "   690.4863341089341,\n",
       "   690.8917992170423,\n",
       "   691.5849463976022],\n",
       "  [689.5055048559224,\n",
       "   689.6390362485469,\n",
       "   689.7931869283741,\n",
       "   689.975508485168,\n",
       "   690.1986520364823,\n",
       "   690.4863341089341,\n",
       "   690.8917992170423,\n",
       "   691.5849463976022],\n",
       "  [689.5055048559224,\n",
       "   689.6390362485469,\n",
       "   689.7931869283741,\n",
       "   689.975508485168,\n",
       "   690.1986520364823,\n",
       "   690.4863341089341,\n",
       "   690.8917992170423,\n",
       "   691.5849463976022],\n",
       "  [689.5055048559224,\n",
       "   689.6390362485469,\n",
       "   689.7931869283741,\n",
       "   689.975508485168,\n",
       "   690.1986520364823,\n",
       "   690.4863341089341,\n",
       "   690.8917992170423,\n",
       "   691.5849463976022],\n",
       "  [689.5055048559224,\n",
       "   689.6390362485469,\n",
       "   689.7931869283741,\n",
       "   689.975508485168,\n",
       "   690.1986520364823,\n",
       "   690.4863341089341,\n",
       "   690.8917992170423,\n",
       "   691.5849463976022],\n",
       "  [689.5055048559224,\n",
       "   689.6390362485469,\n",
       "   689.7931869283741,\n",
       "   689.975508485168,\n",
       "   690.1986520364823,\n",
       "   690.4863341089341,\n",
       "   690.8917992170423,\n",
       "   691.5849463976022],\n",
       "  [689.5055048559224,\n",
       "   689.6390362485469,\n",
       "   689.7931869283741,\n",
       "   689.975508485168,\n",
       "   690.1986520364823,\n",
       "   690.4863341089341,\n",
       "   690.8917992170423,\n",
       "   691.5849463976022],\n",
       "  [689.5055048559224,\n",
       "   689.6390362485469,\n",
       "   689.7931869283741,\n",
       "   689.975508485168,\n",
       "   690.1986520364823,\n",
       "   690.4863341089341,\n",
       "   690.8917992170423,\n",
       "   691.5849463976022],\n",
       "  [689.5055048559224,\n",
       "   689.6390362485469,\n",
       "   689.7931869283741,\n",
       "   689.975508485168,\n",
       "   690.1986520364823,\n",
       "   690.4863341089341,\n",
       "   690.8917992170423,\n",
       "   691.5849463976022],\n",
       "  [689.5055048559224,\n",
       "   689.6390362485469,\n",
       "   689.7931869283741,\n",
       "   689.975508485168,\n",
       "   690.1986520364823,\n",
       "   690.4863341089341,\n",
       "   690.8917992170423,\n",
       "   691.5849463976022],\n",
       "  [689.5055048559224,\n",
       "   689.6390362485469,\n",
       "   689.7931869283741,\n",
       "   689.975508485168,\n",
       "   690.1986520364823,\n",
       "   690.4863341089341,\n",
       "   690.8917992170423,\n",
       "   691.5849463976022],\n",
       "  [689.5055048559224,\n",
       "   689.6390362485469,\n",
       "   689.7931869283741,\n",
       "   689.975508485168,\n",
       "   690.1986520364823,\n",
       "   690.4863341089341,\n",
       "   690.8917992170423,\n",
       "   691.5849463976022],\n",
       "  [689.5055048559224,\n",
       "   689.6390362485469,\n",
       "   689.7931869283741,\n",
       "   689.975508485168,\n",
       "   690.1986520364823,\n",
       "   690.4863341089341,\n",
       "   690.8917992170423,\n",
       "   691.5849463976022]],\n",
       " 'zha': [[1113.3021630806804,\n",
       "   1113.435694473305,\n",
       "   1113.5898451531323,\n",
       "   1113.7721667099263,\n",
       "   1113.9953102612405,\n",
       "   1114.2829923336922,\n",
       "   1114.6884574418004,\n",
       "   1115.3816046223603],\n",
       "  [1113.3021630806804,\n",
       "   1113.435694473305,\n",
       "   1113.5898451531323,\n",
       "   1113.7721667099263,\n",
       "   1113.9953102612405,\n",
       "   1114.2829923336922,\n",
       "   1114.6884574418004,\n",
       "   1115.3816046223603],\n",
       "  [1113.3021630806804,\n",
       "   1113.435694473305,\n",
       "   1113.5898451531323,\n",
       "   1113.7721667099263,\n",
       "   1113.9953102612405,\n",
       "   1114.2829923336922,\n",
       "   1114.6884574418004,\n",
       "   1115.3816046223603],\n",
       "  [1113.3021630806804,\n",
       "   1113.435694473305,\n",
       "   1113.5898451531323,\n",
       "   1113.7721667099263,\n",
       "   1113.9953102612405,\n",
       "   1114.2829923336922,\n",
       "   1114.6884574418004,\n",
       "   1115.3816046223603],\n",
       "  [1113.3021630806804,\n",
       "   1113.435694473305,\n",
       "   1113.5898451531323,\n",
       "   1113.7721667099263,\n",
       "   1113.9953102612405,\n",
       "   1114.2829923336922,\n",
       "   1114.6884574418004,\n",
       "   1115.3816046223603],\n",
       "  [1113.3021630806804,\n",
       "   1113.435694473305,\n",
       "   1113.5898451531323,\n",
       "   1113.7721667099263,\n",
       "   1113.9953102612405,\n",
       "   1114.2829923336922,\n",
       "   1114.6884574418004,\n",
       "   1115.3816046223603],\n",
       "  [1113.3021630806804,\n",
       "   1113.435694473305,\n",
       "   1113.5898451531323,\n",
       "   1113.7721667099263,\n",
       "   1113.9953102612405,\n",
       "   1114.2829923336922,\n",
       "   1114.6884574418004,\n",
       "   1115.3816046223603],\n",
       "  [1113.3021630806804,\n",
       "   1113.435694473305,\n",
       "   1113.5898451531323,\n",
       "   1113.7721667099263,\n",
       "   1113.9953102612405,\n",
       "   1114.2829923336922,\n",
       "   1114.6884574418004,\n",
       "   1115.3816046223603],\n",
       "  [1113.3021630806804,\n",
       "   1113.435694473305,\n",
       "   1113.5898451531323,\n",
       "   1113.7721667099263,\n",
       "   1113.9953102612405,\n",
       "   1114.2829923336922,\n",
       "   1114.6884574418004,\n",
       "   1115.3816046223603],\n",
       "  [1113.3021630806804,\n",
       "   1113.435694473305,\n",
       "   1113.5898451531323,\n",
       "   1113.7721667099263,\n",
       "   1113.9953102612405,\n",
       "   1114.2829923336922,\n",
       "   1114.6884574418004,\n",
       "   1115.3816046223603],\n",
       "  [1113.3021630806804,\n",
       "   1113.435694473305,\n",
       "   1113.5898451531323,\n",
       "   1113.7721667099263,\n",
       "   1113.9953102612405,\n",
       "   1114.2829923336922,\n",
       "   1114.6884574418004,\n",
       "   1115.3816046223603],\n",
       "  [1113.3021630806804,\n",
       "   1113.435694473305,\n",
       "   1113.5898451531323,\n",
       "   1113.7721667099263,\n",
       "   1113.9953102612405,\n",
       "   1114.2829923336922,\n",
       "   1114.6884574418004,\n",
       "   1115.3816046223603],\n",
       "  [1113.3021630806804,\n",
       "   1113.435694473305,\n",
       "   1113.5898451531323,\n",
       "   1113.7721667099263,\n",
       "   1113.9953102612405,\n",
       "   1114.2829923336922,\n",
       "   1114.6884574418004,\n",
       "   1115.3816046223603],\n",
       "  [1113.3021630806804,\n",
       "   1113.435694473305,\n",
       "   1113.5898451531323,\n",
       "   1113.7721667099263,\n",
       "   1113.9953102612405,\n",
       "   1114.2829923336922,\n",
       "   1114.6884574418004,\n",
       "   1115.3816046223603],\n",
       "  [1113.3021630806804,\n",
       "   1113.435694473305,\n",
       "   1113.5898451531323,\n",
       "   1113.7721667099263,\n",
       "   1113.9953102612405,\n",
       "   1114.2829923336922,\n",
       "   1114.6884574418004,\n",
       "   1115.3816046223603],\n",
       "  [1113.3021630806804,\n",
       "   1113.435694473305,\n",
       "   1113.5898451531323,\n",
       "   1113.7721667099263,\n",
       "   1113.9953102612405,\n",
       "   1114.2829923336922,\n",
       "   1114.6884574418004,\n",
       "   1115.3816046223603],\n",
       "  [1113.3021630806804,\n",
       "   1113.435694473305,\n",
       "   1113.5898451531323,\n",
       "   1113.7721667099263,\n",
       "   1113.9953102612405,\n",
       "   1114.2829923336922,\n",
       "   1114.6884574418004,\n",
       "   1115.3816046223603],\n",
       "  [1113.3021630806804,\n",
       "   1113.435694473305,\n",
       "   1113.5898451531323,\n",
       "   1113.7721667099263,\n",
       "   1113.9953102612405,\n",
       "   1114.2829923336922,\n",
       "   1114.6884574418004,\n",
       "   1115.3816046223603],\n",
       "  [1113.3021630806804,\n",
       "   1113.435694473305,\n",
       "   1113.5898451531323,\n",
       "   1113.7721667099263,\n",
       "   1113.9953102612405,\n",
       "   1114.2829923336922,\n",
       "   1114.6884574418004,\n",
       "   1115.3816046223603],\n",
       "  [1113.3021630806804,\n",
       "   1113.435694473305,\n",
       "   1113.5898451531323,\n",
       "   1113.7721667099263,\n",
       "   1113.9953102612405,\n",
       "   1114.2829923336922,\n",
       "   1114.6884574418004,\n",
       "   1115.3816046223603],\n",
       "  [1113.3021630806804,\n",
       "   1113.435694473305,\n",
       "   1113.5898451531323,\n",
       "   1113.7721667099263,\n",
       "   1113.9953102612405,\n",
       "   1114.2829923336922,\n",
       "   1114.6884574418004,\n",
       "   1115.3816046223603],\n",
       "  [1113.3021630806804,\n",
       "   1113.435694473305,\n",
       "   1113.5898451531323,\n",
       "   1113.7721667099263,\n",
       "   1113.9953102612405,\n",
       "   1114.2829923336922,\n",
       "   1114.6884574418004,\n",
       "   1115.3816046223603],\n",
       "  [1113.3021630806804,\n",
       "   1113.435694473305,\n",
       "   1113.5898451531323,\n",
       "   1113.7721667099263,\n",
       "   1113.9953102612405,\n",
       "   1114.2829923336922,\n",
       "   1114.6884574418004,\n",
       "   1115.3816046223603],\n",
       "  [1113.3021630806804,\n",
       "   1113.435694473305,\n",
       "   1113.5898451531323,\n",
       "   1113.7721667099263,\n",
       "   1113.9953102612405,\n",
       "   1114.2829923336922,\n",
       "   1114.6884574418004,\n",
       "   1115.3816046223603],\n",
       "  [1113.3021630806804,\n",
       "   1113.435694473305,\n",
       "   1113.5898451531323,\n",
       "   1113.7721667099263,\n",
       "   1113.9953102612405,\n",
       "   1114.2829923336922,\n",
       "   1114.6884574418004,\n",
       "   1115.3816046223603]],\n",
       " 'tamb': [[549.851987730303,\n",
       "   549.4465226221948,\n",
       "   549.158840549743,\n",
       "   548.9356969984287,\n",
       "   548.7533754416348,\n",
       "   548.5992247618076,\n",
       "   548.4656933691831,\n",
       "   548.3479103335267],\n",
       "  [549.851987730303,\n",
       "   549.4465226221948,\n",
       "   549.158840549743,\n",
       "   548.9356969984287,\n",
       "   548.7533754416348,\n",
       "   548.5992247618076,\n",
       "   548.4656933691831,\n",
       "   548.3479103335267],\n",
       "  [549.851987730303,\n",
       "   549.4465226221948,\n",
       "   549.158840549743,\n",
       "   548.9356969984287,\n",
       "   548.7533754416348,\n",
       "   548.5992247618076,\n",
       "   548.4656933691831,\n",
       "   548.3479103335267],\n",
       "  [549.851987730303,\n",
       "   549.4465226221948,\n",
       "   549.158840549743,\n",
       "   548.9356969984287,\n",
       "   548.7533754416348,\n",
       "   548.5992247618076,\n",
       "   548.4656933691831,\n",
       "   548.3479103335267],\n",
       "  [549.851987730303,\n",
       "   549.4465226221948,\n",
       "   549.158840549743,\n",
       "   548.9356969984287,\n",
       "   548.7533754416348,\n",
       "   548.5992247618076,\n",
       "   548.4656933691831,\n",
       "   548.3479103335267],\n",
       "  [549.851987730303,\n",
       "   549.4465226221948,\n",
       "   549.158840549743,\n",
       "   548.9356969984287,\n",
       "   548.7533754416348,\n",
       "   548.5992247618076,\n",
       "   548.4656933691831,\n",
       "   548.3479103335267],\n",
       "  [549.851987730303,\n",
       "   549.4465226221948,\n",
       "   549.158840549743,\n",
       "   548.9356969984287,\n",
       "   548.7533754416348,\n",
       "   548.5992247618076,\n",
       "   548.4656933691831,\n",
       "   548.3479103335267],\n",
       "  [549.851987730303,\n",
       "   549.4465226221948,\n",
       "   549.158840549743,\n",
       "   548.9356969984287,\n",
       "   548.7533754416348,\n",
       "   548.5992247618076,\n",
       "   548.4656933691831,\n",
       "   548.3479103335267],\n",
       "  [549.851987730303,\n",
       "   549.4465226221948,\n",
       "   549.158840549743,\n",
       "   548.9356969984287,\n",
       "   548.7533754416348,\n",
       "   548.5992247618076,\n",
       "   548.4656933691831,\n",
       "   548.3479103335267],\n",
       "  [549.851987730303,\n",
       "   549.4465226221948,\n",
       "   549.158840549743,\n",
       "   548.9356969984287,\n",
       "   548.7533754416348,\n",
       "   548.5992247618076,\n",
       "   548.4656933691831,\n",
       "   548.3479103335267],\n",
       "  [549.851987730303,\n",
       "   549.4465226221948,\n",
       "   549.158840549743,\n",
       "   548.9356969984287,\n",
       "   548.7533754416348,\n",
       "   548.5992247618076,\n",
       "   548.4656933691831,\n",
       "   548.3479103335267],\n",
       "  [549.851987730303,\n",
       "   549.4465226221948,\n",
       "   549.158840549743,\n",
       "   548.9356969984287,\n",
       "   548.7533754416348,\n",
       "   548.5992247618076,\n",
       "   548.4656933691831,\n",
       "   548.3479103335267],\n",
       "  [549.851987730303,\n",
       "   549.4465226221948,\n",
       "   549.158840549743,\n",
       "   548.9356969984287,\n",
       "   548.7533754416348,\n",
       "   548.5992247618076,\n",
       "   548.4656933691831,\n",
       "   548.3479103335267],\n",
       "  [549.851987730303,\n",
       "   549.4465226221948,\n",
       "   549.158840549743,\n",
       "   548.9356969984287,\n",
       "   548.7533754416348,\n",
       "   548.5992247618076,\n",
       "   548.4656933691831,\n",
       "   548.3479103335267],\n",
       "  [549.851987730303,\n",
       "   549.4465226221948,\n",
       "   549.158840549743,\n",
       "   548.9356969984287,\n",
       "   548.7533754416348,\n",
       "   548.5992247618076,\n",
       "   548.4656933691831,\n",
       "   548.3479103335267],\n",
       "  [549.851987730303,\n",
       "   549.4465226221948,\n",
       "   549.158840549743,\n",
       "   548.9356969984287,\n",
       "   548.7533754416348,\n",
       "   548.5992247618076,\n",
       "   548.4656933691831,\n",
       "   548.3479103335267],\n",
       "  [549.851987730303,\n",
       "   549.4465226221948,\n",
       "   549.158840549743,\n",
       "   548.9356969984287,\n",
       "   548.7533754416348,\n",
       "   548.5992247618076,\n",
       "   548.4656933691831,\n",
       "   548.3479103335267],\n",
       "  [549.851987730303,\n",
       "   549.4465226221948,\n",
       "   549.158840549743,\n",
       "   548.9356969984287,\n",
       "   548.7533754416348,\n",
       "   548.5992247618076,\n",
       "   548.4656933691831,\n",
       "   548.3479103335267],\n",
       "  [549.851987730303,\n",
       "   549.4465226221948,\n",
       "   549.158840549743,\n",
       "   548.9356969984287,\n",
       "   548.7533754416348,\n",
       "   548.5992247618076,\n",
       "   548.4656933691831,\n",
       "   548.3479103335267],\n",
       "  [549.851987730303,\n",
       "   549.4465226221948,\n",
       "   549.158840549743,\n",
       "   548.9356969984287,\n",
       "   548.7533754416348,\n",
       "   548.5992247618076,\n",
       "   548.4656933691831,\n",
       "   548.3479103335267],\n",
       "  [549.851987730303,\n",
       "   549.4465226221948,\n",
       "   549.158840549743,\n",
       "   548.9356969984287,\n",
       "   548.7533754416348,\n",
       "   548.5992247618076,\n",
       "   548.4656933691831,\n",
       "   548.3479103335267],\n",
       "  [549.851987730303,\n",
       "   549.4465226221948,\n",
       "   549.158840549743,\n",
       "   548.9356969984287,\n",
       "   548.7533754416348,\n",
       "   548.5992247618076,\n",
       "   548.4656933691831,\n",
       "   548.3479103335267],\n",
       "  [549.851987730303,\n",
       "   549.4465226221948,\n",
       "   549.158840549743,\n",
       "   548.9356969984287,\n",
       "   548.7533754416348,\n",
       "   548.5992247618076,\n",
       "   548.4656933691831,\n",
       "   548.3479103335267],\n",
       "  [549.851987730303,\n",
       "   549.4465226221948,\n",
       "   549.158840549743,\n",
       "   548.9356969984287,\n",
       "   548.7533754416348,\n",
       "   548.5992247618076,\n",
       "   548.4656933691831,\n",
       "   548.3479103335267],\n",
       "  [549.851987730303,\n",
       "   549.4465226221948,\n",
       "   549.158840549743,\n",
       "   548.9356969984287,\n",
       "   548.7533754416348,\n",
       "   548.5992247618076,\n",
       "   548.4656933691831,\n",
       "   548.3479103335267]]}"
      ]
     },
     "execution_count": 325,
     "metadata": {},
     "output_type": "execute_result"
    }
   ],
   "source": [
    "all_ratios_nh"
   ]
  },
  {
   "cell_type": "code",
   "execution_count": 214,
   "id": "84a9b21b",
   "metadata": {},
   "outputs": [
    {
     "name": "stderr",
     "output_type": "stream",
     "text": [
      "\r",
      "  0%|                                                                                            | 0/1 [00:00<?, ?it/s]"
     ]
    },
    {
     "name": "stdout",
     "output_type": "stream",
     "text": [
      "-1054.6815461961726\n",
      "-720.3714999568373\n",
      "-1406.4981951178193\n",
      "-864.5908116182702\n",
      "-1798.7857163900342\n",
      "-1239.7995262178915\n",
      "-2995.0049410552824\n",
      "-1263.189805602361\n",
      "-1699.375692294174\n"
     ]
    },
    {
     "name": "stderr",
     "output_type": "stream",
     "text": [
      "100%|███████████████████████████████████████████████████████████████████████████████████| 1/1 [06:42<00:00, 402.52s/it]\n"
     ]
    },
    {
     "name": "stdout",
     "output_type": "stream",
     "text": [
      "-1175.9947172784628\n",
      "[-336.04487890867614, -543.5719961920906, -560.9211565439178, -1733.9984710047015, -525.3341411520001] [-1.6094379124341003, -1.6094379124341003, -1.6094379124341003, -1.6094379124341003, -1.6094379124341003]\n",
      "[-335.639413800568, -543.7055275847151, -561.0546879365423, -1734.132002397326, -525.4676725446246] [-1.2039728043259361, -1.742969305058623, -1.742969305058623, -1.742969305058623, -1.742969305058623]\n",
      "[-335.3517317281162, -543.8596782645424, -561.2088386163696, -1734.2861530771534, -525.6218232244519] [-0.916290731874155, -1.8971199848858813, -1.8971199848858813, -1.8971199848858813, -1.8971199848858813]\n",
      "[-335.128588176802, -544.0419998213363, -561.3911601731635, -1734.4684746339474, -525.8041447812458] [-0.6931471805599453, -2.0794415416798357, -2.0794415416798357, -2.0794415416798357, -2.0794415416798357]\n",
      "[-334.94626662000803, -544.2651433726505, -561.6143037244777, -1734.6916181852616, -526.02728833256] [-0.5108256237659907, -2.3025850929940455, -2.3025850929940455, -2.3025850929940455, -2.3025850929940455]\n",
      "[-334.7921159401808, -544.5528254451024, -561.9019857969296, -1734.9793002577132, -526.3149704050119] [-0.35667494393873245, -2.5902671654458262, -2.5902671654458262, -2.5902671654458262, -2.5902671654458262]\n",
      "[-334.65858454755625, -544.9582905532105, -562.3074509050377, -1735.3847653658215, -526.72043551312] [-0.2231435513142097, -2.9957322735539913, -2.9957322735539913, -2.9957322735539913, -2.9957322735539913]\n",
      "[-334.5408015118999, -545.6514377337704, -563.0005980855976, -1736.0779125463814, -527.4135826936799] [-0.10536051565782628, -3.6888794541139367, -3.6888794541139367, -3.6888794541139367, -3.6888794541139367]\n"
     ]
    },
    {
     "name": "stderr",
     "output_type": "stream",
     "text": [
      "\r",
      "  0%|                                                                                            | 0/1 [00:00<?, ?it/s]"
     ]
    },
    {
     "name": "stdout",
     "output_type": "stream",
     "text": [
      "-721.8333590617746\n",
      "-1062.5138819597648\n",
      "-916.2735038663915\n",
      "-1057.4084669980246\n",
      "-1406.0467866828706\n",
      "-1357.3607567498993\n",
      "-2609.2468310340296\n",
      "-1930.1777379765058\n",
      "-1314.9854997303562\n"
     ]
    },
    {
     "name": "stderr",
     "output_type": "stream",
     "text": [
      "100%|███████████████████████████████████████████████████████████████████████████████████| 1/1 [06:28<00:00, 388.15s/it]\n"
     ]
    },
    {
     "name": "stdout",
     "output_type": "stream",
     "text": [
      "-1229.5693680689626\n",
      "[-1.6094379124341003, -1.6094379124341003, -50.398793688786625, -681.3779877482408, -87.25625897168409] [-342.22102094611154, -142.4698114481975, -1.6094379124341003, -1.6094379124341003, -1.6094379124341003]\n",
      "[-1.2039728043259361, -1.742969305058623, -50.532325081411145, -681.5115191408653, -87.38979036430861] [-341.8155558380034, -142.60334284082205, -1.742969305058623, -1.742969305058623, -1.742969305058623]\n",
      "[-0.916290731874155, -1.8971199848858813, -50.686475761238405, -681.6656698206925, -87.54394104413586] [-341.5278737655516, -142.7574935206493, -1.8971199848858813, -1.8971199848858813, -1.8971199848858813]\n",
      "[-0.6931471805599453, -2.0794415416798357, -50.86879731803236, -681.8479913774864, -87.72626260092983] [-341.3047302142374, -142.93981507744326, -2.0794415416798357, -2.0794415416798357, -2.0794415416798357]\n",
      "[-0.5108256237659907, -2.3025850929940455, -51.091940869346566, -682.0711349288007, -87.94940615224404] [-341.12240865744343, -143.16295862875745, -2.3025850929940455, -2.3025850929940455, -2.3025850929940455]\n",
      "[-0.35667494393873245, -2.5902671654458262, -51.379622941798345, -682.3588170012525, -88.23708822469581] [-340.9682579776162, -143.45064070120924, -2.5902671654458262, -2.5902671654458262, -2.5902671654458262]\n",
      "[-0.2231435513142097, -2.9957322735539913, -51.78508804990651, -682.7642821093607, -88.64255333280398] [-340.83472658499164, -143.8561058093174, -2.9957322735539913, -2.9957322735539913, -2.9957322735539913]\n",
      "[-0.10536051565782628, -3.6888794541139367, -52.47823523046646, -683.4574292899206, -89.33570051336392] [-340.71694354933527, -144.54925298987735, -3.6888794541139367, -3.6888794541139367, -3.6888794541139367]\n"
     ]
    },
    {
     "name": "stderr",
     "output_type": "stream",
     "text": [
      "\r",
      "  0%|                                                                                            | 0/1 [00:00<?, ?it/s]"
     ]
    },
    {
     "name": "stdout",
     "output_type": "stream",
     "text": [
      "-1113.9900631779392\n",
      "-933.3642893802936\n",
      "-1218.9818560325816\n",
      "-719.5811117185303\n",
      "-2352.1159453631344\n",
      "-1804.3750495862657\n",
      "-3572.247824833235\n",
      "-1679.5820819541186\n",
      "-1998.7708933576205\n"
     ]
    },
    {
     "name": "stderr",
     "output_type": "stream",
     "text": [
      "100%|███████████████████████████████████████████████████████████████████████████████████| 1/1 [06:33<00:00, 393.03s/it]\n"
     ]
    },
    {
     "name": "stdout",
     "output_type": "stream",
     "text": [
      "-1449.3305957912619\n",
      "[-182.47936472400687, -501.08093876219533, -549.5737880383514, -1894.6660860738066, -551.1477449973548] [-1.6094379124341003, -1.6094379124341003, -1.6094379124341003, -1.6094379124341003, -1.6094379124341003]\n",
      "[-182.61289611663142, -500.67547365408717, -549.7073194309759, -1894.799617466431, -551.2812763899793] [-1.742969305058623, -1.2039728043259361, -1.742969305058623, -1.742969305058623, -1.742969305058623]\n",
      "[-182.76704679645866, -500.3877915816354, -549.8614701108031, -1894.9537681462584, -551.4354270698066] [-1.8971199848858813, -0.916290731874155, -1.8971199848858813, -1.8971199848858813, -1.8971199848858813]\n",
      "[-182.94936835325262, -500.1646480303212, -550.043791667597, -1895.1360897030524, -551.6177486266005] [-2.0794415416798357, -0.6931471805599453, -2.0794415416798357, -2.0794415416798357, -2.0794415416798357]\n",
      "[-183.17251190456682, -499.9823264735272, -550.2669352189113, -1895.3592332543667, -551.8408921779147] [-2.3025850929940455, -0.5108256237659907, -2.3025850929940455, -2.3025850929940455, -2.3025850929940455]\n",
      "[-183.4601939770186, -499.8281757937, -550.5546172913631, -1895.6469153268183, -552.1285742503666] [-2.5902671654458262, -0.35667494393873245, -2.5902671654458262, -2.5902671654458262, -2.5902671654458262]\n",
      "[-183.86565908512677, -499.69464440107544, -550.9600823994713, -1896.0523804349266, -552.5340393584747] [-2.9957322735539913, -0.2231435513142097, -2.9957322735539913, -2.9957322735539913, -2.9957322735539913]\n",
      "[-184.5588062656867, -499.57686136541906, -551.6532295800312, -1896.7455276154865, -553.2271865390346] [-3.6888794541139367, -0.10536051565782628, -3.6888794541139367, -3.6888794541139367, -3.6888794541139367]\n"
     ]
    },
    {
     "name": "stderr",
     "output_type": "stream",
     "text": [
      "\r",
      "  0%|                                                                                            | 0/1 [00:00<?, ?it/s]"
     ]
    },
    {
     "name": "stdout",
     "output_type": "stream",
     "text": [
      "-876.2843597156484\n",
      "-1628.534935474296\n",
      "-719.7501177232429\n",
      "-1322.4619660468124\n",
      "-1748.892174420564\n",
      "-1919.1651265101186\n",
      "-2819.0691443345113\n",
      "-2751.4767780485204\n",
      "-1387.0234578731624\n"
     ]
    },
    {
     "name": "stderr",
     "output_type": "stream",
     "text": [
      "100%|███████████████████████████████████████████████████████████████████████████████████| 1/1 [10:30<00:00, 630.15s/it]\n"
     ]
    },
    {
     "name": "stdout",
     "output_type": "stream",
     "text": [
      "-1452.9348172497491\n",
      "[-1.6094379124341003, -1.6094379124341003, -1.6094379124341003, -69.80641854028302, -1.6094379124341003] [-753.5926603028568, -604.273696897279, -171.5275854489783, -1.6094379124341003, -67.28916140320446]\n",
      "[-1.742969305058623, -1.2039728043259361, -1.742969305058623, -69.93994993290754, -1.742969305058623] [-753.7261916954812, -603.8682317891709, -171.66111684160285, -1.742969305058623, -67.42269279582898]\n",
      "[-1.8971199848858813, -0.916290731874155, -1.8971199848858813, -70.09410061273479, -1.8971199848858813] [-753.8803423753085, -603.580549716719, -171.8152675214301, -1.8971199848858813, -67.57684347565623]\n",
      "[-2.0794415416798357, -0.6931471805599453, -2.0794415416798357, -70.27642216952876, -2.0794415416798357] [-754.0626639321024, -603.3574061654048, -171.99758907822405, -2.0794415416798357, -67.7591650324502]\n",
      "[-2.3025850929940455, -0.5108256237659907, -2.3025850929940455, -70.49956572084297, -2.3025850929940455] [-754.2858074834166, -603.1750846086109, -172.22073262953825, -2.3025850929940455, -67.98230858376441]\n",
      "[-2.5902671654458262, -0.35667494393873245, -2.5902671654458262, -70.78724779329474, -2.5902671654458262] [-754.5734895558685, -603.0209339287836, -172.50841470199003, -2.5902671654458262, -68.26999065621618]\n",
      "[-2.9957322735539913, -0.2231435513142097, -2.9957322735539913, -71.19271290140291, -2.9957322735539913] [-754.9789546639767, -602.8874025361591, -172.9138798100982, -2.9957322735539913, -68.67545576432435]\n",
      "[-3.6888794541139367, -0.10536051565782628, -3.6888794541139367, -71.88586008196285, -3.6888794541139367] [-755.6721018445365, -602.7696195005027, -173.60702699065814, -3.6888794541139367, -69.36860294488429]\n"
     ]
    },
    {
     "name": "stderr",
     "output_type": "stream",
     "text": [
      "\r",
      "  0%|                                                                                            | 0/1 [00:00<?, ?it/s]"
     ]
    },
    {
     "name": "stdout",
     "output_type": "stream",
     "text": [
      "-2153.9775950421313\n",
      "-2168.9810281817063\n",
      "-2903.9379560489187\n",
      "-3014.08225376416\n",
      "-1397.3282069731833\n",
      "-720.3831097615584\n",
      "-3082.6201746720144\n",
      "-2345.638273965941\n",
      "-2322.5429023163115\n"
     ]
    },
    {
     "name": "stderr",
     "output_type": "stream",
     "text": [
      "100%|███████████████████████████████████████████████████████████████████████████████████| 1/1 [07:38<00:00, 458.60s/it]\n"
     ]
    },
    {
     "name": "stdout",
     "output_type": "stream",
     "text": [
      "-1800.249387746845\n",
      "[-1.6094382370232097, -1.6094379124341003, -678.8545183013593, -739.2429137090297, -524.0387787059464] [-16.55014379704046, -111.7777706740629, -1.6094379124341003, -1.6094379124341003, -1.6094379124341003]\n",
      "[-1.7429696296477324, -1.742969305058623, -678.4490531932512, -739.3764451016542, -524.1723100985708] [-16.68367518966498, -111.91130206668741, -1.2039728043259361, -1.742969305058623, -1.742969305058623]\n",
      "[-1.8971203094749907, -1.8971199848858813, -678.1613711207993, -739.5305957814815, -524.3264607783981] [-16.837825869492242, -112.06545274651467, -0.916290731874155, -1.8971199848858813, -1.8971199848858813]\n",
      "[-2.079441866268945, -2.0794415416798357, -677.9382275694851, -739.7129173382754, -524.508782335192] [-17.020147426286194, -112.24777430330863, -0.6931471805599453, -2.0794415416798357, -2.0794415416798357]\n",
      "[-2.302585417583155, -2.3025850929940455, -677.7559060126912, -739.9360608895896, -524.7319258865062] [-17.243290977600406, -112.47091785462284, -0.5108256237659907, -2.3025850929940455, -2.3025850929940455]\n",
      "[-2.5902674900349356, -2.5902671654458262, -677.601755332864, -740.2237429620415, -525.0196079589581] [-17.530973050052186, -112.75859992707461, -0.35667494393873245, -2.5902671654458262, -2.5902671654458262]\n",
      "[-2.9957325981431007, -2.9957322735539913, -677.4682239402395, -740.6292080701496, -525.4250730670663] [-17.93643815816035, -113.16406503518279, -0.2231435513142097, -2.9957322735539913, -2.9957322735539913]\n",
      "[-3.688879778703046, -3.6888794541139367, -677.350440904583, -741.3223552507095, -526.1182202476261] [-18.629585338720297, -113.85721221574272, -0.10536051565782628, -3.6888794541139367, -3.6888794541139367]\n"
     ]
    },
    {
     "name": "stderr",
     "output_type": "stream",
     "text": [
      "\r",
      "  0%|                                                                                            | 0/1 [00:00<?, ?it/s]"
     ]
    },
    {
     "name": "stdout",
     "output_type": "stream",
     "text": [
      "-2761.1726380942846\n",
      "-4754.625532157173\n",
      "-3156.0919155638553\n",
      "-5448.862457587064\n",
      "-693.1848621368449\n",
      "-1731.545960298158\n",
      "-2203.3862683115003\n",
      "-5906.580033399307\n",
      "-1787.109247207948\n"
     ]
    },
    {
     "name": "stderr",
     "output_type": "stream",
     "text": [
      "100%|███████████████████████████████████████████████████████████████████████████████████| 1/1 [07:34<00:00, 454.55s/it]"
     ]
    },
    {
     "name": "stdout",
     "output_type": "stream",
     "text": [
      "-2559.227021272254\n",
      "[-1.6094379124341003, -1.6094379124341003, -1.6094379124341003, -1.6094379124341003, -1.6094379124341003] [-1994.8974841196912, -2294.2039753335907, -1039.7217583935874, -3704.3217059616936, -773.4435316859095]\n",
      "[-1.742969305058623, -1.742969305058623, -1.2039728043259361, -1.742969305058623, -1.742969305058623] [-1995.0310155123157, -2294.337506726215, -1039.3162932854793, -3704.455237354318, -773.577063078534]\n",
      "[-1.8971199848858813, -1.8971199848858813, -0.916290731874155, -1.8971199848858813, -1.8971199848858813] [-1995.185166192143, -2294.4916574060426, -1039.0286112130275, -3704.6093880341455, -773.7312137583613]\n",
      "[-2.0794415416798357, -2.0794415416798357, -0.6931471805599453, -2.0794415416798357, -2.0794415416798357] [-1995.367487748937, -2294.6739789628364, -1038.8054676617132, -3704.7917095909393, -773.9135353151552]\n",
      "[-2.3025850929940455, -2.3025850929940455, -0.5108256237659907, -2.3025850929940455, -2.3025850929940455] [-1995.5906313002513, -2294.8971225141504, -1038.6231461049194, -3705.0148531422533, -774.1366788664694]\n",
      "[-2.5902671654458262, -2.5902671654458262, -0.35667494393873245, -2.5902671654458262, -2.5902671654458262] [-1995.878313372703, -2295.1848045866022, -1038.468995425092, -3705.302535214705, -774.4243609389213]\n",
      "[-2.9957322735539913, -2.9957322735539913, -0.2231435513142097, -2.9957322735539913, -2.9957322735539913] [-1996.2837784808112, -2295.5902696947105, -1038.3354640324676, -3705.7080003228134, -774.8298260470294]\n",
      "[-3.6888794541139367, -3.6888794541139367, -0.10536051565782628, -3.6888794541139367, -3.6888794541139367] [-1996.976925661371, -2296.2834168752706, -1038.2176809968112, -3706.4011475033735, -775.5229732275893]\n"
     ]
    },
    {
     "name": "stderr",
     "output_type": "stream",
     "text": [
      "\n",
      "C:\\Users\\sanya\\AppData\\Local\\Temp\\ipykernel_60364\\29188797.py:25: UserWarning: Argument `eos` is deprecated.\n",
      "  mod_ratios_ih=log_probs_with_energies_mult_priors(sims[mod_name][1],sims, model_originals[i](**params[i][0]),\n",
      "  0%|                                                                                            | 0/1 [00:00<?, ?it/s]"
     ]
    },
    {
     "name": "stdout",
     "output_type": "stream",
     "text": [
      "-1994.369840078073\n",
      "-1393.0320262372757\n",
      "-2466.7765551815196\n",
      "-1710.962357068554\n",
      "-2506.5084371572493\n",
      "-1524.8136641220951\n",
      "-3622.092275728396\n",
      "-720.9382606926603\n",
      "-2497.775090739191\n"
     ]
    },
    {
     "name": "stderr",
     "output_type": "stream",
     "text": [
      "100%|███████████████████████████████████████████████████████████████████████████████████| 1/1 [07:52<00:00, 472.45s/it]"
     ]
    },
    {
     "name": "stdout",
     "output_type": "stream",
     "text": [
      "-1795.9066781022202\n",
      "[-603.0305490983707, -757.5998492398093, -983.313793837459, -2903.23699356644, -703.5923158478207] [-1.6094379124341003, -1.6094379124341003, -1.6094379124341003, -1.6094379124341003, -1.6094379124341003]\n",
      "[-603.1640804909952, -757.7333806324338, -983.4473252300835, -2902.831528458332, -703.7258472404452] [-1.742969305058623, -1.742969305058623, -1.742969305058623, -1.2039728043259361, -1.742969305058623]\n",
      "[-603.3182311708224, -757.887531312261, -983.6014759099107, -2902.54384638588, -703.8799979202724] [-1.8971199848858813, -1.8971199848858813, -1.8971199848858813, -0.916290731874155, -1.8971199848858813]\n",
      "[-603.5005527276163, -758.0698528690549, -983.7837974667046, -2902.320702834566, -704.0623194770664] [-2.0794415416798357, -2.0794415416798357, -2.0794415416798357, -0.6931471805599453, -2.0794415416798357]\n",
      "[-603.7236962789306, -758.2929964203691, -984.0069410180189, -2902.1383812777717, -704.2854630283806] [-2.3025850929940455, -2.3025850929940455, -2.3025850929940455, -0.5108256237659907, -2.3025850929940455]\n",
      "[-604.0113783513824, -758.580678492821, -984.2946230904707, -2901.9842305979446, -704.5731451008324] [-2.5902671654458262, -2.5902671654458262, -2.5902671654458262, -0.35667494393873245, -2.5902671654458262]\n",
      "[-604.4168434594906, -758.9861436009292, -984.7000881985789, -2901.85069920532, -704.9786102089406] [-2.9957322735539913, -2.9957322735539913, -2.9957322735539913, -0.2231435513142097, -2.9957322735539913]\n",
      "[-605.1099906400505, -759.679290781489, -985.3932353791388, -2901.732916169664, -705.6717573895005] [-3.6888794541139367, -3.6888794541139367, -3.6888794541139367, -0.10536051565782628, -3.6888794541139367]\n"
     ]
    },
    {
     "name": "stderr",
     "output_type": "stream",
     "text": [
      "\n",
      "C:\\Users\\sanya\\AppData\\Local\\Temp\\ipykernel_60364\\29188797.py:29: UserWarning: Argument `eos` is deprecated.\n",
      "  mod_ratios_nh=log_probs_with_energies_mult_priors(sims[mod_name][0],sims, model_originals[i](**params[i][0]),\n",
      "  0%|                                                                                            | 0/1 [00:00<?, ?it/s]"
     ]
    },
    {
     "name": "stdout",
     "output_type": "stream",
     "text": [
      "-5275.402468923516\n",
      "-7653.098001747603\n",
      "-5197.673755626372\n",
      "-8338.772732919599\n",
      "-2102.4249324180587\n",
      "-3502.702549537204\n",
      "-689.9611644838867\n",
      "-7981.153499107613\n",
      "-3964.8074868739604\n"
     ]
    },
    {
     "name": "stderr",
     "output_type": "stream",
     "text": [
      "100%|███████████████████████████████████████████████████████████████████████████████████| 1/1 [07:52<00:00, 472.75s/it]"
     ]
    },
    {
     "name": "stdout",
     "output_type": "stream",
     "text": [
      "-5111.05894805955\n",
      "[-1.6094379124341003, -1.6094379124341003, -1.6094379124341003, -1.6094379124341003, -1.6094379124341003] [-2379.3176073519453, -3142.4475902599042, -1401.7025716477976, -7292.310438168106, -1147.429935722256]\n",
      "[-1.742969305058623, -1.742969305058623, -1.742969305058623, -1.2039728043259361, -1.742969305058623] [-2379.4511387445696, -3142.5811216525285, -1401.8361030404221, -7291.904973059997, -1147.5634671148805]\n",
      "[-1.8971199848858813, -1.8971199848858813, -1.8971199848858813, -0.916290731874155, -1.8971199848858813] [-2379.605289424397, -3142.735272332356, -1401.9902537202495, -7291.617290987546, -1147.7176177947078]\n",
      "[-2.0794415416798357, -2.0794415416798357, -2.0794415416798357, -0.6931471805599453, -2.0794415416798357] [-2379.787610981191, -3142.91759388915, -1402.1725752770435, -7291.394147436232, -1147.8999393515019]\n",
      "[-2.3025850929940455, -2.3025850929940455, -2.3025850929940455, -0.5108256237659907, -2.3025850929940455] [-2380.010754532505, -3143.140737440464, -1402.3957188283578, -7291.211825879438, -1148.1230829028161]\n",
      "[-2.5902671654458262, -2.5902671654458262, -2.5902671654458262, -0.35667494393873245, -2.5902671654458262] [-2380.298436604957, -3143.4284195129158, -1402.6834009008094, -7291.0576751996105, -1148.4107649752677]\n",
      "[-2.9957322735539913, -2.9957322735539913, -2.9957322735539913, -0.2231435513142097, -2.9957322735539913] [-2380.703901713065, -3143.833884621024, -1403.0888660089176, -7290.924143806986, -1148.816230083376]\n",
      "[-3.6888794541139367, -3.6888794541139367, -3.6888794541139367, -0.10536051565782628, -3.6888794541139367] [-2381.397048893625, -3144.527031801584, -1403.7820131894775, -7290.806360771329, -1149.509377263936]\n"
     ]
    },
    {
     "name": "stderr",
     "output_type": "stream",
     "text": [
      "\n",
      "  0%|                                                                                            | 0/1 [00:00<?, ?it/s]"
     ]
    },
    {
     "name": "stdout",
     "output_type": "stream",
     "text": [
      "-1270.379228906631\n",
      "-1479.6415177754734\n",
      "-1567.1580012652673\n",
      "-1595.4775702985924\n",
      "-1779.6277616882483\n",
      "-1577.1454598381229\n",
      "-3175.6879503433393\n",
      "-2127.543506265779\n",
      "-1024.2941506044147\n"
     ]
    },
    {
     "name": "stderr",
     "output_type": "stream",
     "text": [
      "100%|███████████████████████████████████████████████████████████████████████████████████| 1/1 [07:48<00:00, 468.50s/it]"
     ]
    },
    {
     "name": "stdout",
     "output_type": "stream",
     "text": [
      "-733.0443265343164\n",
      "[-1.6094379124341003, -1.6094379124347824, -204.28616737830845, -1050.3396577805331, -292.8880363108087] [-210.63680381321984, -29.68268310619767, -1.6094379124341003, -1.6094379124341003, -1.6094379124341003]\n",
      "[-1.742969305058623, -1.7429693050593051, -204.419698770933, -1050.4731891731576, -292.4825712027005] [-210.7703352058444, -29.81621449882219, -1.742969305058623, -1.742969305058623, -1.2039728043259361]\n",
      "[-1.8971199848858813, -1.8971199848865634, -204.57384945076024, -1050.627339852985, -292.1948891302487] [-210.92448588567163, -29.970365178649452, -1.8971199848858813, -1.8971199848858813, -0.916290731874155]\n",
      "[-2.0794415416798357, -2.079441541680518, -204.7561710075542, -1050.809661409779, -291.97174557893453] [-211.1068074424656, -30.152686735443403, -2.0794415416798357, -2.0794415416798357, -0.6931471805599453]\n",
      "[-2.3025850929940455, -2.3025850929947276, -204.9793145588684, -1051.0328049610932, -291.78942402214057] [-211.3299509937798, -30.375830286757616, -2.3025850929940455, -2.3025850929940455, -0.5108256237659907]\n",
      "[-2.5902671654458262, -2.5902671654465084, -205.26699663132018, -1051.3204870335449, -291.6352733423133] [-211.61763306623158, -30.663512359209395, -2.5902671654458262, -2.5902671654458262, -0.35667494393873245]\n",
      "[-2.9957322735539913, -2.9957322735546734, -205.67246173942834, -1051.7259521416531, -291.5017419496888] [-212.02309817433974, -31.06897746731756, -2.9957322735539913, -2.9957322735539913, -0.2231435513142097]\n",
      "[-3.6888794541139367, -3.688879454114619, -206.3656089199883, -1052.419099322213, -291.3839589140324] [-212.71624535489968, -31.762124647877506, -3.6888794541139367, -3.6888794541139367, -0.10536051565782628]\n"
     ]
    },
    {
     "name": "stderr",
     "output_type": "stream",
     "text": [
      "\n",
      "  0%|                                                                                            | 0/1 [00:00<?, ?it/s]"
     ]
    },
    {
     "name": "stdout",
     "output_type": "stream",
     "text": [
      "-1615.848827894595\n",
      "-2860.2966752465272\n",
      "-1758.995521527494\n",
      "-2925.0595499426495\n",
      "-1513.4140313254968\n",
      "-2168.3171144503276\n",
      "-3013.840242093585\n",
      "-3882.0652744976032\n",
      "-691.3216320803588\n"
     ]
    },
    {
     "name": "stderr",
     "output_type": "stream",
     "text": [
      "100%|███████████████████████████████████████████████████████████████████████████████████| 1/1 [07:45<00:00, 465.88s/it]"
     ]
    },
    {
     "name": "stdout",
     "output_type": "stream",
     "text": [
      "-1197.352299897557\n",
      "[-1.6094379124341003, -1.6094379124341003, -1.6094379124341003, -1.6094379124341003, -1.6094379124341003] [-1245.8864384340986, -1167.3659588255769, -656.390349224402, -869.0986997733725, -507.528216443025]\n",
      "[-1.742969305058623, -1.742969305058623, -1.742969305058623, -1.742969305058623, -1.2039728043259361] [-1246.0199698267231, -1167.4994902182013, -656.5238806170265, -869.232231165997, -507.1227513349168]\n",
      "[-1.8971199848858813, -1.8971199848858813, -1.8971199848858813, -1.8971199848858813, -0.916290731874155] [-1246.1741205065505, -1167.6536408980287, -656.6780312968538, -869.3863818458242, -506.835069262465]\n",
      "[-2.0794415416798357, -2.0794415416798357, -2.0794415416798357, -2.0794415416798357, -0.6931471805599453] [-1246.3564420633445, -1167.8359624548227, -656.8603528536477, -869.5687034026181, -506.61192571115083]\n",
      "[-2.3025850929940455, -2.3025850929940455, -2.3025850929940455, -2.3025850929940455, -0.5108256237659907] [-1246.5795856146588, -1168.059106006137, -657.0834964049619, -869.7918469539323, -506.42960415435687]\n",
      "[-2.5902671654458262, -2.5902671654458262, -2.5902671654458262, -2.5902671654458262, -0.35667494393873245] [-1246.8672676871104, -1168.3467880785886, -657.3711784774138, -870.0795290263842, -506.2754534745296]\n",
      "[-2.9957322735539913, -2.9957322735539913, -2.9957322735539913, -2.9957322735539913, -0.2231435513142097] [-1247.2727327952186, -1168.7522531866969, -657.7766435855219, -870.4849941344924, -506.1419220819051]\n",
      "[-3.6888794541139367, -3.6888794541139367, -3.6888794541139367, -3.6888794541139367, -0.10536051565782628] [-1247.9658799757785, -1169.4454003672568, -658.4697907660818, -871.1781413150522, -506.0241390462487]\n"
     ]
    },
    {
     "name": "stderr",
     "output_type": "stream",
     "text": [
      "\n"
     ]
    }
   ],
   "source": [
    "prior_list=np.linspace(.2,.9,8)\n",
    "ratios_ih={\n",
    "        'sukh_sfho': [],\n",
    "        'sukh_ls220': [],\n",
    "        'forn': [],\n",
    "        'zha': [],\n",
    "        'tamb': []\n",
    "        }\n",
    "    \n",
    "ratios_nh={\n",
    "        'sukh_sfho': [],\n",
    "        'sukh_ls220': [],\n",
    "        'forn': [],\n",
    "        'zha': [],\n",
    "        'tamb': []\n",
    "    }\n",
    "\n",
    "for i,mod_name in enumerate(ratios.keys()):\n",
    "    all_priors=[]\n",
    "    for j,prior in enumerate(prior_list):\n",
    "        priors=[(1-prior)/4,(1-prior)/4,(1-prior)/4,(1-prior)/4,(1-prior)/4]\n",
    "        priors[i]=prior\n",
    "        all_priors.append(priors)\n",
    "\n",
    "    mod_ratios_ih=log_probs_with_energies_mult_priors(sims[mod_name][1],sims, model_originals[i](**params[i][0]),\n",
    "                                                       sim_energies, .5,all_priors,10*u.kpc,10*u.ms,\n",
    "                                                       MassHierarchy.INVERTED,1)\n",
    "        \n",
    "    mod_ratios_nh=log_probs_with_energies_mult_priors(sims[mod_name][0],sims, model_originals[i](**params[i][0]),\n",
    "                                                       sim_energies, .5,all_priors,10*u.kpc,10*u.ms,\n",
    "                                                       MassHierarchy.NORMAL,1)\n",
    "    ratios_ih[mod_name].append(mod_ratios_ih)\n",
    "    ratios_nh[mod_name].append(mod_ratios_nh)"
   ]
  },
  {
   "cell_type": "code",
   "execution_count": 216,
   "id": "7d2b369e",
   "metadata": {},
   "outputs": [],
   "source": [
    "np.savez('all_mods_ih_energy_ratios_1_iter_sig=.5.npz',ratios_ih)\n",
    "np.savez('all_mods_nh_energy_ratios_1_iter_sig=.5.npz',ratios_nh)"
   ]
  },
  {
   "cell_type": "code",
   "execution_count": 168,
   "id": "4467375d",
   "metadata": {},
   "outputs": [
    {
     "name": "stderr",
     "output_type": "stream",
     "text": [
      "\r",
      "  0%|                                                                                            | 0/1 [00:00<?, ?it/s]"
     ]
    },
    {
     "name": "stdout",
     "output_type": "stream",
     "text": [
      "[-1377.8382496340137, -1377.751041581324, -1376.6242386513704, -1376.7133816662326, -1376.5799207862374]\n",
      "[-1258.408884510386, -1258.6539975086516, -1260.4728158117678, -1260.0012506290395, -1261.442519619598]\n",
      "[-1570.7606992447743, -1570.536903198057, -1570.7794886490499, -1571.5809468289278, -1571.2574844338867]\n",
      "[-1399.0843395685565, -1397.6403197975792, -1398.288682015807, -1398.0846116178923, -1397.7110677984215]\n",
      "[-1478.46120498364, -1478.8562699004074, -1478.400308230714, -1478.3821679961225, -1479.6469426838999]\n",
      "[-1321.3943146383658, -1321.2612217124383, -1322.7748779667722, -1324.1413965302613, -1321.1526013950765]\n",
      "[-2328.6967665503003, -2330.624320292173, -2330.6748516358025, -2328.1912775692585, -2328.3114131851585]\n",
      "[-1533.932079561031, -1532.661416631081, -1532.5591583449332, -1535.9484468007486, -1534.6450627569484]\n",
      "[-2062.3998155791173, -2065.4598972533254, -2064.1416920056777, -2062.4439041484125, -2063.8522566935258]\n"
     ]
    },
    {
     "name": "stderr",
     "output_type": "stream",
     "text": [
      "100%|███████████████████████████████████████████████████████████████████████████████████| 1/1 [04:48<00:00, 288.80s/it]\n"
     ]
    },
    {
     "name": "stdout",
     "output_type": "stream",
     "text": [
      "[-2247.8925823492823, -2248.3165035206252, -2249.0408449142774, -2247.9095349939084, -2248.952080832772]\n",
      "[-119.68642978669807, -174.68833926546887, -159.06449639963745, -797.1761085470256, -1.6094379124341003] [-1.6094379124341003, -1.6094379124341003, -1.6094379124341003, -1.6094379124341003, -187.0810322218711]\n",
      "[-119.28096467858991, -174.82187065809342, -159.198027792262, -797.3096399396501, -1.742969305058623] [-1.2039728043259361, -1.742969305058623, -1.742969305058623, -1.742969305058623, -187.21456361449566]\n",
      "[-118.99328260613812, -174.97602133792066, -159.35217847208924, -797.4637906194773, -1.8971199848858813] [-0.916290731874155, -1.8971199848858813, -1.8971199848858813, -1.8971199848858813, -187.3687142943229]\n",
      "[-118.77013905482391, -175.15834289471462, -159.5345000288832, -797.6461121762712, -2.0794415416798357] [-0.6931471805599453, -2.0794415416798357, -2.0794415416798357, -2.0794415416798357, -187.55103585111686]\n",
      "[-118.58781749802996, -175.38148644602882, -159.7576435801974, -797.8692557275855, -2.3025850929940455] [-0.5108256237659907, -2.3025850929940455, -2.3025850929940455, -2.3025850929940455, -187.77417940243106]\n",
      "[-118.4336668182027, -175.6691685184806, -160.04532565264918, -798.1569378000373, -2.5902671654458262] [-0.35667494393873245, -2.5902671654458262, -2.5902671654458262, -2.5902671654458262, -188.06186147488285]\n",
      "[-118.30013542557818, -176.07463362658876, -160.45079076075734, -798.5624029081455, -2.9957322735539913] [-0.2231435513142097, -2.9957322735539913, -2.9957322735539913, -2.9957322735539913, -188.467326582991]\n",
      "[-118.18235238992179, -176.7677808071487, -161.1439379413173, -799.2555500887054, -3.6888794541139367] [-0.10536051565782628, -3.6888794541139367, -3.6888794541139367, -3.6888794541139367, -189.16047376355095]\n"
     ]
    },
    {
     "name": "stderr",
     "output_type": "stream",
     "text": [
      "\r",
      "  0%|                                                                                            | 0/1 [00:00<?, ?it/s]"
     ]
    },
    {
     "name": "stdout",
     "output_type": "stream",
     "text": [
      "[-1253.5496371623576, -1250.9686569576133, -1250.225887346458, -1252.0268315457051, -1250.6178242437873]\n",
      "[-1400.5903941091442, -1399.915515927531, -1401.8222796879768, -1399.5750125808613, -1399.450560892385]\n",
      "[-1448.6591809348681, -1448.4435935420986, -1449.0621532781877, -1448.789183066219, -1448.6966625696439]\n",
      "[-1582.1867829926314, -1579.0621024425463, -1579.0947926785566, -1579.3812137448376, -1579.976158777351]\n",
      "[-1287.2151536182646, -1283.656108294439, -1282.852919561832, -1282.8211589539715, -1282.7743320967566]\n",
      "[-1447.6052979741432, -1446.733537820466, -1449.339409898246, -1447.0047410749319, -1447.1974676237658]\n",
      "[-2141.2048492741455, -2138.2858860401616, -2138.0585818160766, -2138.266291738881, -2138.3107325641326]\n",
      "[-1802.3432796307254, -1801.666083395315, -1801.8427018436862, -1801.6210001366064, -1801.5463453992063]\n",
      "[-2170.494457217028, -2169.6211176821744, -2169.747243845901, -2170.243877337729, -2169.9439282645544]\n"
     ]
    },
    {
     "name": "stderr",
     "output_type": "stream",
     "text": [
      "100%|███████████████████████████████████████████████████████████████████████████████████| 1/1 [05:48<00:00, 348.99s/it]\n"
     ]
    },
    {
     "name": "stdout",
     "output_type": "stream",
     "text": [
      "[-2621.5596805614528, -2621.332650642265, -2621.727919226794, -2622.400511589794, -2621.2562753774305]\n",
      "[-1.6094379124341003, -1.6094379124341003, -1.6094379124341003, -338.3467473298945, -1.6094379124341003] [-150.90750478984347, -131.97117567405468, -165.7158753876775, -1.6094379124341003, -453.3496482407225]\n",
      "[-1.2039728043259361, -1.742969305058623, -1.742969305058623, -338.4802787225191, -1.742969305058623] [-150.5020396817353, -132.10470706667923, -165.84940678030205, -1.742969305058623, -453.48317963334705]\n",
      "[-0.916290731874155, -1.8971199848858813, -1.8971199848858813, -338.6344294023463, -1.8971199848858813] [-150.21435760928352, -132.25885774650646, -166.0035574601293, -1.8971199848858813, -453.6373303131743]\n",
      "[-0.6931471805599453, -2.0794415416798357, -2.0794415416798357, -338.8167509591403, -2.0794415416798357] [-149.99121405796933, -132.44117930330043, -166.18587901692325, -2.0794415416798357, -453.81965186996825]\n",
      "[-0.5108256237659907, -2.3025850929940455, -2.3025850929940455, -339.0398945104545, -2.3025850929940455] [-149.80889250117536, -132.66432285461462, -166.40902256823745, -2.3025850929940455, -454.04279542128245]\n",
      "[-0.35667494393873245, -2.5902671654458262, -2.5902671654458262, -339.32757658290626, -2.5902671654458262] [-149.65474182134813, -132.9520049270664, -166.69670464068923, -2.5902671654458262, -454.33047749373424]\n",
      "[-0.2231435513142097, -2.9957322735539913, -2.9957322735539913, -339.7330416910144, -2.9957322735539913] [-149.5212104287236, -133.35747003517457, -167.1021697487974, -2.9957322735539913, -454.7359426018424]\n",
      "[-0.10536051565782628, -3.6888794541139367, -3.6888794541139367, -340.42618887157437, -3.6888794541139367] [-149.4034273930672, -134.05061721573452, -167.79531692935734, -3.6888794541139367, -455.42908978240234]\n"
     ]
    },
    {
     "name": "stderr",
     "output_type": "stream",
     "text": [
      "\r",
      "  0%|                                                                                            | 0/1 [00:00<?, ?it/s]"
     ]
    },
    {
     "name": "stdout",
     "output_type": "stream",
     "text": [
      "[-1590.1881623738432, -1589.864408079446, -1591.7866385799266, -1593.7990914187817, -1590.9568480702278]\n",
      "[-1395.018894011451, -1392.120994820643, -1392.7953592382016, -1393.2810252987454, -1391.908651858588]\n",
      "[-1496.5866666025072, -1496.3164223959434, -1498.665644055462, -1497.78120429604, -1496.2500770440352]\n",
      "[-1256.4239646961514, -1255.2107273757583, -1256.2917782019076, -1254.6399547168849, -1255.3662021986393]\n",
      "[-1792.8314209888192, -1791.261238937586, -1792.7396731402403, -1791.8095791251105, -1791.4189331702944]\n",
      "[-1419.4272430017934, -1419.0912068307423, -1422.9424660950806, -1420.0961240586237, -1418.9620928927231]\n",
      "[-2068.1440586574076, -2067.9870936365965, -2069.1804827080973, -2068.497822625815, -2067.9765848651637]\n",
      "[-1382.8560467388825, -1382.1350199027156, -1381.6305496746872, -1382.1569836290519, -1382.9975034914178]\n",
      "[-2068.9161819728834, -2066.135464904226, -2067.834608831785, -2067.315416826612, -2066.010379483916]\n"
     ]
    },
    {
     "name": "stderr",
     "output_type": "stream",
     "text": [
      "100%|███████████████████████████████████████████████████████████████████████████████████| 1/1 [04:49<00:00, 289.33s/it]\n"
     ]
    },
    {
     "name": "stdout",
     "output_type": "stream",
     "text": [
      "[-2135.8366004232817, -2135.5811317567427, -2136.158733831326, -2137.0042526271286, -2135.657350889975]\n",
      "[-199.63634119671093, -243.29879966512254, -374.0963594437281, -688.0038100249252, -1.6094379124341003] [-1.6094379124341003, -1.6094379124341003, -1.6094379124341003, -1.6094379124341003, -71.19718788043959]\n",
      "[-199.76987258933548, -242.89333455701438, -374.22989083635264, -688.1373414175497, -1.742969305058623] [-1.742969305058623, -1.2039728043259361, -1.742969305058623, -1.742969305058623, -71.3307192730641]\n",
      "[-199.92402326916272, -242.6056524845626, -374.3840415161799, -688.2914920973769, -1.8971199848858813] [-1.8971199848858813, -0.916290731874155, -1.8971199848858813, -1.8971199848858813, -71.48486995289136]\n",
      "[-200.10634482595668, -242.3825089332484, -374.56636307297384, -688.4738136541708, -2.0794415416798357] [-2.0794415416798357, -0.6931471805599453, -2.0794415416798357, -2.0794415416798357, -71.66719150968532]\n",
      "[-200.32948837727088, -242.20018737645444, -374.78950662428804, -688.6969572054851, -2.3025850929940455] [-2.3025850929940455, -0.5108256237659907, -2.3025850929940455, -2.3025850929940455, -71.89033506099953]\n",
      "[-200.61717044972266, -242.0460366966272, -375.0771886967398, -688.9846392779369, -2.5902671654458262] [-2.5902671654458262, -0.35667494393873245, -2.5902671654458262, -2.5902671654458262, -72.1780171334513]\n",
      "[-201.02263555783082, -241.91250530400268, -375.482653804848, -689.3901043860451, -2.9957322735539913] [-2.9957322735539913, -0.2231435513142097, -2.9957322735539913, -2.9957322735539913, -72.58348224155948]\n",
      "[-201.71578273839077, -241.79472226834628, -376.17580098540793, -690.083251566605, -3.6888794541139367] [-3.6888794541139367, -0.10536051565782628, -3.6888794541139367, -3.6888794541139367, -73.27662942211941]\n"
     ]
    },
    {
     "name": "stderr",
     "output_type": "stream",
     "text": [
      "\r",
      "  0%|                                                                                            | 0/1 [00:00<?, ?it/s]"
     ]
    },
    {
     "name": "stdout",
     "output_type": "stream",
     "text": [
      "[-1450.8438089579658, -1450.771678967686, -1451.4174544326024, -1450.9388608716772, -1450.939768396719]\n",
      "[-1612.8288864465717, -1611.7248779049983, -1610.6275619832154, -1608.998635987387, -1609.3574202786544]\n",
      "[-1261.066538165687, -1259.875123503836, -1260.1395477944604, -1259.8314370310106, -1261.20373071896]\n",
      "[-1480.356615157029, -1477.6753327994252, -1477.6924029305396, -1478.7761844711663, -1477.7652978529827]\n",
      "[-1528.3348304304818, -1528.2192012498272, -1527.526013768671, -1527.869299666214, -1528.228169583599]\n",
      "[-1629.4043412929145, -1630.9703376637021, -1628.9374445416884, -1629.346696029546, -1630.6875260239153]\n",
      "[-1576.6045720096638, -1576.58888165352, -1576.154734840505, -1575.6754106587516, -1575.5672392219178]\n",
      "[-1679.0684299238544, -1680.5984760456247, -1680.9866997248516, -1680.1267603349168, -1679.3079098585347]\n",
      "[-1987.6574456490682, -1987.741819723645, -1987.7780207470107, -1989.4901692786564, -1988.0629126479373]\n"
     ]
    },
    {
     "name": "stderr",
     "output_type": "stream",
     "text": [
      "100%|███████████████████████████████████████████████████████████████████████████████████| 1/1 [05:42<00:00, 342.08s/it]\n"
     ]
    },
    {
     "name": "stdout",
     "output_type": "stream",
     "text": [
      "[-2407.778374659793, -2407.6393923169458, -2407.381255930923, -2407.012395636492, -2407.8865498754244]\n",
      "[-1.6094379124341003, -1.6094379124341003, -1.6094379124341003, -1.6094379124341003, -1.6094379124341003] [-159.77273516124325, -220.23862043144237, -102.94200350445597, -105.07266444344903, -420.86511733522644]\n",
      "[-1.742969305058623, -1.2039728043259361, -1.742969305058623, -1.742969305058623, -1.742969305058623] [-159.9062665538678, -219.8331553233342, -103.07553489708049, -105.20619583607355, -420.998648727851]\n",
      "[-1.8971199848858813, -0.916290731874155, -1.8971199848858813, -1.8971199848858813, -1.8971199848858813] [-160.06041723369503, -219.54547325088242, -103.22968557690774, -105.3603465159008, -421.15279940767823]\n",
      "[-2.0794415416798357, -0.6931471805599453, -2.0794415416798357, -2.0794415416798357, -2.0794415416798357] [-160.242738790489, -219.32232969956823, -103.4120071337017, -105.54266807269477, -421.3351209644722]\n",
      "[-2.3025850929940455, -0.5108256237659907, -2.3025850929940455, -2.3025850929940455, -2.3025850929940455] [-160.4658823418032, -219.14000814277426, -103.63515068501592, -105.76581162400898, -421.5582645157864]\n",
      "[-2.5902671654458262, -0.35667494393873245, -2.5902671654458262, -2.5902671654458262, -2.5902671654458262] [-160.75356441425498, -218.98585746294702, -103.92283275746769, -106.05349369646075, -421.8459465882382]\n",
      "[-2.9957322735539913, -0.2231435513142097, -2.9957322735539913, -2.9957322735539913, -2.9957322735539913] [-161.15902952236314, -218.8523260703225, -104.32829786557586, -106.45895880456892, -422.25141169634634]\n",
      "[-3.6888794541139367, -0.10536051565782628, -3.6888794541139367, -3.6888794541139367, -3.6888794541139367] [-161.8521767029231, -218.7345430346661, -105.0214450461358, -107.15210598512886, -422.9445588769063]\n"
     ]
    },
    {
     "name": "stderr",
     "output_type": "stream",
     "text": [
      "\r",
      "  0%|                                                                                            | 0/1 [00:00<?, ?it/s]"
     ]
    },
    {
     "name": "stdout",
     "output_type": "stream",
     "text": [
      "[-1460.447277765083, -1460.4796622445015, -1461.228848298199, -1460.5636835648497, -1460.3531970305653]\n",
      "[-1332.5410572720893, -1331.4617534090676, -1333.5845914022239, -1328.932493829724, -1328.8835226657711]\n",
      "[-1612.1369573243762, -1610.9612985158935, -1611.1333393989523, -1612.0930799982496, -1612.3576189783387]\n",
      "[-1403.5659800389792, -1403.76277694126, -1402.9666029395692, -1403.9059018593205, -1402.87384943147]\n",
      "[-1546.9835277243126, -1546.9055983658488, -1545.650245739556, -1545.4675317654635, -1545.3887553997354]\n",
      "[-1258.0201785557479, -1258.8156040068757, -1257.7446190161177, -1257.0053901090764, -1257.2268396677869]\n",
      "[-2328.6221042852408, -2329.3472242234852, -2328.4160357452197, -2328.3671342671437, -2329.356624610576]\n",
      "[-1417.478323023273, -1415.7468786475526, -1416.0958580739114, -1413.204121426899, -1414.3817689588775]\n",
      "[-2365.5113892934382, -2368.095608825642, -2365.4959423678733, -2367.6280246527235, -2365.522817699231]\n"
     ]
    },
    {
     "name": "stderr",
     "output_type": "stream",
     "text": [
      "100%|███████████████████████████████████████████████████████████████████████████████████| 1/1 [04:51<00:00, 291.77s/it]\n"
     ]
    },
    {
     "name": "stdout",
     "output_type": "stream",
     "text": [
      "[-2528.855271640064, -2528.0899697558684, -2527.1362483505413, -2527.151067341188, -2527.9959209600543]\n",
      "[-132.9295113784579, -209.32697600952207, -290.29974489342936, -916.7211918180984, -1.6094379124341003] [-1.6094379124341003, -1.6094379124341003, -1.6094379124341003, -1.6094379124341003, -163.21736382252612]\n",
      "[-133.06304277108245, -209.46050740214662, -289.8942797853212, -916.8547232107229, -1.742969305058623] [-1.742969305058623, -1.742969305058623, -1.2039728043259361, -1.742969305058623, -163.35089521515067]\n",
      "[-133.2171934509097, -209.61465808197386, -289.6065977128694, -917.0088738905501, -1.8971199848858813] [-1.8971199848858813, -1.8971199848858813, -0.916290731874155, -1.8971199848858813, -163.5050458949779]\n",
      "[-133.39951500770366, -209.79697963876782, -289.3834541615552, -917.1911954473441, -2.0794415416798357] [-2.0794415416798357, -2.0794415416798357, -0.6931471805599453, -2.0794415416798357, -163.68736745177188]\n",
      "[-133.62265855901785, -210.02012319008202, -289.20113260476126, -917.4143389986583, -2.3025850929940455] [-2.3025850929940455, -2.3025850929940455, -0.5108256237659907, -2.3025850929940455, -163.91051100308607]\n",
      "[-133.91034063146964, -210.3078052625338, -289.046981924934, -917.7020210711102, -2.5902671654458262] [-2.5902671654458262, -2.5902671654458262, -0.35667494393873245, -2.5902671654458262, -164.19819307553786]\n",
      "[-134.3158057395778, -210.71327037064196, -288.91345053230947, -918.1074861792183, -2.9957322735539913] [-2.9957322735539913, -2.9957322735539913, -0.2231435513142097, -2.9957322735539913, -164.60365818364602]\n",
      "[-135.00895292013774, -211.4064175512019, -288.7956674966531, -918.8006333597782, -3.6888794541139367] [-3.6888794541139367, -3.6888794541139367, -0.10536051565782628, -3.6888794541139367, -165.29680536420597]\n"
     ]
    },
    {
     "name": "stderr",
     "output_type": "stream",
     "text": [
      "\r",
      "  0%|                                                                                            | 0/1 [00:00<?, ?it/s]"
     ]
    },
    {
     "name": "stdout",
     "output_type": "stream",
     "text": [
      "[-1299.731371208865, -1298.3119775710945, -1301.60078266295, -1298.8343301307175, -1297.9912814695706]\n",
      "[-1518.8090023716663, -1520.3073344948366, -1518.047532934333, -1519.1013944495367, -1521.2720853733204]\n",
      "[-1524.4996672361904, -1523.8736131199712, -1523.7504476523773, -1524.0636265753146, -1523.8593167353265]\n",
      "[-1753.2216871739747, -1753.9388102258326, -1754.733811147651, -1753.1459616315497, -1752.7226947452818]\n",
      "[-1249.6145091703515, -1252.8490001968898, -1251.2878214588713, -1250.9941528398926, -1252.3216664813813]\n",
      "[-1536.3898203290737, -1535.42300000893, -1535.7508667152724, -1536.260305727017, -1535.779813001238]\n",
      "[-2127.3743273366686, -2126.2388891788555, -2126.055061535733, -2126.399207611959, -2127.7580151880516]\n",
      "[-1936.463522094028, -1937.852381039064, -1936.3006125854324, -1936.5042381521077, -1938.931767118777]\n",
      "[-2304.4676088122637, -2303.8056916012997, -2302.8747317360962, -2302.9668347791435, -2303.409585032465]\n"
     ]
    },
    {
     "name": "stderr",
     "output_type": "stream",
     "text": [
      "100%|███████████████████████████████████████████████████████████████████████████████████| 1/1 [04:52<00:00, 292.63s/it]"
     ]
    },
    {
     "name": "stdout",
     "output_type": "stream",
     "text": [
      "[-2835.643526808773, -2834.192334308514, -2834.8710835759916, -2836.9255752533422, -2834.0540811449678]\n",
      "[-1.6094379124341003, -1.6094379124341003, -1.6094379124341003, -191.39352250620374, -1.6094379124341003] [-221.60048624673624, -230.74178162271215, -287.0529842205704, -1.6094379124341003, -532.7051922454237]\n",
      "[-1.742969305058623, -1.742969305058623, -1.2039728043259361, -191.52705389882829, -1.742969305058623] [-221.7340176393608, -230.8753130153367, -286.64751911246225, -1.742969305058623, -532.8387236380482]\n",
      "[-1.8971199848858813, -1.8971199848858813, -0.916290731874155, -191.68120457865552, -1.8971199848858813] [-221.88816831918803, -231.02946369516394, -286.35983704001046, -1.8971199848858813, -532.9928743178755]\n",
      "[-2.0794415416798357, -2.0794415416798357, -0.6931471805599453, -191.8635261354495, -2.0794415416798357] [-222.070489875982, -231.2117852519579, -286.13669348869627, -2.0794415416798357, -533.1751958746694]\n",
      "[-2.3025850929940455, -2.3025850929940455, -0.5108256237659907, -192.08666968676368, -2.3025850929940455] [-222.2936334272962, -231.4349288032721, -285.9543719319023, -2.3025850929940455, -533.3983394259836]\n",
      "[-2.5902671654458262, -2.5902671654458262, -0.35667494393873245, -192.37435175921547, -2.5902671654458262] [-222.58131549974797, -231.7226108757239, -285.80022125207506, -2.5902671654458262, -533.6860214984355]\n",
      "[-2.9957322735539913, -2.9957322735539913, -0.2231435513142097, -192.77981686732363, -2.9957322735539913] [-222.98678060785613, -232.12807598383205, -285.6666898594505, -2.9957322735539913, -534.0914866065436]\n",
      "[-3.6888794541139367, -3.6888794541139367, -0.10536051565782628, -193.47296404788358, -3.6888794541139367] [-223.67992778841608, -232.821223164392, -285.54890682379414, -3.6888794541139367, -534.7846337871035]\n"
     ]
    },
    {
     "name": "stderr",
     "output_type": "stream",
     "text": [
      "\n",
      "C:\\Users\\sanya\\AppData\\Local\\Temp\\ipykernel_60364\\1279219632.py:27: UserWarning: Argument `eos` is deprecated.\n",
      "  mod_ratios_ih=log_probs_with_energies_mult_priors(sims[mod_name][1],sims, model_originals[i](**params[i][0]),\n",
      "  0%|                                                                                            | 0/1 [00:00<?, ?it/s]"
     ]
    },
    {
     "name": "stdout",
     "output_type": "stream",
     "text": [
      "[-1762.5227163321752, -1762.7779440829245, -1762.4158059551037, -1762.1200506669766, -1764.2753098100284]\n",
      "[-1509.4502838218912, -1508.5483825084236, -1508.5191579564423, -1508.6151032442147, -1508.8589386535175]\n",
      "[-1622.9229777211951, -1623.275807171078, -1624.5224266339285, -1622.6698570807132, -1623.176292157783]\n",
      "[-1358.5406881108897, -1358.428488391724, -1358.7966053985542, -1358.4731861494324, -1359.6414021796477]\n",
      "[-1883.0671387686816, -1883.0568250161668, -1882.7057082464817, -1882.5470334319907, -1882.8043240875922]\n",
      "[-1414.8683825218725, -1415.298240277549, -1415.929218227215, -1414.8511252546125, -1415.6514132059203]\n",
      "[-2039.5459770611492, -2040.2749104904365, -2038.5555850160895, -2038.3178161101828, -2041.803164482743]\n",
      "[-1249.7398443411844, -1249.667562609237, -1250.9026551766624, -1250.696327721908, -1250.7092850698723]\n",
      "[-2170.3055319860455, -2170.130187841775, -2170.5560552266566, -2170.4645572568575, -2173.383764828601]\n"
     ]
    },
    {
     "name": "stderr",
     "output_type": "stream",
     "text": [
      "100%|███████████████████████████████████████████████████████████████████████████████████| 1/1 [04:53<00:00, 293.06s/it]"
     ]
    },
    {
     "name": "stdout",
     "output_type": "stream",
     "text": [
      "[-2185.924179803006, -2184.901356889656, -2185.180331704113, -2185.1231696064724, -2185.218997165074]\n",
      "[-255.40449749577857, -265.7951503154798, -469.61808076742415, -789.3377974731642, -1.6094383360203437] [-1.6094379124341003, -1.6094379124341003, -1.6094379124341003, -1.6094379124341003, -16.283946647307243]\n",
      "[-255.53802888840312, -265.92868170810436, -469.7516121600487, -788.932332365056, -1.7429697286448664] [-1.742969305058623, -1.742969305058623, -1.742969305058623, -1.2039728043259361, -16.417478039931765]\n",
      "[-255.69217956823036, -266.0828323879316, -469.90576283987593, -788.6446502926042, -1.8971204084721247] [-1.8971199848858813, -1.8971199848858813, -1.8971199848858813, -0.916290731874155, -16.571628719759026]\n",
      "[-255.87450112502432, -266.26515394472557, -470.0880843966699, -788.4215067412899, -2.079441965266079] [-2.0794415416798357, -2.0794415416798357, -2.0794415416798357, -0.6931471805599453, -16.753950276552978]\n",
      "[-256.0976446763385, -266.48829749603976, -470.3112279479841, -788.239185184496, -2.302585516580289] [-2.3025850929940455, -2.3025850929940455, -2.3025850929940455, -0.5108256237659907, -16.97709382786719]\n",
      "[-256.3853267487903, -266.77597956849155, -470.5989100204359, -788.0850345046688, -2.5902675890320697] [-2.5902671654458262, -2.5902671654458262, -2.5902671654458262, -0.35667494393873245, -17.26477590031897]\n",
      "[-256.79079185689847, -267.1814446765997, -471.00437512854404, -787.9515031120443, -2.9957326971402347] [-2.9957322735539913, -2.9957322735539913, -2.9957322735539913, -0.2231435513142097, -17.670241008427134]\n",
      "[-257.4839390374584, -267.87459185715966, -471.697522309104, -787.8337200763879, -3.68887987770018] [-3.6888794541139367, -3.6888794541139367, -3.6888794541139367, -0.10536051565782628, -18.36338818898708]\n"
     ]
    },
    {
     "name": "stderr",
     "output_type": "stream",
     "text": [
      "\n",
      "C:\\Users\\sanya\\AppData\\Local\\Temp\\ipykernel_60364\\1279219632.py:31: UserWarning: Argument `eos` is deprecated.\n",
      "  mod_ratios_nh=log_probs_with_energies_mult_priors(sims[mod_name][0],sims, model_originals[i](**params[i][0]),\n",
      "  0%|                                                                                            | 0/1 [00:00<?, ?it/s]"
     ]
    },
    {
     "name": "stdout",
     "output_type": "stream",
     "text": [
      "[-2195.1301749251434, -2194.6945764761185, -2195.059003529488, -2194.2690452622483, -2194.2757424784213]\n",
      "[-2400.6960900333547, -2400.515603266777, -2400.6318490923773, -2401.350435341698, -2402.7997234747495]\n",
      "[-1637.286752024788, -1636.1881727775387, -1637.527947974121, -1637.1769797465447, -1638.197839550622]\n",
      "[-2072.686747289943, -2073.06659933463, -2075.9442583189775, -2072.087947685006, -2072.126678527635]\n",
      "[-2176.536323399891, -2176.5693763742715, -2176.760856465084, -2176.2880069982025, -2176.654401923352]\n",
      "[-2421.612589244028, -2421.0512328939326, -2423.395609009963, -2421.627938798479, -2421.3369142915576]\n",
      "[-1262.6988205782552, -1264.594636719631, -1262.9976679855615, -1262.613420242066, -1262.5163142903045]\n",
      "[-2183.9772360610395, -2184.6362235586885, -2184.9129707612183, -2183.7530361191193, -2183.9939880166085]\n",
      "[-2099.0337110810106, -2097.8469520540857, -2097.4466520533933, -2098.2323115736835, -2096.785570703669]\n"
     ]
    },
    {
     "name": "stderr",
     "output_type": "stream",
     "text": [
      "100%|███████████████████████████████████████████████████████████████████████████████████| 1/1 [04:51<00:00, 291.75s/it]"
     ]
    },
    {
     "name": "stdout",
     "output_type": "stream",
     "text": [
      "[-2549.7410359101764, -2549.5239634653685, -2549.1387502296116, -2548.769337749762, -2550.0945598900275]\n",
      "[-1.6094379124341003, -1.6094379124341003, -1.6094379124341003, -1.6094379124341003, -1.6094379124341003] [-207.83552993221411, -436.86377781941775, -246.20694654538858, -922.873943155373, -453.572206573547]\n",
      "[-1.742969305058623, -1.742969305058623, -1.742969305058623, -1.2039728043259361, -1.742969305058623] [-207.96906132483866, -436.9973092120423, -246.34047793801312, -922.4684780472649, -453.70573796617157]\n",
      "[-1.8971199848858813, -1.8971199848858813, -1.8971199848858813, -0.916290731874155, -1.8971199848858813] [-208.1232120046659, -437.15145989186954, -246.49462861784036, -922.180795974813, -453.8598886459988]\n",
      "[-2.0794415416798357, -2.0794415416798357, -2.0794415416798357, -0.6931471805599453, -2.0794415416798357] [-208.30553356145987, -437.3337814486635, -246.67695017463433, -921.9576524234988, -454.0422102027928]\n",
      "[-2.3025850929940455, -2.3025850929940455, -2.3025850929940455, -0.5108256237659907, -2.3025850929940455] [-208.52867711277406, -437.5569249999777, -246.90009372594852, -921.7753308667048, -454.26535375410697]\n",
      "[-2.5902671654458262, -2.5902671654458262, -2.5902671654458262, -0.35667494393873245, -2.5902671654458262] [-208.81635918522585, -437.8446070724295, -247.1877757984003, -921.6211801868776, -454.55303582655876]\n",
      "[-2.9957322735539913, -2.9957322735539913, -2.9957322735539913, -0.2231435513142097, -2.9957322735539913] [-209.221824293334, -438.25007218053764, -247.59324090650847, -921.4876487942531, -454.9585009346669]\n",
      "[-3.6888794541139367, -3.6888794541139367, -3.6888794541139367, -0.10536051565782628, -3.6888794541139367] [-209.91497147389396, -438.9432193610976, -248.28638808706842, -921.3698657585967, -455.65164811522686]\n"
     ]
    },
    {
     "name": "stderr",
     "output_type": "stream",
     "text": [
      "\n",
      "  0%|                                                                                            | 0/1 [00:00<?, ?it/s]"
     ]
    },
    {
     "name": "stdout",
     "output_type": "stream",
     "text": [
      "[-2548.1622038691626, -2547.6864898705885, -2548.416460998464, -2551.2895166537987, -2550.0931153665647]\n",
      "[-2155.6732973189214, -2155.491413829194, -2157.702997593035, -2156.443791350554, -2156.6504957481234]\n",
      "[-2317.314280401877, -2317.5840272536207, -2318.029695795287, -2318.8592966286724, -2318.2969267358476]\n",
      "[-2105.3587649380097, -2104.5916114803877, -2105.7110269171717, -2105.230245320625, -2105.993912962691]\n",
      "[-2736.5993920269498, -2735.97266010685, -2735.9028666828776, -2738.1659962670633, -2735.9219496110704]\n",
      "[-2496.8988065095905, -2496.82905397033, -2497.202495450779, -2498.118394659395, -2498.872937598469]\n",
      "[-2520.4750288190503, -2519.7628872083974, -2520.3076133670643, -2520.1631483899205, -2519.7039480351473]\n",
      "[-2142.938436786516, -2142.917451649514, -2142.4501549035367, -2145.065056477283, -2144.147302987173]\n",
      "[-1374.4621650462134, -1373.460290619528, -1374.0359953403888, -1376.2769260153357, -1374.6033851932073]\n"
     ]
    },
    {
     "name": "stderr",
     "output_type": "stream",
     "text": [
      "100%|███████████████████████████████████████████████████████████████████████████████████| 1/1 [04:53<00:00, 293.68s/it]"
     ]
    },
    {
     "name": "stdout",
     "output_type": "stream",
     "text": [
      "[-1254.8469281674365, -1254.6255698395867, -1255.6691894337014, -1256.5439244443437, -1255.9266813956087]\n",
      "[-393.7407033867274, -214.99228161641605, -240.40348956306462, -378.60254052734837, -120.54684301476102] [-1.6094379124341003, -1.6094379124341003, -1.6094379124341003, -1.6094379124341003, -1.6094379124341003]\n",
      "[-393.8742347793519, -215.1258130090406, -240.53702095568917, -378.7360719199729, -120.14137790665286] [-1.742969305058623, -1.742969305058623, -1.742969305058623, -1.742969305058623, -1.2039728043259361]\n",
      "[-394.02838545917916, -215.27996368886784, -240.6911716355164, -378.89022259980015, -119.85369583420108] [-1.8971199848858813, -1.8971199848858813, -1.8971199848858813, -1.8971199848858813, -0.916290731874155]\n",
      "[-394.2107070159731, -215.4622852456618, -240.87349319231038, -379.0725441565941, -119.63055228288687] [-2.0794415416798357, -2.0794415416798357, -2.0794415416798357, -2.0794415416798357, -0.6931471805599453]\n",
      "[-394.4338505672873, -215.685428796976, -241.09663674362457, -379.2956877079083, -119.44823072609292] [-2.3025850929940455, -2.3025850929940455, -2.3025850929940455, -2.3025850929940455, -0.5108256237659907]\n",
      "[-394.7215326397391, -215.97311086942779, -241.38431881607636, -379.5833697803601, -119.29408004626565] [-2.5902671654458262, -2.5902671654458262, -2.5902671654458262, -2.5902671654458262, -0.35667494393873245]\n",
      "[-395.12699774784727, -216.37857597753595, -241.78978392418452, -379.98883488846826, -119.16054865364113] [-2.9957322735539913, -2.9957322735539913, -2.9957322735539913, -2.9957322735539913, -0.2231435513142097]\n",
      "[-395.8201449284072, -217.0717231580959, -242.48293110474447, -380.6819820690282, -119.04276561798474] [-3.6888794541139367, -3.6888794541139367, -3.6888794541139367, -3.6888794541139367, -0.10536051565782628]\n"
     ]
    },
    {
     "name": "stderr",
     "output_type": "stream",
     "text": [
      "\n",
      "  0%|                                                                                            | 0/1 [00:00<?, ?it/s]"
     ]
    },
    {
     "name": "stdout",
     "output_type": "stream",
     "text": [
      "[-2221.4511257584404, -2221.452655935313, -2223.597008997606, -2221.7336400692316, -2223.2747895647503]\n",
      "[-2079.296931683666, -2077.3623635085514, -2077.127371934561, -2076.428833584998, -2077.4670995730394]\n",
      "[-2004.9476628855239, -2005.2504472774647, -2006.477999392858, -2004.8889102760925, -2005.6690550273681]\n",
      "[-2076.267921079028, -2076.4142250702766, -2076.898096338778, -2077.379235430393, -2079.2705048883704]\n",
      "[-2327.958386488081, -2328.6171097984884, -2327.370398543932, -2327.6212341580363, -2327.660175348076]\n",
      "[-2410.7941073961215, -2410.5703622041715, -2411.6013190428735, -2414.3243929456316, -2410.7027385354545]\n",
      "[-2116.0366588058478, -2116.0477674612284, -2120.7053862464472, -2116.814177960807, -2117.9728175448636]\n",
      "[-2208.438170745996, -2208.632588597682, -2209.071016468164, -2208.3601682524004, -2208.905326223974]\n",
      "[-1254.763971149658, -1254.6505673658814, -1256.0346982829926, -1255.919181899559, -1255.0616735242204]\n"
     ]
    },
    {
     "name": "stderr",
     "output_type": "stream",
     "text": [
      "100%|███████████████████████████████████████████████████████████████████████████████████| 1/1 [04:51<00:00, 291.44s/it]\n"
     ]
    },
    {
     "name": "stdout",
     "output_type": "stream",
     "text": [
      "[-1390.2497434791153, -1390.4110433382016, -1389.8009375285915, -1391.1774388816561, -1389.9957628391135]\n",
      "[-147.09015421223222, -1.6094379124341003, -1.6094379124341003, -1.6094379124341003, -1.6094379124341003] [-1.6094379124341003, -72.97293017821796, -85.05475735440844, -94.13296716967746, -137.0338055058183]\n",
      "[-147.22368560485677, -1.742969305058623, -1.742969305058623, -1.742969305058623, -1.2039728043259361] [-1.742969305058623, -73.10646157084248, -85.18828874703296, -94.26649856230198, -136.62834039771013]\n",
      "[-147.377836284684, -1.8971199848858813, -1.8971199848858813, -1.8971199848858813, -0.916290731874155] [-1.8971199848858813, -73.26061225066974, -85.34243942686021, -94.42064924212923, -136.34065832525835]\n",
      "[-147.56015784147797, -2.0794415416798357, -2.0794415416798357, -2.0794415416798357, -0.6931471805599453] [-2.0794415416798357, -73.4429338074637, -85.52476098365418, -94.6029707989232, -136.11751477394415]\n",
      "[-147.78330139279217, -2.3025850929940455, -2.3025850929940455, -2.3025850929940455, -0.5108256237659907] [-2.3025850929940455, -73.66607735877791, -85.74790453496838, -94.8261143502374, -135.93519321715019]\n",
      "[-148.07098346524396, -2.5902671654458262, -2.5902671654458262, -2.5902671654458262, -0.35667494393873245] [-2.5902671654458262, -73.95375943122968, -86.03558660742016, -95.11379642268918, -135.78104253732295]\n",
      "[-148.47644857335212, -2.9957322735539913, -2.9957322735539913, -2.9957322735539913, -0.2231435513142097] [-2.9957322735539913, -74.35922453933786, -86.44105171552833, -95.51926153079735, -135.64751114469843]\n",
      "[-149.16959575391206, -3.6888794541139367, -3.6888794541139367, -3.6888794541139367, -0.10536051565782628] [-3.6888794541139367, -75.05237171989779, -87.13419889608826, -96.21240871135728, -135.52972810904203]\n"
     ]
    },
    {
     "name": "stderr",
     "output_type": "stream",
     "text": [
      "\r",
      "  0%|                                                                                            | 0/1 [00:00<?, ?it/s]"
     ]
    },
    {
     "name": "stdout",
     "output_type": "stream",
     "text": [
      "[-1307.7089453880842, -1306.4723201355162, -1307.2854616413467, -1307.039367233571, -1307.9308942688738]\n",
      "[-1279.711983912799, -1278.7072545608971, -1281.3228975585516, -1280.2352183029288, -1279.2205993215757]\n",
      "[-1356.88005023832, -1355.6325471804848, -1355.8514496943935, -1355.8122964570175, -1355.3767197649686]\n",
      "[-1313.8805325292046, -1312.8393636285905, -1312.3499516476436, -1312.5220969813086, -1317.7940373025917]\n",
      "[-1342.8899097392102, -1342.9291352889238, -1342.7564528541086, -1344.2561510230705, -1342.4704157576605]\n",
      "[-1307.3499580250696, -1306.2943875968826, -1307.3734001772877, -1306.3003692064717, -1306.425851453348]\n",
      "[-1556.186945724897, -1555.9687935946852, -1555.9614948233932, -1555.8035519966354, -1556.1317921293514]\n",
      "[-1364.577190242041, -1364.3863296774389, -1364.3590510979584, -1365.3163747501558, -1368.1572876347955]\n",
      "[-1476.685358537432, -1476.662426557201, -1476.9941777548356, -1476.7450228922662, -1476.5218434601975]\n"
     ]
    },
    {
     "name": "stderr",
     "output_type": "stream",
     "text": [
      "100%|███████████████████████████████████████████████████████████████████████████████████| 1/1 [04:54<00:00, 294.77s/it]\n"
     ]
    },
    {
     "name": "stdout",
     "output_type": "stream",
     "text": [
      "[-1522.4945895157252, -1522.7619677955481, -1521.9063192960857, -1522.03672269046, -1523.1466536910266]\n",
      "[-29.23283071550379, -44.47127591053443, -37.678109374468775, -193.2862067575648, -1.6094379124341003] [-1.6094379124350098, -1.6094379124341003, -1.6094379124341003, -1.6094379124341003, -47.17829188859248]\n",
      "[-28.827365607395627, -44.60480730315895, -37.811640767093294, -193.41973815018935, -1.742969305058623] [-1.2039728043268456, -1.742969305058623, -1.742969305058623, -1.742969305058623, -47.311823281217]\n",
      "[-28.539683534943848, -44.75895798298621, -37.965791446920555, -193.57388883001659, -1.8971199848858813] [-0.9162907318750645, -1.8971199848858813, -1.8971199848858813, -1.8971199848858813, -47.46597396104426]\n",
      "[-28.316539983629635, -44.94127953978016, -38.148113003714506, -193.75621038681055, -2.0794415416798357] [-0.6931471805608548, -2.0794415416798357, -2.0794415416798357, -2.0794415416798357, -47.648295517838214]\n",
      "[-28.134218426835684, -45.16442309109437, -38.371256555028715, -193.97935393812475, -2.3025850929940455] [-0.5108256237669002, -2.3025850929940455, -2.3025850929940455, -2.3025850929940455, -47.87143906915242]\n",
      "[-27.980067747008423, -45.45210516354615, -38.658938627480495, -194.26703601057653, -2.5902671654458262] [-0.35667494393964194, -2.5902671654458262, -2.5902671654458262, -2.5902671654458262, -48.1591211416042]\n",
      "[-27.8465363543839, -45.85757027165432, -39.06440373558866, -194.6725011186847, -2.9957322735539913] [-0.2231435513151192, -2.9957322735539913, -2.9957322735539913, -2.9957322735539913, -48.56458624971237]\n",
      "[-27.728753318727517, -46.550717452214265, -39.75755091614861, -195.36564829924464, -3.6888794541139367] [-0.10536051565873578, -3.6888794541139367, -3.6888794541139367, -3.6888794541139367, -49.25773343027232]\n"
     ]
    },
    {
     "name": "stderr",
     "output_type": "stream",
     "text": [
      "\r",
      "  0%|                                                                                            | 0/1 [00:00<?, ?it/s]"
     ]
    },
    {
     "name": "stdout",
     "output_type": "stream",
     "text": [
      "[-1287.82392376088, -1288.0228742628392, -1288.834847335515, -1288.0416158357552, -1288.5655454623052]\n",
      "[-1324.1759442181258, -1325.2592312470708, -1324.3624455763395, -1325.8670704009176, -1325.0277551302909]\n",
      "[-1330.2009444265743, -1330.6974625139003, -1331.4317341050366, -1330.2813513143076, -1332.5606444854377]\n",
      "[-1357.8086393863364, -1358.244728285778, -1357.8981926601723, -1357.8189915360877, -1360.2419683126814]\n",
      "[-1299.8649594545286, -1300.5770301147577, -1300.1248033641323, -1300.569860060249, -1301.958535469953]\n",
      "[-1331.2580962831823, -1331.1062134692008, -1331.9458656324248, -1331.4260505879035, -1331.221010889957]\n",
      "[-1507.4482984524207, -1507.8715957740774, -1507.6420946751446, -1507.715963044508, -1508.4308270897004]\n",
      "[-1419.9844953519325, -1420.1611888642485, -1420.1478174476335, -1422.2268829852667, -1420.925204483746]\n",
      "[-1539.1642948225938, -1538.6127681692608, -1537.9169711430889, -1537.964882364454, -1538.2659063280164]\n"
     ]
    },
    {
     "name": "stderr",
     "output_type": "stream",
     "text": [
      "100%|███████████████████████████████████████████████████████████████████████████████████| 1/1 [04:50<00:00, 290.67s/it]\n"
     ]
    },
    {
     "name": "stdout",
     "output_type": "stream",
     "text": [
      "[-1650.528821975384, -1651.473765304587, -1650.4004005723239, -1652.2605209985907, -1651.236449557675]\n",
      "[-1.6094379124341003, -1.6094379124354645, -1.6094379124341003, -88.87552007826851, -1.6094379124341003] [-38.21231349062607, -28.96520520405222, -32.917255003162, -1.6094379124341003, -114.24203677295425]\n",
      "[-1.2039728043259361, -1.7429693050599873, -1.742969305058623, -89.00905147089303, -1.742969305058623] [-37.806848382517906, -29.098736596676744, -33.05078639578652, -1.742969305058623, -114.37556816557877]\n",
      "[-0.916290731874155, -1.8971199848872455, -1.8971199848858813, -89.16320215072028, -1.8971199848858813] [-37.519166310066126, -29.252887276504005, -33.20493707561378, -1.8971199848858813, -114.52971884540602]\n",
      "[-0.6931471805599453, -2.0794415416812, -2.0794415416798357, -89.34552370751425, -2.0794415416798357] [-37.29602275875192, -29.435208833297956, -33.38725863240773, -2.0794415416798357, -114.71204040219999]\n",
      "[-0.5108256237659907, -2.3025850929954097, -2.3025850929940455, -89.56866725882846, -2.3025850929940455] [-37.11370120195796, -29.65835238461217, -33.61040218372194, -2.3025850929940455, -114.9351839535142]\n",
      "[-0.35667494393873245, -2.5902671654471905, -2.5902671654458262, -89.85634933128023, -2.5902671654458262] [-36.959550522130705, -29.94603445706395, -33.89808425617372, -2.5902671654458262, -115.22286602596597]\n",
      "[-0.2231435513142097, -2.9957322735553555, -2.9957322735539913, -90.2618144393884, -2.9957322735539913] [-36.82601912950618, -30.351499565172112, -34.303549364281885, -2.9957322735539913, -115.62833113407414]\n",
      "[-0.10536051565782628, -3.688879454115301, -3.6888794541139367, -90.95496161994834, -3.6888794541139367] [-36.7082360938498, -31.04464674573206, -34.99669654484183, -3.6888794541139367, -116.32147831463408]\n"
     ]
    },
    {
     "name": "stderr",
     "output_type": "stream",
     "text": [
      "\r",
      "  0%|                                                                                            | 0/1 [00:00<?, ?it/s]"
     ]
    },
    {
     "name": "stdout",
     "output_type": "stream",
     "text": [
      "[-1376.8374123416777, -1374.749802563694, -1375.3411928913754, -1375.2221584457782, -1375.2225343139341]\n",
      "[-1334.6779496529462, -1334.4763189200576, -1334.2461778512488, -1333.6304535530917, -1334.9338606276697]\n",
      "[-1337.3029278101942, -1336.9644447135117, -1338.5529194074381, -1337.4344552066807, -1336.8676883601195]\n",
      "[-1292.799387889781, -1290.2784961269622, -1292.1390473998886, -1290.4148302817316, -1290.6226348642354]\n",
      "[-1421.8085617879813, -1419.8353042432689, -1420.2671748181426, -1419.1556476074445, -1419.385639260753]\n",
      "[-1337.2778278898284, -1336.4560365050081, -1337.8145100463105, -1337.0147689478715, -1336.799676623962]\n",
      "[-1455.660664648149, -1456.9154280863552, -1455.6095280810953, -1455.6655285353302, -1455.9506200606959]\n",
      "[-1322.6828139762054, -1323.543186091583, -1322.7404456132479, -1323.2528174841552, -1322.7914607513355]\n",
      "[-1488.0196159239772, -1487.9006422744483, -1488.598097268396, -1489.9254280221417, -1489.1947891032091]\n"
     ]
    },
    {
     "name": "stderr",
     "output_type": "stream",
     "text": [
      "100%|███████████████████████████████████████████████████████████████████████████████████| 1/1 [04:54<00:00, 294.66s/it]\n"
     ]
    },
    {
     "name": "stdout",
     "output_type": "stream",
     "text": [
      "[-1515.821333276828, -1515.9510125060694, -1515.629893460027, -1516.9829638232256, -1515.8530847700965]\n",
      "[-42.23603353871779, -47.80909402933601, -84.4664041199522, -134.82818133131997, -1.6094379124350098] [-1.6094379124341003, -1.6094379124341003, -1.6094379124341003, -1.6094379124341003, -29.37000622160833]\n",
      "[-42.36956493134231, -47.40362892122784, -84.59993551257672, -134.96171272394452, -1.7429693050595325] [-1.742969305058623, -1.2039728043259361, -1.742969305058623, -1.742969305058623, -29.503537614232854]\n",
      "[-42.52371561116957, -47.11594684877606, -84.75408619240397, -135.11586340377175, -1.8971199848867908] [-1.8971199848858813, -0.916290731874155, -1.8971199848858813, -1.8971199848858813, -29.657688294060115]\n",
      "[-42.70603716796352, -46.89280329746185, -84.93640774919794, -135.29818496056572, -2.0794415416807452] [-2.0794415416798357, -0.6931471805599453, -2.0794415416798357, -2.0794415416798357, -29.840009850854067]\n",
      "[-42.92918071927773, -46.710481740667895, -85.15955130051215, -135.52132851187991, -2.302585092994955] [-2.3025850929940455, -0.5108256237659907, -2.3025850929940455, -2.3025850929940455, -30.06315340216828]\n",
      "[-43.21686279172951, -46.55633106084064, -85.44723337296392, -135.8090105843317, -2.5902671654467357] [-2.5902671654458262, -0.35667494393873245, -2.5902671654458262, -2.5902671654458262, -30.35083547462006]\n",
      "[-43.62232789983768, -46.422799668216115, -85.8526984810721, -136.21447569243986, -2.995732273554901] [-2.9957322735539913, -0.2231435513142097, -2.9957322735539913, -2.9957322735539913, -30.756300582728223]\n",
      "[-44.315475080397626, -46.305016632559735, -86.54584566163203, -136.9076228729998, -3.688879454114846] [-3.6888794541139367, -0.10536051565782628, -3.6888794541139367, -3.6888794541139367, -31.44944776328817]\n"
     ]
    },
    {
     "name": "stderr",
     "output_type": "stream",
     "text": [
      "\r",
      "  0%|                                                                                            | 0/1 [00:00<?, ?it/s]"
     ]
    },
    {
     "name": "stdout",
     "output_type": "stream",
     "text": [
      "[-1332.7136794208816, -1331.590143513651, -1331.3725436905258, -1331.3822709989506, -1332.522890286247]\n",
      "[-1364.4393976017543, -1363.146908919787, -1363.256106501745, -1365.1601942193463, -1363.1799242733339]\n",
      "[-1288.0950405530439, -1285.5357601178384, -1286.8904116793547, -1285.4929143700265, -1289.1903689211013]\n",
      "[-1329.005409753136, -1331.3555491612174, -1330.2378275316264, -1330.8640283384707, -1329.0329774275565]\n",
      "[-1354.366109145186, -1353.32081294999, -1353.2462563554793, -1355.0944776378376, -1353.3089311977885]\n",
      "[-1367.559004793924, -1368.1506948221704, -1367.2383914239235, -1367.4885814349745, -1368.755578397444]\n",
      "[-1391.7883999412834, -1391.0205372404116, -1390.4145425431007, -1390.359311185729, -1391.905322788628]\n",
      "[-1382.8640257965355, -1382.395723094339, -1383.396273986092, -1383.3194160852483, -1382.1377575935524]\n",
      "[-1478.9981869713147, -1473.363290038461, -1475.1343814439233, -1473.201524014693, -1476.0635912604548]\n"
     ]
    },
    {
     "name": "stderr",
     "output_type": "stream",
     "text": [
      "100%|███████████████████████████████████████████████████████████████████████████████████| 1/1 [04:44<00:00, 284.80s/it]\n"
     ]
    },
    {
     "name": "stdout",
     "output_type": "stream",
     "text": [
      "[-1573.860613919018, -1575.6290535593528, -1573.9971077001048, -1575.6241089723574, -1574.829407715379]\n",
      "[-1.6094379124341003, -1.6094379124341003, -1.60943863521818, -9.944966376485649, -1.6094379124341003] [-33.890154473386545, -45.05236284962446, -15.749593625548936, -1.6096777836135743, -102.09009983991162]\n",
      "[-1.742969305058623, -1.2039728043259361, -1.7429700278427027, -10.078497769110172, -1.742969305058623] [-34.023685866011064, -44.64689774151629, -15.883125018173459, -1.743209176238097, -102.22363123253614]\n",
      "[-1.8971199848858813, -0.916290731874155, -1.897120707669961, -10.23264844893743, -1.8971199848858813] [-34.177836545838325, -44.35921566906451, -16.03727569800072, -1.8973598560653553, -102.37778191236339]\n",
      "[-2.0794415416798357, -0.6931471805599453, -2.0794422644639154, -10.414970005731385, -2.0794415416798357] [-34.360158102632276, -44.1360721177503, -16.21959725479467, -2.0796814128593097, -102.56010346915735]\n",
      "[-2.3025850929940455, -0.5108256237659907, -2.302585815778125, -10.638113557045594, -2.3025850929940455] [-34.583301653946485, -43.953750560956344, -16.442740806108883, -2.3028249641735195, -102.78324702047156]\n",
      "[-2.5902671654458262, -0.35667494393873245, -2.590267888229906, -10.925795629497376, -2.5902671654458262] [-34.870983726398265, -43.79959988112909, -16.730422878560663, -2.5905070366253002, -103.07092909292334]\n",
      "[-2.9957322735539913, -0.2231435513142097, -2.995732996338071, -11.33126073760554, -2.9957322735539913] [-35.27644883450643, -43.666068488504564, -17.135887986668827, -2.9959721447334653, -103.47639420103151]\n",
      "[-3.6888794541139367, -0.10536051565782628, -3.6888801768980164, -12.024407918165487, -3.6888794541139367] [-35.96959601506638, -43.548285452848184, -17.829035167228774, -3.6891193252934107, -104.16954138159144]\n"
     ]
    },
    {
     "name": "stderr",
     "output_type": "stream",
     "text": [
      "\r",
      "  0%|                                                                                            | 0/1 [00:00<?, ?it/s]"
     ]
    },
    {
     "name": "stdout",
     "output_type": "stream",
     "text": [
      "[-1316.6884687583206, -1316.8022718869743, -1316.525073754192, -1316.4760380278003, -1318.444031226054]\n",
      "[-1291.6931544757565, -1292.6482544872154, -1292.77075393555, -1291.6660999477492, -1293.3225184137148]\n",
      "[-1354.6108261861987, -1355.2521239223456, -1354.734976322146, -1355.0598332758268, -1357.397229939586]\n",
      "[-1312.616754902769, -1315.2783082586195, -1313.0046648656373, -1312.8331069129292, -1313.493370870938]\n",
      "[-1334.990408717658, -1337.2365901375777, -1335.9293714517005, -1334.6436546853981, -1334.5075826515856]\n",
      "[-1276.6240699418076, -1276.9030491499389, -1277.4183024723707, -1276.341589405517, -1276.7352554134077]\n",
      "[-1529.3882841766876, -1529.8705515771994, -1529.7637738021417, -1532.4713611350721, -1531.4877315352765]\n",
      "[-1322.7672764520119, -1322.91960868615, -1322.223973959526, -1320.4262616570647, -1320.3107205965805]\n",
      "[-1542.621334203538, -1542.3400815390823, -1544.5217878780722, -1542.343727902674, -1542.2664956683775]\n"
     ]
    },
    {
     "name": "stderr",
     "output_type": "stream",
     "text": [
      "100%|███████████████████████████████████████████████████████████████████████████████████| 1/1 [04:46<00:00, 286.61s/it]\n"
     ]
    },
    {
     "name": "stdout",
     "output_type": "stream",
     "text": [
      "[-1592.0914249602533, -1592.6578994726765, -1593.1558672037968, -1592.7931597067977, -1591.9177969075276]\n",
      "[-26.03769804734186, -43.856752461905515, -59.77516798393192, -210.78681017222704, -1.6094379124341003] [-1.6094379124586566, -1.6094379124341003, -1.6094379124341003, -1.6094379124341003, -51.165721125752796]\n",
      "[-26.171229439966382, -43.990283854530034, -59.369702875823755, -210.92034156485158, -1.742969305058623] [-1.7429693050831794, -1.742969305058623, -1.2039728043259361, -1.742969305058623, -51.299252518377315]\n",
      "[-26.325380119793643, -44.144434534357295, -59.082020803371975, -211.07449224467882, -1.8971199848858813] [-1.8971199849104377, -1.8971199848858813, -0.916290731874155, -1.8971199848858813, -51.453403198204576]\n",
      "[-26.507701676587594, -44.326756091151246, -58.858877252057766, -211.2568138014728, -2.0794415416798357] [-2.079441541704392, -2.0794415416798357, -0.6931471805599453, -2.0794415416798357, -51.63572475499853]\n",
      "[-26.730845227901806, -44.549899642465455, -58.67655569526381, -211.47995735278698, -2.3025850929940455] [-2.302585093018602, -2.3025850929940455, -0.5108256237659907, -2.3025850929940455, -51.858868306312736]\n",
      "[-27.018527300353586, -44.837581714917235, -58.522405015436554, -211.76763942523877, -2.5902671654458262] [-2.5902671654703826, -2.5902671654458262, -0.35667494393873245, -2.5902671654458262, -52.146550378764516]\n",
      "[-27.42399240846175, -45.2430468230254, -58.38887362281203, -212.17310453334693, -2.9957322735539913] [-2.9957322735785477, -2.9957322735539913, -0.2231435513142097, -2.9957322735539913, -52.55201548687268]\n",
      "[-28.117139589021697, -45.93619400358535, -58.27109058715565, -212.86625171390688, -3.6888794541139367] [-3.688879454138493, -3.6888794541139367, -0.10536051565782628, -3.6888794541139367, -53.24516266743263]\n"
     ]
    },
    {
     "name": "stderr",
     "output_type": "stream",
     "text": [
      "\r",
      "  0%|                                                                                            | 0/1 [00:00<?, ?it/s]"
     ]
    },
    {
     "name": "stdout",
     "output_type": "stream",
     "text": [
      "[-1287.0094760300642, -1287.4952516790588, -1287.3618047893185, -1288.8493920307162, -1287.9922348649932]\n",
      "[-1326.5537629547568, -1327.5338393887748, -1329.986641801758, -1326.6743163140297, -1326.1984196507062]\n",
      "[-1335.1073991725686, -1336.0662340075767, -1335.0454834730888, -1335.2661515336629, -1334.9459066262323]\n",
      "[-1372.9417890432178, -1375.7610397361077, -1372.910949791718, -1372.6989419645051, -1373.0338427142651]\n",
      "[-1284.371426178138, -1284.2442378701483, -1284.6837047714755, -1283.6784578015897, -1285.9142891529002]\n",
      "[-1328.7074592315319, -1329.5565669938503, -1327.8872630101966, -1327.6247060304293, -1327.8699764310575]\n",
      "[-1490.6952834960064, -1490.8600310011495, -1491.683044876652, -1490.542234856486, -1490.8370282267676]\n",
      "[-1415.622959858717, -1415.5495119472407, -1415.665050748511, -1415.1510264728213, -1415.6478391603096]\n",
      "[-1528.026043319901, -1528.6193833504376, -1528.4027134496873, -1528.5768673785942, -1527.7780178913245]\n"
     ]
    },
    {
     "name": "stderr",
     "output_type": "stream",
     "text": [
      "100%|███████████████████████████████████████████████████████████████████████████████████| 1/1 [04:43<00:00, 283.45s/it]"
     ]
    },
    {
     "name": "stdout",
     "output_type": "stream",
     "text": [
      "[-1645.5437010066516, -1645.7673786423393, -1645.8706741528722, -1644.950205556116, -1646.568943070145]\n",
      "[-1.6094379124341003, -1.6094379124341003, -1.6094379124341003, -76.99962203511957, -1.6094379124341003] [-41.055741106762596, -39.48705403031438, -45.94904893941255, -1.6094379124341003, -118.72158500111784]\n",
      "[-1.742969305058623, -1.742969305058623, -1.2039728043259361, -77.13315342774409, -1.742969305058623] [-41.189272499387116, -39.6205854229389, -45.54358383130438, -1.742969305058623, -118.85511639374236]\n",
      "[-1.8971199848858813, -1.8971199848858813, -0.916290731874155, -77.28730410757134, -1.8971199848858813] [-41.343423179214376, -39.77473610276616, -45.2559017588526, -1.8971199848858813, -119.00926707356962]\n",
      "[-2.0794415416798357, -2.0794415416798357, -0.6931471805599453, -77.46962566436531, -2.0794415416798357] [-41.52574473600833, -39.957057659560114, -45.03275820753839, -2.0794415416798357, -119.19158863036358]\n",
      "[-2.3025850929940455, -2.3025850929940455, -0.5108256237659907, -77.69276921567952, -2.3025850929940455] [-41.748888287322536, -40.18020121087432, -44.850436650744435, -2.3025850929940455, -119.41473218167779]\n",
      "[-2.5902671654458262, -2.5902671654458262, -0.35667494393873245, -77.98045128813129, -2.5902671654458262] [-42.036570359774316, -40.4678832833261, -44.69628597091718, -2.5902671654458262, -119.70241425412956]\n",
      "[-2.9957322735539913, -2.9957322735539913, -0.2231435513142097, -78.38591639623947, -2.9957322735539913] [-42.442035467882484, -40.87334839143427, -44.562754578292655, -2.9957322735539913, -120.10787936223774]\n",
      "[-3.6888794541139367, -3.6888794541139367, -0.10536051565782628, -79.0790635767994, -3.6888794541139367] [-43.13518264844243, -41.56649557199422, -44.444971542636274, -3.6888794541139367, -120.80102654279767]\n"
     ]
    },
    {
     "name": "stderr",
     "output_type": "stream",
     "text": [
      "\n",
      "  0%|                                                                                            | 0/1 [00:00<?, ?it/s]"
     ]
    },
    {
     "name": "stdout",
     "output_type": "stream",
     "text": [
      "[-1420.7371211834559, -1419.9471765837968, -1417.8104760330332, -1417.3185204752388, -1422.3254339974826]\n",
      "[-1340.807247181717, -1342.42435076705, -1340.4269445448037, -1340.7526513125079, -1342.0877247755154]\n",
      "[-1400.8772291760836, -1401.504823234631, -1400.833960314849, -1401.9802497338098, -1402.4779093282998]\n",
      "[-1318.1285005740633, -1318.575961897614, -1317.5363868821428, -1322.1257819675507, -1317.9834137206476]\n",
      "[-1450.3295707823006, -1451.51716773755, -1450.7391371546134, -1451.5186468036288, -1450.3668270274527]\n",
      "[-1325.236473311669, -1325.610803378541, -1324.1349262624997, -1328.6557301816345, -1325.9244356842235]\n",
      "[-1531.708862423804, -1530.9433962171406, -1530.131148209237, -1530.2890704390247, -1529.9952868688797]\n",
      "[-1289.3532986604446, -1289.2367537262076, -1289.3587194704055, -1290.3324842065817, -1289.421503961003]\n",
      "[-1510.6543037678139, -1510.897191238947, -1510.5994702173566, -1511.2508389635996, -1513.3735609825608]\n"
     ]
    },
    {
     "name": "stderr",
     "output_type": "stream",
     "text": [
      "100%|███████████████████████████████████████████████████████████████████████████████████| 1/1 [04:46<00:00, 286.59s/it]"
     ]
    },
    {
     "name": "stdout",
     "output_type": "stream",
     "text": [
      "[-1505.163804362091, -1504.6073058884353, -1507.0304919892073, -1504.5730323554012, -1505.7886587578246]\n",
      "[-79.19570266239369, -84.82793592813876, -127.65123970753059, -242.21404277134872, -7.887482811555697] [-1.6094379124341003, -1.6094379124341003, -1.6094379124341003, -1.6094379124341003, -1.6113167431959254]\n",
      "[-79.3292340550182, -84.96146732076328, -127.78477110015511, -241.80857766324056, -8.021014204180219] [-1.742969305058623, -1.742969305058623, -1.742969305058623, -1.2039728043259361, -1.7448481358204482]\n",
      "[-79.48338473484546, -85.11561800059053, -127.93892177998237, -241.52089559078877, -8.175164884007478] [-1.8971199848858813, -1.8971199848858813, -1.8971199848858813, -0.916290731874155, -1.8989988156477065]\n",
      "[-79.66570629163942, -85.2979395573845, -128.12124333677633, -241.29775203947457, -8.357486440801432] [-2.0794415416798357, -2.0794415416798357, -2.0794415416798357, -0.6931471805599453, -2.081320372441661]\n",
      "[-79.88884984295363, -85.5210831086987, -128.34438688809053, -241.1154304826806, -8.580629992115641] [-2.3025850929940455, -2.3025850929940455, -2.3025850929940455, -0.5108256237659907, -2.3044639237558706]\n",
      "[-80.1765319154054, -85.80876518115048, -128.6320689605423, -240.96127980285337, -8.868312064567423] [-2.5902671654458262, -2.5902671654458262, -2.5902671654458262, -0.35667494393873245, -2.5921459962076514]\n",
      "[-80.58199702351358, -86.21423028925865, -129.03753406865047, -240.82774841022885, -9.273777172675587] [-2.9957322735539913, -2.9957322735539913, -2.9957322735539913, -0.2231435513142097, -2.9976111043158165]\n",
      "[-81.27514420407351, -86.90737746981858, -129.73068124921042, -240.70996537457245, -9.966924353235534] [-3.6888794541139367, -3.6888794541139367, -3.6888794541139367, -0.10536051565782628, -3.690758284875762]\n"
     ]
    },
    {
     "name": "stderr",
     "output_type": "stream",
     "text": [
      "\n",
      "  0%|                                                                                            | 0/1 [00:00<?, ?it/s]"
     ]
    },
    {
     "name": "stdout",
     "output_type": "stream",
     "text": [
      "[-1485.7280992453254, -1485.1985735078872, -1485.0062521239981, -1485.6395565521036, -1484.634074750875]\n",
      "[-1539.4457629928465, -1539.3143833176682, -1539.8925736147748, -1539.878226851356, -1539.549968072427]\n",
      "[-1354.4361331079144, -1354.7136135099736, -1355.7582053785027, -1354.217523043948, -1356.2917330233631]\n",
      "[-1462.5357387249223, -1460.0808977468241, -1460.5805822353414, -1460.9382268750905, -1460.444230056235]\n",
      "[-1477.7697235621265, -1477.728406259553, -1478.22929903099, -1477.8775501272714, -1477.8455366707742]\n",
      "[-1536.2662105994125, -1535.8270165142778, -1537.2411880600296, -1536.7829497491941, -1537.2275346983254]\n",
      "[-1278.7596702146852, -1282.369190253377, -1282.2569572103835, -1279.7448318932306, -1280.2472089692906]\n",
      "[-1490.481632698828, -1491.8699536781555, -1490.7547569950316, -1490.7967384344142, -1491.0266168032308]\n",
      "[-1503.6462467912227, -1503.3941680105074, -1503.8335989101054, -1505.4004464600605, -1503.5807250623059]\n"
     ]
    },
    {
     "name": "stderr",
     "output_type": "stream",
     "text": [
      "100%|███████████████████████████████████████████████████████████████████████████████████| 1/1 [04:46<00:00, 286.56s/it]"
     ]
    },
    {
     "name": "stdout",
     "output_type": "stream",
     "text": [
      "[-1622.3417169582167, -1623.036340904138, -1621.6120993378204, -1622.0879854252048, -1623.4495612691458]\n",
      "[-1.6094379124341003, -1.6094379124341003, -1.6094379124341003, -1.6094379124341003, -1.6094379124341003] [-56.206963039786686, -107.40041053414991, -59.73103529005387, -213.2357790375566, -120.31776035232777]\n",
      "[-1.742969305058623, -1.742969305058623, -1.742969305058623, -1.2039728043259361, -1.742969305058623] [-56.340494432411205, -107.53394192677443, -59.86456668267839, -212.83031392944844, -120.45129174495229]\n",
      "[-1.8971199848858813, -1.8971199848858813, -1.8971199848858813, -0.916290731874155, -1.8971199848858813] [-56.494645112238466, -107.68809260660169, -60.01871736250565, -212.54263185699665, -120.60544242477954]\n",
      "[-2.0794415416798357, -2.0794415416798357, -2.0794415416798357, -0.6931471805599453, -2.0794415416798357] [-56.67696666903242, -107.87041416339565, -60.2010389192996, -212.31948830568246, -120.7877639815735]\n",
      "[-2.3025850929940455, -2.3025850929940455, -2.3025850929940455, -0.5108256237659907, -2.3025850929940455] [-56.900110220346626, -108.09355771470986, -60.42418247061381, -212.1371667488885, -121.01090753288771]\n",
      "[-2.5902671654458262, -2.5902671654458262, -2.5902671654458262, -0.35667494393873245, -2.5902671654458262] [-57.187792292798406, -108.38123978716163, -60.71186454306559, -211.98301606906125, -121.29858960533949]\n",
      "[-2.9957322735539913, -2.9957322735539913, -2.9957322735539913, -0.2231435513142097, -2.9957322735539913] [-57.59325740090657, -108.7867048952698, -61.117329651173755, -211.84948467643673, -121.70405471344766]\n",
      "[-3.6888794541139367, -3.6888794541139367, -3.6888794541139367, -0.10536051565782628, -3.6888794541139367] [-58.28640458146652, -109.47985207582974, -61.8104768317337, -211.73170164078033, -122.3972018940076]\n"
     ]
    },
    {
     "name": "stderr",
     "output_type": "stream",
     "text": [
      "\n",
      "  0%|                                                                                            | 0/1 [00:00<?, ?it/s]"
     ]
    },
    {
     "name": "stdout",
     "output_type": "stream",
     "text": [
      "[-1608.8206996091253, -1608.0604057954265, -1608.0277266772687, -1609.0132340163332, -1607.835514766332]\n",
      "[-1507.2770323996938, -1506.4031325978121, -1506.9916230675572, -1507.1626700016914, -1506.6656117858347]\n",
      "[-1554.4203572269694, -1552.776110649917, -1553.445809039033, -1553.2428318113166, -1553.5186719931303]\n",
      "[-1491.4960402079143, -1490.8646582578933, -1490.2845365067753, -1492.031441532816, -1491.6124925106835]\n",
      "[-1657.8507407107506, -1658.786078079688, -1657.9539500581566, -1658.9296043008333, -1658.3411399424483]\n",
      "[-1584.2428871436057, -1583.8058532695793, -1583.5912449964305, -1583.9798552628997, -1584.5592292299186]\n",
      "[-1611.2886915789034, -1609.9650223268593, -1611.2036101020396, -1614.9120536267048, -1609.9378406125227]\n",
      "[-1496.0962258402888, -1495.3239769903757, -1495.3202192742046, -1495.1291504573037, -1495.9195332735562]\n",
      "[-1323.3593249558592, -1321.401454120479, -1322.3457494532606, -1321.6429616795624, -1321.2984797624497]\n"
     ]
    },
    {
     "name": "stderr",
     "output_type": "stream",
     "text": [
      "100%|███████████████████████████████████████████████████████████████████████████████████| 1/1 [04:41<00:00, 281.98s/it]"
     ]
    },
    {
     "name": "stdout",
     "output_type": "stream",
     "text": [
      "[-1286.1412429674635, -1285.9066685704418, -1286.0315659351143, -1286.664740536038, -1286.6399232500223]\n",
      "[-103.42091264730023, -64.0416974594337, -75.97459868034237, -116.47290598503817, -37.12657594509035] [-1.6094379124341003, -1.6094379124341003, -1.6094379124341003, -1.6094379124341003, -1.6094379124341003]\n",
      "[-103.55444403992475, -64.17522885205823, -76.10813007296689, -116.60643737766269, -36.721110836982184] [-1.742969305058623, -1.742969305058623, -1.742969305058623, -1.742969305058623, -1.2039728043259361]\n",
      "[-103.708594719752, -64.32937953188548, -76.26228075279414, -116.76058805748994, -36.433428764530404] [-1.8971199848858813, -1.8971199848858813, -1.8971199848858813, -1.8971199848858813, -0.916290731874155]\n",
      "[-103.89091627654597, -64.51170108867944, -76.4446023095881, -116.9429096142839, -36.210285213216196] [-2.0794415416798357, -2.0794415416798357, -2.0794415416798357, -2.0794415416798357, -0.6931471805599453]\n",
      "[-104.11405982786017, -64.73484463999365, -76.66774586090231, -117.16605316559811, -36.02796365642224] [-2.3025850929940455, -2.3025850929940455, -2.3025850929940455, -2.3025850929940455, -0.5108256237659907]\n",
      "[-104.40174190031195, -65.02252671244543, -76.95542793335409, -117.45373523804989, -35.873812976594984] [-2.5902671654458262, -2.5902671654458262, -2.5902671654458262, -2.5902671654458262, -0.35667494393873245]\n",
      "[-104.80720700842012, -65.4279918205536, -77.36089304146226, -117.85920034615806, -35.74028158397046] [-2.9957322735539913, -2.9957322735539913, -2.9957322735539913, -2.9957322735539913, -0.2231435513142097]\n",
      "[-105.50035418898005, -66.12113900111353, -78.0540402220222, -118.552347526718, -35.62249854831408] [-3.6888794541139367, -3.6888794541139367, -3.6888794541139367, -3.6888794541139367, -0.10536051565782628]\n"
     ]
    },
    {
     "name": "stderr",
     "output_type": "stream",
     "text": [
      "\n",
      "  0%|                                                                                            | 0/1 [00:00<?, ?it/s]"
     ]
    },
    {
     "name": "stdout",
     "output_type": "stream",
     "text": [
      "[-1499.48559825731, -1499.0585171234743, -1499.5894746295853, -1499.7150720183017, -1499.0006004308561]\n",
      "[-1465.0894879697335, -1467.9364458543168, -1464.7430058771606, -1465.0162592971064, -1465.0188589242061]\n",
      "[-1460.391087459733, -1462.1873653845375, -1460.2795122043005, -1459.7034152224348, -1461.1706027382586]\n",
      "[-1470.8006561395994, -1469.6269049943037, -1469.6018937734586, -1469.5871499748134, -1469.281068058928]\n",
      "[-1526.934765744708, -1528.0489853424963, -1525.743268578882, -1527.093097518272, -1526.223435709516]\n",
      "[-1546.1735181220286, -1546.821057510577, -1548.4782927626368, -1546.6491958520057, -1546.1248547627622]\n",
      "[-1505.3004044157376, -1504.4079065891517, -1504.5104956888197, -1505.3009258594927, -1504.7371367507828]\n",
      "[-1514.7177208736882, -1512.5320197368471, -1512.02904345183, -1512.7672224571922, -1512.3743726443406]\n",
      "[-1299.6928481043374, -1299.908654261258, -1300.5651302173442, -1300.825055757677, -1300.1355003155418]\n"
     ]
    },
    {
     "name": "stderr",
     "output_type": "stream",
     "text": [
      "100%|███████████████████████████████████████████████████████████████████████████████████| 1/1 [04:48<00:00, 288.13s/it]\n"
     ]
    },
    {
     "name": "stdout",
     "output_type": "stream",
     "text": [
      "[-1339.6117325500875, -1338.1498855145676, -1337.826618769983, -1340.198966838687, -1338.1255009228246]\n",
      "[-35.59999358438047, -1.6095036295949512, -1.6094379143058404, -1.6098777836915132, -1.6094379124341003] [-1.6094379124341003, -11.239621238780568, -21.705855791601447, -9.338686310447041, -39.50813386836292]\n",
      "[-35.73352497700499, -1.743035022219474, -1.7429693069303631, -1.743409176316036, -1.2039728043259361] [-1.742969305058623, -11.373152631405091, -21.83938718422597, -9.472217703071564, -39.10266876025475]\n",
      "[-35.88767565683225, -1.8971857020467322, -1.8971199867576214, -1.8975598561432943, -0.916290731874155] [-1.8971199848858813, -11.52730331123235, -21.99353786405323, -9.626368382898823, -38.81498668780297]\n",
      "[-36.0699972136262, -2.0795072588406867, -2.079441543551576, -2.0798814129372487, -0.6931471805599453] [-2.0794415416798357, -11.709624868026305, -22.175859420847182, -9.808689939692778, -38.59184313648876]\n",
      "[-36.29314076494041, -2.3026508101548964, -2.3025850948657856, -2.3030249642514584, -0.5108256237659907] [-2.3025850929940455, -11.932768419340514, -22.399002972161394, -10.031833491006987, -38.409521579694804]\n",
      "[-36.58082283739219, -2.590332882606677, -2.5902671673175663, -2.590707036703239, -0.35667494393873245] [-2.5902671654458262, -12.220450491792295, -22.686685044613174, -10.319515563458769, -38.25537089986755]\n",
      "[-36.98628794550036, -2.995797990714842, -2.9957322754257314, -2.9961721448114043, -0.2231435513142097] [-2.9957322735539913, -12.625915599900459, -23.092150152721338, -10.724980671566932, -38.121839507243024]\n",
      "[-37.679435126060305, -3.6889451712747876, -3.688879455985677, -3.6893193253713497, -0.10536051565782628] [-3.6888794541139367, -13.319062780460406, -23.785297333281285, -11.41812785212688, -38.004056471586644]\n"
     ]
    },
    {
     "name": "stderr",
     "output_type": "stream",
     "text": [
      "\r",
      "  0%|                                                                                            | 0/1 [00:00<?, ?it/s]"
     ]
    },
    {
     "name": "stdout",
     "output_type": "stream",
     "text": [
      "[-1325.936694982117, -1324.4157873010017, -1324.23234385267, -1324.5127281042414, -1325.534160394037]\n",
      "[-1305.0680145946649, -1305.001760806114, -1305.3226277864273, -1306.3898558930346, -1307.4857046646034]\n",
      "[-1335.2005648255322, -1334.9867249556296, -1336.6212786695282, -1336.8378156635767, -1336.3652436040024]\n",
      "[-1315.0236142513477, -1317.1122662128491, -1314.1594821226627, -1314.371292107624, -1314.583899592939]\n",
      "[-1338.3097127297385, -1338.2480748181858, -1338.23701405911, -1338.5916987102844, -1338.3690632242376]\n",
      "[-1315.3904078539288, -1317.3963594314353, -1315.1736888787652, -1314.8092452611252, -1315.5749434476108]\n",
      "[-1404.0767336905924, -1403.771956984398, -1403.6246595844063, -1407.841317595005, -1405.402178853336]\n",
      "[-1325.2216895569215, -1325.3716941344971, -1325.6874575984036, -1327.3308028708195, -1327.4342935100938]\n",
      "[-1370.1866475531224, -1369.2097171317819, -1369.2486548733668, -1369.6150765043803, -1370.324331075195]\n"
     ]
    },
    {
     "name": "stderr",
     "output_type": "stream",
     "text": [
      "100%|███████████████████████████████████████████████████████████████████████████████████| 1/1 [04:44<00:00, 284.36s/it]\n"
     ]
    },
    {
     "name": "stdout",
     "output_type": "stream",
     "text": [
      "[-1385.0007405657414, -1382.761740822814, -1382.6915368379448, -1385.8218529879848, -1383.9245942030718]\n",
      "[-20.645219575057876, -22.298585194803376, -24.788429459311214, -80.22404438323981, -1.6094388876022776] [-1.6094379178399094, -1.6094379134688779, -1.6094379125198202, -1.6094379124341003, -15.450094274206617]\n",
      "[-20.239754466949712, -22.4321165874279, -24.921960851935737, -80.35757577586433, -1.7429702802268003] [-1.2039728097317453, -1.7429693060934006, -1.742969305144343, -1.742969305058623, -15.58362566683114]\n",
      "[-19.952072394497932, -22.58626726725516, -25.076111531762997, -80.51172645569159, -1.8971209600540586] [-0.9162907372799641, -1.897119985920659, -1.8971199849716012, -1.8971199848858813, -15.737776346658398]\n",
      "[-19.72892884318372, -22.76858882404911, -25.25843308855695, -80.69404801248555, -2.079442516848013] [-0.6931471859657544, -2.0794415427146133, -2.0794415417655556, -2.0794415416798357, -15.920097903452353]\n",
      "[-19.54660728638977, -22.991732375363323, -25.48157663987116, -80.91719156379976, -2.3025860681622228] [-0.5108256291717999, -2.302585094028823, -2.3025850930797653, -2.3025850929940455, -16.143241454766564]\n",
      "[-19.392456606562508, -23.279414447815103, -25.76925871232294, -81.20487363625153, -2.5902681406140036] [-0.3566749493445416, -2.590267166480604, -2.590267165531546, -2.5902671654458262, -16.430923527218344]\n",
      "[-19.258925213937985, -23.684879555923267, -26.174723820431105, -81.61033874435971, -2.9957332487221686] [-0.22314355672001884, -2.995732274588769, -2.995732273639711, -2.9957322735539913, -16.836388635326507]\n",
      "[-19.1411421782816, -24.378026736483214, -26.86787100099105, -82.30348592491964, -3.688880429282114] [-0.10536052106363542, -3.6888794551487143, -3.6888794541996566, -3.6888794541139367, -17.529535815886454]\n"
     ]
    },
    {
     "name": "stderr",
     "output_type": "stream",
     "text": [
      "\r",
      "  0%|                                                                                            | 0/1 [00:00<?, ?it/s]"
     ]
    },
    {
     "name": "stdout",
     "output_type": "stream",
     "text": [
      "[-1304.3327252271715, -1304.807278123962, -1303.0362415107534, -1303.2336734676514, -1303.0200120135719]\n",
      "[-1331.7646496326681, -1328.8595756004845, -1327.7124833488099, -1329.1383291421273, -1328.6708574765119]\n",
      "[-1313.6483025771765, -1315.6952668935435, -1312.8784528248532, -1313.0446621843173, -1313.0440043385631]\n",
      "[-1338.8170912478329, -1338.2541026260099, -1339.1719349358557, -1338.1951153218345, -1339.1561588710995]\n",
      "[-1301.7098313705624, -1304.3757537556207, -1302.0051558688551, -1304.1839157281188, -1302.4705706838117]\n",
      "[-1328.8712326801194, -1330.500192766123, -1328.3767824506374, -1328.735931681951, -1329.4641518718142]\n",
      "[-1366.0427137300562, -1366.8882728731683, -1365.3267393309202, -1366.127959510965, -1365.4203966271002]\n",
      "[-1363.5678585338485, -1363.546890911299, -1363.3850218328464, -1363.8073484119252, -1363.3654278865017]\n",
      "[-1401.8893797928497, -1401.8558392809966, -1401.5883735538985, -1402.153295377476, -1403.050580532293]\n"
     ]
    },
    {
     "name": "stderr",
     "output_type": "stream",
     "text": [
      "100%|███████████████████████████████████████████████████████████████████████████████████| 1/1 [04:44<00:00, 284.47s/it]\n"
     ]
    },
    {
     "name": "stdout",
     "output_type": "stream",
     "text": [
      "[-1461.0780187733549, -1460.730657911285, -1460.0284529244168, -1459.5476240175708, -1460.6590790616397]\n",
      "[-1.6094379124550187, -1.6094379124470606, -1.6094379124368288, -3.127832533294236, -1.6094379124341003] [-26.1958643555168, -26.670539330659107, -28.277394048956307, -1.8566990748734724, -59.17933929147269]\n",
      "[-1.2039728043468545, -1.7429693050715833, -1.7429693050613515, -3.261363925918759, -1.742969305058623] [-25.790399247408637, -26.80407072328363, -28.41092544158083, -1.9902304674979951, -59.312870684097206]\n",
      "[-0.9162907318950734, -1.8971199848988416, -1.8971199848886098, -3.415514605746017, -1.8971199848858813] [-25.502717174956857, -26.95822140311089, -28.56507612140809, -2.1443811473252534, -59.46702136392447]\n",
      "[-0.6931471805808637, -2.079441541692796, -2.0794415416825642, -3.5978361625399713, -2.0794415416798357] [-25.279573623642644, -27.140542959904842, -28.74739767820204, -2.326702704119208, -59.64934292071842]\n",
      "[-0.5108256237869091, -2.3025850930070058, -2.302585092996774, -3.820979713854181, -2.3025850929940455] [-25.097252066848693, -27.363686511219054, -28.970541229516254, -2.5498462554334176, -59.87248647203263]\n",
      "[-0.3566749439596508, -2.5902671654587865, -2.5902671654485547, -4.108661786305962, -2.5902671654458262] [-24.943101387021432, -27.651368583670834, -29.258223301968034, -2.8375283278851984, -60.16016854448441]\n",
      "[-0.2231435513351281, -2.9957322735669516, -2.99573227355672, -4.514126894414127, -2.9957322735539913] [-24.80956999439691, -28.056833691778998, -29.663688410076197, -3.2429934359933634, -60.565633652592574]\n",
      "[-0.10536051567874466, -3.688879454126897, -3.688879454116665, -5.207274074974072, -3.6888794541139367] [-24.691786958740526, -28.749980872338945, -30.356835590636145, -3.936140616553309, -61.25878083315252]\n"
     ]
    },
    {
     "name": "stderr",
     "output_type": "stream",
     "text": [
      "\r",
      "  0%|                                                                                            | 0/1 [00:00<?, ?it/s]"
     ]
    },
    {
     "name": "stdout",
     "output_type": "stream",
     "text": [
      "[-1339.5740099888662, -1339.784859096866, -1340.9634249265237, -1341.6021970277816, -1340.2164616329992]\n",
      "[-1324.629805529812, -1325.9892247367843, -1324.5113810600324, -1325.5740120816208, -1325.0440235259612]\n",
      "[-1330.2792461541464, -1330.2076452659019, -1329.7580227582437, -1332.101948977557, -1329.9810875642358]\n",
      "[-1308.1688043079364, -1309.1795380332649, -1308.5950232416533, -1308.4874504076458, -1308.4571876124853]\n",
      "[-1360.5170662455012, -1361.0735691712134, -1360.8813960322104, -1364.046671419036, -1360.8271072486632]\n",
      "[-1323.8688971830854, -1325.2444581177554, -1324.8061471016847, -1326.6684079442205, -1322.3388978031874]\n",
      "[-1401.8793745434662, -1402.4117747327248, -1402.4485669983108, -1404.247935383871, -1404.8656577684008]\n",
      "[-1323.2941849158246, -1323.2644717412054, -1322.5947015806464, -1324.9202565816536, -1322.6305346622553]\n",
      "[-1412.9606312068615, -1411.2060483945795, -1410.636829421445, -1411.8944803785678, -1412.3891243383812]\n"
     ]
    },
    {
     "name": "stderr",
     "output_type": "stream",
     "text": [
      "100%|███████████████████████████████████████████████████████████████████████████████████| 1/1 [04:41<00:00, 281.27s/it]\n"
     ]
    },
    {
     "name": "stdout",
     "output_type": "stream",
     "text": [
      "[-1426.8450792522588, -1429.2377429629803, -1427.9277975067332, -1428.2511249671613, -1428.90083605426]\n",
      "[-16.760191811351273, -22.925837643868885, -39.57542535745877, -81.0957033641176, -1.6094380293323638] [-1.6094381755281801, -1.6094379129866183, -1.6094379124341003, -1.6094379124341003, -17.571399692267573]\n",
      "[-16.893723203975796, -22.52037253576072, -39.70895675008329, -81.22923475674212, -1.7429694219568865] [-1.7429695681527029, -1.2039728048784542, -1.742969305058623, -1.742969305058623, -17.704931084892095]\n",
      "[-17.047873883803057, -22.23269046330894, -39.86310742991055, -81.38338543656937, -1.8971201017841448] [-1.8971202479799611, -0.916290732426673, -1.8971199848858813, -1.8971199848858813, -17.859081764719356]\n",
      "[-17.230195440597008, -22.00954691199473, -40.0454289867045, -81.56570699336334, -2.0794416585780993] [-2.0794418047739156, -0.6931471811124633, -2.0794415416798357, -2.0794415416798357, -18.041403321513307]\n",
      "[-17.45333899191122, -21.827225355200778, -40.26857253801871, -81.78885054467754, -2.302585209892309] [-2.3025853560881253, -0.5108256243185088, -2.3025850929940455, -2.3025850929940455, -18.26454687282752]\n",
      "[-17.741021064363, -21.673074675373517, -40.55625461047049, -82.07653261712932, -2.5902672823440898] [-2.590267428539906, -0.3566749444912505, -2.5902671654458262, -2.5902671654458262, -18.5522289452793]\n",
      "[-18.146486172471164, -21.539543282748994, -40.96171971857866, -82.48199772523749, -2.995732390452255] [-2.995732536648071, -0.22314355186672774, -2.9957322735539913, -2.9957322735539913, -18.957694053387463]\n",
      "[-18.83963335303111, -21.42176024709261, -41.654866899138604, -83.17514490579742, -3.6888795710122] [-3.6888797172080166, -0.10536051621034431, -3.6888794541139367, -3.6888794541139367, -19.65084123394741]\n"
     ]
    },
    {
     "name": "stderr",
     "output_type": "stream",
     "text": [
      "\r",
      "  0%|                                                                                            | 0/1 [00:00<?, ?it/s]"
     ]
    },
    {
     "name": "stdout",
     "output_type": "stream",
     "text": [
      "[-1332.4574797033804, -1331.5812249954272, -1332.1060526915046, -1332.131439779647, -1332.5616237662564]\n",
      "[-1353.6673494858842, -1353.458707328915, -1354.7935262152605, -1353.9435496365331, -1354.0656242197583]\n",
      "[-1312.3684149008618, -1310.226600790687, -1313.8147845274357, -1311.1333236761561, -1310.5398910664658]\n",
      "[-1340.000742003711, -1340.5686100697021, -1342.0117847909678, -1340.2359555154217, -1339.8635805716003]\n",
      "[-1335.1284163205446, -1335.4835124345582, -1336.4172647871192, -1335.6807584568332, -1335.2281159098811]\n",
      "[-1352.8169905095217, -1352.5420591385716, -1354.2706136759168, -1353.0151963529877, -1353.634796994165]\n",
      "[-1339.1690456965969, -1340.1943670931594, -1339.1648812778092, -1339.1458233939572, -1339.2023650938297]\n",
      "[-1361.7385378722008, -1361.9828671008925, -1369.3952608744055, -1361.7472712412907, -1361.3172619662416]\n",
      "[-1394.8630878039412, -1394.723852152355, -1395.7898923460461, -1398.0476968120938, -1398.1315088696]\n"
     ]
    },
    {
     "name": "stderr",
     "output_type": "stream",
     "text": [
      "100%|███████████████████████████████████████████████████████████████████████████████████| 1/1 [04:47<00:00, 287.29s/it]\n"
     ]
    },
    {
     "name": "stdout",
     "output_type": "stream",
     "text": [
      "[-1445.9966411061384, -1446.083082668955, -1445.8880900653373, -1445.970223324263, -1446.7014159873859]\n",
      "[-1.6094379127562888, -1.6094379124343277, -1.609437939174154, -1.6094379126260037, -1.6094379124341003] [-23.46531961267176, -31.25202815431437, -19.046544817360722, -23.983207332981305, -52.674195479711514]\n",
      "[-1.7429693053808115, -1.2039728043261635, -1.7429693317986767, -1.7429693052505264, -1.742969305058623] [-23.598851005296282, -30.846563046206207, -19.180076209985245, -24.116738725605828, -52.80772687233603]\n",
      "[-1.8971199852080698, -0.9162907318743824, -1.897120011625935, -1.8971199850777847, -1.8971199848858813] [-23.753001685123543, -30.558880973754427, -19.334226889812506, -24.27088940543309, -52.961877552163294]\n",
      "[-2.0794415420020242, -0.6931471805601727, -2.0794415684198895, -2.079441541871739, -2.0794415416798357] [-23.935323241917494, -30.335737422440214, -19.516548446606457, -24.45321096222704, -53.144199108957245]\n",
      "[-2.302585093316234, -0.5108256237662181, -2.302585119734099, -2.302585093185949, -2.3025850929940455] [-24.158466793231707, -30.153415865646263, -19.73969199792067, -24.676354513541252, -53.367342660271454]\n",
      "[-2.5902671657680147, -0.3566749439389598, -2.59026719218588, -2.5902671656377296, -2.5902671654458262] [-24.446148865683487, -29.999265185819002, -20.02737407037245, -24.964036585993032, -53.655024732723234]\n",
      "[-2.99573227387618, -0.22314355131443708, -2.995732300294045, -2.9957322737458947, -2.9957322735539913] [-24.85161397379165, -29.86573379319448, -20.432839178480613, -25.369501694101196, -54.0604898408314]\n",
      "[-3.688879454436125, -0.10536051565805366, -3.6888794808539904, -3.68887945430584, -3.6888794541139367] [-25.544761154351598, -29.747950757538096, -21.12598635904056, -26.062648874661143, -54.75363702139135]\n"
     ]
    },
    {
     "name": "stderr",
     "output_type": "stream",
     "text": [
      "\r",
      "  0%|                                                                                            | 0/1 [00:00<?, ?it/s]"
     ]
    },
    {
     "name": "stdout",
     "output_type": "stream",
     "text": [
      "[-1326.636838204751, -1326.7021009438756, -1326.7789396719306, -1326.9809431456958, -1326.4336457351308]\n",
      "[-1309.177001534738, -1309.0394648469762, -1308.2482794815103, -1308.4936503796587, -1308.5239258938334]\n",
      "[-1349.975954650722, -1350.0289008646168, -1350.356100322805, -1350.1390363159544, -1350.516070439563]\n",
      "[-1319.7046110874871, -1320.4827350518535, -1320.9815631467864, -1321.9240996540393, -1320.8045914876639]\n",
      "[-1336.8116576954092, -1337.980541881003, -1337.8096913783268, -1337.7107045863124, -1336.8947824799436]\n",
      "[-1298.1479469304493, -1298.9794326292638, -1298.9602267480684, -1298.546376609377, -1298.6044210652205]\n",
      "[-1441.846874164167, -1441.886970967386, -1443.7522656957124, -1443.2941470848134, -1442.8483499452966]\n",
      "[-1319.7922830089717, -1320.7189125275088, -1321.1630941728124, -1320.290890234615, -1319.8337522271956]\n",
      "[-1439.1113165404602, -1439.4232467397303, -1440.1995295935556, -1440.8857100483654, -1439.0996706283256]\n"
     ]
    },
    {
     "name": "stderr",
     "output_type": "stream",
     "text": [
      "100%|███████████████████████████████████████████████████████████████████████████████████| 1/1 [04:42<00:00, 282.07s/it]\n"
     ]
    },
    {
     "name": "stdout",
     "output_type": "stream",
     "text": [
      "[-1456.748815745769, -1454.095084047002, -1456.7337231770641, -1454.6053205915075, -1454.2797286416887]\n",
      "[-19.914277912699458, -31.848758416272243, -40.561837246760504, -123.50432105480452, -1.609438100213606] [-1.6094379236622671, -1.6094379124341003, -1.6094379124341003, -1.6094379124341003, -17.09743511812105]\n",
      "[-20.04780930532398, -31.982289808896766, -40.15637213865234, -123.63785244742904, -1.7429694928381287] [-1.7429693162867899, -1.742969305058623, -1.2039728043259361, -1.742969305058623, -17.230966510745574]\n",
      "[-20.20195998515124, -32.13644048872403, -39.86869006620056, -123.7920031272563, -1.897120172665387] [-1.8971199961140481, -1.8971199848858813, -0.916290731874155, -1.8971199848858813, -17.385117190572835]\n",
      "[-20.384281541945192, -32.31876204551798, -39.64554651488635, -123.97432468405026, -2.0794417294593415] [-2.0794415529080026, -2.0794415416798357, -0.6931471805599453, -2.0794415416798357, -17.567438747366786]\n",
      "[-20.607425093259405, -32.54190559683219, -39.46322495809239, -124.19746823536447, -2.302585280773551] [-2.3025851042222123, -2.3025850929940455, -0.5108256237659907, -2.3025850929940455, -17.790582298681]\n",
      "[-20.895107165711185, -32.82958766928397, -39.309074278265136, -124.48515030781624, -2.590267353225332] [-2.590267176673993, -2.5902671654458262, -0.35667494393873245, -2.5902671654458262, -18.07826437113278]\n",
      "[-21.30057227381935, -33.235052777392134, -39.17554288564061, -124.89061541592442, -2.995732461333497] [-2.995732284782158, -2.9957322735539913, -0.2231435513142097, -2.9957322735539913, -18.483729479240942]\n",
      "[-21.993719454379296, -33.92819995795208, -39.05775984998423, -125.58376259648435, -3.6888796418934424] [-3.6888794653421035, -3.6888794541139367, -0.10536051565782628, -3.6888794541139367, -19.17687665980089]\n"
     ]
    },
    {
     "name": "stderr",
     "output_type": "stream",
     "text": [
      "\r",
      "  0%|                                                                                            | 0/1 [00:00<?, ?it/s]"
     ]
    },
    {
     "name": "stdout",
     "output_type": "stream",
     "text": [
      "[-1306.3013631206366, -1306.5419645531608, -1306.4634341262233, -1307.2769813566508, -1307.446813145604]\n",
      "[-1338.5782464615218, -1338.4043676661418, -1341.1506131301026, -1339.0667799106482, -1338.5736352443087]\n",
      "[-1320.9829381957059, -1321.3386031389925, -1322.1612104595076, -1321.0234583902454, -1320.4783858113622]\n",
      "[-1357.2138821766935, -1356.85446273366, -1360.447077830359, -1356.764882938915, -1357.8107126968175]\n",
      "[-1302.726424431093, -1302.3992313707415, -1305.4635094949474, -1302.4028123419114, -1302.7822456239367]\n",
      "[-1343.4999355255723, -1343.2255648961736, -1345.534963727464, -1344.255174658655, -1343.1029301229582]\n",
      "[-1381.6488781548933, -1380.76937514367, -1381.1353952675518, -1381.2888464721573, -1381.6172375023261]\n",
      "[-1385.2344737618816, -1389.2860940454095, -1384.8478487600053, -1385.651093455291, -1384.892040403077]\n",
      "[-1403.1453721687553, -1402.916290239094, -1403.1320808895084, -1403.2301280535735, -1402.6140500254237]\n"
     ]
    },
    {
     "name": "stderr",
     "output_type": "stream",
     "text": [
      "100%|███████████████████████████████████████████████████████████████████████████████████| 1/1 [04:45<00:00, 285.21s/it]"
     ]
    },
    {
     "name": "stdout",
     "output_type": "stream",
     "text": [
      "[-1469.1707317075477, -1468.9775830585702, -1469.4233516680094, -1469.1749175758875, -1468.8610102961673]\n",
      "[-1.6094379124341003, -1.6094379124341003, -1.6094379124341003, -1.6242867759602404, -1.6094379124341003] [-33.509711351203194, -37.9106072110272, -42.29819524327225, -5.8266851040721805, -67.96933794383934]\n",
      "[-1.742969305058623, -1.742969305058623, -1.2039728043259361, -1.7578181685847631, -1.742969305058623] [-33.64324274382771, -38.04413860365172, -41.89273013516408, -5.960216496696703, -68.10286933646385]\n",
      "[-1.8971199848858813, -1.8971199848858813, -0.916290731874155, -1.9119688484120214, -1.8971199848858813] [-33.797393423654974, -38.19828928347898, -41.6050480627123, -6.114367176523961, -68.25702001629111]\n",
      "[-2.0794415416798357, -2.0794415416798357, -0.6931471805599453, -2.094290405205976, -2.0794415416798357] [-33.979714980448925, -38.38061084027293, -41.38190451139809, -6.296688733317916, -68.43934157308507]\n",
      "[-2.3025850929940455, -2.3025850929940455, -0.5108256237659907, -2.3174339565201856, -2.3025850929940455] [-34.202858531763134, -38.60375439158714, -41.19958295460413, -6.519832284632125, -68.66248512439928]\n",
      "[-2.5902671654458262, -2.5902671654458262, -0.35667494393873245, -2.6051160289719664, -2.5902671654458262] [-34.490540604214914, -38.89143646403892, -41.04543227477688, -6.807514357083907, -68.95016719685105]\n",
      "[-2.9957322735539913, -2.9957322735539913, -0.2231435513142097, -3.0105811370801314, -2.9957322735539913] [-34.89600571232308, -39.296901572147085, -40.91190088215235, -7.212979465192071, -69.35563230495923]\n",
      "[-3.6888794541139367, -3.6888794541139367, -0.10536051565782628, -3.703728317640077, -3.6888794541139367] [-35.58915289288303, -39.99004875270703, -40.79411784649597, -7.906126645752017, -70.04877948551916]\n"
     ]
    },
    {
     "name": "stderr",
     "output_type": "stream",
     "text": [
      "\n",
      "  0%|                                                                                            | 0/1 [00:00<?, ?it/s]"
     ]
    },
    {
     "name": "stdout",
     "output_type": "stream",
     "text": [
      "[-1367.6971368772847, -1367.1365756395444, -1366.8311115922024, -1368.0455844355947, -1367.005908124096]\n",
      "[-1342.3563175260592, -1343.0173778164558, -1342.2298523345912, -1342.3066988677842, -1342.2680065960399]\n",
      "[-1352.2729949558654, -1357.792504473817, -1355.1403731434932, -1352.594851134165, -1355.4747754052607]\n",
      "[-1325.2823500210395, -1324.9209574254817, -1324.905371336619, -1325.0727892001485, -1325.6247578387154]\n",
      "[-1379.9419811152577, -1380.036386003277, -1379.4210217929606, -1379.8939706615304, -1381.1903869296323]\n",
      "[-1329.7767176004947, -1326.865989449094, -1327.3773814521503, -1326.9044321144559, -1329.0612945613486]\n",
      "[-1404.1159488838089, -1404.5265060188171, -1404.623922481543, -1404.3592619044425, -1408.6848141667356]\n",
      "[-1309.6485476750236, -1308.6871878510424, -1310.8574822150108, -1308.7155089238072, -1311.308051894826]\n",
      "[-1422.4260600965074, -1420.2974496523395, -1420.593689855946, -1421.880175515865, -1421.2076166099007]\n"
     ]
    },
    {
     "name": "stderr",
     "output_type": "stream",
     "text": [
      "100%|███████████████████████████████████████████████████████████████████████████████████| 1/1 [04:42<00:00, 282.87s/it]"
     ]
    },
    {
     "name": "stdout",
     "output_type": "stream",
     "text": [
      "[-1424.4455724980608, -1425.5014243830474, -1424.4948810891465, -1424.6861260124233, -1424.0111035347027]\n",
      "[-26.29045752569716, -28.812755835806524, -54.27321728761497, -97.47933616582311, -1.6272523313580904] [-1.6094379124531997, -1.609437912435692, -1.6094379124341003, -1.6094379124341003, -5.646078996556139]\n",
      "[-26.423988918321683, -28.946287228431046, -54.40674868023949, -97.07387105771495, -1.7607837239826132] [-1.7429693050777224, -1.7429693050602146, -1.742969305058623, -1.2039728043259361, -5.779610389180662]\n",
      "[-26.578139598148944, -29.100437908258307, -54.56089936006675, -96.78618898526317, -1.9149344038098715] [-1.8971199849049807, -1.897119984887473, -1.8971199848858813, -0.916290731874155, -5.93376106900792]\n",
      "[-26.760461154942895, -29.28275946505226, -54.7432209168607, -96.56304543394896, -2.097255960603826] [-2.079441541698935, -2.0794415416814274, -2.0794415416798357, -0.6931471805599453, -6.116082625801875]\n",
      "[-26.983604706257108, -29.50590301636647, -54.96636446817491, -96.380723877155, -2.3203995119180356] [-2.302585093013145, -2.302585092995637, -2.3025850929940455, -0.5108256237659907, -6.339226177116084]\n",
      "[-27.271286778708888, -29.79358508881825, -55.25404654062669, -96.22657319732774, -2.6080815843698164] [-2.5902671654649256, -2.590267165447418, -2.5902671654458262, -0.35667494393873245, -6.626908249567865]\n",
      "[-27.67675188681705, -30.199050196926414, -55.659511648734856, -96.09304180470322, -3.0135466924779815] [-2.9957322735730907, -2.995732273555583, -2.9957322735539913, -0.2231435513142097, -7.03237335767603]\n",
      "[-28.369899067377, -30.89219737748636, -56.3526588292948, -95.97525876904683, -3.706693873037927] [-3.688879454133036, -3.6888794541155283, -3.6888794541139367, -0.10536051565782628, -7.725520538235975]\n"
     ]
    },
    {
     "name": "stderr",
     "output_type": "stream",
     "text": [
      "\n",
      "  0%|                                                                                            | 0/1 [00:00<?, ?it/s]"
     ]
    },
    {
     "name": "stdout",
     "output_type": "stream",
     "text": [
      "[-1412.5362054501259, -1414.3136916246824, -1411.8590342280752, -1412.3754890871298, -1413.4430514876824]\n",
      "[-1431.4575544068052, -1429.8713426896124, -1429.9759229626347, -1432.5364031766644, -1430.1442275031427]\n",
      "[-1352.89923135154, -1352.6081516258337, -1352.8707422929792, -1353.0550932646065, -1352.2820937911083]\n",
      "[-1396.7475893614978, -1397.6471649881064, -1399.8444481471747, -1395.8926357178502, -1396.325089792554]\n",
      "[-1410.2017283367622, -1410.632758120426, -1411.6473693671887, -1410.0637178785128, -1410.9758327073669]\n",
      "[-1433.5557520514817, -1435.055156842322, -1436.0778900771807, -1434.0010652301976, -1434.824368131373]\n",
      "[-1309.7607181187805, -1310.0444934659636, -1309.8623856111399, -1311.2899780167672, -1311.0438149725842]\n",
      "[-1403.9409710855664, -1403.7732508156016, -1404.2675678524367, -1404.2783333551463, -1406.1333423432636]\n",
      "[-1386.7807390454757, -1386.4364759778903, -1386.2136138231647, -1386.8449921641798, -1386.2131341915003]\n"
     ]
    },
    {
     "name": "stderr",
     "output_type": "stream",
     "text": [
      "100%|███████████████████████████████████████████████████████████████████████████████████| 1/1 [04:44<00:00, 284.57s/it]"
     ]
    },
    {
     "name": "stdout",
     "output_type": "stream",
     "text": [
      "[-1431.5614789744782, -1431.4982896508504, -1431.9381627650641, -1431.457070548137, -1431.4537822624466]\n",
      "[-1.6094379277343023, -1.6094379124341003, -1.6094379124870783, -1.6094379124341003, -1.6094379124341003] [-19.60483374114808, -45.18863514339985, -25.272658844528973, -95.54684312055436, -46.94251747761412]\n",
      "[-1.742969320358825, -1.742969305058623, -1.742969305111601, -1.2039728043259361, -1.742969305058623] [-19.738365133772604, -45.32216653602437, -25.406190237153496, -95.1413780124462, -47.07604887023864]\n",
      "[-1.8971200001860833, -1.8971199848858813, -1.8971199849388594, -0.916290731874155, -1.8971199848858813] [-19.892515813599864, -45.47631721585163, -25.560340916980756, -94.85369593999441, -47.2301995500659]\n",
      "[-2.0794415569800377, -2.0794415416798357, -2.079441541732814, -0.6931471805599453, -2.0794415416798357] [-20.074837370393816, -45.65863877264558, -25.742662473774708, -94.6305523886802, -47.41252110685985]\n",
      "[-2.3025851082942475, -2.3025850929940455, -2.3025850930470235, -0.5108256237659907, -2.3025850929940455] [-20.297980921708028, -45.88178232395979, -25.96580602508892, -94.44823083188625, -47.63566465817406]\n",
      "[-2.5902671807460282, -2.5902671654458262, -2.5902671654988043, -0.35667494393873245, -2.5902671654458262] [-20.585662994159808, -46.16946439641157, -26.2534880975407, -94.29408015205898, -47.92334673062584]\n",
      "[-2.9957322888541933, -2.9957322735539913, -2.9957322736069694, -0.2231435513142097, -2.9957322735539913] [-20.99112810226797, -46.57492950451974, -26.658953205648864, -94.16054875943446, -48.328811838734005]\n",
      "[-3.6888794694141387, -3.6888794541139367, -3.6888794541669148, -0.10536051565782628, -3.6888794541139367] [-21.68427528282792, -47.268076685079684, -27.35210038620881, -94.04276572377807, -49.02195901929395]\n"
     ]
    },
    {
     "name": "stderr",
     "output_type": "stream",
     "text": [
      "\n",
      "  0%|                                                                                            | 0/1 [00:00<?, ?it/s]"
     ]
    },
    {
     "name": "stdout",
     "output_type": "stream",
     "text": [
      "[-1484.6331929622547, -1481.913151976537, -1482.3657011953046, -1481.7181504917107, -1482.3513870287143]\n",
      "[-1432.2667738845014, -1432.461983779209, -1434.227941927162, -1432.3242475363043, -1433.7022504818271]\n",
      "[-1459.8553304821612, -1457.5713090093263, -1457.5244217053182, -1457.6360641315327, -1458.2486225260723]\n",
      "[-1431.3108030558283, -1431.3662900255363, -1432.973292999704, -1430.3009000192465, -1432.4221681961567]\n",
      "[-1496.8719034236196, -1497.5289929945206, -1498.489481033706, -1496.631598710031, -1499.395999455453]\n",
      "[-1470.713011782244, -1468.4314984080906, -1468.4631615515013, -1468.3933803495515, -1468.3677126059542]\n",
      "[-1467.1483286280318, -1467.9298625952115, -1468.119422874971, -1467.8201292250642, -1467.2709150107157]\n",
      "[-1426.2272551326878, -1430.3727431613352, -1426.671928450245, -1426.2932301181554, -1427.6102764822554]\n",
      "[-1339.1716090861696, -1337.369063049376, -1337.1969036874466, -1337.3835413340817, -1337.6266410408093]\n"
     ]
    },
    {
     "name": "stderr",
     "output_type": "stream",
     "text": [
      "100%|███████████████████████████████████████████████████████████████████████████████████| 1/1 [04:41<00:00, 281.54s/it]"
     ]
    },
    {
     "name": "stdout",
     "output_type": "stream",
     "text": [
      "[-1319.3930257387688, -1320.3703745330854, -1323.4960898046552, -1319.4992689438218, -1320.4197390157055]\n",
      "[-51.238724539737476, -28.894215867206025, -29.97300671483897, -42.218642584360694, -19.519026986148514] [-1.6094379124341003, -1.6094379124354645, -1.609437912434555, -1.6094379124341003, -1.6094379291051382]\n",
      "[-51.372255932361995, -29.027747259830548, -30.106538107463493, -42.35217397698521, -19.11356187804035] [-1.742969305058623, -1.7429693050599873, -1.7429693050590778, -1.742969305058623, -1.203972820996974]\n",
      "[-51.526406612189255, -29.18189793965781, -30.260688787290754, -42.506324656812474, -18.82587980558857] [-1.8971199848858813, -1.8971199848872455, -1.897119984886336, -1.8971199848858813, -0.9162907485451929]\n",
      "[-51.70872816898321, -29.36421949645176, -30.443010344084705, -42.688646213606425, -18.602736254274358] [-2.0794415416798357, -2.0794415416812, -2.0794415416802905, -2.0794415416798357, -0.6931471972309832]\n",
      "[-51.931871720297416, -29.587363047765972, -30.666153895398917, -42.911789764920634, -18.420414697480407] [-2.3025850929940455, -2.3025850929954097, -2.3025850929945, -2.3025850929940455, -0.5108256404370286]\n",
      "[-52.219553792749196, -29.875045120217752, -30.953835967850697, -43.199471837372414, -18.266264017653146] [-2.5902671654458262, -2.5902671654471905, -2.590267165446281, -2.5902671654458262, -0.35667496060977033]\n",
      "[-52.62501890085736, -30.280510228325916, -31.35930107595886, -43.60493694548058, -18.132732625028623] [-2.9957322735539913, -2.9957322735553555, -2.995732273554446, -2.9957322735539913, -0.2231435679852476]\n",
      "[-53.31816608141731, -30.973657408885863, -32.05244825651881, -44.29808412604053, -18.01494958937224] [-3.6888794541139367, -3.688879454115301, -3.6888794541143914, -3.6888794541139367, -0.10536053232886416]\n"
     ]
    },
    {
     "name": "stderr",
     "output_type": "stream",
     "text": [
      "\n",
      "  0%|                                                                                            | 0/1 [00:00<?, ?it/s]"
     ]
    },
    {
     "name": "stdout",
     "output_type": "stream",
     "text": [
      "[-1393.146814446016, -1393.7029033664367, -1394.0239952293123, -1393.3311073596924, -1393.0971138111126]\n",
      "[-1377.9351371051243, -1378.435631067966, -1378.1152087918827, -1378.4095523624355, -1378.3662550685776]\n",
      "[-1370.9208358564836, -1370.9433201856343, -1370.747660545171, -1372.0921394647346, -1370.7197045852706]\n",
      "[-1378.1116537049238, -1377.8205526499514, -1377.9950114481617, -1379.8235931121453, -1377.5694612296938]\n",
      "[-1402.2166730850709, -1402.1047602267768, -1402.2066236221267, -1404.4669396655931, -1402.0649465740694]\n",
      "[-1411.0164272458521, -1410.8453553477327, -1410.6308341883584, -1410.7340362372368, -1410.952373667448]\n",
      "[-1386.6597403483595, -1385.3069326317911, -1385.2154565490912, -1384.6954571663066, -1384.6423902598456]\n",
      "[-1391.7063926373887, -1391.550016732763, -1392.411645769702, -1393.694098336615, -1390.9720329165068]\n",
      "[-1297.4186656424756, -1298.0599829391324, -1297.5320815053167, -1299.755444492843, -1298.1841475605654]\n"
     ]
    },
    {
     "name": "stderr",
     "output_type": "stream",
     "text": [
      "100%|███████████████████████████████████████████████████████████████████████████████████| 1/1 [04:43<00:00, 283.48s/it]\n"
     ]
    },
    {
     "name": "stdout",
     "output_type": "stream",
     "text": [
      "[-1316.4750585664308, -1316.0607241553528, -1314.6648119009635, -1314.2643889248295, -1314.9605656415672]\n",
      "[-16.916665208134486, -1.610580161396524, -1.6096232939963329, -1.6110791541544358, -1.6094379530891956] [-1.6094381374201248, -8.384765168350281, -10.20262496023231, -8.022560598123231, -18.62757806718839]\n",
      "[-17.05019660075901, -1.7441115540210468, -1.7431546866208556, -1.7446105467789585, -1.2039728449810314] [-1.7429695300446475, -8.518296560974804, -10.336156352856833, -8.156091990747754, -18.222112959080228]\n",
      "[-17.20434728058627, -1.898262233848305, -1.8973053664481139, -1.8987612266062168, -0.9162907725292503] [-1.8971202098719058, -8.672447240802063, -10.490307032684091, -8.310242670575013, -17.934430886628448]\n",
      "[-17.38666883738022, -2.0805837906422595, -2.0796269232420683, -2.0810827834001713, -0.6931472212150406] [-2.0794417666658602, -8.854768797596018, -10.672628589478046, -8.492564227368968, -17.711287335314235]\n",
      "[-17.609812388694433, -2.303727341956469, -2.302770474556278, -2.304226334714381, -0.510825664421086] [-2.30258531798007, -9.077912348910226, -10.895772140792255, -8.715707778683177, -17.528965778520284]\n",
      "[-17.897494461146213, -2.59140941440825, -2.590452547008059, -2.5919084071661618, -0.35667498459382774] [-2.5902673904318507, -9.365594421362008, -11.183454213244037, -9.003389851134958, -17.374815098693023]\n",
      "[-18.302959569254377, -2.996874522516415, -2.995917655116224, -2.997373515274327, -0.223143591969305] [-2.9957324985400158, -9.771059529470172, -11.5889193213522, -9.408854959243122, -17.2412837060685]\n",
      "[-18.996106749814324, -3.6900217030763605, -3.6890648356761693, -3.6905206958342722, -0.10536055631292157] [-3.688879679099961, -10.464206710030119, -12.282066501912148, -10.10200213980307, -17.123500670412117]\n"
     ]
    },
    {
     "name": "stderr",
     "output_type": "stream",
     "text": [
      "\r",
      "  0%|                                                                                            | 0/1 [00:00<?, ?it/s]"
     ]
    },
    {
     "name": "stdout",
     "output_type": "stream",
     "text": [
      "[-1315.7555257993713, -1315.8446868320657, -1315.9535986128953, -1318.114000961175, -1318.6376948954617]\n",
      "[-1311.9151546317676, -1310.3929667532734, -1310.4593700869823, -1312.6464018450583, -1313.060864294]\n",
      "[-1330.0188679759558, -1332.8167014451574, -1330.4770768820563, -1328.9597511225838, -1328.662459751049]\n",
      "[-1320.1248690806913, -1319.453316580804, -1320.5138347860718, -1321.9059924054397, -1322.2726184798028]\n",
      "[-1324.3598194599838, -1323.4562141523859, -1324.1402554443414, -1323.0377450344606, -1323.0332560317113]\n",
      "[-1313.4158799406327, -1313.87479541716, -1313.6554367096, -1315.519104162628, -1315.3363088186347]\n",
      "[-1378.869421373782, -1379.450403542511, -1377.706162509878, -1379.3282950938503, -1377.778011398381]\n",
      "[-1329.1240268317295, -1327.7772236127155, -1328.1215821129106, -1327.5514868080597, -1327.5240004876057]\n",
      "[-1359.0736646623072, -1358.3399136582984, -1358.9314096554544, -1358.848425388157, -1358.7751130150818]\n"
     ]
    },
    {
     "name": "stderr",
     "output_type": "stream",
     "text": [
      "100%|███████████████████████████████████████████████████████████████████████████████████| 1/1 [04:45<00:00, 285.19s/it]\n"
     ]
    },
    {
     "name": "stdout",
     "output_type": "stream",
     "text": [
      "[-1371.4595043314466, -1371.6068109332546, -1371.5406642875741, -1372.3797856913434, -1372.8561487579418]\n",
      "[-7.194297330722361, -11.088375888805398, -11.194379760975675, -51.61945898804022, -1.6094397516161052] [-1.6131992549374672, -1.609514360436674, -1.6095066711214485, -1.6094379124341003, -14.815628500197658]\n",
      "[-6.788832222614197, -11.221907281429921, -11.327911153600198, -51.75299038066474, -1.742971144240628] [-1.207734146829303, -1.7430457530611967, -1.7430380637459713, -1.742969305058623, -14.94915989282218]\n",
      "[-6.501150150162416, -11.37605796125718, -11.482061833427457, -51.907141060492, -1.8971218240678862] [-0.9200520743775219, -1.897196432888455, -1.8971887435732295, -1.8971199848858813, -15.10331057264944]\n",
      "[-6.278006598848206, -11.558379518051135, -11.664383390221412, -52.08946261728595, -2.0794433808618407] [-0.6969085230633122, -2.0795179896824094, -2.079510300367184, -2.0794415416798357, -15.285632129443394]\n",
      "[-6.095685042054251, -11.781523069365344, -11.88752694153562, -52.31260616860016, -2.3025869321760504] [-0.5145869662693576, -2.302661540996619, -2.3026538516813937, -2.3025850929940455, -15.508775680757603]\n",
      "[-5.941534362226993, -12.069205141817125, -12.175209013987402, -52.60028824105194, -2.590269004627831] [-0.36043628644209935, -2.5903436134484, -2.5903359241331745, -2.5902671654458262, -15.796457753209385]\n",
      "[-5.80800296960247, -12.474670249925289, -12.580674122095566, -53.00575334916011, -2.995734112735996] [-0.22690489381757661, -2.995808721556565, -2.9958010322413395, -2.9957322735539913, -16.20192286131755]\n",
      "[-5.690219933946087, -13.167817430485236, -13.273821302655513, -53.698900529720056, -3.6888812932959416] [-0.10912185816119319, -3.6889559021165104, -3.688948212801285, -3.6888794541139367, -16.895070041877496]\n"
     ]
    },
    {
     "name": "stderr",
     "output_type": "stream",
     "text": [
      "\r",
      "  0%|                                                                                            | 0/1 [00:00<?, ?it/s]"
     ]
    },
    {
     "name": "stdout",
     "output_type": "stream",
     "text": [
      "[-1321.4199937695205, -1322.4984005163835, -1321.077710985873, -1321.1975904342664, -1320.7018181204887]\n",
      "[-1330.3592927092322, -1330.9518419378655, -1331.2920352786823, -1331.8709361759757, -1330.4452250597606]\n",
      "[-1330.8899627166006, -1331.0838000302515, -1330.7911262333268, -1330.1107971136712, -1330.7895981529923]\n",
      "[-1339.3196898307062, -1341.2995560920383, -1340.327046686288, -1339.4718169344408, -1338.9198870518442]\n",
      "[-1318.9480386791067, -1318.6794769951623, -1320.5878322375604, -1317.889911897971, -1317.9435146024728]\n",
      "[-1327.2408022896886, -1325.1969553419656, -1325.334333561859, -1325.7798859827633, -1326.4971870779589]\n",
      "[-1368.6436331787695, -1372.0871940608044, -1370.1698161532981, -1368.207255127781, -1369.9415422689194]\n",
      "[-1346.229195224999, -1347.19522294893, -1346.8686325386418, -1347.122178624971, -1346.707002126049]\n",
      "[-1387.6413190357384, -1388.574569190689, -1388.7783657654186, -1389.5639513140163, -1387.4279442651718]\n"
     ]
    },
    {
     "name": "stderr",
     "output_type": "stream",
     "text": [
      "100%|███████████████████████████████████████████████████████████████████████████████████| 1/1 [04:43<00:00, 283.20s/it]\n"
     ]
    },
    {
     "name": "stdout",
     "output_type": "stream",
     "text": [
      "[-1417.5876965265427, -1419.7745827299307, -1423.188245547318, -1418.8591491017808, -1417.241395381957]\n",
      "[-1.6094953392353772, -1.6096149318178277, -1.6100916207252112, -23.293224604080773, -1.6094379124343277] [-11.37446606726719, -10.248777739764659, -8.942614092809503, -1.6094379128167702, -31.351060181513798]\n",
      "[-1.204030231127213, -1.7431463244423504, -1.743623013349734, -23.426755996705296, -1.7429693050588504] [-10.969000959159025, -10.382309132389182, -9.076145485434026, -1.742969305441293, -31.48459157413832]\n",
      "[-0.916348158675432, -1.8972970042696087, -1.8977736931769922, -23.580906676532557, -1.8971199848861087] [-10.681318886707244, -10.53645981221644, -9.230296165261285, -1.8971199852685512, -31.63874225396558]\n",
      "[-0.6932046073612222, -2.079618561063563, -2.0800952499709466, -23.763228233326508, -2.079441541680063] [-10.458175335393035, -10.718781369010395, -9.41261772205524, -2.0794415420625056, -31.821063810759533]\n",
      "[-0.5108830505672677, -2.302762112377773, -2.3032388012851563, -23.98637178464072, -2.302585092994273] [-10.27585377859908, -10.941924920324604, -9.635761273369448, -2.3025850933767154, -32.04420736207374]\n",
      "[-0.3567323707400094, -2.5904441848295536, -2.590920873736937, -24.2740538570925, -2.5902671654460536] [-10.121703098771821, -11.229606992776386, -9.92344334582123, -2.590267165828496, -32.33188943452552]\n",
      "[-0.22320097811548667, -2.9959092929377187, -2.996385981845102, -24.679518965200664, -2.9957322735542187] [-9.988171706147298, -11.63507210088455, -10.328908453929394, -2.995732273936661, -32.73735454263369]\n",
      "[-0.10541794245910324, -3.689056473497664, -3.6895331624050476, -25.37266614576061, -3.688879454114164] [-9.870388670490916, -12.328219281444497, -11.022055634489341, -3.6888794544966066, -33.430501723193636]\n"
     ]
    },
    {
     "name": "stderr",
     "output_type": "stream",
     "text": [
      "\r",
      "  0%|                                                                                            | 0/1 [00:00<?, ?it/s]"
     ]
    },
    {
     "name": "stdout",
     "output_type": "stream",
     "text": [
      "[-1335.1642438159051, -1335.1489816658304, -1334.4565307266912, -1335.1437185494597, -1334.6250032978005]\n",
      "[-1328.2762059019317, -1325.8821627577001, -1326.0198165309432, -1325.740207377212, -1328.3806825243103]\n",
      "[-1331.4522932063048, -1331.605100822919, -1331.200154052109, -1331.077763788686, -1333.1111450995306]\n",
      "[-1321.8488476859338, -1321.0494768848866, -1320.7839540909035, -1321.353407749527, -1321.1183402618326]\n",
      "[-1343.0024982711795, -1343.060049206458, -1342.848268436009, -1342.7185787733645, -1344.2440569257044]\n",
      "[-1327.3474685182414, -1326.1385225806848, -1325.7759724379398, -1327.657104902301, -1326.3652677315226]\n",
      "[-1367.1899274193904, -1366.971914093597, -1367.5526026834898, -1367.0768292248151, -1367.7168051105593]\n",
      "[-1325.7580967094163, -1326.5722823080632, -1325.9916292635953, -1325.6459462337134, -1327.5780978075545]\n",
      "[-1363.080727659125, -1361.8991338180376, -1361.551401479318, -1362.788746810288, -1363.597131463338]\n"
     ]
    },
    {
     "name": "stderr",
     "output_type": "stream",
     "text": [
      "100%|███████████████████████████████████████████████████████████████████████████████████| 1/1 [04:43<00:00, 283.60s/it]\n"
     ]
    },
    {
     "name": "stdout",
     "output_type": "stream",
     "text": [
      "[-1372.0061838484723, -1372.4344675640057, -1371.6117467103356, -1371.1519152509024, -1371.836430311119]\n",
      "[-10.141096270839238, -11.593549698525816, -18.704464138041043, -42.99415226450999, -1.6095119376773936] [-1.6096350596565798, -1.6094840405122113, -1.609437950080587, -1.6094379124341003, -11.120579322992693]\n",
      "[-10.274627663463761, -11.188084590417652, -18.837995530665566, -43.12768365713451, -1.7430433303019164] [-1.7431664522811026, -1.2040189324040471, -1.7429693427051098, -1.742969305058623, -11.254110715617216]\n",
      "[-10.42877834329102, -10.90040251796587, -18.992146210492827, -43.28183433696177, -1.8971940101291747] [-1.8973171321083608, -0.916336859952266, -1.897120022532368, -1.8971199848858813, -11.408261395444475]\n",
      "[-10.611099900084975, -10.677258966651662, -19.174467767286778, -43.46415589375572, -2.079515566923129] [-2.0796386889023153, -0.6931933086380563, -2.0794415793263226, -2.0794415416798357, -11.59058295223843]\n",
      "[-10.834243451399184, -10.494937409857707, -19.39761131860099, -43.68729944506993, -2.302659118237339] [-2.302782240216525, -0.5108717518441017, -2.3025851306405323, -2.3025850929940455, -11.813726503552639]\n",
      "[-11.121925523850965, -10.340786730030448, -19.68529339105277, -43.97498151752171, -2.5903411906891196] [-2.590464312668306, -0.35672107201684344, -2.590267203092313, -2.5902671654458262, -12.10140857600442]\n",
      "[-11.527390631959129, -10.207255337405925, -20.090758499160934, -44.38044662562988, -2.9958062987972847] [-2.995929420776471, -0.2231896793923207, -2.995732311200478, -2.9957322735539913, -12.506873684112584]\n",
      "[-12.220537812519076, -10.089472301749543, -20.78390567972088, -45.07359380618983, -3.68895347935723] [-3.6890766013364162, -0.10540664373593728, -3.6888794917604235, -3.6888794541139367, -13.200020864672531]\n"
     ]
    },
    {
     "name": "stderr",
     "output_type": "stream",
     "text": [
      "\r",
      "  0%|                                                                                            | 0/1 [00:00<?, ?it/s]"
     ]
    },
    {
     "name": "stdout",
     "output_type": "stream",
     "text": [
      "[-1338.8992781490817, -1334.7023444474619, -1334.2786778286247, -1334.6259500206509, -1334.821937289846]\n",
      "[-1342.5508515778854, -1341.4706221354788, -1342.5498121344206, -1342.408109084972, -1341.4960625129386]\n",
      "[-1331.009702649324, -1327.4017549667842, -1327.381987136374, -1328.3233085910688, -1327.0713801600868]\n",
      "[-1343.1286590226932, -1338.4691371711356, -1338.7385824642383, -1338.540899528261, -1337.7979535664176]\n",
      "[-1337.4993187202272, -1336.6823986968302, -1337.7034176075904, -1337.133734840325, -1336.9059067000999]\n",
      "[-1344.3007609142735, -1343.2573170678882, -1342.7373405213223, -1343.6604563428193, -1344.44218795027]\n",
      "[-1344.7683587678207, -1344.020487763601, -1344.2518618285999, -1344.2436764133186, -1343.89731154041]\n",
      "[-1349.5235468711528, -1349.6046237847388, -1348.8298049669886, -1348.9578621910534, -1349.3883963450555]\n",
      "[-1367.2679851623714, -1367.0229296855275, -1367.6638545373014, -1367.175752291342, -1366.9848035841594]\n"
     ]
    },
    {
     "name": "stderr",
     "output_type": "stream",
     "text": [
      "100%|███████████████████████████████████████████████████████████████████████████████████| 1/1 [04:44<00:00, 284.17s/it]\n"
     ]
    },
    {
     "name": "stdout",
     "output_type": "stream",
     "text": [
      "[-1392.1781531545817, -1394.0829731001681, -1392.0145381333964, -1392.18129050788, -1391.6908186769829]\n",
      "[-1.6102564690484769, -1.6094615097839096, -1.6116824807136936, -1.6193929113745298, -1.6094379124495617] [-8.717815157975632, -12.263825856998732, -7.7098020660210524, -6.224091730562191, -26.505668187006517]\n",
      "[-1.7437878616729996, -1.2039964016757454, -1.7452138733382163, -1.7529243039990525, -1.7429693050740844] [-8.851346550600155, -11.858360748890568, -7.843333458645575, -6.3576231231867135, -26.63919957963104]\n",
      "[-1.8979385415002579, -0.9163143292239643, -1.8993645531654746, -1.9070749838263108, -1.8971199849013427] [-9.005497230427414, -11.570678676438787, -7.997484138472833, -6.511773803013972, -26.7933502594583]\n",
      "[-2.0802600982942123, -0.6931707779097546, -2.081686109959429, -2.0893965406202653, -2.079441541695297] [-9.187818787221369, -11.347535125124578, -8.179805695266788, -6.6940953598079265, -26.97567181625225]\n",
      "[-2.303403649608422, -0.5108492211158, -2.3048296612736388, -2.312540091934475, -2.302585093009507] [-9.410962338535578, -11.165213568330623, -8.402949246580997, -6.917238911122135, -27.198815367566464]\n",
      "[-2.591085722060203, -0.3566985412885417, -2.5925117337254195, -2.6002221643862558, -2.5902671654612877] [-9.69864441098736, -11.011062888503364, -8.690631319032779, -7.204920983573917, -27.486497440018244]\n",
      "[-2.996550830168368, -0.223167148664019, -2.9979768418335846, -3.005687272494421, -2.9957322735694527] [-10.104109519095523, -10.877531495878841, -9.096096427140942, -7.610386091682082, -27.891962548126408]\n",
      "[-3.6896980107283133, -0.10538411300763556, -3.69112402239353, -3.698834453054366, -3.688879454129398] [-10.79725669965547, -10.75974846022246, -9.78924360770089, -8.303533272242028, -28.585109728686355]\n"
     ]
    },
    {
     "name": "stderr",
     "output_type": "stream",
     "text": [
      "\r",
      "  0%|                                                                                            | 0/1 [00:00<?, ?it/s]"
     ]
    },
    {
     "name": "stdout",
     "output_type": "stream",
     "text": [
      "[-1323.776008091665, -1323.3978397028422, -1324.991067222205, -1323.8990261207236, -1323.395530341064]\n",
      "[-1315.9724919149387, -1316.002882651673, -1316.3343742892696, -1316.5998578773372, -1320.6609741367513]\n",
      "[-1330.844910170774, -1330.3671197257866, -1330.3883653488813, -1331.912139363507, -1330.7081561772868]\n",
      "[-1317.1625745251467, -1317.6682366996783, -1318.5872985834094, -1318.0529570195313, -1317.4331148478768]\n",
      "[-1328.9118583783882, -1328.9212319077803, -1331.0105722740434, -1329.171107252422, -1331.312826398486]\n",
      "[-1313.453865340446, -1312.0843407613293, -1313.338819934871, -1312.4272500619563, -1312.373985573432]\n",
      "[-1370.6392236769884, -1370.665302965876, -1370.1379346855379, -1371.150988568696, -1370.3867125898091]\n",
      "[-1321.7884813833398, -1321.6484673639088, -1322.0202661857065, -1322.7838762723432, -1321.538123475827]\n",
      "[-1376.680375511652, -1378.1433075577474, -1377.206165212057, -1377.3181523226917, -1378.7172977682162]\n"
     ]
    },
    {
     "name": "stderr",
     "output_type": "stream",
     "text": [
      "100%|███████████████████████████████████████████████████████████████████████████████████| 1/1 [04:44<00:00, 284.76s/it]\n"
     ]
    },
    {
     "name": "stdout",
     "output_type": "stream",
     "text": [
      "[-1386.6207199719045, -1389.4087163109923, -1385.7996915692909, -1386.8760990568242, -1387.986352603997]\n",
      "[-10.319647850316482, -14.163028829110385, -18.999105549777664, -50.779639981219205, -1.6095347405956317] [-1.6096028196639736, -1.609441444635945, -1.6094379404731398, -1.6094379124341003, -10.852059007557568]\n",
      "[-10.453179242941005, -14.296560221734907, -18.5936404416695, -50.913171373843724, -1.7430661332201545] [-1.7431342122884963, -1.7429728372604678, -1.2039728323649757, -1.742969305058623, -10.98559040018209]\n",
      "[-10.607329922768264, -14.450710901562166, -18.30595836921772, -51.067322053670985, -1.8972168130474127] [-1.8972848921157546, -1.897123517087726, -0.9162907599131945, -1.8971199848858813, -11.13974108000935]\n",
      "[-10.789651479562218, -14.633032458356121, -18.082814817903508, -51.249643610464936, -2.079538369841367] [-2.079606448909709, -2.0794450738816805, -0.6931472085989848, -2.0794415416798357, -11.322062636803304]\n",
      "[-11.012795030876427, -14.85617600967033, -17.900493261109556, -51.472787161779145, -2.302681921155577] [-2.3027500002239187, -2.3025886251958902, -0.5108256518050303, -2.3025850929940455, -11.545206188117513]\n",
      "[-11.300477103328209, -15.143858082122112, -17.746342581282295, -51.760469234230925, -2.5903639936073577] [-2.5904320726756995, -2.590270697647671, -0.356674971977772, -2.5902671654458262, -11.832888260569295]\n",
      "[-11.705942211436373, -15.549323190230275, -17.612811188657773, -52.16593434233909, -2.9958291017155227] [-2.9958971807838646, -2.995735805755836, -0.22314357935324924, -2.9957322735539913, -12.238353368677458]\n",
      "[-12.39908939199632, -16.242470370790222, -17.49502815300139, -52.85908152289904, -3.688976282275468] [-3.68904436134381, -3.6888829863157815, -0.10536054369686582, -3.6888794541139367, -12.931500549237406]\n"
     ]
    },
    {
     "name": "stderr",
     "output_type": "stream",
     "text": [
      "\r",
      "  0%|                                                                                            | 0/1 [00:00<?, ?it/s]"
     ]
    },
    {
     "name": "stdout",
     "output_type": "stream",
     "text": [
      "[-1318.4679345969848, -1315.9161634287807, -1316.5398984243725, -1316.2736058317018, -1316.0704551693411]\n",
      "[-1327.3836927616358, -1330.3409749641578, -1327.3695123530197, -1327.9971344823716, -1331.040590531251]\n",
      "[-1328.1685871493735, -1329.2310628186149, -1327.9846361561847, -1329.9541944028658, -1328.0075992407417]\n",
      "[-1342.5337601845263, -1346.1719032940332, -1342.34013357718, -1342.5519443194958, -1342.6677208973292]\n",
      "[-1313.0863949754278, -1313.2855942793105, -1312.4814001659836, -1312.4126312428855, -1313.8593720353676]\n",
      "[-1330.787729463879, -1329.9915280961766, -1330.347732679006, -1329.3805692098147, -1329.0121203368951]\n",
      "[-1367.1934410577473, -1368.8006887281467, -1365.8713520909173, -1365.6268616523835, -1365.9305951447845]\n",
      "[-1351.336120048346, -1359.7304262309453, -1350.545191812399, -1351.223161664323, -1351.0941727786094]\n",
      "[-1371.819612514545, -1373.2670707880725, -1373.2788599379974, -1371.332218724213, -1371.8442261182618]\n"
     ]
    },
    {
     "name": "stderr",
     "output_type": "stream",
     "text": [
      "100%|███████████████████████████████████████████████████████████████████████████████████| 1/1 [04:43<00:00, 283.85s/it]"
     ]
    },
    {
     "name": "stdout",
     "output_type": "stream",
     "text": [
      "[-1403.007873218609, -1406.3991408787265, -1403.1028256665745, -1402.7539162947946, -1408.869601353203]\n",
      "[-1.6094476970161622, -1.609438932812577, -1.6094379931938192, -16.54635031559435, -1.6094379124341003] [-13.144145484626346, -15.404775374816222, -17.941224224801385, -1.6094382382569392, -32.97804702627771]\n",
      "[-1.742979089640685, -1.7429703254370998, -1.203972885085655, -16.679881708218872, -1.742969305058623] [-13.277676877250869, -15.538306767440744, -17.53575911669322, -1.742969630881462, -33.111578418902226]\n",
      "[-1.8971297694679432, -1.8971210052643581, -0.9162908126338739, -16.834032388046133, -1.8971199848858813] [-13.431827557078128, -15.692457447268003, -17.24807704424144, -1.8971203107087202, -33.26572909872949]\n",
      "[-2.0794513262618977, -2.0794425620583126, -0.6931472613196642, -17.016353944840084, -2.0794415416798357] [-13.614149113872083, -15.874779004061958, -17.02493349292723, -2.0794418675026747, -33.44805065552344]\n",
      "[-2.3025948775761074, -2.3025861133725223, -0.5108257045257096, -17.239497496154296, -2.3025850929940455] [-13.837292665186292, -16.09792255537617, -16.842611936133277, -2.3025854188168844, -33.67119420683765]\n",
      "[-2.590276950027888, -2.590268185824303, -0.35667502469845136, -17.527179568606076, -2.5902671654458262] [-14.124974737638073, -16.38560462782795, -16.688461256306017, -2.590267491268665, -33.95887627928943]\n",
      "[-2.995742058136053, -2.995733293932468, -0.22314363207392862, -17.93264467671424, -2.9957322735539913] [-14.530439845746237, -16.791069735936112, -16.554929863681494, -2.9957325993768302, -34.364341387397594]\n",
      "[-3.6888892386959986, -3.6888804744924135, -0.1053605964175452, -18.625791857274187, -3.6888794541139367] [-15.223587026306184, -17.48421691649606, -16.43714682802511, -3.6888797799367756, -35.05748856795754]\n"
     ]
    },
    {
     "name": "stderr",
     "output_type": "stream",
     "text": [
      "\n",
      "  0%|                                                                                            | 0/1 [00:00<?, ?it/s]"
     ]
    },
    {
     "name": "stdout",
     "output_type": "stream",
     "text": [
      "[-1357.0885418398816, -1357.003725193454, -1357.3831958564683, -1357.267533266901, -1357.4219451219237]\n",
      "[-1340.596257222436, -1342.9197270471175, -1340.372064350913, -1340.2196625170743, -1340.431085231712]\n",
      "[-1346.7254295367936, -1348.2436982782717, -1346.7006585535607, -1346.6333312926915, -1346.9263490012424]\n",
      "[-1327.2566687996484, -1327.735794116136, -1327.1887244357683, -1327.2042006294257, -1327.9901775550431]\n",
      "[-1363.5096621775397, -1366.0045580744577, -1365.3222308525242, -1364.7912028949163, -1363.2650054480423]\n",
      "[-1329.7486114523776, -1329.51920997136, -1331.5944322904393, -1329.6010030143366, -1329.9089769065463]\n",
      "[-1374.8307328524716, -1375.658258170315, -1374.851352657035, -1374.6712134194713, -1375.353077571217]\n",
      "[-1319.5387727126765, -1318.9055976112834, -1319.4585829239334, -1318.7578683176364, -1319.029734267195]\n",
      "[-1391.1326702811327, -1392.008122756042, -1391.112134763998, -1391.2946385630473, -1392.2578653201033]\n"
     ]
    },
    {
     "name": "stderr",
     "output_type": "stream",
     "text": [
      "100%|███████████████████████████████████████████████████████████████████████████████████| 1/1 [05:30<00:00, 330.53s/it]"
     ]
    },
    {
     "name": "stdout",
     "output_type": "stream",
     "text": [
      "[-1392.0667080133703, -1391.6998487267979, -1393.2227965306797, -1391.94670061019, -1395.5774265234782]\n",
      "[-18.463731614337416, -20.87262655629122, -35.46917608039264, -57.562236643257236, -2.0150425122154276] [-1.6094379603271818, -1.6094379167403303, -1.6094379124341003, -1.6094379124341003, -2.707771276116387]\n",
      "[-18.59726300696194, -21.006157948915742, -35.60270747301716, -57.15677153514907, -2.1485739048399504] [-1.7429693529517045, -1.742969309364853, -1.742969305058623, -1.2039728043259361, -2.8413026687409095]\n",
      "[-18.7514136867892, -21.160308628743003, -35.75685815284442, -56.86908946269729, -2.3027245846672084] [-1.8971200327789628, -1.8971199891921113, -1.8971199848858813, -0.916290731874155, -2.9954533485681676]\n",
      "[-18.93373524358315, -21.342630185536954, -35.939179709638374, -56.64594591138308, -2.485046141461163] [-2.0794415895729172, -2.079441545986066, -2.0794415416798357, -0.6931471805599453, -3.177774905362122]\n",
      "[-19.156878794897363, -21.565773736851167, -36.16232326095258, -56.46362435458912, -2.7081896927753726] [-2.302585140887127, -2.3025850973002755, -2.3025850929940455, -0.5108256237659907, -3.4009184566763317]\n",
      "[-19.444560867349143, -21.853455809302947, -36.45000533340436, -56.30947367476187, -2.9958717652271534] [-2.5902672133389077, -2.5902671697520563, -2.5902671654458262, -0.35667494393873245, -3.6886005291281125]\n",
      "[-19.850025975457307, -22.25892091741111, -36.85547044151253, -56.17594228213734, -3.4013368733353184] [-2.995732321447073, -2.9957322778602213, -2.9957322735539913, -0.2231435513142097, -4.094065637236278]\n",
      "[-20.543173156017254, -22.952068097971058, -37.54861762207248, -56.05815924648096, -4.094484053895264] [-3.688879502007018, -3.6888794584201667, -3.6888794541139367, -0.10536051565782628, -4.787212817796223]\n"
     ]
    },
    {
     "name": "stderr",
     "output_type": "stream",
     "text": [
      "\n",
      "  0%|                                                                                            | 0/1 [00:00<?, ?it/s]"
     ]
    },
    {
     "name": "stdout",
     "output_type": "stream",
     "text": [
      "[-1387.5445890804558, -1386.7251098699644, -1389.2717898601122, -1387.0251978185706, -1387.254401029103]\n",
      "[-1403.3097027325116, -1400.93367501677, -1401.4601362468225, -1401.7676837818276, -1400.989643160136]\n",
      "[-1351.3281229962552, -1350.0541892200374, -1351.824622735726, -1350.5434094054028, -1352.1502882889574]\n",
      "[-1381.711984866527, -1381.0628934755323, -1382.5648579402723, -1381.5926245188703, -1380.3254087174964]\n",
      "[-1391.0409981695964, -1388.8237973916519, -1389.9734024072793, -1388.6721758466417, -1389.2825798324018]\n",
      "[-1410.6468983787915, -1408.8779791935801, -1409.2837209343986, -1410.4948847691255, -1410.9945945702773]\n",
      "[-1327.9291999178693, -1324.8792457523102, -1328.9118010123218, -1325.3508059641479, -1325.155150335822]\n",
      "[-1395.014813224069, -1394.3541489177994, -1395.396667530539, -1394.95491780515, -1394.7703259151283]\n",
      "[-1368.8164847217486, -1368.2502418955482, -1368.2278252390024, -1369.6931466851456, -1368.6669836298897]\n"
     ]
    },
    {
     "name": "stderr",
     "output_type": "stream",
     "text": [
      "100%|███████████████████████████████████████████████████████████████████████████████████| 1/1 [04:44<00:00, 284.24s/it]"
     ]
    },
    {
     "name": "stdout",
     "output_type": "stream",
     "text": [
      "[-1397.2220388902938, -1396.2169848441995, -1400.0215352457458, -1397.5585015107504, -1396.2256141271214]\n",
      "[-1.6094384800483794, -1.6094379124341003, -1.6094379144411277, -1.6094379124341003, -1.6094379124347824] [-15.991261929478082, -31.4555108187247, -21.636029720703004, -71.03781914934855, -29.75137538788847]\n",
      "[-1.7429698726729022, -1.742969305058623, -1.7429693070656505, -1.2039728043259361, -1.7429693050593051] [-16.124793322102605, -31.589042211349224, -21.769561113327526, -70.63235404124039, -29.884906780512992]\n",
      "[-1.8971205525001604, -1.8971199848858813, -1.8971199868929087, -0.916290731874155, -1.8971199848865634] [-16.278944001929865, -31.743192891176484, -21.923711793154787, -70.3446719687886, -30.039057460340253]\n",
      "[-2.079442109294115, -2.0794415416798357, -2.079441543686863, -0.6931471805599453, -2.079441541680518] [-16.461265558723817, -31.925514447970436, -22.10603334994874, -70.1215284174744, -30.221379017134204]\n",
      "[-2.3025856606083246, -2.3025850929940455, -2.302585095001073, -0.5108256237659907, -2.3025850929947276] [-16.68440911003803, -32.148657999284644, -22.32917690126295, -69.93920686068044, -30.444522568448416]\n",
      "[-2.5902677330601054, -2.5902671654458262, -2.5902671674528537, -0.35667494393873245, -2.5902671654465084] [-16.97209118248981, -32.436340071736424, -22.61685897371473, -69.78505618085318, -30.732204640900196]\n",
      "[-2.9957328411682704, -2.9957322735539913, -2.9957322755610187, -0.2231435513142097, -2.9957322735546734] [-17.377556290597973, -32.84180517984459, -23.022324081822894, -69.65152478822866, -31.13766974900836]\n",
      "[-3.688880021728216, -3.6888794541139367, -3.688879456120964, -0.10536051565782628, -3.688879454114619] [-18.07070347115792, -33.53495236040454, -23.71547126238284, -69.53374175257227, -31.830816929568307]\n"
     ]
    },
    {
     "name": "stderr",
     "output_type": "stream",
     "text": [
      "\n",
      "  0%|                                                                                            | 0/1 [00:00<?, ?it/s]"
     ]
    },
    {
     "name": "stdout",
     "output_type": "stream",
     "text": [
      "[-1405.4105565077418, -1404.6673807337586, -1405.9851100646713, -1404.3950514820547, -1404.5134235390226]\n",
      "[-1379.9458718502437, -1380.3027375024694, -1380.8452583914195, -1381.4100199352406, -1380.7624561977436]\n",
      "[-1394.5965022410605, -1394.296165301152, -1394.0557279669379, -1396.519264325158, -1394.6383942902253]\n",
      "[-1381.7371749871859, -1382.3269862217753, -1382.8114953492227, -1381.9554093092925, -1381.8128116699122]\n",
      "[-1413.0027406386305, -1412.4883209980997, -1412.5324120278763, -1415.1903612934636, -1412.9148736160948]\n",
      "[-1404.758021931035, -1404.089226679995, -1404.0644740049631, -1404.1764986241926, -1409.8921870168435]\n",
      "[-1403.585249277263, -1403.5392212492827, -1405.3668774592027, -1403.292171967196, -1403.1824907929206]\n",
      "[-1386.823231671634, -1386.2524796952666, -1389.0204138075087, -1389.9703374898845, -1386.441793235822]\n",
      "[-1323.6659996179906, -1324.2513150993864, -1324.424512542314, -1323.8318605519407, -1323.563711818012]\n"
     ]
    },
    {
     "name": "stderr",
     "output_type": "stream",
     "text": [
      "100%|███████████████████████████████████████████████████████████████████████████████████| 1/1 [04:40<00:00, 280.87s/it]"
     ]
    },
    {
     "name": "stdout",
     "output_type": "stream",
     "text": [
      "[-1319.1628659794492, -1317.9989236788947, -1319.370006902985, -1322.5745275761851, -1319.9160676532024]\n",
      "[-26.296756196237833, -14.062707014345118, -10.06536121506026, -18.808173722690366, -8.0069259202083] [-1.6094379124531997, -1.609441817378024, -1.6096505722080792, -1.609437946371895, -1.611105037654238]\n",
      "[-26.430287588862356, -14.196238406969641, -10.198892607684783, -18.94170511531489, -7.601460812100136] [-1.7429693050777224, -1.7429732100025468, -1.743181964832602, -1.7429693389964178, -1.2056399295460738]\n",
      "[-26.584438268689617, -14.3503890867969, -10.353043287512042, -19.09585579514215, -7.313778739648355] [-1.8971199849049807, -1.897123889829805, -1.8973326446598602, -1.897120018823676, -0.9179578570942927]\n",
      "[-26.766759825483568, -14.532710643590855, -10.535364844305997, -19.2781773519361, -7.090635188334145] [-2.079441541698935, -2.0794454466237595, -2.0796542014538146, -2.0794415756176305, -0.694814305780083]\n",
      "[-26.98990337679778, -14.755854194905064, -10.758508395620206, -19.501320903250313, -6.9083136315401905] [-2.302585093013145, -2.3025889979379692, -2.3027977527680243, -2.3025851269318403, -0.5124927489861284]\n",
      "[-27.27758544924956, -15.043536267356846, -11.046190468071988, -19.789002975702093, -6.7541629517129325] [-2.5902671654649256, -2.59027107038975, -2.590479825219805, -2.590267199383621, -0.3583420691588701]\n",
      "[-27.683050557357724, -15.44900137546501, -11.451655576180151, -20.194468083810257, -6.62063155908841] [-2.9957322735730907, -2.995736178497915, -2.99594493332797, -2.995732307491786, -0.2248106765343474]\n",
      "[-28.37619773791767, -16.142148556024956, -12.144802756740098, -20.887615264370204, -6.502848523432026] [-3.688879454133036, -3.6888833590578605, -3.6890921138879156, -3.6888794880517315, -0.10702764087796396]\n"
     ]
    },
    {
     "name": "stderr",
     "output_type": "stream",
     "text": [
      "\n",
      "  0%|                                                                                            | 0/1 [00:00<?, ?it/s]"
     ]
    },
    {
     "name": "stdout",
     "output_type": "stream",
     "text": [
      "[-1380.225012294723, -1380.0568357063244, -1379.6126758776304, -1380.0501419186553, -1381.2381757703483]\n",
      "[-1375.8236614769344, -1377.6203537125625, -1376.10986478709, -1376.7264275975253, -1377.858689533729]\n",
      "[-1366.1909586621105, -1368.1241958645178, -1365.788483418516, -1366.2445251095842, -1365.8252673165762]\n",
      "[-1375.410280782252, -1376.334635612834, -1376.2012087450594, -1376.3323966081107, -1377.3498389653569]\n",
      "[-1385.4237323582972, -1386.6074745796402, -1384.6257187589551, -1385.413549123016, -1385.0519699436306]\n",
      "[-1399.872977907283, -1400.8129412725623, -1398.0480948460838, -1400.6397684496417, -1397.9434637617608]\n",
      "[-1371.5883192821666, -1372.3630249016887, -1372.6659775175385, -1372.117577144195, -1372.4938302647524]\n",
      "[-1389.4165846677304, -1388.6657333149876, -1389.0721856867992, -1389.1124043176776, -1389.706238159294]\n",
      "[-1327.3938559928458, -1328.1183847814639, -1328.2844391446663, -1327.3121576183723, -1327.5943132605128]\n"
     ]
    },
    {
     "name": "stderr",
     "output_type": "stream",
     "text": [
      "100%|███████████████████████████████████████████████████████████████████████████████████| 1/1 [04:43<00:00, 283.64s/it]\n"
     ]
    },
    {
     "name": "stdout",
     "output_type": "stream",
     "text": [
      "[-1343.2427480925264, -1342.0855777122645, -1341.6026282898395, -1341.9742534407571, -1340.8503572266502]\n",
      "[-5.452270832552199, -1.609492050603717, -1.609439745770328, -1.609437947091078, -1.6094383647289987] [-1.6311037282012648, -11.433436062135183, -14.81881196237789, -18.78720366340151, -16.218369701312053]\n",
      "[-5.585802225176722, -1.7430234432282397, -1.7429711383948507, -1.7429693397156008, -1.2039732566208345] [-1.7646351208257876, -11.566967454759705, -14.952343355002412, -18.920735056026032, -15.81290459320389]\n",
      "[-5.73995290500398, -1.897174123055498, -1.897121818222109, -1.897120019542859, -0.9162911841690534] [-1.9187858006530458, -11.721118134586964, -15.106494034829671, -19.074885735853293, -15.525222520752108]\n",
      "[-5.922274461797935, -2.0794956798494524, -2.0794433750160635, -2.0794415763368135, -0.6931476328548437] [-2.1011073574470003, -11.90343969138092, -15.288815591623626, -19.257207292647244, -15.302078969437899]\n",
      "[-6.145418013112144, -2.302639231163662, -2.302586926330273, -2.302585127651023, -0.5108260760608891] [-2.32425090876121, -12.126583242695128, -15.511959142937835, -19.480350843961457, -15.119757412643944]\n",
      "[-6.433100085563925, -2.590321303615443, -2.590268998782054, -2.590267200102804, -0.35667539623363087] [-2.611932981212991, -12.41426531514691, -15.799641215389617, -19.768032916413237, -14.965606732816685]\n",
      "[-6.83856519367209, -2.995786411723608, -2.995734106890219, -2.995732308210969, -0.22314400360910813] [-3.017398089321156, -12.819730423255074, -16.20510632349778, -20.1734980245214, -14.832075340192162]\n",
      "[-7.531712374232035, -3.6889335922835533, -3.6888812874501644, -3.6888794887709144, -0.1053609679527247] [-3.7105452698811012, -13.51287760381502, -16.898253504057728, -20.866645205081348, -14.71429230453578]\n"
     ]
    },
    {
     "name": "stderr",
     "output_type": "stream",
     "text": [
      "\r",
      "  0%|                                                                                            | 0/1 [00:00<?, ?it/s]"
     ]
    },
    {
     "name": "stdout",
     "output_type": "stream",
     "text": [
      "[-1341.1068435949555, -1340.7387749555483, -1341.0806769035398, -1341.1870337695427, -1343.4342326582546]\n",
      "[-1333.9543334907196, -1334.2440839296016, -1334.1469329079248, -1335.3367025931204, -1333.8850593114169]\n",
      "[-1339.375150727073, -1338.728235412092, -1339.667904970856, -1339.044199157573, -1338.823505573027]\n",
      "[-1332.8888146862507, -1333.3014967748084, -1332.1649317259787, -1332.042074416974, -1331.8373858365]\n",
      "[-1347.482942812659, -1349.4049038889693, -1349.2673575683198, -1349.9050452240822, -1347.345445543911]\n",
      "[-1334.182658360725, -1333.6330674684066, -1334.0440846273193, -1333.410314255212, -1333.3029437015573]\n",
      "[-1363.9131089266534, -1364.6699203648254, -1363.2586736679455, -1365.426415857824, -1365.2480767756729]\n",
      "[-1336.0373296856587, -1334.3122430323883, -1334.1764858594715, -1334.1482252326268, -1334.3965787151274]\n",
      "[-1360.6153582939571, -1362.3636303584628, -1361.1725762468398, -1359.2920790438932, -1359.4663262438683]\n"
     ]
    },
    {
     "name": "stderr",
     "output_type": "stream",
     "text": [
      "100%|███████████████████████████████████████████████████████████████████████████████████| 1/1 [04:38<00:00, 278.16s/it]\n"
     ]
    },
    {
     "name": "stdout",
     "output_type": "stream",
     "text": [
      "[-1364.9202375747527, -1364.9245338071023, -1364.2522310281174, -1365.7633127948475, -1367.2906667324833]\n",
      "[-8.688604181403502, -9.657718474718717, -15.60371085408799, -30.737495213795295, -1.617563133932731] [-1.6102807427692596, -1.6097576146037909, -1.609438748739035, -1.6094379124343277, -6.426280062140745]\n",
      "[-8.283139073295338, -9.79124986734324, -15.737242246712512, -30.871026606419818, -1.7510945265572537] [-1.2048156346610954, -1.7432890072283136, -1.7429701413635577, -1.7429693050588504, -6.559811454765268]\n",
      "[-7.995457000843557, -9.945400547170498, -15.89139292653977, -31.02517728624708, -1.905245206384512] [-0.9171335622093143, -1.8974396870555719, -1.897120821190816, -1.8971199848861087, -6.713962134592526]\n",
      "[-7.7723134495293476, -10.127722103964453, -16.073714483333724, -31.20749884304103, -2.0875667631784665] [-0.6939900108951046, -2.0797612438495263, -2.0794423779847704, -2.079441541680063, -6.896283691386481]\n",
      "[-7.589991892735393, -10.350865655278662, -16.296858034647936, -31.430642394355242, -2.310710314492676] [-0.51166845410115, -2.302904795163736, -2.30258592929898, -2.302585092994273, -7.11942724270069]\n",
      "[-7.435841212908135, -10.638547727730444, -16.584540107099716, -31.718324466807022, -2.598392386944457] [-0.35751777427389175, -2.590586867615517, -2.590268001750761, -2.5902671654460536, -7.407109315152471]\n",
      "[-7.302309820283612, -11.044012835838608, -16.99000521520788, -32.123789574915186, -3.003857495052622] [-0.22398638164936902, -2.996051975723682, -2.995733109858926, -2.9957322735542187, -7.812574423260636]\n",
      "[-7.184526784627228, -11.737160016398555, -17.683152395767827, -32.81693675547513, -3.6970046756125674] [-0.10620334599298559, -3.6891991562836273, -3.6888802904188713, -3.688879454114164, -8.505721603820582]\n"
     ]
    },
    {
     "name": "stderr",
     "output_type": "stream",
     "text": [
      "\r",
      "  0%|                                                                                            | 0/1 [00:00<?, ?it/s]"
     ]
    },
    {
     "name": "stdout",
     "output_type": "stream",
     "text": [
      "[-1332.4644823555354, -1331.9352270056625, -1331.5716565140829, -1331.8916259768666, -1331.4259438593654]\n",
      "[-1335.1161276816242, -1334.5584481143856, -1335.1032773477314, -1335.730621815423, -1334.959686423154]\n",
      "[-1347.4985653109106, -1347.4619840079758, -1346.141428892799, -1347.1316527813105, -1346.287427682073]\n",
      "[-1348.1906880729775, -1345.4113335837874, -1347.3493890525397, -1345.978845992894, -1345.9940677783861]\n",
      "[-1334.2912496809172, -1333.5587626031215, -1334.4791714661137, -1335.1921654606726, -1333.8682039762957]\n",
      "[-1337.1444257113124, -1335.4516782594962, -1337.60154744256, -1335.4701886926139, -1336.9669200179867]\n",
      "[-1380.6873123386224, -1384.505591080718, -1381.7330012316718, -1380.635363970073, -1382.043643667833]\n",
      "[-1353.9709134457946, -1354.0572422936523, -1354.9030193048668, -1352.9945920596213, -1355.8911710104287]\n",
      "[-1377.8923946017835, -1376.7817800200223, -1378.6845914677774, -1376.6230839065042, -1380.3917754425288]\n"
     ]
    },
    {
     "name": "stderr",
     "output_type": "stream",
     "text": [
      "100%|███████████████████████████████████████████████████████████████████████████████████| 1/1 [04:39<00:00, 279.51s/it]\n"
     ]
    },
    {
     "name": "stdout",
     "output_type": "stream",
     "text": [
      "[-1392.3319404313722, -1395.37697698242, -1393.8150367425758, -1392.786827611292, -1391.9995892516806]\n",
      "[-1.6658302579597375, -2.658752265959788, -1.7961370712622056, -29.417713274349875, -1.6094380893244533] [-4.512923431998911, -2.040494350497579, -3.3795922900715825, -1.6094379124350098, -17.157174254227424]\n",
      "[-1.2603651498515733, -2.792283658584311, -1.9296684638867283, -29.551244666974398, -1.742969481948976] [-4.1074583238907465, -2.174025743122102, -3.513123682696105, -1.7429693050595325, -17.290705646851947]\n",
      "[-0.9726830773997922, -2.946434338411569, -2.0838191437139866, -29.70539534680166, -1.8971201617762343] [-3.8197762514389657, -2.32817642294936, -3.6672743625233633, -1.8971199848867908, -17.444856326679208]\n",
      "[-0.7495395260855825, -3.1287558952055234, -2.266140700507941, -29.88771690359561, -2.079441718570189] [-3.596632700124756, -2.5104979797433145, -3.8495959193173177, -2.0794415416807452, -17.62717788347316]\n",
      "[-0.5672179692916279, -3.351899446519733, -2.4892842518221507, -30.110860454909822, -2.3025852698843985] [-3.414311143330801, -2.733641531057524, -4.072739470631527, -2.302585092994955, -17.85032143478737]\n",
      "[-0.41306728946436966, -3.639581518971514, -2.7769663242739315, -30.398542527361602, -2.5902673423361793] [-3.260160463503543, -3.021323603509305, -4.360421543083309, -2.5902671654467357, -18.13800350723915]\n",
      "[-0.2795358968398469, -4.045046627079679, -3.1824314323820966, -30.804007635469766, -2.9957324504443443] [-3.1266290708790203, -3.42678871161747, -4.765886651191473, -2.995732273554901, -18.543468615347315]\n",
      "[-0.1617528611834635, -4.738193807639624, -3.875578612942042, -31.497154816029713, -3.6888796310042897] [-3.008846035222637, -4.119935892177415, -5.459033831751419, -3.688879454114846, -19.236615795907262]\n"
     ]
    },
    {
     "name": "stderr",
     "output_type": "stream",
     "text": [
      "\r",
      "  0%|                                                                                            | 0/1 [00:00<?, ?it/s]"
     ]
    },
    {
     "name": "stdout",
     "output_type": "stream",
     "text": [
      "[-1344.5401052136522, -1342.9658967748337, -1343.7522441889969, -1343.909782369251, -1348.9402227718756]\n",
      "[-1332.8798250410064, -1332.0616045434754, -1332.8297660458657, -1331.5873860462189, -1331.7239371473433]\n",
      "[-1341.7388610242667, -1342.5099118493124, -1341.839668965087, -1343.5150098657502, -1341.197658416833]\n",
      "[-1326.436620770004, -1326.0487747789557, -1328.7542704168845, -1326.15417706902, -1327.397815757151]\n",
      "[-1354.374401989524, -1353.9668715960142, -1353.877724603386, -1354.4954985470395, -1353.6664170553413]\n",
      "[-1334.9426607247467, -1334.7125895868255, -1334.7128408879096, -1336.2898795150275, -1335.195626435542]\n",
      "[-1368.2908423068513, -1366.5757090556365, -1366.6615740114141, -1367.3095889335457, -1366.763534485792]\n",
      "[-1334.3093029605777, -1334.3741864511946, -1333.940527624564, -1335.9463530312757, -1334.712271941459]\n",
      "[-1364.256274092255, -1363.411647731842, -1364.2120622101174, -1363.408491427468, -1363.6084433301112]\n"
     ]
    },
    {
     "name": "stderr",
     "output_type": "stream",
     "text": [
      "100%|███████████████████████████████████████████████████████████████████████████████████| 1/1 [04:41<00:00, 281.04s/it]\n"
     ]
    },
    {
     "name": "stdout",
     "output_type": "stream",
     "text": [
      "[-1361.7083161931455, -1361.8510846121876, -1361.816113081551, -1361.4347072243922, -1361.586922136668]\n",
      "[-13.198155078757576, -16.691617913166123, -20.044468592227826, -34.444218989736626, -3.6453469032272325] [-1.6094471825698065, -1.6094381942026075, -1.6094379222916586, -1.6094379124341003, -1.7493458769586823]\n",
      "[-13.331686471382099, -16.28615280505796, -20.17799998485235, -34.577750382361145, -3.7788782958517553] [-1.7429785751943292, -1.2039730860944433, -1.7429693149161813, -1.742969305058623, -1.882877269583205]\n",
      "[-13.485837151209358, -15.998470732606178, -20.33215066467961, -34.731901062188406, -3.9330289756790133] [-1.8971292550215875, -0.9162910136426622, -1.8971199947434396, -1.8971199848858813, -2.0370279494104633]\n",
      "[-13.668158708003313, -15.775327181291969, -20.51447222147356, -34.91422261898236, -4.115350532472968] [-2.079450811815542, -0.6931474623284525, -2.079441551537394, -2.0794415416798357, -2.2193495062044177]\n",
      "[-13.891302259317522, -15.593005624498014, -20.737615772787773, -35.137366170296566, -4.338494083787177] [-2.3025943631297516, -0.5108259055344979, -2.302585102851604, -2.3025850929940455, -2.4424930575186274]\n",
      "[-14.178984331769303, -15.438854944670755, -21.025297845239553, -35.425048242748346, -4.626176156238959] [-2.5902764355815324, -0.35667522570723964, -2.5902671753033846, -2.5902671654458262, -2.7301751299704082]\n",
      "[-14.584449439877467, -15.305323552046232, -21.430762953347717, -35.83051335085651, -5.031641264347123] [-2.9957415436896975, -0.2231438330827169, -2.9957322834115496, -2.9957322735539913, -3.1356402380785733]\n",
      "[-15.277596620437414, -15.18754051638985, -22.123910133907664, -36.52366053141646, -5.724788444907069] [-3.688888724249643, -0.10536079742633347, -3.688879463971495, -3.6888794541139367, -3.8287874186385187]\n"
     ]
    },
    {
     "name": "stderr",
     "output_type": "stream",
     "text": [
      "\r",
      "  0%|                                                                                            | 0/1 [00:00<?, ?it/s]"
     ]
    },
    {
     "name": "stdout",
     "output_type": "stream",
     "text": [
      "[-1346.3848607651532, -1345.3273306069539, -1343.5292553901024, -1342.7563241951946, -1344.8414740159576]\n",
      "[-1356.831896754336, -1355.4525650611808, -1354.8999917501255, -1354.4084366571674, -1354.1458529151619]\n",
      "[-1337.4040934620614, -1333.9157920181212, -1335.0024036619332, -1334.992699361498, -1334.1933325945326]\n",
      "[-1351.4226942312043, -1351.6793614352746, -1350.20057664248, -1351.4110087946274, -1351.2588908098505]\n",
      "[-1347.6398467463462, -1346.5138118374764, -1344.8661991435968, -1344.7053712321815, -1345.9730805524034]\n",
      "[-1358.0616265435813, -1358.8502596103929, -1357.507153869533, -1359.3798206686909, -1358.1925715782702]\n",
      "[-1343.7127798055935, -1344.118666034532, -1351.310546031431, -1345.6442168186677, -1343.3161753040386]\n",
      "[-1361.5455763093685, -1361.162336815372, -1361.0395065474784, -1362.7259400826931, -1361.590188756896]\n",
      "[-1355.4673023673424, -1354.7318501520533, -1353.7334118094625, -1354.634294192005, -1353.0837864790121]\n"
     ]
    },
    {
     "name": "stderr",
     "output_type": "stream",
     "text": [
      "100%|███████████████████████████████████████████████████████████████████████████████████| 1/1 [04:39<00:00, 279.99s/it]\n"
     ]
    },
    {
     "name": "stdout",
     "output_type": "stream",
     "text": [
      "[-1374.887234398857, -1375.2979725459682, -1381.8567748092264, -1375.0704206891187, -1374.189692466296]\n",
      "[-1.6094469508860356, -1.6094379651274948, -1.6094397664122198, -1.609437948648133, -1.6094379133060783] [-13.223465072954763, -18.368215008831452, -14.807615753318554, -18.7432598310864, -22.469711529708842]\n",
      "[-1.7429783435105584, -1.2039728570193307, -1.7429711590367425, -1.7429693412726557, -1.742969305930601] [-13.356996465579286, -17.96274990072329, -14.941147145943077, -18.876791223710924, -22.603242922333365]\n",
      "[-1.8971290233378166, -0.9162907845675495, -1.8971218388640008, -1.897120021099914, -1.8971199857578593] [-13.511147145406545, -17.67506782827151, -15.095297825770336, -19.030941903538185, -22.757393602160626]\n",
      "[-2.079450580131771, -0.6931472332533398, -2.079443395657955, -2.0794415778938684, -2.079441542551814] [-13.6934687022005, -17.451924276957296, -15.277619382564291, -19.213263460332136, -22.939715158954577]\n",
      "[-2.302594131445981, -0.5108256764593853, -2.302586946972165, -2.302585129208078, -2.3025850938660235] [-13.916612253514709, -17.269602720163345, -15.5007629338785, -19.43640701164635, -23.16285871026879]\n",
      "[-2.5902762038977616, -0.356674996632127, -2.5902690194239457, -2.590267201659859, -2.5902671663178043] [-14.20429432596649, -17.115452040336084, -15.788445006330281, -19.72408908409813, -23.45054078272057]\n",
      "[-2.9957413120059266, -0.22314360400760425, -2.9957341275321108, -2.995732309768024, -2.9957322744259693] [-14.609759434074654, -16.98192064771156, -16.193910114438445, -20.129554192206292, -23.856005890828733]\n",
      "[-3.688888492565872, -0.10536056835122082, -3.688881308092056, -3.6888794903279694, -3.6888794549859147] [-15.302906614634601, -16.864137612055178, -16.887057294998392, -20.82270137276624, -24.54915307138868]\n"
     ]
    },
    {
     "name": "stderr",
     "output_type": "stream",
     "text": [
      "\r",
      "  0%|                                                                                            | 0/1 [00:00<?, ?it/s]"
     ]
    },
    {
     "name": "stdout",
     "output_type": "stream",
     "text": [
      "[-1330.6374261503763, -1331.7513456915433, -1330.3814563569424, -1331.8162429849428, -1332.207088763632]\n",
      "[-1334.9068554502571, -1333.983560398801, -1334.033515465793, -1333.7882261162429, -1335.0975804931638]\n",
      "[-1341.1034823181972, -1342.3476063938424, -1340.6511651479805, -1342.2016284445554, -1341.766067550153]\n",
      "[-1341.2706901299362, -1341.4553848816986, -1342.459719457137, -1342.8536525928184, -1342.6370610013664]\n",
      "[-1332.372211654665, -1332.8907198874895, -1332.4329309548866, -1332.379026256598, -1334.6942119861433]\n",
      "[-1332.395231057894, -1332.6473020128221, -1332.184589525398, -1332.7948910288148, -1332.4201459283547]\n",
      "[-1376.745036576403, -1376.508982755849, -1375.1988438387575, -1375.7642969258245, -1375.3613251095317]\n",
      "[-1349.381496353486, -1348.8704967395934, -1349.2632620452532, -1350.1885577100948, -1349.7159478422873]\n",
      "[-1383.2623570045741, -1383.618362875224, -1383.2217072595865, -1385.1952309967799, -1383.749268116653]\n"
     ]
    },
    {
     "name": "stderr",
     "output_type": "stream",
     "text": [
      "100%|███████████████████████████████████████████████████████████████████████████████████| 1/1 [04:38<00:00, 278.18s/it]\n"
     ]
    },
    {
     "name": "stdout",
     "output_type": "stream",
     "text": [
      "[-1400.8483424755937, -1400.6364961909671, -1400.0723487609025, -1401.7414520936977, -1400.5878507590055]\n",
      "[-1.6365225241439247, -2.0877936394154633, -2.3158638769787787, -28.09704091622127, -1.6094379582769534] [-5.231739198761102, -2.5765001737393733, -2.289480326891021, -1.6094379124372835, -18.507482616300262]\n",
      "[-1.7700539167684475, -2.221325032039986, -1.9103987688706143, -28.230572308845794, -1.742969350901476] [-5.365270591385625, -2.710031566363896, -1.8840152187828567, -1.7429693050618063, -18.641014008924785]\n",
      "[-1.9242045965957058, -2.375475711867244, -1.6227166964188333, -28.384722988673055, -1.8971200307287344] [-5.519421271212883, -2.864182246191154, -1.5963331463310757, -1.8971199848890645, -18.795164688752045]\n",
      "[-2.10652615338966, -2.5577972686611985, -1.3995731451046236, -28.567044545467006, -2.079441587522689] [-5.701742828006838, -3.0465038029851086, -1.373189595016866, -2.079441541683019, -18.977486245545997]\n",
      "[-2.32966970470387, -2.780940819975408, -1.217251588310669, -28.79018809678122, -2.3025851388368985] [-5.9248863793210464, -3.2696473542993183, -1.1908680382229113, -2.3025850929972287, -19.20062979686021]\n",
      "[-2.6173517771556507, -3.068622892427189, -1.0631009084834107, -29.077870169232998, -2.5902672112886793] [-6.212568451772828, -3.557329426751099, -1.036717358395653, -2.5902671654490095, -19.48831186931199]\n",
      "[-3.0228168852638158, -3.474088000535354, -0.9295695158588879, -29.483335277341162, -2.9957323193968444] [-6.618033559880993, -3.962794534859264, -0.9031859657711303, -2.9957322735571745, -19.893776977420153]\n",
      "[-3.715964065823761, -4.1672351810952994, -0.8117864802025045, -30.17648245790111, -3.6888794999567898] [-7.311180740440938, -4.6559417154192095, -0.7854029301147469, -3.68887945411712, -20.5869241579801]\n"
     ]
    },
    {
     "name": "stderr",
     "output_type": "stream",
     "text": [
      "\r",
      "  0%|                                                                                            | 0/1 [00:00<?, ?it/s]"
     ]
    },
    {
     "name": "stdout",
     "output_type": "stream",
     "text": [
      "[-1326.8864753592914, -1326.2062814004146, -1328.0990528385134, -1327.9636241669775, -1327.376954352743]\n",
      "[-1335.8492810967575, -1334.2864263572985, -1334.7706307088222, -1334.5687527128896, -1334.9074706054955]\n",
      "[-1331.0482882687759, -1331.0159824002442, -1331.99026440072, -1331.1944945069374, -1331.3664673286369]\n",
      "[-1340.693903047584, -1340.9004055253824, -1340.6516930774012, -1340.7414925700793, -1340.2382623579394]\n",
      "[-1324.727096972131, -1324.0218875410817, -1325.0819553107456, -1324.9413210381924, -1325.0336914991083]\n",
      "[-1341.774425992564, -1339.9238245971464, -1338.0792999667574, -1338.1472038351021, -1338.5069612332118]\n",
      "[-1351.3843046500242, -1350.7531971804547, -1350.8465802703558, -1352.567125133979, -1351.6455998029978]\n",
      "[-1352.346546215566, -1352.1588382019331, -1350.885200060024, -1351.0268877454296, -1353.2958803795268]\n",
      "[-1353.184865027797, -1352.1797284054337, -1352.6591719319986, -1352.60007620354, -1351.899222197273]\n"
     ]
    },
    {
     "name": "stderr",
     "output_type": "stream",
     "text": [
      "100%|███████████████████████████████████████████████████████████████████████████████████| 1/1 [04:42<00:00, 282.10s/it]"
     ]
    },
    {
     "name": "stdout",
     "output_type": "stream",
     "text": [
      "[-1373.8145596718416, -1372.5593290963036, -1372.5829113856482, -1373.7852504865616, -1372.6466872565682]\n",
      "[-1.6097951380439326, -1.6095596969794996, -1.609438895003518, -2.3331223051846566, -1.6094379130420975] [-9.546759535141586, -10.622755900061588, -15.442533245881872, -2.272952835572892, -22.830342441484458]\n",
      "[-1.7433265306684553, -1.7430910896040224, -1.203973786895354, -2.4666536978091793, -1.7429693056666202] [-9.680290927766109, -10.75628729268611, -15.037068137773709, -2.4064842281974146, -22.96387383410898]\n",
      "[-1.8974772104957136, -1.8972417694312806, -0.9162917144435728, -2.6208043776364374, -1.8971199854938785] [-9.834441607593368, -10.91043797251337, -14.749386065321927, -2.5606349080246726, -23.11802451393624]\n",
      "[-2.079798767289668, -2.079563326225235, -0.6931481631293631, -2.803125934430392, -2.079441542287833] [-10.016763164387323, -11.092759529307324, -14.526242514007718, -2.742956464818627, -23.300346070730193]\n",
      "[-2.3029423186038778, -2.302706877539445, -0.5108266063354086, -3.0262694857446015, -2.3025850936020427] [-10.239906715701531, -11.315903080621533, -14.343920957213763, -2.966100016132837, -23.523489622044405]\n",
      "[-2.5906243910556586, -2.5903889499912256, -0.3566759265081503, -3.3139515581963823, -2.5902671660538235] [-10.527588788153313, -11.603585153073315, -14.189770277386504, -3.2537820885846176, -23.811171694496185]\n",
      "[-2.9960894991638236, -2.9958540580993906, -0.22314453388362754, -3.7194166663045474, -2.9957322741619885] [-10.933053896261477, -12.009050261181478, -14.056238884761981, -3.6592471966927826, -24.21663680260435]\n",
      "[-3.689236679723769, -3.689001238659336, -0.10536149822724411, -4.412563846864493, -3.688879454721934] [-11.626201076821424, -12.702197441741426, -13.9384558491056, -4.352394377252728, -24.909783983164296]\n"
     ]
    },
    {
     "name": "stderr",
     "output_type": "stream",
     "text": [
      "\n",
      "  0%|                                                                                            | 0/1 [00:00<?, ?it/s]"
     ]
    },
    {
     "name": "stdout",
     "output_type": "stream",
     "text": [
      "[-1351.7730461066947, -1349.2541287688634, -1347.8202802702706, -1348.5624799322811, -1350.430472835125]\n",
      "[-1334.9876921300875, -1333.806476226031, -1333.893492743604, -1334.3128134343842, -1334.3531751059181]\n",
      "[-1343.8573228303987, -1343.5454620060166, -1343.6656522179958, -1347.034436265077, -1343.48754745464]\n",
      "[-1333.5340104486354, -1328.4515549945613, -1328.4149900349698, -1329.4064160875828, -1328.4162467564279]\n",
      "[-1352.9297631248146, -1352.1917001800566, -1352.5303099566472, -1352.98927662786, -1353.5610966721533]\n",
      "[-1330.1843309067774, -1330.5271719135346, -1335.3744361655847, -1329.9514413662548, -1329.9069029518434]\n",
      "[-1360.8455548242978, -1360.6224801098338, -1360.6679075047482, -1360.933143776439, -1360.4621537030812]\n",
      "[-1321.7168658345136, -1323.0885214512336, -1322.9906773235225, -1322.9222790328304, -1321.6474336946221]\n",
      "[-1368.3804516526363, -1362.6153119886806, -1362.5975655856384, -1364.279704247405, -1362.9023286885715]\n"
     ]
    },
    {
     "name": "stderr",
     "output_type": "stream",
     "text": [
      "100%|███████████████████████████████████████████████████████████████████████████████████| 1/1 [04:38<00:00, 278.23s/it]"
     ]
    },
    {
     "name": "stdout",
     "output_type": "stream",
     "text": [
      "[-1359.8769718696662, -1360.7948125984062, -1359.3880938854077, -1359.5043483574068, -1361.5942630058075]\n",
      "[-15.662972381790564, -16.962274881048483, -24.546834104957338, -40.4379195320367, -4.768628728332556] [-1.6094387006183524, -1.6094381273890803, -1.6094379125432396, -1.6094379124341003, -1.652825784764741]\n",
      "[-15.796503774415086, -17.095806273673006, -24.68036549758186, -40.032454423928534, -4.902160120957078] [-1.742970093242875, -1.742969520013603, -1.7429693051677624, -1.2039728043259361, -1.7863571773892637]\n",
      "[-15.950654454242345, -17.249956953500266, -24.83451617740912, -39.744772351476755, -5.0563108007843365] [-1.8971207730701334, -1.8971201998408613, -1.8971199849950207, -0.916290731874155, -1.940507857216522]\n",
      "[-16.1329760110363, -17.432278510294218, -25.016837734203072, -39.521628800162546, -5.238632357578291] [-2.079442329864088, -2.079441756634816, -2.079441541788975, -0.6931471805599453, -2.1228294140104764]\n",
      "[-16.35611956235051, -17.65542206160843, -25.239981285517285, -39.33930724336859, -5.4617759088925] [-2.3025858811782975, -2.3025853079490255, -2.302585093103185, -0.5108256237659907, -2.345972965324686]\n",
      "[-16.64380163480229, -17.94310413406021, -25.527663357969065, -39.185156563541334, -5.749457981344282] [-2.5902679536300783, -2.5902673804008063, -2.5902671655549656, -0.35667494393873245, -2.633655037776467]\n",
      "[-17.049266742910454, -18.348569242168374, -25.93312846607723, -39.05162517091681, -6.1549230894524465] [-2.9957330617382434, -2.9957324885089713, -2.9957322736631307, -0.2231435513142097, -3.039120145884632]\n",
      "[-17.7424139234704, -19.04171642272832, -26.626275646637175, -38.93384213526043, -6.848070270012392] [-3.688880242298189, -3.6888796690689167, -3.688879454223076, -0.10536051565782628, -3.7322673264445774]\n"
     ]
    },
    {
     "name": "stderr",
     "output_type": "stream",
     "text": [
      "\n",
      "  0%|                                                                                            | 0/1 [00:00<?, ?it/s]"
     ]
    },
    {
     "name": "stdout",
     "output_type": "stream",
     "text": [
      "[-1351.0571612900358, -1351.4520657430521, -1350.706795519579, -1350.4759219953967, -1354.1471648744746]\n",
      "[-1361.09013651182, -1360.2582927022315, -1360.6315532407473, -1360.1408179188886, -1359.8873674161016]\n",
      "[-1334.8686022832414, -1333.956171802566, -1334.0482213517978, -1333.9073416589097, -1334.3205409264635]\n",
      "[-1351.507025952744, -1350.2307966611281, -1350.500410770854, -1350.7266644479698, -1350.2466863860193]\n",
      "[-1348.5753045568588, -1349.2988346994268, -1348.9428700658634, -1348.2172248603626, -1349.9034924274772]\n",
      "[-1360.969708247213, -1359.1883410680175, -1359.023703225016, -1359.7466425326866, -1359.0852172262248]\n",
      "[-1325.9809601910479, -1325.8711273067552, -1326.6235509276544, -1326.0605935653243, -1327.6377733436043]\n",
      "[-1355.3749579444416, -1356.0079382660047, -1355.3383178710797, -1356.3033200488285, -1356.7149927949363]\n",
      "[-1361.5624262013607, -1361.8905717725593, -1361.6204284589057, -1360.8512432075822, -1361.9578777798033]\n"
     ]
    },
    {
     "name": "stderr",
     "output_type": "stream",
     "text": [
      "100%|███████████████████████████████████████████████████████████████████████████████████| 1/1 [04:42<00:00, 282.37s/it]"
     ]
    },
    {
     "name": "stdout",
     "output_type": "stream",
     "text": [
      "[-1381.4453880781864, -1380.781621974186, -1380.8661350472746, -1381.2463247598268, -1381.3707338721786]\n",
      "[-1.6095310954854767, -1.6094380210061672, -1.6094614563276763, -1.6094379124343277, -1.609437916522961] [-10.890429208568616, -17.645288887910578, -12.266093754073676, -31.082919325499528, -20.924438647566898]\n",
      "[-1.7430624881099994, -1.74296941363069, -1.742992848952199, -1.2039728043261635, -1.7429693091474838] [-11.023960601193139, -17.7788202805351, -12.399625146698199, -30.677454217391364, -21.05797004019142]\n",
      "[-1.8972131679372577, -1.8971200934579482, -1.8971435287794574, -0.9162907318743824, -1.897119988974742] [-11.178111281020398, -17.93297096036236, -12.553775826525458, -30.389772144939585, -21.21212072001868]\n",
      "[-2.079534724731212, -2.0794416502519026, -2.079465085573412, -0.6931471805601727, -2.0794415457686966] [-11.360432837814352, -18.115292517156313, -12.736097383319413, -30.166628593625372, -21.394442276812633]\n",
      "[-2.302678276045422, -2.3025852015661123, -2.3026086368876215, -0.5108256237662181, -2.3025850970829063] [-11.583576389128561, -18.338436068470525, -12.959240934633621, -29.98430703683142, -21.617585828126845]\n",
      "[-2.5903603484972026, -2.590267274017893, -2.5902907093394023, -0.3566749439389598, -2.590267169534687] [-11.871258461580343, -18.626118140922305, -13.246923007085403, -29.83015635700416, -21.905267900578625]\n",
      "[-2.9958254566053677, -2.995732382126058, -2.9957558174475674, -0.22314355131443708, -2.995732277642852] [-12.276723569688507, -19.03158324903047, -13.652388115193567, -29.696624964379637, -22.31073300868679]\n",
      "[-3.688972637165313, -3.6888795626860036, -3.6889029980075128, -0.10536051565805366, -3.6888794582027975] [-12.969870750248454, -19.724730429590416, -14.345535295753514, -29.578841928723254, -23.003880189246736]\n"
     ]
    },
    {
     "name": "stderr",
     "output_type": "stream",
     "text": [
      "\n",
      "  0%|                                                                                            | 0/1 [00:00<?, ?it/s]"
     ]
    },
    {
     "name": "stdout",
     "output_type": "stream",
     "text": [
      "[-1398.456763320301, -1397.5303056507441, -1397.8294706495403, -1397.7338032319863, -1398.4130664344598]\n",
      "[-1376.4007751792221, -1379.237352418945, -1376.6174444556661, -1375.7596573197504, -1377.5096073472657]\n",
      "[-1395.0273687878473, -1394.281027267087, -1394.7657929783275, -1394.3842556334678, -1395.8419967479097]\n",
      "[-1379.1701977402645, -1378.8931072702198, -1379.492673085124, -1380.333267645512, -1379.1224139455826]\n",
      "[-1404.4611607208126, -1405.5835510951065, -1404.9800278135144, -1403.6268296385597, -1404.3721967858064]\n",
      "[-1391.1546101647339, -1390.9852013864668, -1390.8340105609034, -1391.7029024933229, -1390.963818377256]\n",
      "[-1405.2652937832984, -1407.4271593033275, -1407.9275429697093, -1405.3524653328434, -1407.4028284094322]\n",
      "[-1379.986357599161, -1380.3125989343523, -1382.2985124963586, -1379.546994268442, -1379.5479332408856]\n",
      "[-1339.5303918536715, -1339.7379776954817, -1340.7049662442637, -1339.5198046328928, -1339.978693397517]\n"
     ]
    },
    {
     "name": "stderr",
     "output_type": "stream",
     "text": [
      "100%|███████████████████████████████████████████████████████████████████████████████████| 1/1 [04:40<00:00, 280.42s/it]"
     ]
    },
    {
     "name": "stdout",
     "output_type": "stream",
     "text": [
      "[-1331.4131746596145, -1331.6508013168245, -1332.2758827675757, -1331.472082290104, -1331.6771461254143]\n",
      "[-23.486209707235798, -16.621728808270586, -13.961358805792838, -27.26202617499491, -10.269207151066507] [-1.609437912749695, -1.6094382145996178, -1.6094422338877166, -1.6094379124413762, -1.609611351795661]\n",
      "[-23.61974109986032, -16.75526020089511, -14.09489019841736, -27.395557567619434, -9.863742042958343] [-1.7429693053742177, -1.7429696072241405, -1.7429736265122393, -1.742969305065899, -1.2041462436874968]\n",
      "[-23.77389177968758, -16.90941088072237, -14.24904087824462, -27.549708247446695, -9.576059970506561] [-1.897119985201476, -1.8971202870513988, -1.8971243063394976, -1.8971199848931573, -0.9164641712357157]\n",
      "[-23.956213336481532, -17.09173243751632, -14.431362435038574, -27.732029804240646, -9.352916419192352] [-2.0794415419954304, -2.0794418438453532, -2.079445863133452, -2.0794415416871117, -0.693320619921506]\n",
      "[-24.179356887795745, -17.314875988830533, -14.654505986352783, -27.95517335555486, -9.170594862398397] [-2.30258509330964, -2.302585395159563, -2.3025894144476617, -2.3025850930013214, -0.5109990631275514]\n",
      "[-24.467038960247525, -17.602558061282313, -14.942188058804565, -28.24285542800664, -9.016444182571139] [-2.590267165761421, -2.5902674676113437, -2.5902714868994425, -2.590267165453102, -0.3568483833002931]\n",
      "[-24.87250406835569, -18.008023169390476, -15.347653166912728, -28.648320536114802, -8.882912789946616] [-2.995732273869586, -2.995732575719509, -2.9957365950076076, -2.9957322735612673, -0.22331699067577038]\n",
      "[-25.565651248915636, -18.701170349950424, -16.040800347472675, -29.34146771667475, -8.765129754290234] [-3.6888794544295314, -3.688879756279454, -3.688883775567553, -3.6888794541212127, -0.10553395501938695]\n"
     ]
    },
    {
     "name": "stderr",
     "output_type": "stream",
     "text": [
      "\n",
      "  0%|                                                                                            | 0/1 [00:00<?, ?it/s]"
     ]
    },
    {
     "name": "stdout",
     "output_type": "stream",
     "text": [
      "[-1360.5805186320385, -1360.2588124836502, -1360.5931639182554, -1360.408151496088, -1360.0958937321438]\n",
      "[-1351.5733388901817, -1351.2667326187902, -1352.0583248951252, -1350.5689713658458, -1350.92062473838]\n",
      "[-1349.0820953224018, -1348.9907867062273, -1349.4310537794215, -1349.4073225170857, -1350.5702217600763]\n",
      "[-1344.7474026726513, -1344.8358264857334, -1346.5410233293323, -1344.6244724775124, -1344.8544838784537]\n",
      "[-1368.3171414580372, -1367.8711025706814, -1368.0245543099243, -1367.890115711323, -1368.6451614518971]\n",
      "[-1364.766005814153, -1363.9143926432637, -1362.3420487530577, -1363.4719724366635, -1363.7441387483461]\n",
      "[-1360.9875975935079, -1360.7383984980784, -1361.154927015226, -1360.9360598776198, -1361.1897341860981]\n",
      "[-1354.2832122150344, -1353.9494459816692, -1355.2583499498346, -1355.7469322671445, -1355.6286896699662]\n",
      "[-1332.7972132372236, -1333.036286338029, -1332.9992847280666, -1333.1673690626778, -1334.5256255253337]\n"
     ]
    },
    {
     "name": "stderr",
     "output_type": "stream",
     "text": [
      "100%|███████████████████████████████████████████████████████████████████████████████████| 1/1 [04:40<00:00, 280.81s/it]\n"
     ]
    },
    {
     "name": "stdout",
     "output_type": "stream",
     "text": [
      "[-1335.729318987736, -1333.9866858735309, -1334.7586947359064, -1333.8216851252923, -1336.7176745391894]\n",
      "[-11.210430450723674, -6.039849400252774, -7.2557548536004335, -8.49889314666218, -1.9176714285059233] [-1.6095055762696802, -1.6214189877478702, -1.612974655224957, -1.6104568999422326, -2.93649675164495]\n",
      "[-11.343961843348197, -6.173380792877297, -7.389286246224956, -8.632424539286703, -1.5122063203977592] [-1.743036968894203, -1.754950380372393, -1.7465060478494798, -1.7439882925667554, -2.5310316435367852]\n",
      "[-11.498112523175456, -6.327531472704555, -7.543436926052214, -8.786575219113962, -1.2245242479459781] [-1.8971876487214612, -1.9091010601996512, -1.900656727676738, -1.8981389723940136, -2.2433495710850044]\n",
      "[-11.68043407996941, -6.50985302949851, -7.725758482846169, -8.968896775907917, -1.0013806966317684] [-2.0795092055154156, -2.0914226169936057, -2.0829782844706926, -2.080460529187968, -2.0202060197707947]\n",
      "[-11.90357763128362, -6.732996580812719, -7.948902034160378, -9.192040327222125, -0.8190591398378138] [-2.3026527568296253, -2.3145661683078154, -2.3061218357849023, -2.303604080502178, -1.83788446297684]\n",
      "[-12.191259703735401, -7.0206786532645005, -8.23658410661216, -9.479722399673907, -0.6649084600105555] [-2.590334829281406, -2.602248240759596, -2.593803908236683, -2.5912861529539586, -1.6837337831495818]\n",
      "[-12.596724811843565, -7.426143761372665, -8.642049214720323, -9.88518750778207, -0.5313770673860327] [-2.995799937389571, -3.007713348867761, -2.999269016344848, -2.9967512610621236, -1.550202390525059]\n",
      "[-13.289871992403512, -8.119290941932611, -9.33519639528027, -10.578334688342018, -0.4135940317296493] [-3.6889471179495166, -3.7008605294277066, -3.6924161969047935, -3.689898441622069, -1.4324193548686757]\n"
     ]
    },
    {
     "name": "stderr",
     "output_type": "stream",
     "text": [
      "\r",
      "  0%|                                                                                            | 0/1 [00:00<?, ?it/s]"
     ]
    },
    {
     "name": "stdout",
     "output_type": "stream",
     "text": [
      "[-1341.1634766700681, -1342.9003666632289, -1341.6436698057169, -1339.8473599332447, -1343.1626307004135]\n",
      "[-1337.1954828003013, -1338.2590428296185, -1338.591096901096, -1338.8216739214636, -1337.8561795130313]\n",
      "[-1346.021173914586, -1346.1636421299452, -1344.934593370778, -1345.7019918918056, -1347.0963888179801]\n",
      "[-1342.09447590161, -1342.5904141338076, -1342.5552549976826, -1341.6853325326927, -1341.8978642622212]\n",
      "[-1340.9905043888375, -1341.9672784447703, -1341.6891857283717, -1340.6087323242627, -1340.709381758419]\n",
      "[-1338.6914355608117, -1337.6841552396165, -1337.3998829851719, -1337.962807392056, -1338.337647557268]\n",
      "[-1361.140683485316, -1362.0495271355949, -1363.3828573035908, -1362.0968818034207, -1361.8600964721745]\n",
      "[-1343.6338057883845, -1342.9811869270347, -1344.1553402667637, -1345.5450231805157, -1343.5697680984745]\n",
      "[-1358.5815500121162, -1358.30362559064, -1356.923598238477, -1356.8901758731436, -1357.1714612492424]\n"
     ]
    },
    {
     "name": "stderr",
     "output_type": "stream",
     "text": [
      "100%|███████████████████████████████████████████████████████████████████████████████████| 1/1 [04:41<00:00, 281.16s/it]\n"
     ]
    },
    {
     "name": "stdout",
     "output_type": "stream",
     "text": [
      "[-1363.6640060290638, -1363.569118042241, -1364.7140735152907, -1364.3452634216928, -1362.4946475425504]\n",
      "[-4.455110439308851, -5.466969940588183, -4.820940971926416, -19.58760331458809, -1.6125822113891217] [-1.6692889654980945, -1.6307841906928615, -1.65056828829604, -1.6094379280003295, -7.373173971456777]\n",
      "[-4.049645331200686, -5.600501333212706, -4.954472364550939, -19.721134707212613, -1.7461136040136445] [-1.2638238573899303, -1.7643155833173843, -1.7840996809205627, -1.7429693206248522, -7.5067053640812995]\n",
      "[-3.7619632587489056, -5.754652013039964, -5.108623044378197, -19.875285387039874, -1.9002642838409027] [-0.9761417849381492, -1.9184662631446425, -1.938250360747821, -1.8971200004521105, -7.660856043908558]\n",
      "[-3.538819707434696, -5.936973569833919, -5.290944601172152, -20.057606943833825, -2.082585840634857] [-0.7529982336239395, -2.100787819938597, -2.1205719175417754, -2.079441557246065, -7.8431776007025125]\n",
      "[-3.356498150640741, -6.160117121148128, -5.5140881524863605, -20.280750495148038, -2.305729391949067] [-0.5706766768299849, -2.3239313712528067, -2.343715468855985, -2.3025851085602747, -8.066321152016721]\n",
      "[-3.202347470813483, -6.447799193599909, -5.801770224938142, -20.568432567599817, -2.5934114644008477] [-0.41652599700272663, -2.6116134437045875, -2.631397541307766, -2.5902671810120554, -8.354003224468503]\n",
      "[-3.06881607818896, -6.853264301708074, -6.207235333046307, -20.97389767570798, -2.9988765725090127] [-0.2829946043782039, -3.0170785518127525, -3.036862649415931, -2.9957322891202205, -8.759468332576667]\n",
      "[-2.951033042532577, -7.546411482268019, -6.900382513606252, -21.66704485626793, -3.692023753068958] [-0.16521156872182047, -3.710225732372698, -3.7300098299758764, -3.688879469680166, -9.452615513136614]\n"
     ]
    },
    {
     "name": "stderr",
     "output_type": "stream",
     "text": [
      "\r",
      "  0%|                                                                                            | 0/1 [00:00<?, ?it/s]"
     ]
    },
    {
     "name": "stdout",
     "output_type": "stream",
     "text": [
      "[-1338.513957778328, -1338.506904575524, -1339.368153656194, -1341.466111703035, -1339.5965809645581]\n",
      "[-1345.4164389358648, -1346.0410179408664, -1347.2015121018649, -1347.2739646333375, -1345.7870639966586]\n",
      "[-1341.1424922957283, -1341.6599167367, -1342.1104106263863, -1341.6888394457399, -1344.6888989265915]\n",
      "[-1349.8660430798136, -1347.6844012994206, -1347.9862711407131, -1347.9071162297714, -1348.2592198611765]\n",
      "[-1338.555301768618, -1336.978570763662, -1341.6015696445684, -1337.3596379712253, -1337.6322410930443]\n",
      "[-1344.8509103507918, -1343.5889373093328, -1347.68431616315, -1343.5452882809136, -1343.87391380485]\n",
      "[-1359.2409153786402, -1359.7416829087133, -1358.3523359967048, -1361.991620457481, -1358.502036788047]\n",
      "[-1354.8747397851926, -1353.1211918315907, -1354.3330075863864, -1353.3881779306334, -1353.7417272241087]\n",
      "[-1367.1234312369195, -1367.153727273471, -1368.756368224145, -1367.3709280755863, -1368.5614850741692]\n"
     ]
    },
    {
     "name": "stderr",
     "output_type": "stream",
     "text": [
      "100%|███████████████████████████████████████████████████████████████████████████████████| 1/1 [04:39<00:00, 279.67s/it]\n"
     ]
    },
    {
     "name": "stdout",
     "output_type": "stream",
     "text": [
      "[-1384.2967679691565, -1384.0234758158977, -1383.016348565775, -1386.740931132189, -1383.2438919919432]\n",
      "[-1.6107095172495292, -1.6106612596207242, -1.6114102970476096, -6.887755647719655, -1.609438041977296] [-8.277549189571186, -8.316214105077801, -7.838935947218329, -1.6145519717914112, -17.46868902053195]\n",
      "[-1.205244409141365, -1.7441926522452469, -1.7449416896721324, -7.021287040344178, -1.7429694346018187] [-7.872084081463022, -8.449745497702324, -7.972467339842852, -1.748083364415934, -17.602220413156473]\n",
      "[-0.9175623366895839, -1.8983433320725052, -1.8990923694993906, -7.175437720171436, -1.897120114429077] [-7.584402009011241, -8.603896177529583, -8.12661801967011, -1.9022340442431922, -17.756371092983734]\n",
      "[-0.6944187853753742, -2.0806648888664596, -2.081413926293345, -7.357759276965391, -2.0794416712230315] [-7.361258457697032, -8.786217734323538, -8.308939576464065, -2.0845556010371467, -17.938692649777686]\n",
      "[-0.5120972285814196, -2.3038084401806693, -2.304557477607555, -7.5809028282796, -2.302585222537241] [-7.178936900903077, -9.009361285637747, -8.532083127778273, -2.3076991523513564, -18.161836201091898]\n",
      "[-0.3579465487541613, -2.59149051263245, -2.5922395500593356, -7.868584900731381, -2.590267294989022] [-7.024786221075819, -9.297043358089528, -8.819765200230055, -2.595381224803137, -18.449518273543678]\n",
      "[-0.22441515612963858, -2.996955620740615, -2.9977046581675006, -8.274050008839545, -2.995732403097187] [-6.891254828451296, -9.702508466197692, -9.225230308338219, -3.000846332911302, -18.85498338165184]\n",
      "[-0.10663212047325515, -3.6901028013005606, -3.690851838727446, -8.967197189399492, -3.6888795836571324] [-6.773471792794912, -10.395655646757639, -9.918377488898166, -3.6939935134712476, -19.54813056221179]\n"
     ]
    },
    {
     "name": "stderr",
     "output_type": "stream",
     "text": [
      "\r",
      "  0%|                                                                                            | 0/1 [00:00<?, ?it/s]"
     ]
    },
    {
     "name": "stdout",
     "output_type": "stream",
     "text": [
      "[-1359.6080472718172, -1359.4062582623305, -1357.7356498400336, -1358.2005487635765, -1359.4037419976235]\n",
      "[-1356.5475421464578, -1356.5276510301553, -1357.0605779182877, -1358.3193009602471, -1358.992039935263]\n",
      "[-1351.1000128308726, -1351.259204957539, -1351.8849367661962, -1351.65995857257, -1352.3988471222904]\n",
      "[-1349.6697255149697, -1350.9922150027483, -1349.6673711244434, -1353.1851481484841, -1351.7916364908665]\n",
      "[-1361.0456070633807, -1362.6674361783369, -1360.7358884210405, -1360.5510296168065, -1363.1359389920688]\n",
      "[-1356.2138544602576, -1357.0320687760768, -1356.6366757923033, -1356.1865126658167, -1356.9085092640535]\n",
      "[-1357.5602886002882, -1357.4502467834966, -1358.0542499674768, -1357.140576209785, -1358.6733602660963]\n",
      "[-1356.0373910340818, -1357.8369624355942, -1355.4266969196283, -1355.1458662460605, -1355.0946519585518]\n",
      "[-1369.1739019906288, -1371.1420027926558, -1368.7305126630142, -1369.8359792866738, -1369.5275187738932]\n"
     ]
    },
    {
     "name": "stderr",
     "output_type": "stream",
     "text": [
      "100%|███████████████████████████████████████████████████████████████████████████████████| 1/1 [04:37<00:00, 277.70s/it]\n"
     ]
    },
    {
     "name": "stdout",
     "output_type": "stream",
     "text": [
      "[-1378.485774434519, -1374.2592925598274, -1374.2300371784495, -1374.2398800272767, -1375.3715975409414]\n",
      "[-3.3065484855372462, -2.994156563379488, -5.885041122681128, -3.6130102839302483, -1.61396392909121] [-1.8118137851912024, -1.8976457738413728, -1.623439133026136, -1.7542933843786386, -7.0096131186761115]\n",
      "[-3.440079878161769, -2.5886914552713236, -6.01857251530565, -3.746541676554771, -1.7474953217157327] [-1.9453451778157251, -1.4921806657332086, -1.7569705256506587, -1.8878247770031613, -7.143144511300634]\n",
      "[-3.594230557989027, -2.301009382819543, -6.1727231951329085, -3.900692356382029, -1.901646001542991] [-2.0994958576429834, -1.2044985932814276, -1.911121205477917, -2.0419754568304196, -7.297295191127892]\n",
      "[-3.7765521147829815, -2.077865831505333, -6.355044751926863, -4.083013913175984, -2.0839675583369455] [-2.281817414436938, -0.9813550419672178, -2.0934427622718714, -2.224297013624374, -7.479616747921847]\n",
      "[-3.999695666097191, -1.8955442747113784, -6.578188303241072, -4.306157464490193, -2.307111109651155] [-2.5049609657511476, -0.7990334851732632, -2.316586313586081, -2.4474405649385838, -7.702760299236056]\n",
      "[-4.287377738548972, -1.7413935948841202, -6.865870375692854, -4.593839536941974, -2.594793182102936] [-2.7926430382029284, -0.644882805346005, -2.604268386037862, -2.7351226373903645, -7.990442371687838]\n",
      "[-4.692842846657137, -1.6078622022595974, -7.2713354838010185, -4.999304645050139, -3.000258290211101] [-3.1981081463110934, -0.5113514127214822, -3.009733494146027, -3.1405877454985296, -8.395907479796001]\n",
      "[-5.385990027217082, -1.490079166603214, -7.964482664360964, -5.6924518256100844, -3.6934054707710464] [-3.891255326871039, -0.3935683770650988, -3.7028806747059724, -3.833734926058475, -9.089054660355949]\n"
     ]
    },
    {
     "name": "stderr",
     "output_type": "stream",
     "text": [
      "\r",
      "  0%|                                                                                            | 0/1 [00:00<?, ?it/s]"
     ]
    },
    {
     "name": "stdout",
     "output_type": "stream",
     "text": [
      "[-1346.7194725559589, -1348.8003615455586, -1346.2864980498766, -1346.0497288859538, -1346.081208172886]\n",
      "[-1353.5672893581595, -1354.8573316793863, -1361.2477305053126, -1353.7581363455774, -1353.632841742272]\n",
      "[-1338.6065121793265, -1338.0117432540767, -1337.2945009343723, -1337.632721690495, -1336.9580105528778]\n",
      "[-1348.039400985745, -1346.483511991512, -1346.804923965396, -1346.9384401299362, -1346.763097521402]\n",
      "[-1346.3328793117112, -1346.0685457545046, -1346.3691394364146, -1346.2905816086281, -1347.1401600928516]\n",
      "[-1349.7185134885667, -1349.8816526607852, -1349.857690479971, -1350.6200263328656, -1350.5532679479375]\n",
      "[-1345.086615945262, -1343.299684533666, -1342.2278548041709, -1342.8347496339034, -1342.8701342627087]\n",
      "[-1351.5538212788715, -1350.7026307009555, -1350.6058895398646, -1352.7343887444194, -1352.1180972458433]\n",
      "[-1368.9239390270604, -1367.8132990137465, -1367.929294614246, -1368.8004020762537, -1368.3926958913298]\n"
     ]
    },
    {
     "name": "stderr",
     "output_type": "stream",
     "text": [
      "100%|███████████████████████████████████████████████████████████████████████████████████| 1/1 [04:39<00:00, 279.26s/it]\n"
     ]
    },
    {
     "name": "stdout",
     "output_type": "stream",
     "text": [
      "[-1383.3154356070809, -1384.4253178382278, -1383.3110776803296, -1382.9597964887143, -1386.0618174173214]\n",
      "[-1.6100889420309386, -1.6095217717020887, -1.6423728289840482, -1.60974623841646, -1.6094383656885156] [-8.946718862716647, -10.995850388223129, -5.0390820655944255, -9.693945022064394, -16.21625063040967]\n",
      "[-1.7436203346554613, -1.2040566635939245, -1.775904221608571, -1.7432776310409828, -1.7429697583130384] [-9.08025025534117, -10.590385280114965, -5.172613458218948, -9.827476414688917, -16.349782023034194]\n",
      "[-1.8977710144827196, -0.9163745911421434, -1.9300549014358293, -1.897428310868241, -1.8971204381402966] [-9.234400935168429, -10.302703207663184, -5.326764138046206, -9.981627094516176, -16.503932702861455]\n",
      "[-2.080092571276674, -0.6932310398279337, -2.1123764582297837, -2.0797498676621955, -2.079441994934251] [-9.416722491962384, -10.079559656348975, -5.509085694840161, -10.16394865131013, -16.686254259655406]\n",
      "[-2.3032361225908837, -0.5109094830339791, -2.3355200095439934, -2.302893418976405, -2.302585546248461] [-9.639866043276593, -9.89723809955502, -5.73222924615437, -10.38709220262434, -16.90939781096962]\n",
      "[-2.5909181950426645, -0.3567588032067208, -2.623202081995774, -2.590575491428186, -2.5902676187002416] [-9.927548115728374, -9.743087419727761, -6.019911318606152, -10.674774275076121, -17.1970798834214]\n",
      "[-2.9963833031508296, -0.22322741058219808, -3.0286671901039393, -2.996040599536351, -2.9957327268084066] [-10.333013223836538, -9.609556027103238, -6.425376426714316, -11.080239383184285, -17.602544991529562]\n",
      "[-3.689530483710775, -0.10544437492581465, -3.7218143706638847, -3.6891877800962964, -3.688879907368352] [-11.026160404396485, -9.491772991446856, -7.118523607274262, -11.773386563744232, -18.29569217208951]\n"
     ]
    },
    {
     "name": "stderr",
     "output_type": "stream",
     "text": [
      "\r",
      "  0%|                                                                                            | 0/1 [00:00<?, ?it/s]"
     ]
    },
    {
     "name": "stdout",
     "output_type": "stream",
     "text": [
      "[-1349.3553086403717, -1345.5217434231035, -1344.174368287424, -1344.1066353205551, -1345.5811805691937]\n",
      "[-1336.395473757237, -1334.878375020113, -1334.856668870709, -1335.9098303028898, -1335.791634550102]\n",
      "[-1351.7606543151455, -1352.5200954533034, -1349.9503063419656, -1349.7316537002448, -1350.9225270887368]\n",
      "[-1340.4527328676006, -1337.5264067961355, -1337.3832336937878, -1339.369435179465, -1338.2779036012755]\n",
      "[-1348.7046831620269, -1346.1010574833658, -1346.9255136387242, -1347.1607207963848, -1346.6408093101222]\n",
      "[-1331.736412312873, -1333.3688832513374, -1331.9532558854492, -1331.4616700243434, -1331.690005528487]\n",
      "[-1374.928451591682, -1373.1097850721721, -1373.768460058434, -1372.6277471900262, -1374.744284019996]\n",
      "[-1334.053305412659, -1335.4395664944623, -1335.2567051369424, -1333.3571621330502, -1333.5160001022468]\n",
      "[-1363.6802783295007, -1364.1108394063212, -1363.235807031424, -1363.0688194709965, -1363.6304864477443]\n"
     ]
    },
    {
     "name": "stderr",
     "output_type": "stream",
     "text": [
      "100%|███████████████████████████████████████████████████████████████████████████████████| 1/1 [04:35<00:00, 275.87s/it]\n"
     ]
    },
    {
     "name": "stdout",
     "output_type": "stream",
     "text": [
      "[-1362.6859351198377, -1363.6516045127078, -1362.1938510042105, -1362.1097799964496, -1362.8497114760698]\n",
      "[-10.85973925497235, -13.716882723998719, -16.106493878914602, -40.472331892904165, -2.7756205851092774] [-1.6095339997442124, -1.6094434307268102, -1.6094384182689054, -1.6094379124341003, -1.9827562752794392]\n",
      "[-10.993270647596873, -13.850414116623242, -15.701028770806438, -40.605863285528685, -2.9091519777338] [-1.7430653923687351, -1.742974823351333, -1.2039733101607413, -1.742969305058623, -2.116287667903962]\n",
      "[-11.147421327424132, -14.0045647964505, -15.413346698354657, -40.760013965355945, -3.0633026575610582] [-1.8972160721959934, -1.8971255031785912, -0.9162912377089601, -1.8971199848858813, -2.27043834773122]\n",
      "[-11.329742884218087, -14.186886353244455, -15.190203147040448, -40.9423355221499, -3.2456242143550127] [-2.079537628989948, -2.0794470599725456, -0.6931476863947504, -2.0794415416798357, -2.4527599045251747]\n",
      "[-11.552886435532296, -14.410029904558664, -15.007881590246493, -41.165479073464105, -3.4687677656692224] [-2.3026811803041576, -2.3025906112867554, -0.5108261296007959, -2.3025850929940455, -2.6759034558393844]\n",
      "[-11.840568507984077, -14.697711977010446, -14.853730910419234, -41.453161145915885, -3.756449838121003] [-2.5903632527559384, -2.590272683738536, -0.3566754497735376, -2.5902671654458262, -2.963585528291165]\n",
      "[-12.246033616092241, -15.10317708511861, -14.720199517794711, -41.85862625402405, -4.161914946229168] [-2.9958283608641034, -2.995737791846701, -0.22314405714901486, -2.9957322735539913, -3.3690506363993302]\n",
      "[-12.939180796652188, -15.796324265678557, -14.602416482138329, -42.551773434584, -4.855062126789114] [-3.688975541424049, -3.6888849724066466, -0.10536102149263143, -3.6888794541139367, -4.062197816959276]\n"
     ]
    },
    {
     "name": "stderr",
     "output_type": "stream",
     "text": [
      "\r",
      "  0%|                                                                                            | 0/1 [00:00<?, ?it/s]"
     ]
    },
    {
     "name": "stdout",
     "output_type": "stream",
     "text": [
      "[-1337.0902021042057, -1337.8342554176415, -1336.9066070356275, -1336.8956718543704, -1337.043778919855]\n",
      "[-1343.844422511282, -1344.8551635866954, -1344.9539204967934, -1343.8309267430943, -1343.298084398519]\n",
      "[-1342.665307614338, -1340.9849161463612, -1342.6320344754172, -1341.0813976146133, -1340.8280367423545]\n",
      "[-1350.4470846282081, -1349.7959029755027, -1349.9546182177753, -1350.3946024725617, -1349.8634958360224]\n",
      "[-1333.129750136278, -1336.4889621199466, -1334.2540921598622, -1335.8086359833608, -1333.0359803443491]\n",
      "[-1345.1453358572344, -1346.1275170096214, -1345.2318839339441, -1345.0844987248438, -1345.7254555006675]\n",
      "[-1350.357448885523, -1352.7958496103965, -1351.6674682540906, -1350.4276209301897, -1350.6275175399933]\n",
      "[-1355.7208913713594, -1358.2436197548277, -1356.4074046948126, -1356.1469396352813, -1356.1407393589225]\n",
      "[-1353.1958133338153, -1353.4097681191593, -1354.4726157780347, -1353.1787000847212, -1353.536180478371]\n"
     ]
    },
    {
     "name": "stderr",
     "output_type": "stream",
     "text": [
      "100%|███████████████████████████████████████████████████████████████████████████████████| 1/1 [04:41<00:00, 281.12s/it]"
     ]
    },
    {
     "name": "stdout",
     "output_type": "stream",
     "text": [
      "[-1368.4653561479424, -1368.9367746043933, -1369.395553711707, -1369.5403378933768, -1368.6421620050166]\n",
      "[-1.6112272910580259, -1.6096273460405655, -1.6094443959553473, -1.6146786618410942, -1.6094380718908041] [-7.936219325251682, -10.181004583868866, -13.55568795788356, -6.863347917031729, -17.260931465200496]\n",
      "[-1.7447586836825486, -1.7431587386650882, -1.203979287847183, -1.748210054465617, -1.7429694645153269] [-8.069750717876204, -10.314535976493389, -13.150222849775396, -6.996879309656252, -17.39446285782502]\n",
      "[-1.8989093635098069, -1.8973094184923465, -0.916297215395402, -1.9023607342928752, -1.8971201443425851] [-8.223901397703463, -10.468686656320648, -12.862540777323614, -7.15102998948351, -17.54861353765228]\n",
      "[-2.0812309203037613, -2.079630975286301, -0.6931536640811923, -2.0846822910868297, -2.0794417011365396] [-8.406222954497418, -10.651008213114602, -12.639397226009406, -7.3333515462774645, -17.73093509444623]\n",
      "[-2.304374471617971, -2.3027745266005106, -0.5108321072872377, -2.3078258424010394, -2.3025852524507493] [-8.629366505811626, -10.874151764428811, -12.45707566921545, -7.556495097591673, -17.954078645760443]\n",
      "[-2.592056544069752, -2.5904565990522914, -0.35668142745997944, -2.59550791485282, -2.59026732490253] [-8.917048578263408, -11.161833836880593, -12.302924989388192, -7.844177170043455, -18.241760718212223]\n",
      "[-2.997521652177917, -2.9959217071604565, -0.2231500348354567, -3.0009730229609852, -2.995732433010695] [-9.322513686371572, -11.567298944988757, -12.169393596763669, -8.249642278151619, -18.647225826320387]\n",
      "[-3.6906688327378623, -3.689068887720402, -0.10536699917907327, -3.6941202035209306, -3.6888796135706405] [-10.015660866931519, -12.260446125548704, -12.051610561107287, -8.942789458711566, -19.340373006880334]\n"
     ]
    },
    {
     "name": "stderr",
     "output_type": "stream",
     "text": [
      "\n",
      "  0%|                                                                                            | 0/1 [00:00<?, ?it/s]"
     ]
    },
    {
     "name": "stdout",
     "output_type": "stream",
     "text": [
      "[-1360.5556796984963, -1358.3363530784625, -1358.6431214542606, -1362.6769609551482, -1361.1621801325743]\n",
      "[-1345.7839500778339, -1345.833554369323, -1345.6624359940163, -1345.0641347510812, -1347.0903848839937]\n",
      "[-1359.30894214023, -1359.664822805532, -1359.1624103205586, -1361.1469962689926, -1359.9919192562857]\n",
      "[-1347.1794143485065, -1344.4367459539687, -1344.4267064415515, -1344.3395469137656, -1344.4656609887213]\n",
      "[-1365.120902133786, -1364.476006342972, -1364.1633805685713, -1364.279259635369, -1365.610938352708]\n",
      "[-1347.7210334234342, -1346.2748221262382, -1346.4475600548694, -1348.0106637697836, -1347.1254251151777]\n",
      "[-1377.7348253411544, -1378.677307875441, -1379.093355244251, -1377.417830258091, -1377.5817997635966]\n",
      "[-1341.6136082922994, -1341.9215280372546, -1342.1789270868421, -1341.580716821768, -1341.5550165311824]\n",
      "[-1360.1650445037849, -1360.054635268596, -1360.6020014649584, -1360.2937573465642, -1360.4418255929959]\n"
     ]
    },
    {
     "name": "stderr",
     "output_type": "stream",
     "text": [
      "100%|███████████████████████████████████████████████████████████████████████████████████| 1/1 [04:39<00:00, 279.43s/it]"
     ]
    },
    {
     "name": "stdout",
     "output_type": "stream",
     "text": [
      "[-1353.5490370664786, -1355.009042144696, -1354.1136314834596, -1355.4303502848936, -1355.8299552412075]\n",
      "[-15.02440048001797, -16.79888284452984, -19.13093459127033, -37.04901148166512, -7.59631002682188] [-1.6094394050777054, -1.6094381655432926, -1.6094379370100114, -1.6094379124341003, -1.6119525790448506]\n",
      "[-15.157931872642493, -16.93241423715436, -19.26446598389485, -36.64354637355695, -7.7298414194464025] [-1.7429707977022282, -1.7429695581678153, -1.742969329634534, -1.2039728043259361, -1.7454839716693733]\n",
      "[-15.312082552469752, -17.086564916981622, -19.418616663722112, -36.35586430110517, -7.8839920992736605] [-1.8971214775294865, -1.8971202379950736, -1.8971200094617924, -0.916290731874155, -1.8996346514966316]\n",
      "[-15.494404109263707, -17.268886473775574, -19.600938220516063, -36.13272074979096, -8.066313656067615] [-2.079443034323441, -2.079441794789028, -2.079441566255747, -0.6931471805599453, -2.081956208290586]\n",
      "[-15.717547660577916, -17.492030025089786, -19.824081771830276, -35.950399192997004, -8.289457207381824] [-2.3025865856376506, -2.3025853461032377, -2.3025851175699565, -0.5108256237659907, -2.3050997596047957]\n",
      "[-16.005229733029697, -17.779712097541566, -20.111763844282056, -35.79624851316975, -8.577139279833606] [-2.5902686580894314, -2.5902674185550185, -2.5902671900217373, -0.35667494393873245, -2.5927818320565765]\n",
      "[-16.41069484113786, -18.18517720564973, -20.51722895239022, -35.662717120545224, -8.98260438794177] [-2.9957337661975965, -2.9957325266631836, -2.9957322981299024, -0.2231435513142097, -2.9982469401647416]\n",
      "[-17.103842021697808, -18.878324386209677, -21.210376132950167, -35.544934084888844, -9.675751568501717] [-3.688880946757542, -3.688879707223129, -3.688879478689848, -0.10536051565782628, -3.691394120724687]\n"
     ]
    },
    {
     "name": "stderr",
     "output_type": "stream",
     "text": [
      "\n",
      "  0%|                                                                                            | 0/1 [00:00<?, ?it/s]"
     ]
    },
    {
     "name": "stdout",
     "output_type": "stream",
     "text": [
      "[-1361.5971799019958, -1362.0467168866949, -1361.5849588849874, -1361.5147581707338, -1361.8103775580007]\n",
      "[-1365.6295777154062, -1366.8749442433088, -1365.1618703140318, -1365.1361619193246, -1365.149611710867]\n",
      "[-1349.2877192245173, -1349.828246909146, -1351.6545443643658, -1352.41157147269, -1349.4652686559089]\n",
      "[-1358.00644858599, -1359.70025063549, -1357.947151527637, -1358.2885551874922, -1358.0372452034196]\n",
      "[-1361.897125872649, -1362.5254240666075, -1362.9951799477824, -1364.280283849814, -1362.168528201739]\n",
      "[-1367.6906219745717, -1367.039629477454, -1366.655470513767, -1366.746293897245, -1368.1816537133993]\n",
      "[-1346.028435565446, -1345.253849768271, -1345.2352233366712, -1346.1736436826634, -1345.5859648531352]\n",
      "[-1362.3740719400544, -1361.5244104335748, -1362.6611270331364, -1362.1479583735077, -1362.110476092787]\n",
      "[-1358.7953621254978, -1359.5551350638975, -1358.665449102276, -1358.5840168107948, -1358.3676759153]\n"
     ]
    },
    {
     "name": "stderr",
     "output_type": "stream",
     "text": [
      "100%|███████████████████████████████████████████████████████████████████████████████████| 1/1 [04:45<00:00, 285.61s/it]"
     ]
    },
    {
     "name": "stdout",
     "output_type": "stream",
     "text": [
      "[-1368.926910530142, -1368.2539867092194, -1368.0076994438925, -1368.3271919065367, -1368.3944445707232]\n",
      "[-1.6535498440858418, -1.609631251009955, -1.6174434341038022, -1.6094379697165777, -1.6094912751469337] [-4.752437776096326, -10.160602206709267, -6.441061769603334, -18.284707299546493, -11.447862909344462]\n",
      "[-1.7870812367103646, -1.7431626436344778, -1.750974826728325, -1.2039728616084135, -1.7430226677714564] [-4.885969168720849, -10.29413359933379, -6.574593162227857, -17.87924219143833, -11.581394301968984]\n",
      "[-1.9412319165376228, -1.897313323461736, -1.9051255065555832, -0.9162907891566324, -1.8971733475987147] [-5.040119848548107, -10.448284279161049, -6.728743842055115, -17.59156011898655, -11.735544981796243]\n",
      "[-2.1235534733315773, -2.0796348802556905, -2.0874470633495377, -0.6931472378424227, -2.079494904392669] [-5.222441405342062, -10.630605835955004, -6.91106539884907, -17.368416567672337, -11.917866538590198]\n",
      "[-2.346697024645787, -2.3027784315699003, -2.3105906146637474, -0.5108256810484681, -2.302638455706879] [-5.445584956656271, -10.853749387269213, -7.134208950163279, -17.186095010878386, -12.141010089904407]\n",
      "[-2.634379097097568, -2.590460504021681, -2.598272687115528, -0.3566750012212099, -2.5903205281586597] [-5.7332670291080525, -11.141431459720994, -7.4218910226150605, -17.031944331051125, -12.428692162356189]\n",
      "[-3.039844205205733, -2.995925612129846, -3.003737795223693, -0.22314360859668714, -2.9957856362668247] [-6.138732137216217, -11.546896567829158, -7.827356130723225, -16.898412938426603, -12.834157270464353]\n",
      "[-3.7329913857656782, -3.6890727926897915, -3.6968849757836386, -0.10536057294030371, -3.68893281682677] [-6.8318793177761625, -12.240043748389105, -8.520503311283171, -16.78062990277022, -13.5273044510243]\n"
     ]
    },
    {
     "name": "stderr",
     "output_type": "stream",
     "text": [
      "\n",
      "  0%|                                                                                            | 0/1 [00:00<?, ?it/s]"
     ]
    },
    {
     "name": "stdout",
     "output_type": "stream",
     "text": [
      "[-1387.8868001197588, -1387.2835491527985, -1387.21588446225, -1387.1333227427567, -1387.805092848157]\n",
      "[-1370.5007343757281, -1371.2170534610161, -1370.3388332988945, -1371.271096724635, -1373.1108024029202]\n",
      "[-1380.7864995238044, -1380.3713008318148, -1380.5341784660116, -1380.6872319837123, -1380.1860107468522]\n",
      "[-1369.4083997823382, -1369.7398175087783, -1369.3139202055372, -1370.5058307286145, -1372.229584016246]\n",
      "[-1393.7826731679713, -1394.2394174587869, -1393.3969935178072, -1393.7585529718242, -1395.10757961583]\n",
      "[-1382.8530736221066, -1382.3641518968427, -1382.2966212003587, -1382.3192216579985, -1383.1973130814506]\n",
      "[-1385.0284093886435, -1385.2371675994214, -1384.2734458478803, -1384.489145772502, -1384.975290608068]\n",
      "[-1368.7776832816432, -1371.1912159857873, -1369.463115845572, -1368.4618652296174, -1368.234156109085]\n",
      "[-1340.4285031624095, -1340.9242622860984, -1340.72302866885, -1340.6118692579257, -1341.9207493558424]\n"
     ]
    },
    {
     "name": "stderr",
     "output_type": "stream",
     "text": [
      "100%|███████████████████████████████████████████████████████████████████████████████████| 1/1 [04:38<00:00, 278.83s/it]"
     ]
    },
    {
     "name": "stdout",
     "output_type": "stream",
     "text": [
      "[-1330.6982150730205, -1331.7152712945121, -1331.791596565005, -1331.0457464585802, -1331.0508499942976]\n",
      "[-18.350245659919732, -12.731966315513386, -12.671204770153576, -17.53757398514706, -11.035788478231847] [-1.609437966082919, -1.609452688216902, -1.6094536138603643, -1.6094380333541494, -1.6095184883891533]\n",
      "[-18.483777052544255, -12.865497708137909, -12.804736162778099, -17.671105377771582, -10.630323370123683] [-1.7429693587074417, -1.7429840808414248, -1.742985006484887, -1.742969425978672, -1.2040533802809892]\n",
      "[-18.637927732371516, -13.019648387965168, -12.958886842605358, -17.825256057598843, -10.342641297671902] [-1.8971200385347, -1.897134760668683, -1.8971356863121454, -1.8971201058059304, -0.9163713078292081]\n",
      "[-18.820249289165467, -13.201969944759123, -13.141208399399313, -18.007577614392794, -10.119497746357693] [-2.0794415953286545, -2.0794563174626375, -2.0794572431061, -2.079441662599885, -0.6932277565149984]\n",
      "[-19.04339284047968, -13.425113496073331, -13.364351950713521, -18.230721165707006, -9.937176189563738] [-2.302585146642864, -2.302599868776847, -2.3026007944203095, -2.3025852139140945, -0.5109061997210438]\n",
      "[-19.33107491293146, -13.712795568525113, -13.652034023165303, -18.518403238158786, -9.783025509736479] [-2.590267219094645, -2.590281941228628, -2.5902828668720903, -2.5902672863658753, -0.3567555198937855]\n",
      "[-19.736540021039623, -14.118260676633277, -14.057499131273467, -18.92386834626695, -9.649494117111956] [-2.99573232720281, -2.995747049336793, -2.9957479749802554, -2.9957323944740404, -0.22322412726926277]\n",
      "[-20.42968720159957, -14.811407857193224, -14.750646311833414, -19.617015526826897, -9.531711081455574] [-3.6888795077627554, -3.6888942298967384, -3.6888951555402008, -3.688879575033986, -0.10544109161287935]\n"
     ]
    },
    {
     "name": "stderr",
     "output_type": "stream",
     "text": [
      "\n",
      "  0%|                                                                                            | 0/1 [00:00<?, ?it/s]"
     ]
    },
    {
     "name": "stdout",
     "output_type": "stream",
     "text": [
      "[-1367.098360437214, -1366.4128141582896, -1366.56982670276, -1366.8436841426574, -1370.7774026549432]\n",
      "[-1367.1055702263004, -1366.9120908155494, -1368.6341737721852, -1367.5254820575394, -1371.9560861224056]\n",
      "[-1363.9594102813094, -1365.570599021226, -1363.9918198724004, -1365.6118072763743, -1365.5608421119791]\n",
      "[-1369.8310169305266, -1370.5302761721766, -1371.8393085204814, -1370.9198581184544, -1373.2407014071148]\n",
      "[-1365.6544261775075, -1366.6866687669049, -1367.156828741538, -1366.5958268868367, -1365.7472477529031]\n",
      "[-1375.897449969882, -1376.1358279843703, -1375.3015092364662, -1375.2341266869048, -1376.8627851645]\n",
      "[-1370.3502513444892, -1368.15716211964, -1369.1410175037363, -1369.7726619677323, -1369.1634674515572]\n",
      "[-1373.7936512440515, -1373.9668205619978, -1373.7790506868637, -1373.591656854363, -1373.5632240020218]\n",
      "[-1348.62127097414, -1348.9537544092916, -1348.2373657996238, -1347.8486510562095, -1349.3660553147372]\n"
     ]
    },
    {
     "name": "stderr",
     "output_type": "stream",
     "text": [
      "100%|███████████████████████████████████████████████████████████████████████████████████| 1/1 [04:41<00:00, 281.52s/it]\n"
     ]
    },
    {
     "name": "stdout",
     "output_type": "stream",
     "text": [
      "[-1356.4589334659743, -1356.665792410122, -1357.343087948195, -1357.7085776542574, -1359.769696147827]\n",
      "[-1.9665045820230034, -1.611339455221082, -1.6095824922327437, -1.6165138595504913, -1.609611197451909] [-2.812497286547864, -7.875478262327374, -10.451189164925221, -6.564027776170474, -10.27009737116789]\n",
      "[-2.1000359746475263, -1.7448708478456048, -1.7431138848572665, -1.750045252175014, -1.2041460893437448] [-2.946028679172387, -8.009009654951896, -10.584720557549744, -6.697559168794997, -9.864632263059725]\n",
      "[-2.2541866544747844, -1.899021527672863, -1.8972645646845248, -1.9041959320022723, -0.9164640168919637] [-3.100179358999645, -8.163160334779155, -10.738871237377003, -6.851709848622255, -9.576950190607944]\n",
      "[-2.436508211268739, -2.0813430844668175, -2.079586121478479, -2.086517488796227, -0.693320465577754] [-3.2825009157935994, -8.34548189157311, -10.921192794170958, -7.03403140541621, -9.353806639293735]\n",
      "[-2.6596517625829486, -2.304486635781027, -2.302729672792689, -2.3096610401104365, -0.5109989087837994] [-3.505644467107809, -8.568625442887319, -11.144336345485167, -7.2571749567304185, -9.17148508249978]\n",
      "[-2.9473338350347293, -2.592168708232808, -2.5904117452444697, -2.5973431125622173, -0.3568482289565411] [-3.79332653955959, -8.8563075153391, -11.432018417936948, -7.5448570291822, -9.017334402672521]\n",
      "[-3.3527989431428944, -2.997633816340973, -2.9958768533526348, -3.0028082206703823, -0.22331683633201838] [-4.198791647667755, -9.261772623447264, -11.837483526045112, -7.950322137290365, -8.883803010047998]\n",
      "[-4.04594612370284, -3.6907809969009184, -3.68902403391258, -3.6959554012303277, -0.10553380067563495] [-4.8919388282277, -9.954919804007211, -12.53063070660506, -8.643469317850311, -8.766019974391616]\n"
     ]
    },
    {
     "name": "stderr",
     "output_type": "stream",
     "text": [
      "\r",
      "  0%|                                                                                            | 0/1 [00:00<?, ?it/s]"
     ]
    },
    {
     "name": "stdout",
     "output_type": "stream",
     "text": [
      "[-1346.9633370893903, -1347.1170749124035, -1346.6970569187292, -1350.4906245045026, -1347.639614761913]\n",
      "[-1345.051902951001, -1346.4595575539547, -1343.7700587296254, -1344.113319472131, -1348.3057571619115]\n",
      "[-1352.7418275670364, -1354.7714180901687, -1353.436001072537, -1353.4580569593247, -1353.8324730506004]\n",
      "[-1348.366967397733, -1348.6596872053835, -1351.7305080728167, -1349.6378309536578, -1348.9748009050584]\n",
      "[-1348.8273871051788, -1351.3819298230374, -1350.1042780021962, -1348.9727771176113, -1348.6774889207445]\n",
      "[-1346.2219109240339, -1346.2007334654425, -1350.01789907754, -1346.1042499353296, -1346.637982707494]\n",
      "[-1370.481192405461, -1370.620760548112, -1369.0196954178916, -1369.038345304836, -1369.7028211289378]\n",
      "[-1351.5258505188451, -1352.5909389331266, -1351.6733307845918, -1353.7619675923982, -1353.135650605231]\n",
      "[-1360.6440205942056, -1360.1584643621902, -1364.471007835615, -1360.7138884759627, -1360.8134472251552]\n"
     ]
    },
    {
     "name": "stderr",
     "output_type": "stream",
     "text": [
      "100%|███████████████████████████████████████████████████████████████████████████████████| 1/1 [04:38<00:00, 278.52s/it]\n"
     ]
    },
    {
     "name": "stdout",
     "output_type": "stream",
     "text": [
      "[-1362.8335296944206, -1364.1791333142683, -1362.5985983609062, -1362.5179865336904, -1362.8964363138148]\n",
      "[-4.675455960195518, -6.042295737836025, -4.197920048149013, -19.428603156433677, -1.6377005672314453] [-1.6571653302217555, -1.6213895381791417, -1.6875443257900542, -1.609437930682884, -5.189749921920407]\n",
      "[-4.2699908520873535, -6.175827130460548, -4.331451440773535, -19.5621345490582, -1.771231959855968] [-1.2517002221135913, -1.7549209308036644, -1.821075718414577, -1.7429693233074068, -5.323281314544929]\n",
      "[-3.9823087796355727, -6.329977810287806, -4.485602120600793, -19.71628522888546, -1.9253826396832263] [-0.9640181496618102, -1.9090716106309227, -1.9752263982418352, -1.8971200031346651, -5.477431994372187]\n",
      "[-3.759165228321363, -6.512299367081761, -4.667923677394748, -19.898606785679412, -2.1077041964771808] [-0.7408745983476005, -2.091393167424877, -2.1575479550357897, -2.0794415599286196, -5.659753551166142]\n",
      "[-3.576843671527408, -6.73544291839597, -4.891067228708957, -20.121750336993625, -2.3308477477913905] [-0.5585530415536459, -2.314536718739087, -2.3806915063499994, -2.3025851112428293, -5.882897102480351]\n",
      "[-3.42269299170015, -7.0231249908477515, -5.178749301160739, -20.409432409445404, -2.6185298202431713] [-0.40440236172638766, -2.6022187911908676, -2.66837357880178, -2.59026718369461, -6.170579174932133]\n",
      "[-3.2891615990756273, -7.428590098955916, -5.5842144092689034, -20.814897517553568, -3.0239949283513363] [-0.2708709691018649, -3.0076838992990327, -3.073838686909945, -2.995732291802775, -6.576044283040297]\n",
      "[-3.171378563419244, -8.121737279515862, -6.277361589828849, -21.508044698113515, -3.7171421089112817] [-0.1530879334454815, -3.700831079858978, -3.7669858674698906, -3.6888794723627205, -7.269191463600243]\n"
     ]
    },
    {
     "name": "stderr",
     "output_type": "stream",
     "text": [
      "\r",
      "  0%|                                                                                            | 0/1 [00:00<?, ?it/s]"
     ]
    },
    {
     "name": "stdout",
     "output_type": "stream",
     "text": [
      "[-1348.9575235966015, -1347.8722255142468, -1348.1558026485702, -1348.5350613306339, -1349.2357978824996]\n",
      "[-1350.0743873380566, -1346.5810207860636, -1346.6002312645874, -1347.5820429189775, -1346.7525384754122]\n",
      "[-1346.6246219445384, -1351.6062081201453, -1352.1221070017855, -1352.0762151361923, -1347.7262470855276]\n",
      "[-1344.6561716842837, -1344.6142092283255, -1346.1555050055606, -1345.0682674502016, -1345.2068209247366]\n",
      "[-1351.3076454708535, -1351.4231541682711, -1353.1463830373432, -1351.217064563043, -1355.0854926389766]\n",
      "[-1348.6630974669185, -1350.4190718196567, -1349.3051086258436, -1348.2850917080302, -1349.1770462993825]\n",
      "[-1364.9254974458133, -1360.9675873199565, -1360.833848593288, -1360.9362354459706, -1360.933947508657]\n",
      "[-1351.0175390166241, -1353.699676004615, -1354.3202769028412, -1352.3999858867446, -1354.4949105924734]\n",
      "[-1364.4064169931296, -1363.094628694678, -1363.1516843379138, -1363.4667615937285, -1363.7350550933259]\n"
     ]
    },
    {
     "name": "stderr",
     "output_type": "stream",
     "text": [
      "100%|███████████████████████████████████████████████████████████████████████████████████| 1/1 [04:38<00:00, 278.94s/it]\n"
     ]
    },
    {
     "name": "stdout",
     "output_type": "stream",
     "text": [
      "[-1373.8482764257096, -1367.9689312814044, -1367.8045249098832, -1368.337391763187, -1368.5451291395475]\n",
      "[-3.1468263482423255, -3.843487871334287, -4.982308935741071, -11.410070860965629, -1.6201336272616345] [-1.8514352128750715, -1.7227116833312948, -1.6443306919282576, -1.609493330482178, -6.152693104388459]\n",
      "[-2.741361240134161, -3.97701926395881, -5.115840328365594, -11.543602253590151, -1.7536650198861572] [-1.4459701047669073, -1.8562430759558175, -1.7778620845527804, -1.7430247231067006, -6.286224497012982]\n",
      "[-2.45367916768238, -4.131169943786068, -5.269991008192852, -11.69775293341741, -1.9078156997134155] [-1.1582880323151263, -2.0103937557830758, -1.9320127643800387, -1.897175402933959, -6.44037517684024]\n",
      "[-2.2305356163681704, -4.313491500580023, -5.452312564986807, -11.880074490211365, -2.09013725650737] [-0.9351444810009165, -2.1927153125770302, -2.114334321173993, -2.0794969597279134, -6.622696733634195]\n",
      "[-2.0482140595742155, -4.5366350518942316, -5.6754561163010155, -12.103218041525574, -2.3132808078215796] [-0.752822924206962, -2.41585886389124, -2.337477872488203, -2.302640511042123, -6.8458402849484035]\n",
      "[-1.8940633797469575, -4.824317124346013, -5.963138188752797, -12.390900113977356, -2.6009628802733604] [-0.5986722443797037, -2.7035409363430207, -2.6251599449399836, -2.590322583493904, -7.133522357400185]\n",
      "[-1.7605319871224347, -5.229782232454178, -6.368603296860962, -12.79636522208552, -3.0064279883815255] [-0.46514085175518094, -3.109006044451186, -3.0306250530481487, -2.995787691602069, -7.53898746550835]\n",
      "[-1.6427489514660514, -5.922929413014123, -7.061750477420907, -13.489512402645467, -3.699575168941471] [-0.3473578160987975, -3.802153225011131, -3.723772233608094, -3.6889348721620143, -8.232134646068296]\n"
     ]
    },
    {
     "name": "stderr",
     "output_type": "stream",
     "text": [
      "\r",
      "  0%|                                                                                            | 0/1 [00:00<?, ?it/s]"
     ]
    },
    {
     "name": "stdout",
     "output_type": "stream",
     "text": [
      "[-1352.3685731021249, -1353.0870290324963, -1352.7137090480826, -1352.5019557029734, -1352.926710093452]\n",
      "[-1348.3009147754756, -1347.2436506997155, -1348.2933894339922, -1347.3849226287684, -1347.2806508720068]\n",
      "[-1353.0103231237526, -1353.670238521162, -1353.0826654709754, -1352.4440266174724, -1353.0257905457484]\n",
      "[-1344.827377273667, -1346.0831408753097, -1344.5107432168102, -1344.3840928245577, -1345.094100668934]\n",
      "[-1358.836175509411, -1357.7455621747822, -1361.064695186872, -1364.8122936961472, -1357.7809030529925]\n",
      "[-1346.7490838431238, -1347.3489778123164, -1346.8276249237222, -1346.7569054520407, -1349.0315168053328]\n",
      "[-1369.0690070548949, -1370.314453901628, -1368.5783266096328, -1368.5089413152523, -1370.159705885169]\n",
      "[-1348.0075831487118, -1348.4048440298573, -1350.3604537636636, -1347.7635981727142, -1348.4018611893769]\n",
      "[-1367.6022215713754, -1367.9436476790586, -1367.117475417749, -1367.4470871697129, -1367.054393537707]\n"
     ]
    },
    {
     "name": "stderr",
     "output_type": "stream",
     "text": [
      "100%|███████████████████████████████████████████████████████████████████████████████████| 1/1 [04:37<00:00, 277.26s/it]\n"
     ]
    },
    {
     "name": "stdout",
     "output_type": "stream",
     "text": [
      "[-1367.255246327013, -1367.2719864036499, -1369.6933817113331, -1367.06408484436, -1367.4593134649494]\n",
      "[-7.114839243545771, -9.747066762988492, -12.65190194106533, -22.169802021935833, -2.2881255146376818] [-1.6135109529535157, -1.6097302847047785, -1.6094539198887332, -1.6094379136109864, -2.3172568221178382]\n",
      "[-7.248370636170294, -9.341601654880328, -12.785433333689852, -22.303333414560356, -2.4216569072622045] [-1.7470423455780384, -1.2042651765966144, -1.742985312513256, -1.7429693062355092, -2.450788214742361]\n",
      "[-7.402521315997552, -9.053919582428547, -12.939584013517111, -22.457484094387617, -2.5758075870894626] [-1.9011930254052967, -0.9165831041448332, -1.8971359923405142, -1.8971199860627674, -2.604938894569619]\n",
      "[-7.584842872791507, -8.830776031114338, -13.121905570311066, -22.639805651181568, -2.758129143883417] [-2.083514582199251, -0.6934395528306235, -2.0794575491344687, -2.079441542856722, -2.7872604513635735]\n",
      "[-7.8079864241057155, -8.648454474320383, -13.345049121625275, -22.86294920249578, -2.9812726951976267] [-2.306658133513461, -0.511117996036669, -2.3026011004486784, -2.3025850941709316, -3.010404002677783]\n",
      "[-8.095668496557497, -8.494303794493124, -13.632731194077056, -23.15063127494756, -3.2689547676494075] [-2.5943402059652416, -0.3569673162094107, -2.590283172900459, -2.5902671666227124, -3.298086075129564]\n",
      "[-8.501133604665661, -8.360772401868601, -14.03819630218522, -23.556096383055724, -3.6744198757575726] [-2.9998053140734067, -0.22343592358488795, -2.9957482810086242, -2.9957322747308774, -3.703551183237729]\n",
      "[-9.194280785225608, -8.24298936621222, -14.731343482745167, -24.24924356361567, -4.367567056317518] [-3.692952494633352, -0.10565288792850452, -3.6888954615685696, -3.688879455290823, -4.396698363797674]\n"
     ]
    },
    {
     "name": "stderr",
     "output_type": "stream",
     "text": [
      "\r",
      "  0%|                                                                                            | 0/1 [00:00<?, ?it/s]"
     ]
    },
    {
     "name": "stdout",
     "output_type": "stream",
     "text": [
      "[-1351.3822240658276, -1352.7031689558728, -1352.005452235034, -1350.183968965671, -1350.8512472629602]\n",
      "[-1357.1133111282859, -1353.970306729915, -1355.0620215556871, -1358.239644678603, -1353.3257623954876]\n",
      "[-1343.6159508707137, -1342.6247700838653, -1342.7215455433402, -1342.64283778023, -1342.6066852288427]\n",
      "[-1351.931332402677, -1350.201698258421, -1352.5251585128608, -1357.830779982647, -1350.000048358579]\n",
      "[-1350.7166024502824, -1350.191868030148, -1352.0364075353157, -1350.190326430284, -1352.6499346283256]\n",
      "[-1357.033222248417, -1357.3523787265033, -1357.4958893558826, -1360.0636944052706, -1356.443967993025]\n",
      "[-1341.4493952398598, -1341.4942827511086, -1344.3361962401805, -1346.2967186631986, -1341.3843525864768]\n",
      "[-1355.5177320475202, -1355.7750320541243, -1357.8061620182277, -1355.2726628120733, -1359.6256746026781]\n",
      "[-1347.8199069246584, -1346.44499625744, -1347.6973069011547, -1351.214569601445, -1346.9806943920812]\n"
     ]
    },
    {
     "name": "stderr",
     "output_type": "stream",
     "text": [
      "100%|███████████████████████████████████████████████████████████████████████████████████| 1/1 [04:40<00:00, 280.06s/it]\n"
     ]
    },
    {
     "name": "stdout",
     "output_type": "stream",
     "text": [
      "[-1355.1392378360836, -1354.6547188648476, -1356.521810331302, -1357.4945880068774, -1354.7507717377523]\n",
      "[-1.6619616577577971, -1.6102472658920532, -1.6116227040411786, -1.6094386580637774, -1.6096056735444335] [-4.582074759838702, -8.72911739081685, -7.736764938639749, -15.718475092231824, -10.302491344631175]\n",
      "[-1.7954930503823199, -1.204782157783889, -1.7451540966657013, -1.7429700506883001, -1.7431370661689563] [-4.7156061524632245, -8.323652282708686, -7.870296331264272, -15.852006484856346, -10.436022737255698]\n",
      "[-1.9496437302095782, -0.917100085332108, -1.8993047764929596, -1.8971207305155584, -1.8972877459962145] [-4.8697568322904825, -8.035970210256904, -8.02444701109153, -16.006157164683607, -10.590173417082957]\n",
      "[-2.1319652870035326, -0.6939565340178983, -2.081626333286914, -2.079442287309513, -2.079609302790169] [-5.052078389084437, -7.812826658942695, -8.206768567885485, -16.18847872147756, -10.772494973876912]\n",
      "[-2.3551088383177423, -0.5116349772239437, -2.3047698846011238, -2.3025858386237226, -2.3027528541043787] [-5.275221940398646, -7.6305051021487404, -8.429912119199694, -16.41162227279177, -10.99563852519112]\n",
      "[-2.642790910769523, -0.3574842973966854, -2.5924519570529045, -2.5902679110755034, -2.5904349265561595] [-5.562904012850428, -7.476354422321482, -8.717594191651475, -16.69930434524355, -11.283320597642902]\n",
      "[-3.048256018877688, -0.22395290477216268, -2.9979170651610696, -2.9957330191836684, -2.9959000346643245] [-5.9683691209585925, -7.34282302969696, -9.123059299759639, -17.104769453351715, -11.688785705751066]\n",
      "[-3.7414031994376336, -0.10616986911577925, -3.691064245721015, -3.688880199743614, -3.68904721522427] [-6.661516301518538, -7.225039994040576, -9.816206480319586, -17.79791663391166, -12.381932886311013]\n"
     ]
    },
    {
     "name": "stderr",
     "output_type": "stream",
     "text": [
      "\r",
      "  0%|                                                                                            | 0/1 [00:00<?, ?it/s]"
     ]
    },
    {
     "name": "stdout",
     "output_type": "stream",
     "text": [
      "[-1340.5177484448063, -1341.1130000589324, -1342.4618274801173, -1342.3357419934177, -1340.344822829065]\n",
      "[-1339.7824754807482, -1339.7237859769195, -1340.256353857589, -1339.8567668106373, -1341.144619431547]\n",
      "[-1346.3028263325675, -1345.874081164481, -1347.2715930588008, -1346.9433008835902, -1345.1502880954347]\n",
      "[-1344.637169260701, -1343.6624087824987, -1344.8022445519985, -1343.9943275941134, -1344.0200587403908]\n",
      "[-1340.353412443979, -1339.7711776156973, -1339.5572530898387, -1341.146268269196, -1340.6501137970079]\n",
      "[-1337.159943813754, -1337.68151862118, -1337.5210516896525, -1337.4706667196926, -1337.321124266154]\n",
      "[-1358.2848078515228, -1357.460567215617, -1360.0497250427427, -1357.1788339858315, -1358.1196949479192]\n",
      "[-1343.2721310029362, -1343.314451337478, -1343.3759665309105, -1342.6814329364631, -1342.7160978757954]\n",
      "[-1362.5172847457334, -1366.37842234632, -1364.2307338650908, -1363.9510371708357, -1362.3365221454924]\n"
     ]
    },
    {
     "name": "stderr",
     "output_type": "stream",
     "text": [
      "100%|███████████████████████████████████████████████████████████████████████████████████| 1/1 [04:40<00:00, 280.85s/it]\n"
     ]
    },
    {
     "name": "stdout",
     "output_type": "stream",
     "text": [
      "[-1368.6853039538473, -1368.9914108579178, -1368.9415886795396, -1368.672501821442, -1368.7519624241613]\n",
      "[-2.657045557161678, -3.2766990939013114, -4.30678701117206, -15.983873883135697, -1.6126900620952938] [-2.0414152750395944, -1.8186333757594866, -1.6791995481976982, -1.609438484257521, -7.339502613665968]\n",
      "[-2.7905769497862005, -3.410230486525834, -3.901321903063895, -16.11740527576022, -1.7462214547198165] [-2.174946667664117, -1.9521647683840093, -1.273734440089534, -1.7429698768820436, -7.473034006290491]\n",
      "[-2.9447276296134586, -3.564381166353092, -3.6136398306121142, -16.27155595558748, -1.9003721345470748] [-2.329097347491375, -2.1063154482112676, -0.986052367637753, -1.897120556709302, -7.627184686117749]\n",
      "[-3.127049186407413, -3.7467027231470467, -3.3904962792979045, -16.453877512381432, -2.082693691341029] [-2.5114189042853297, -2.288637005005222, -0.7629088163235432, -2.0794421135032564, -7.809506242911704]\n",
      "[-3.3501927377216227, -3.9698462744612564, -3.2081747225039496, -16.677021063695644, -2.305837242655239] [-2.7345624555995394, -2.5117805563194318, -0.5805872595295887, -2.302585664817466, -8.032649794225913]\n",
      "[-3.6378748101734035, -4.257528346913038, -3.0540240426766916, -16.964703136147424, -2.5935193151070197] [-3.02224452805132, -2.7994626287712125, -0.4264365797023304, -2.590267737269247, -8.320331866677694]\n",
      "[-4.043339918281569, -4.662993455021202, -2.920492650052169, -17.370168244255588, -2.9989844232151848] [-3.427709636159485, -3.2049277368793776, -0.29290518707780766, -2.995732845377412, -8.725796974785858]\n",
      "[-4.736487098841514, -5.356140635581148, -2.8027096143957855, -18.063315424815535, -3.69213160377513] [-4.120856816719431, -3.898074917439323, -0.17512215142142423, -3.6888800259373573, -9.418944155345805]\n"
     ]
    },
    {
     "name": "stderr",
     "output_type": "stream",
     "text": [
      "\r",
      "  0%|                                                                                            | 0/1 [00:00<?, ?it/s]"
     ]
    },
    {
     "name": "stdout",
     "output_type": "stream",
     "text": [
      "[-1346.6378277232036, -1345.924289343213, -1351.3356231338587, -1346.4689695254385, -1346.0932380366032]\n",
      "[-1352.4472187355793, -1352.5372395888196, -1355.9627896841928, -1353.884175441978, -1352.4377991240842]\n",
      "[-1348.2966760546487, -1348.9226367542806, -1350.3821485148446, -1349.252885832867, -1348.6112891090243]\n",
      "[-1356.2300422744179, -1356.3782374278985, -1357.4804963896481, -1357.815708057055, -1356.8258615474792]\n",
      "[-1343.5979295411, -1343.3378069338562, -1344.2947803375048, -1344.4122003370342, -1343.7631170086445]\n",
      "[-1351.688508143779, -1351.66429153546, -1353.8717019346072, -1352.71830316761, -1351.62162284732]\n",
      "[-1357.5427335906004, -1358.6945509561936, -1360.0210793450694, -1357.66832673755, -1358.0479961316903]\n",
      "[-1360.721630825757, -1364.2652162941754, -1362.148565838413, -1360.3802691487158, -1360.511671149719]\n",
      "[-1368.5369163355042, -1369.5315753117736, -1368.5768935820504, -1368.7556129341226, -1370.5610839330163]\n"
     ]
    },
    {
     "name": "stderr",
     "output_type": "stream",
     "text": [
      "100%|███████████████████████████████████████████████████████████████████████████████████| 1/1 [04:46<00:00, 286.20s/it]"
     ]
    },
    {
     "name": "stdout",
     "output_type": "stream",
     "text": [
      "[-1383.8483519735478, -1383.928501335659, -1384.3915715733478, -1381.7578674008423, -1383.407280158283]\n",
      "[-1.6105501346228948, -1.6100325144171392, -1.609728824863464, -1.669757225724038, -1.6094392411496983] [-8.411389264992817, -9.03735351097232, -9.752071631121066, -4.447548912657635, -15.140736330135791]\n",
      "[-1.7440815272474175, -1.743563907041662, -1.2042637167552999, -1.8032886183485608, -1.742970633774221] [-8.54492065761734, -9.170884903596843, -9.346606523012902, -4.581080305282158, -15.274267722760314]\n",
      "[-1.8982322070746758, -1.8977145868689203, -0.9165816443035187, -1.957439298175819, -1.8971213136014793] [-8.699071337444598, -9.325035583424102, -9.05892445056112, -4.735230985109416, -15.428418402587573]\n",
      "[-2.0805537638686302, -2.0800361436628747, -0.693438092989309, -2.1397608549697735, -2.0794428703954337] [-8.881392894238553, -9.507357140218057, -8.835780899246911, -4.917552541903371, -15.610739959381528]\n",
      "[-2.30369731518284, -2.3031796949770844, -0.5111165361953545, -2.3629044062839832, -2.3025864217096434] [-9.104536445552762, -9.730500691532265, -8.653459342452956, -5.14069609321758, -15.833883510695737]\n",
      "[-2.5913793876346207, -2.590861767428865, -0.3569658563680962, -2.650586478735764, -2.5902684941614242] [-9.392218518004544, -10.018182763984047, -8.499308662625698, -5.428378165669361, -16.121565583147518]\n",
      "[-2.9968444957427858, -2.9963268755370303, -0.22343446374357345, -3.056051586843929, -2.9957336022695893] [-9.797683626112708, -10.42364787209221, -8.365777270001175, -5.833843273777526, -16.527030691255682]\n",
      "[-3.689991676302731, -3.6894740560969757, -0.10565142808719002, -3.7491987674038745, -3.6888807828295347] [-10.490830806672655, -11.116795052652158, -8.247994234344793, -6.526990454337471, -17.22017787181563]\n"
     ]
    },
    {
     "name": "stderr",
     "output_type": "stream",
     "text": [
      "\n",
      "  0%|                                                                                            | 0/1 [00:00<?, ?it/s]"
     ]
    },
    {
     "name": "stdout",
     "output_type": "stream",
     "text": [
      "[-1355.6189534765847, -1354.235851037299, -1353.917723869626, -1354.5381694588552, -1354.5382157498218]\n",
      "[-1354.1561816891426, -1354.021955296712, -1354.8340105097832, -1354.5313633947171, -1353.2956807946994]\n",
      "[-1350.8455505650152, -1349.4490243701682, -1349.544466400616, -1349.4240797427872, -1349.0294714133731]\n",
      "[-1351.5908838334929, -1353.114096086609, -1355.1911315864184, -1351.4710535408287, -1352.1273292023745]\n",
      "[-1354.8635628400539, -1351.1979051451076, -1351.8122624518896, -1351.7812469604419, -1351.8506662988243]\n",
      "[-1351.0782278979277, -1348.7140954794704, -1348.5386534865647, -1351.3004993827308, -1349.7287058716574]\n",
      "[-1353.5390716748045, -1353.00229970054, -1355.242176896991, -1353.6348022774002, -1354.0979908503907]\n",
      "[-1345.4474785688749, -1345.39756499859, -1345.9147614345225, -1345.7548893758162, -1345.3786306444767]\n",
      "[-1366.6613680241378, -1363.7439919441338, -1364.9208439790916, -1367.3090067404798, -1364.55240910705]\n"
     ]
    },
    {
     "name": "stderr",
     "output_type": "stream",
     "text": [
      "100%|███████████████████████████████████████████████████████████████████████████████████| 1/1 [04:40<00:00, 280.87s/it]"
     ]
    },
    {
     "name": "stdout",
     "output_type": "stream",
     "text": [
      "[-1370.0905004269769, -1369.4038831585237, -1369.5683706140878, -1369.9860558819234, -1369.8900170629092]\n",
      "[-2.5918937898234846, -1.7186510747022339, -4.602740635474061, -9.106755048330182, -1.612041196909172] [-2.078466835575523, -3.878001252516765, -1.6608592415578414, -1.6099926364775683, -7.561720643811509]\n",
      "[-2.7254251824480074, -1.8521824673267566, -4.7362720280985835, -8.701289940222019, -1.7455725895336947] [-2.211998228200046, -4.011532645141288, -1.794390634182364, -1.2045275283694041, -7.695252036436032]\n",
      "[-2.8795758622752654, -2.006333147154015, -4.8904227079258416, -8.413607867770237, -1.899723269360953] [-2.366148908027304, -4.165683324968546, -1.9485413140096224, -0.916845455917623, -7.84940271626329]\n",
      "[-3.06189741906922, -2.1886547039479693, -5.0727442647197964, -8.190464316456028, -2.0820448261549074] [-2.5484704648212584, -4.348004881762501, -2.130862870803577, -0.6937019046034133, -8.031724273057245]\n",
      "[-3.2850409703834296, -2.411798255262179, -5.295887816034005, -8.008142759662073, -2.305188377469117] [-2.771614016135468, -4.57114843307671, -2.3540064221177865, -0.5113803478094587, -8.254867824371454]\n",
      "[-3.5727230428352104, -2.69948032771396, -5.583569888485787, -7.853992079834815, -2.592870449920898] [-3.059296088587249, -4.858830505528491, -2.6416884945695673, -0.35722966798220046, -8.542549896823235]\n",
      "[-3.9781881509433754, -3.104945435822125, -5.9890349965939516, -7.720460687210292, -2.998335558029063] [-3.464761196695414, -5.264295613636656, -3.0471536026777324, -0.22369827535767772, -8.9480150049314]\n",
      "[-4.671335331503321, -3.7980926163820703, -6.682182177153897, -7.6026776515539085, -3.6914827385890083] [-4.157908377255359, -5.957442794196601, -3.740300783237678, -0.1059152397012943, -9.641162185491346]\n"
     ]
    },
    {
     "name": "stderr",
     "output_type": "stream",
     "text": [
      "\n",
      "  0%|                                                                                            | 0/1 [00:00<?, ?it/s]"
     ]
    },
    {
     "name": "stdout",
     "output_type": "stream",
     "text": [
      "[-1365.2457979932476, -1363.8762218196314, -1363.8088613698453, -1364.1325291592036, -1364.8752342668847]\n",
      "[-1372.9347274801212, -1371.4510228254903, -1373.1502395306989, -1371.8576794270002, -1371.439658347338]\n",
      "[-1350.4345570167511, -1350.8861748435897, -1353.5865512346368, -1354.7228345988274, -1350.968239624884]\n",
      "[-1362.3654993111204, -1362.370123036898, -1363.7065611031367, -1363.6077226808202, -1362.3762142077258]\n",
      "[-1363.1822991683177, -1362.6776614215808, -1363.6657783651492, -1363.1366460980673, -1362.568211381603]\n",
      "[-1370.7752159768238, -1369.62732504529, -1369.9735542612866, -1369.9039586963586, -1370.8326510080183]\n",
      "[-1343.9540575868612, -1343.6495998222397, -1344.0726818676937, -1343.510595687652, -1343.4277847510982]\n",
      "[-1366.331826327296, -1367.1477131411377, -1368.4210371015072, -1367.913169536798, -1367.2911528307889]\n",
      "[-1369.3415851229856, -1369.420832861133, -1368.9182148170712, -1369.4962622485673, -1369.9953243280816]\n"
     ]
    },
    {
     "name": "stderr",
     "output_type": "stream",
     "text": [
      "100%|███████████████████████████████████████████████████████████████████████████████████| 1/1 [04:41<00:00, 281.88s/it]"
     ]
    },
    {
     "name": "stdout",
     "output_type": "stream",
     "text": [
      "[-1383.7269253967559, -1383.208058018691, -1382.2283880800994, -1383.306398068892, -1382.3813833994961]\n",
      "[-1.6098939126762388, -1.6094434127988506, -1.6105634867088383, -1.6094379125664318, -1.6094395637874868] [-9.302683121562563, -13.720136817504066, -8.399462553994976, -24.35472038311816, -14.923354162368991]\n",
      "[-1.7434253053007616, -1.7429748054233734, -1.744094879333361, -1.2039728044582676, -1.7429709564120095] [-9.436214514187085, -13.853668210128589, -8.532993946619499, -23.949255275009996, -15.056885554993514]\n",
      "[-1.8975759851280198, -1.8971254852506316, -1.8982455591606193, -0.9162907320064865, -1.8971216362392678] [-9.590365194014344, -14.007818889955848, -8.687144626446758, -23.661573202558216, -15.211036234820773]\n",
      "[-2.0798975419219743, -2.079447042044586, -2.0805671159545738, -0.6931471806922768, -2.0794431930332222] [-9.7726867508083, -14.190140446749803, -8.869466183240712, -23.438429651244004, -15.393357791614728]\n",
      "[-2.303041093236184, -2.302590593358796, -2.3037106672687835, -0.5108256238983222, -2.302586744347432] [-9.995830302122508, -14.413283998064012, -9.092609734554921, -23.256108094450052, -15.616501342928936]\n",
      "[-2.590723165687965, -2.5902726658105766, -2.5913927397205643, -0.3566749440710639, -2.5902688167992127] [-10.28351237457429, -14.700966070515793, -9.380291807006703, -23.10195741462279, -15.904183415380718]\n",
      "[-2.99618827379613, -2.9957377739187416, -2.9968578478287293, -0.2231435514465412, -2.9957339249073778] [-10.688977482682454, -15.106431178623957, -9.785756915114867, -22.96842602199827, -16.30964852348888]\n",
      "[-3.6893354543560752, -3.688884954478687, -3.6900050283886747, -0.10536051579015776, -3.688881105467323] [-11.3821246632424, -15.799578359183904, -10.478904095674814, -22.850642986341885, -17.00279570404883]\n"
     ]
    },
    {
     "name": "stderr",
     "output_type": "stream",
     "text": [
      "\n",
      "  0%|                                                                                            | 0/1 [00:00<?, ?it/s]"
     ]
    },
    {
     "name": "stdout",
     "output_type": "stream",
     "text": [
      "[-1368.5292057015165, -1367.7885882137623, -1367.9800728410908, -1368.9188247425761, -1370.7393663436076]\n",
      "[-1363.2062857725793, -1363.5695730243422, -1363.7120669727262, -1362.8146953443754, -1362.801937150052]\n",
      "[-1365.3010805312392, -1365.0950795058911, -1365.4373595710954, -1364.8830842180346, -1366.0723109174164]\n",
      "[-1365.049170717074, -1363.6660078411378, -1364.2257975886032, -1363.538271571947, -1363.3669622048483]\n",
      "[-1369.1590335690123, -1371.56459704625, -1369.6945147579388, -1369.6143338008549, -1369.4083032262859]\n",
      "[-1368.380693139919, -1368.84480007079, -1368.4795308607459, -1368.6668460508695, -1369.506685392032]\n",
      "[-1370.4377079590356, -1368.0912364137055, -1367.274251966797, -1369.6864021508388, -1368.1542526940773]\n",
      "[-1365.7236051856091, -1364.1074166430992, -1364.1311820354388, -1365.5460334585298, -1364.1602585507574]\n",
      "[-1347.6279995935604, -1347.6987658925193, -1348.2473978175387, -1347.7382228488552, -1348.6798562020251]\n"
     ]
    },
    {
     "name": "stderr",
     "output_type": "stream",
     "text": [
      "100%|███████████████████████████████████████████████████████████████████████████████████| 1/1 [04:38<00:00, 278.16s/it]"
     ]
    },
    {
     "name": "stdout",
     "output_type": "stream",
     "text": [
      "[-1348.9023843719076, -1347.863505202087, -1349.175779939458, -1348.3885565220587, -1352.0670884501776]\n",
      "[-6.906359893694412, -3.0436964275323364, -2.3203584174630807, -4.3506983850573535, -2.044850967519392] [-1.6144574711630184, -1.881629896088566, -2.2851221510853295, -1.6761002969859191, -2.6507176736734666]\n",
      "[-7.039891286318935, -3.177227820156859, -2.4538898100876034, -4.484229777681876, -1.6393858594112276] [-1.7479888637875411, -2.015161288713089, -2.418653543709852, -1.8096316896104419, -2.245252565565302]\n",
      "[-7.194041966146193, -3.331378499984117, -2.6080404899148615, -4.638380457509134, -1.3517037869594466] [-1.9021395436147994, -2.169311968540347, -2.5728042235371102, -1.9637823694377001, -1.9575704931135212]\n",
      "[-7.376363522940148, -3.5137000567780716, -2.790362046708816, -4.820702014303089, -1.1285602356452369] [-2.084461100408754, -2.3516335253343015, -2.7551257803310647, -2.1461039262316546, -1.7344269417993115]\n",
      "[-7.5995070742543565, -3.7368436080922813, -3.0135055980230256, -5.043845565617298, -0.9462386788512822] [-2.3076046517229636, -2.574777076648511, -2.9782693316452744, -2.3692474775458643, -1.5521053850053568]\n",
      "[-7.887189146706138, -4.024525680544063, -3.3011876704748064, -5.33152763806908, -0.7920879990240239] [-2.5952867241747444, -2.862459149100292, -3.265951404097055, -2.656929549997645, -1.3979547051780985]\n",
      "[-8.292654254814302, -4.429990788652227, -3.7066527785829715, -5.736992746177244, -0.6585566063995012] [-3.0007518322829094, -3.267924257208457, -3.6714165122052203, -3.06239465810581, -1.2644233125535758]\n",
      "[-8.985801435374249, -5.123137969212173, -4.399799959142917, -6.43013992673719, -0.5407735707431178] [-3.693899012842855, -3.9610714377684024, -4.364563692765166, -3.7555418386657555, -1.1466402768971924]\n"
     ]
    },
    {
     "name": "stderr",
     "output_type": "stream",
     "text": [
      "\n",
      "  0%|                                                                                            | 0/1 [00:00<?, ?it/s]"
     ]
    },
    {
     "name": "stdout",
     "output_type": "stream",
     "text": [
      "[-1360.2063952848328, -1360.1047250397603, -1362.6327653947153, -1361.3590760259756, -1362.4647332414822]\n",
      "[-1358.7059282604748, -1358.624386975978, -1357.912654420157, -1358.1291319892914, -1360.2391184029836]\n",
      "[-1357.1898111287487, -1357.8115125809459, -1357.1642093870219, -1356.9083323478449, -1358.798876679099]\n",
      "[-1358.7847699321326, -1360.699062489574, -1357.559941929944, -1357.335989765609, -1359.542177983433]\n",
      "[-1363.429865806391, -1363.6490130756413, -1363.0503131157877, -1362.43469643322, -1365.3565929394374]\n",
      "[-1365.077665565295, -1365.00898212703, -1365.4629003001535, -1366.04380952748, -1366.4911536297511]\n",
      "[-1367.166394424564, -1364.962676809196, -1363.6087987416224, -1364.8999351168725, -1366.2384709720475]\n",
      "[-1365.245280325232, -1363.3670061676323, -1362.8425920028033, -1362.5803608881336, -1363.1038179076797]\n",
      "[-1342.6566206172256, -1342.916139348189, -1341.7579948901375, -1341.7274257834042, -1342.4927410345963]\n"
     ]
    },
    {
     "name": "stderr",
     "output_type": "stream",
     "text": [
      "100%|███████████████████████████████████████████████████████████████████████████████████| 1/1 [04:42<00:00, 282.31s/it]"
     ]
    },
    {
     "name": "stdout",
     "output_type": "stream",
     "text": [
      "[-1347.3875552516163, -1346.003292908679, -1345.516961224164, -1345.71584099213, -1346.4529558387928]\n",
      "[-4.061841821004987, -2.0148902751617017, -1.6878480707230892, -2.896704300833176, -1.6380884244357048] [-1.6994571471246445, -2.7080756923508718, -4.194188621670105, -1.932435357511008, -5.176312931579173]\n",
      "[-4.19537321362951, -2.1484216677862245, -1.821379463347612, -3.0302356934576986, -1.2326233163275406] [-1.8329885397491672, -2.8416070849753945, -4.327720014294628, -2.065966750135531, -4.7708478234710086]\n",
      "[-4.349523893456768, -2.3025723476134825, -1.9755301431748702, -3.1843863732849567, -0.9449412438757595] [-1.9871392195764255, -2.9957577648026525, -4.481870694121886, -2.220117429962789, -4.483165751019228]\n",
      "[-4.531845450250723, -2.484893904407437, -2.1578516999688246, -3.366707930078911, -0.7217976925615498] [-2.16946077637038, -3.178079321596607, -4.664192250915841, -2.4024389867567435, -4.260022199705018]\n",
      "[-4.754989001564931, -2.7080374557216467, -2.3809952512830344, -3.589851481393121, -0.5394761357675952] [-2.3926043276845896, -3.4012228729108167, -4.88733580223005, -2.625582538070953, -4.077700642911063]\n",
      "[-5.042671074016713, -2.9957195281734275, -2.668677323734815, -3.8775335538449016, -0.38532545594033696] [-2.6802864001363704, -3.6889049453625975, -5.175017874681831, -2.913264610522734, -3.923549963083805]\n",
      "[-5.448136182124878, -3.4011846362815925, -3.07414243184298, -4.282998661953067, -0.2517940633158142] [-3.0857515082445355, -4.0943700534707625, -5.580482982789996, -3.318729718630899, -3.7900185704592824]\n",
      "[-6.141283362684823, -4.094331816841538, -3.7672896124029256, -4.976145842513012, -0.1340110276594308] [-3.778898688804481, -4.787517234030708, -6.273630163349941, -4.0118768991908444, -3.672235534802899]\n"
     ]
    },
    {
     "name": "stderr",
     "output_type": "stream",
     "text": [
      "\n"
     ]
    }
   ],
   "source": [
    "prior_list=np.linspace(.2,.9,8)\n",
    "sigmas=np.arange(.25,2,.25)\n",
    "for k,sigma in enumerate(sigmas):\n",
    "    ratios_ih={\n",
    "        'sukh_sfho': [],\n",
    "        'sukh_ls220': [],\n",
    "        'forn': [],\n",
    "        'zha': [],\n",
    "        'tamb': []\n",
    "        }\n",
    "    \n",
    "    ratios_nh={\n",
    "        'sukh_sfho': [],\n",
    "        'sukh_ls220': [],\n",
    "        'forn': [],\n",
    "        'zha': [],\n",
    "        'tamb': []\n",
    "        }\n",
    "\n",
    "    for i,mod_name in enumerate(ratios.keys()):\n",
    "        all_priors=[]\n",
    "        for j,prior in enumerate(prior_list):\n",
    "            priors=[(1-prior)/4,(1-prior)/4,(1-prior)/4,(1-prior)/4,(1-prior)/4]\n",
    "            priors[i]=prior\n",
    "            all_priors.append(priors)\n",
    "\n",
    "        mod_ratios_ih=log_probs_with_energies_mult_priors(sims[mod_name][1],sims, model_originals[i](**params[i][0]),\n",
    "                                                       sim_energies, sigma,all_priors,10*u.kpc,10*u.ms,\n",
    "                                                       MassHierarchy.INVERTED,1)\n",
    "        \n",
    "        mod_ratios_nh=log_probs_with_energies_mult_priors(sims[mod_name][0],sims, model_originals[i](**params[i][0]),\n",
    "                                                       sim_energies, sigma,all_priors,10*u.kpc,10*u.ms,\n",
    "                                                       MassHierarchy.NORMAL,1)\n",
    "        ratios_ih[mod_name].append(mod_ratios_ih)\n",
    "        ratios_nh[mod_name].append(mod_ratios_nh)\n",
    "        \n",
    "    np.savez('all_mods_ih_energy_ratios_1_iter_sig={}.npz'.format(sigma),ratios_ih)\n",
    "    np.savez('all_mods_nh_energy_ratios_1_iter_sig={}.npz'.format(sigma),ratios_nh)"
   ]
  },
  {
   "cell_type": "code",
   "execution_count": 222,
   "id": "e41bde31",
   "metadata": {},
   "outputs": [],
   "source": [
    "ratios_nh2=np.load('all_mods_nh_energy_ratios_1_iter_sig=1.75.npz',allow_pickle=True)['arr_0']\n",
    "ratios_nh2=ratios_nh2.item()\n",
    "ratios_ih2=np.load('all_mods_ih_energy_ratios_1_iter_sig=1.75.npz',allow_pickle=True)['arr_0']\n",
    "ratios_ih2=ratios_ih2.item()"
   ]
  },
  {
   "cell_type": "code",
   "execution_count": null,
   "id": "0f6256c8",
   "metadata": {},
   "outputs": [],
   "source": [
    "from mpl_toolkits.axes_grid1.inset_locator import inset_axes\n",
    "\n",
    "colors=['#9200b3','#fcba03','#fc2b1c','#02cf13','#0232cf']\n",
    "names=['zha','sukh_sfho','sukh_ls220','forn','tamb']\n",
    "linestyles=['-','-','-','-','-']\n",
    "ratio_mins={\n",
    "    'sukh_sfho': [],\n",
    "    'sukh_ls220': [],\n",
    "    'forn': [],\n",
    "    'zha': [],\n",
    "    'tamb': []\n",
    "}\n",
    "\n",
    "for i,mod_name in enumerate(names):\n",
    "    means_nh=np.mean(all_ratios_nh[mod_name], axis=0)\n",
    "    means_ih=np.mean(all_ratios_ih[mod_name], axis=0)\n",
    "    if(means_nh[0]<means_ih[0]):\n",
    "        plt.step(prior_list,means_nh,color=colors[i],where='post',label=mod_name,linestyle=linestyles[i])\n",
    "        ratio_mins[mod_name]=means_nh\n",
    "    else:\n",
    "        plt.step(prior_list,means_ih,color=colors[i],where='post',label=mod_name,linestyle=linestyles[i])\n",
    "        ratio_mins[mod_name]=means_ih\n",
    "plt.legend(loc='upper right')\n",
    "\n",
    "\n",
    "plt.title('Model Independent Hierarchy Sensitivity with Energy Sigma=1.75 MeV')\n",
    "plt.xlabel('Prior Belief in Model')\n",
    "plt.ylabel('Log Odds Ratio')\n",
    "plt.axhline(y=2, color='#7B7B7B', linestyle='--', linewidth=1)\n",
    "plt.axhline(y=1, color='#8F8F8F', linestyle='--', linewidth=1)\n",
    "plt.axhline(y=.5, color='#9E9E9E', linestyle='--', linewidth=1)\n",
    "plt.text(.38,2.1,'Decisive',fontsize=9,color='#7B7B7B')\n",
    "plt.text(.41,1.05,'Strong',fontsize=9,color='#8F8F8F')\n",
    "plt.text(.43,.51,'Substantial',fontsize=9,color='#9E9E9E')\n",
    "plt.yscale('log')"
   ]
  },
  {
   "cell_type": "code",
   "execution_count": 217,
   "id": "a9e67bf4",
   "metadata": {},
   "outputs": [
    {
     "data": {
      "text/plain": [
       "'\\nplt.annotate(\\'\\', xy=(.85, 2.8), xytext=(.85, 1),\\n             arrowprops=dict(facecolor=\\'grey\\', arrowstyle=\\'->\\'))\\n\\n\\nax_inset = inset_axes(plt.gca(), width=\"30%\", height=\"20%\", loc=\\'lower right\\')\\nfor i, mod_name in enumerate(names[-4:]):  # Last three models\\n    ax_inset.step(np.linspace(.8,.9,10), \\n                  np.linspace(np.abs(high-ratio_mins[mod_name][-1]), np.abs(high-ratio_mins[mod_name][-1]),10),\\n                  color=colors[i+1], where=\\'post\\', linestyle=linestyles[i+1])\\n    print(mod_name,np.abs(high-ratio_mins[mod_name][-1]))\\n\\n# Customize the inset\\n#ax_inset.set_xlim(0.2, 0.9)  # Same x-axis range as the main plot\\n#ax_inset.set_ylim(1.38, 3.67)  # Set y-axis limits to focus on the region of interest\\nax_inset.set_yscale(\\'log\\')\\nax_inset.set_yticks([1e-6, 1e-10, 1e-16, 1e-14])\\nax_inset.set_yticklabels([r\\'$10^{-6}$\\',r\\'$10^{-10}$\\',r\\'$10^{-16}$\\',r\\'$10^{-14}$\\'])\\n#ax_inset.set_title(\\'Distance to Max Log Ratio\\')\\n#ax_inset.tick_params(axis=\\'y\\', which=\\'both\\', labelleft=False)\\nax_inset.tick_params(axis=\\'x\\', which=\\'both\\', labelbottom=False)\\n'"
      ]
     },
     "execution_count": 217,
     "metadata": {},
     "output_type": "execute_result"
    },
    {
     "data": {
      "image/png": "[encoded data removed]",
      "text/plain": [
       "<Figure size 640x480 with 1 Axes>"
      ]
     },
     "metadata": {},
     "output_type": "display_data"
    }
   ],
   "source": [
    "from mpl_toolkits.axes_grid1.inset_locator import inset_axes\n",
    "\n",
    "\n",
    "colors=['#9200b3','#fcba03','#fc2b1c','#02cf13','#0232cf']\n",
    "names=['zha','sukh_sfho','sukh_ls220','forn','tamb']\n",
    "linestyles=['-','-','-','--','-']\n",
    "ratio_mins={\n",
    "    'sukh_sfho': [],\n",
    "    'sukh_ls220': [],\n",
    "    'forn': [],\n",
    "    'zha': [],\n",
    "    'tamb': []\n",
    "}\n",
    "\n",
    "for i,mod_name in enumerate(names):\n",
    "    if(ratios_nh[mod_name][0][0][0]<ratios_ih[mod_name][0][0][0]):\n",
    "        plt.step(prior_list,ratios_nh[mod_name][0][0],color=colors[i],where='post',label=mod_name,linestyle=linestyles[i])\n",
    "        ratio_mins[mod_name]=ratios_nh[mod_name][0][0]\n",
    "    else:\n",
    "        plt.step(prior_list,ratios_ih[mod_name][0][0],color=colors[i],where='post',label=mod_name,linestyle=linestyles[i])\n",
    "        ratio_mins[mod_name]=ratios_ih[mod_name][0][0]\n",
    "plt.legend(loc='upper right')\n",
    "\n",
    "\n",
    "plt.title('Model Independent Hierarchy Sensitivity with Energy Sigma=1.75 MeV')\n",
    "plt.xlabel('Prior Belief in Model')\n",
    "plt.ylabel('Log Odds Ratio')\n",
    "plt.axhline(y=2, color='#7B7B7B', linestyle='--', linewidth=1)\n",
    "plt.axhline(y=1, color='#8F8F8F', linestyle='--', linewidth=1)\n",
    "plt.axhline(y=.5, color='#9E9E9E', linestyle='--', linewidth=1)\n",
    "plt.text(.38,2.1,'Decisive',fontsize=9,color='#7B7B7B')\n",
    "plt.text(.41,1.05,'Strong',fontsize=9,color='#8F8F8F')\n",
    "plt.text(.43,.51,'Substantial',fontsize=9,color='#9E9E9E')\n",
    "plt.yscale('log')\n",
    "\n",
    "\"\"\"\n",
    "plt.annotate('', xy=(.85, 2.8), xytext=(.85, 1),\n",
    "             arrowprops=dict(facecolor='grey', arrowstyle='->'))\n",
    "\n",
    "\n",
    "ax_inset = inset_axes(plt.gca(), width=\"30%\", height=\"20%\", loc='lower right')\n",
    "for i, mod_name in enumerate(names[-4:]):  # Last three models\n",
    "    ax_inset.step(np.linspace(.8,.9,10), \n",
    "                  np.linspace(np.abs(high-ratio_mins[mod_name][-1]), np.abs(high-ratio_mins[mod_name][-1]),10),\n",
    "                  color=colors[i+1], where='post', linestyle=linestyles[i+1])\n",
    "    print(mod_name,np.abs(high-ratio_mins[mod_name][-1]))\n",
    "\n",
    "# Customize the inset\n",
    "#ax_inset.set_xlim(0.2, 0.9)  # Same x-axis range as the main plot\n",
    "#ax_inset.set_ylim(1.38, 3.67)  # Set y-axis limits to focus on the region of interest\n",
    "ax_inset.set_yscale('log')\n",
    "ax_inset.set_yticks([1e-6, 1e-10, 1e-16, 1e-14])\n",
    "ax_inset.set_yticklabels([r'$10^{-6}$',r'$10^{-10}$',r'$10^{-16}$',r'$10^{-14}$'])\n",
    "#ax_inset.set_title('Distance to Max Log Ratio')\n",
    "#ax_inset.tick_params(axis='y', which='both', labelleft=False)\n",
    "ax_inset.tick_params(axis='x', which='both', labelbottom=False)\n",
    "\"\"\""
   ]
  },
  {
   "cell_type": "code",
   "execution_count": 152,
   "id": "e32ea14c",
   "metadata": {},
   "outputs": [
    {
     "name": "stdout",
     "output_type": "stream",
     "text": [
      "7.72411526339667e-06\n",
      "7.723749382293477e-06\n",
      "7.723749471111319e-06\n"
     ]
    }
   ],
   "source": [
    "high_nh=logsumexp([-71.67830237082967, np.log(.9), np.log(.025), np.log(.025), np.log(.025)])\n",
    "high_ih=np.log(.025)\n",
    "high=high_nh-high_ih\n",
    "\"\"\"\n",
    "print(high-ratio_mins['forn'][-1])\n",
    "print(high-ratio_mins['sukh_sfho'][-1])\n",
    "print(high-ratio_mins['sukh_ls220'][-1])\n",
    "print(high-ratio_mins['tamb'][-1])\n",
    "\"\"\"\n",
    "\n",
    "print(ratio_mins['sukh_ls220'][-1]-ratio_mins['sukh_sfho'][-1])\n",
    "print(ratio_mins['sukh_ls220'][-1]-ratio_mins['forn'][-1])\n",
    "print(ratio_mins['sukh_ls220'][-1]-ratio_mins['tamb'][-1])"
   ]
  },
  {
   "cell_type": "code",
   "execution_count": 140,
   "id": "7fd47a49",
   "metadata": {},
   "outputs": [
    {
     "data": {
      "image/png": "[encoded data removed]",
      "text/plain": [
       "<Figure size 640x480 with 1 Axes>"
      ]
     },
     "metadata": {},
     "output_type": "display_data"
    }
   ],
   "source": [
    "for i, mod_name in enumerate(names[-4:]):  # Last three models\n",
    "    plt.step(np.linspace(.8,.9,10), \n",
    "                  np.linspace(high-ratio_mins[mod_name][-1], high-ratio_mins[mod_name][-1],10),\n",
    "                  color=colors[i+1], where='post', linestyle=linestyles[i+1])\n",
    "plt.yscale('log')"
   ]
  },
  {
   "cell_type": "code",
   "execution_count": null,
   "id": "1b260de1",
   "metadata": {},
   "outputs": [],
   "source": []
  }
 ],
 "metadata": {
  "kernelspec": {
   "display_name": "Python 3 (ipykernel)",
   "language": "python",
   "name": "python3"
  },
  "language_info": {
   "codemirror_mode": {
    "name": "ipython",
    "version": 3
   },
   "file_extension": ".py",
   "mimetype": "text/x-python",
   "name": "python",
   "nbconvert_exporter": "python",
   "pygments_lexer": "ipython3",
   "version": "3.10.9"
  }
 },
 "nbformat": 4,
 "nbformat_minor": 5
}
